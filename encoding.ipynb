{
 "cells": [
  {
   "cell_type": "code",
   "execution_count": 58,
   "metadata": {},
   "outputs": [],
   "source": [
    "from sklearn.preprocessing import LabelEncoder\n",
    "import pandas as pd\n",
    "import numpy as np\n",
    "from sklearn.linear_model import LinearRegression\n",
    "from sklearn.model_selection import train_test_split\n",
    "import matplotlib.pyplot as plt"
   ]
  },
  {
   "cell_type": "code",
   "execution_count": 59,
   "metadata": {},
   "outputs": [],
   "source": [
    "lf = LabelEncoder()"
   ]
  },
  {
   "cell_type": "code",
   "execution_count": 60,
   "metadata": {},
   "outputs": [],
   "source": [
    "a = [\"one\", \"two\", \"three\", \"one\", \"two\", \"three\"]\n",
    "\n",
    "a = lf.fit_transform(a)"
   ]
  },
  {
   "cell_type": "code",
   "execution_count": 61,
   "metadata": {},
   "outputs": [
    {
     "name": "stdout",
     "output_type": "stream",
     "text": [
      "[0 2 1 0 2 1]\n"
     ]
    }
   ],
   "source": [
    "print(a)"
   ]
  },
  {
   "cell_type": "code",
   "execution_count": 62,
   "metadata": {},
   "outputs": [
    {
     "name": "stdout",
     "output_type": "stream",
     "text": [
      "['one' 'three' 'two']\n"
     ]
    }
   ],
   "source": [
    "b = lf.classes_\n",
    "print(b)"
   ]
  },
  {
   "cell_type": "code",
   "execution_count": 63,
   "metadata": {},
   "outputs": [
    {
     "name": "stdout",
     "output_type": "stream",
     "text": [
      "   Id  MSSubClass MSZoning  LotFrontage  LotArea Street Alley LotShape  \\\n",
      "0   1          60       RL         65.0     8450   Pave   NaN      Reg   \n",
      "1   2          20       RL         80.0     9600   Pave   NaN      Reg   \n",
      "2   3          60       RL         68.0    11250   Pave   NaN      IR1   \n",
      "3   4          70       RL         60.0     9550   Pave   NaN      IR1   \n",
      "4   5          60       RL         84.0    14260   Pave   NaN      IR1   \n",
      "\n",
      "  LandContour Utilities  ... PoolArea PoolQC Fence MiscFeature MiscVal MoSold  \\\n",
      "0         Lvl    AllPub  ...        0    NaN   NaN         NaN       0      2   \n",
      "1         Lvl    AllPub  ...        0    NaN   NaN         NaN       0      5   \n",
      "2         Lvl    AllPub  ...        0    NaN   NaN         NaN       0      9   \n",
      "3         Lvl    AllPub  ...        0    NaN   NaN         NaN       0      2   \n",
      "4         Lvl    AllPub  ...        0    NaN   NaN         NaN       0     12   \n",
      "\n",
      "  YrSold  SaleType  SaleCondition  SalePrice  \n",
      "0   2008        WD         Normal     208500  \n",
      "1   2007        WD         Normal     181500  \n",
      "2   2008        WD         Normal     223500  \n",
      "3   2006        WD        Abnorml     140000  \n",
      "4   2008        WD         Normal     250000  \n",
      "\n",
      "[5 rows x 81 columns]\n",
      "Index(['Id', 'MSSubClass', 'MSZoning', 'LotFrontage', 'LotArea', 'Street',\n",
      "       'Alley', 'LotShape', 'LandContour', 'Utilities', 'LotConfig',\n",
      "       'LandSlope', 'Neighborhood', 'Condition1', 'Condition2', 'BldgType',\n",
      "       'HouseStyle', 'OverallQual', 'OverallCond', 'YearBuilt', 'YearRemodAdd',\n",
      "       'RoofStyle', 'RoofMatl', 'Exterior1st', 'Exterior2nd', 'MasVnrType',\n",
      "       'MasVnrArea', 'ExterQual', 'ExterCond', 'Foundation', 'BsmtQual',\n",
      "       'BsmtCond', 'BsmtExposure', 'BsmtFinType1', 'BsmtFinSF1',\n",
      "       'BsmtFinType2', 'BsmtFinSF2', 'BsmtUnfSF', 'TotalBsmtSF', 'Heating',\n",
      "       'HeatingQC', 'CentralAir', 'Electrical', '1stFlrSF', '2ndFlrSF',\n",
      "       'LowQualFinSF', 'GrLivArea', 'BsmtFullBath', 'BsmtHalfBath', 'FullBath',\n",
      "       'HalfBath', 'BedroomAbvGr', 'KitchenAbvGr', 'KitchenQual',\n",
      "       'TotRmsAbvGrd', 'Functional', 'Fireplaces', 'FireplaceQu', 'GarageType',\n",
      "       'GarageYrBlt', 'GarageFinish', 'GarageCars', 'GarageArea', 'GarageQual',\n",
      "       'GarageCond', 'PavedDrive', 'WoodDeckSF', 'OpenPorchSF',\n",
      "       'EnclosedPorch', '3SsnPorch', 'ScreenPorch', 'PoolArea', 'PoolQC',\n",
      "       'Fence', 'MiscFeature', 'MiscVal', 'MoSold', 'YrSold', 'SaleType',\n",
      "       'SaleCondition', 'SalePrice'],\n",
      "      dtype='object')\n"
     ]
    }
   ],
   "source": [
    "dataset = pd.read_csv(\"/home/sudhakar/JPA_ML/housing_train.csv\")\n",
    "print(dataset.head())\n",
    "print(dataset.columns)"
   ]
  },
  {
   "cell_type": "code",
   "execution_count": 64,
   "metadata": {},
   "outputs": [],
   "source": [
    "X = dataset[[\"LotArea\",\"OverallQual\", \"OverallCond\", \"YearRemodAdd\"]]\n",
    "y = dataset[[\"SalePrice\"]]"
   ]
  },
  {
   "cell_type": "code",
   "execution_count": 65,
   "metadata": {},
   "outputs": [
    {
     "name": "stdout",
     "output_type": "stream",
     "text": [
      "   LotArea  OverallQual  OverallCond  YearRemodAdd\n",
      "0     8450            7            5          2003\n",
      "1     9600            6            8          1976\n",
      "2    11250            7            5          2002\n",
      "3     9550            7            5          1970\n",
      "4    14260            8            5          2000\n"
     ]
    }
   ],
   "source": [
    "print(X.head())"
   ]
  },
  {
   "cell_type": "code",
   "execution_count": 66,
   "metadata": {},
   "outputs": [
    {
     "name": "stdout",
     "output_type": "stream",
     "text": [
      "{'CollgCr': 5, 'Veenker': 24, 'Crawfor': 6, 'NoRidge': 15, 'Mitchel': 11, 'Somerst': 21, 'NWAmes': 14, 'OldTown': 17, 'BrkSide': 3, 'Sawyer': 19, 'NridgHt': 16, 'NAmes': 12, 'SawyerW': 20, 'IDOTRR': 9, 'MeadowV': 10, 'Edwards': 7, 'Timber': 23, 'Gilbert': 8, 'StoneBr': 22, 'ClearCr': 4, 'NPkVill': 13, 'Blmngtn': 0, 'BrDale': 2, 'SWISU': 18, 'Blueste': 1}\n"
     ]
    }
   ],
   "source": [
    "a = dataset[[\"Neighborhood\"]].values\n",
    "l = []\n",
    "for i in a:\n",
    "    l.append(i[0])\n",
    "neighborhood_encoded = lf.fit_transform(l)\n",
    "neighborhood_inversed = lf.inverse_transform(neighborhood_encoded)\n",
    "\n",
    "\n",
    "neighborhood_dic = {}\n",
    "for i in range(len(neighborhood_inversed)):\n",
    "    neighborhood_dic[neighborhood_inversed[i]] = neighborhood_encoded[i]\n",
    "print(neighborhood_dic)"
   ]
  },
  {
   "cell_type": "code",
   "execution_count": 67,
   "metadata": {},
   "outputs": [
    {
     "name": "stderr",
     "output_type": "stream",
     "text": [
      "/home/sudhakar/.local/lib/python3.6/site-packages/ipykernel_launcher.py:1: SettingWithCopyWarning: \n",
      "A value is trying to be set on a copy of a slice from a DataFrame.\n",
      "Try using .loc[row_indexer,col_indexer] = value instead\n",
      "\n",
      "See the caveats in the documentation: http://pandas.pydata.org/pandas-docs/stable/user_guide/indexing.html#returning-a-view-versus-a-copy\n",
      "  \"\"\"Entry point for launching an IPython kernel.\n"
     ]
    }
   ],
   "source": [
    "X[\"Neighborhood\"] = neighborhood_encoded"
   ]
  },
  {
   "cell_type": "code",
   "execution_count": 69,
   "metadata": {},
   "outputs": [
    {
     "name": "stdout",
     "output_type": "stream",
     "text": [
      "   LotArea  OverallQual  OverallCond  YearRemodAdd  Neighborhood\n",
      "0     8450            7            5          2003             5\n",
      "1     9600            6            8          1976            24\n",
      "2    11250            7            5          2002             5\n",
      "3     9550            7            5          1970             6\n",
      "4    14260            8            5          2000            15\n"
     ]
    }
   ],
   "source": [
    "print(X.head())"
   ]
  },
  {
   "cell_type": "code",
   "execution_count": 70,
   "metadata": {},
   "outputs": [],
   "source": [
    "x_train, x_test, y_train, y_test = train_test_split(X, y, test_size = 0.2, random_state = 4)"
   ]
  },
  {
   "cell_type": "code",
   "execution_count": 79,
   "metadata": {},
   "outputs": [
    {
     "name": "stdout",
     "output_type": "stream",
     "text": [
      "[228500, 216000, 150750, 134000, 90350, 159895, 220000, 240000, 213000, 181000, 138000, 244600, 89471, 110000, 145000, 281000, 129500, 137450, 230500, 149000, 335000, 202500, 254900, 317000, 250000, 160000, 181000, 438780, 120500, 93000, 262000, 128200, 301500, 231500, 109008, 83500, 149900, 193000, 501837, 134000, 154000, 157000, 118964, 154000, 133900, 275000, 219500, 135000, 245350, 116000, 170000, 119500, 217000, 120500, 163000, 176432, 168000, 175000, 279500, 125000, 423000, 173000, 127000, 239000, 260000, 85000, 127500, 173900, 186500, 252000, 61000, 230000, 97000, 139000, 137000, 179900, 274000, 143250, 135000, 224000, 183200, 221000, 87000, 116500, 125000, 162000, 213500, 402000, 164500, 161500, 143000, 189000, 139000, 116000, 158000, 146800, 100000, 315500, 185000, 169990, 142600, 108500, 85500, 176000, 133700, 250000, 79900, 140000, 180000, 106500, 135000, 143500, 220000, 172785, 119000, 141000, 166000, 152000, 284000, 140000, 128000, 149300, 263000, 249700, 140000, 235000, 270000, 285000, 244000, 160200, 229000, 162900, 229456, 91000, 164990, 203000, 163500, 86000, 207000, 280000, 176500, 107500, 68400, 115000, 165000, 124000, 155000, 144000, 143000, 158900, 167000, 274970, 283463, 232600, 129500, 345000, 140000, 238000, 137000, 187000, 120000, 236000, 147000, 235000, 162900, 239000, 150000, 80500, 123600, 143000, 145000, 136500, 466500, 127500, 159000, 222500, 395000, 110000, 108480, 340000, 144000, 124500, 103200, 254000, 173000, 125500, 208900, 178400, 226000, 148000, 345000, 130000, 146000, 134800, 129000, 172500, 97500, 137500, 124000, 175000, 259000, 282922, 227000, 135750, 198500, 333168, 137500, 168000, 108000, 265979, 136900, 149350, 165400, 160000, 135000, 129000, 133000, 148500, 212000, 119500, 360000, 107500, 139000, 124000, 169000, 95000, 148000, 301000, 117500, 136500, 233170, 180500, 115000, 169000, 153337, 106000, 243000, 154900, 91500, 68500, 139000, 181000, 264132, 136000, 230000, 83000, 315750, 324000, 140000, 392500, 145000, 146500, 153575, 185750, 175500, 130000, 200000, 236500, 184000, 143000, 133000, 140200, 122000, 359100, 169000, 132000, 87500, 147000, 219500, 168000, 115000, 269500, 178000, 261500, 180000, 167500, 184900, 81000, 230000, 112000, 164500, 117000, 232000, 446261, 164000, 239000, 176500, 163500, 140000, 290000, 86000, 180000]\n"
     ]
    }
   ],
   "source": [
    "model = LinearRegression()\n",
    "model.fit(x_train,y_train)\n",
    "history = model.predict(x_test)\n",
    "predicted = []\n",
    "for i in history:\n",
    "    predicted.append(i[0])\n",
    "#print(predicted)\n",
    "actual_val = y_test.values\n",
    "actual = []\n",
    "for i in actual_val:\n",
    "    actual.append(i[0])\n",
    "print(actual)"
   ]
  },
  {
   "cell_type": "code",
   "execution_count": 72,
   "metadata": {},
   "outputs": [
    {
     "name": "stdout",
     "output_type": "stream",
     "text": [
      "[1, 2, 3, 4, 5, 6, 7, 8, 9, 10, 11, 12, 13, 14, 15, 16, 17, 18, 19, 20, 21, 22, 23, 24, 25, 26, 27, 28, 29, 30, 31, 32, 33, 34, 35, 36, 37, 38, 39, 40, 41, 42, 43, 44, 45, 46, 47, 48, 49, 50, 51, 52, 53, 54, 55, 56, 57, 58, 59, 60, 61, 62, 63, 64, 65, 66, 67, 68, 69, 70, 71, 72, 73, 74, 75, 76, 77, 78, 79, 80, 81, 82, 83, 84, 85, 86, 87, 88, 89, 90, 91, 92, 93, 94, 95, 96, 97, 98, 99, 100, 101, 102, 103, 104, 105, 106, 107, 108, 109, 110, 111, 112, 113, 114, 115, 116, 117, 118, 119, 120, 121, 122, 123, 124, 125, 126, 127, 128, 129, 130, 131, 132, 133, 134, 135, 136, 137, 138, 139, 140, 141, 142, 143, 144, 145, 146, 147, 148, 149, 150, 151, 152, 153, 154, 155, 156, 157, 158, 159, 160, 161, 162, 163, 164, 165, 166, 167, 168, 169, 170, 171, 172, 173, 174, 175, 176, 177, 178, 179, 180, 181, 182, 183, 184, 185, 186, 187, 188, 189, 190, 191, 192, 193, 194, 195, 196, 197, 198, 199, 200, 201, 202, 203, 204, 205, 206, 207, 208, 209, 210, 211, 212, 213, 214, 215, 216, 217, 218, 219, 220, 221, 222, 223, 224, 225, 226, 227, 228, 229, 230, 231, 232, 233, 234, 235, 236, 237, 238, 239, 240, 241, 242, 243, 244, 245, 246, 247, 248, 249, 250, 251, 252, 253, 254, 255, 256, 257, 258, 259, 260, 261, 262, 263, 264, 265, 266, 267, 268, 269, 270, 271, 272, 273, 274, 275, 276, 277, 278, 279, 280, 281, 282, 283, 284, 285, 286, 287, 288, 289, 290, 291, 292]\n"
     ]
    }
   ],
   "source": [
    "count = []\n",
    "for i in range(len(x_test)):\n",
    "    count.append(i+1)\n",
    "print(count)"
   ]
  },
  {
   "cell_type": "code",
   "execution_count": 81,
   "metadata": {},
   "outputs": [
    {
     "data": {
      "image/png": "[encoded data removed]",
      "text/plain": [
       "<Figure size 432x288 with 1 Axes>"
      ]
     },
     "metadata": {
      "needs_background": "light"
     },
     "output_type": "display_data"
    }
   ],
   "source": [
    "plt.scatter(count, predicted, color = \"g\")\n",
    "plt.scatter(count, actual, color = \"b\")\n",
    "plt.show()"
   ]
  },
  {
   "cell_type": "code",
   "execution_count": 8,
   "metadata": {},
   "outputs": [
    {
     "name": "stdout",
     "output_type": "stream",
     "text": [
      "           A          B\n",
      "0  [1, 2, 4]  [2, 4, 5]\n",
      "1  [2, 3, 5]  [2, 3, 5]\n"
     ]
    }
   ],
   "source": [
    "import pandas as pd \n",
    "a = [1,2,4]\n",
    "b = [2,4,5]\n",
    "c = [2,3,5]\n",
    "df = pd.DataFrame(columns = [\"A\", \"B\"])\n",
    "df.at[0,'A'] = a\n",
    "df.at[0,\"B\"] = b\n",
    "df.at[1,\"A\"] = c\n",
    "df.at[1,\"B\"] = c\n",
    "print(df)\n"
   ]
  },
  {
   "cell_type": "code",
   "execution_count": 10,
   "metadata": {},
   "outputs": [
    {
     "ename": "IndexError",
     "evalue": "string index out of range",
     "output_type": "error",
     "traceback": [
      "\u001b[0;31m---------------------------------------------------------------------------\u001b[0m",
      "\u001b[0;31mIndexError\u001b[0m                                Traceback (most recent call last)",
      "\u001b[0;32m<ipython-input-10-cca90c379f1a>\u001b[0m in \u001b[0;36m<module>\u001b[0;34m\u001b[0m\n\u001b[1;32m      5\u001b[0m \u001b[0;32mfor\u001b[0m \u001b[0mi\u001b[0m \u001b[0;32min\u001b[0m \u001b[0mrange\u001b[0m\u001b[0;34m(\u001b[0m\u001b[0mlen\u001b[0m\u001b[0;34m(\u001b[0m\u001b[0mdataset\u001b[0m\u001b[0;34m)\u001b[0m\u001b[0;34m)\u001b[0m\u001b[0;34m:\u001b[0m\u001b[0;34m\u001b[0m\u001b[0;34m\u001b[0m\u001b[0m\n\u001b[1;32m      6\u001b[0m     \u001b[0ma\u001b[0m \u001b[0;34m=\u001b[0m \u001b[0mdataset\u001b[0m\u001b[0;34m[\u001b[0m\u001b[0;34m\"Actual\"\u001b[0m\u001b[0;34m]\u001b[0m\u001b[0;34m[\u001b[0m\u001b[0mi\u001b[0m\u001b[0;34m]\u001b[0m\u001b[0;34m[\u001b[0m\u001b[0;36m0\u001b[0m\u001b[0;34m]\u001b[0m\u001b[0;34m\u001b[0m\u001b[0;34m\u001b[0m\u001b[0m\n\u001b[0;32m----> 7\u001b[0;31m     \u001b[0mprint\u001b[0m\u001b[0;34m(\u001b[0m\u001b[0ma\u001b[0m\u001b[0;34m[\u001b[0m\u001b[0;36m1\u001b[0m\u001b[0;34m]\u001b[0m\u001b[0;34m)\u001b[0m\u001b[0;34m\u001b[0m\u001b[0;34m\u001b[0m\u001b[0m\n\u001b[0m\u001b[1;32m      8\u001b[0m     \u001b[0mprint\u001b[0m\u001b[0;34m(\u001b[0m\u001b[0mtype\u001b[0m\u001b[0;34m(\u001b[0m\u001b[0ma\u001b[0m\u001b[0;34m)\u001b[0m\u001b[0;34m)\u001b[0m\u001b[0;34m\u001b[0m\u001b[0;34m\u001b[0m\u001b[0m\n",
      "\u001b[0;31mIndexError\u001b[0m: string index out of range"
     ]
    }
   ],
   "source": [
    "import pandas as pd\n",
    "import time\n",
    "\n",
    "dataset = pd.read_csv(\"/home/sudhakar/PycharmProjects/Final_insider_threat/threat_Detection/Classifier1.csv\")\n",
    "for i in range(len(dataset)):\n",
    "    a = dataset[\"Actual\"][i][0]\n",
    "    print(a[1])\n",
    "    print(type(a))"
   ]
  },
  {
   "cell_type": "code",
   "execution_count": null,
   "metadata": {},
   "outputs": [],
   "source": []
  }
 ],
 "metadata": {
  "kernelspec": {
   "display_name": "Python 3",
   "language": "python",
   "name": "python3"
  },
  "language_info": {
   "codemirror_mode": {
    "name": "ipython",
    "version": 3
   },
   "file_extension": ".py",
   "mimetype": "text/x-python",
   "name": "python",
   "nbconvert_exporter": "python",
   "pygments_lexer": "ipython3",
   "version": "3.6.8"
  }
 },
 "nbformat": 4,
 "nbformat_minor": 2
}
