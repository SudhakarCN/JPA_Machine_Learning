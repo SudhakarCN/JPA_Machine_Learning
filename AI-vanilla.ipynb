{
 "cells": [
  {
   "cell_type": "markdown",
   "metadata": {},
   "source": [
    "## 2019-08-24 "
   ]
  },
  {
   "cell_type": "markdown",
   "metadata": {},
   "source": [
    "### code source"
   ]
  },
  {
   "cell_type": "markdown",
   "metadata": {},
   "source": [
    "https://github.com/sharmasaravanan/Machine_learning"
   ]
  },
  {
   "cell_type": "markdown",
   "metadata": {},
   "source": [
    "https://drive.google.com/drive/folders/17dMizJX_2XY845HuCl3Gy54OMBrBJpv7?usp=sharing"
   ]
  },
  {
   "cell_type": "markdown",
   "metadata": {},
   "source": [
    "### Python"
   ]
  },
  {
   "cell_type": "code",
   "execution_count": 2,
   "metadata": {},
   "outputs": [
    {
     "name": "stdout",
     "output_type": "stream",
     "text": [
      "15\n"
     ]
    }
   ],
   "source": [
    "a = 5\n",
    "b = 10\n",
    "print(a+b)\n",
    "\n"
   ]
  },
  {
   "cell_type": "markdown",
   "metadata": {},
   "source": [
    "#### Data types"
   ]
  },
  {
   "cell_type": "code",
   "execution_count": 3,
   "metadata": {},
   "outputs": [],
   "source": [
    "a = 5 # int \n",
    "b = 3.14 # float\n",
    "c = \"apple\" # string\n",
    "d = True # bool"
   ]
  },
  {
   "cell_type": "code",
   "execution_count": 4,
   "metadata": {},
   "outputs": [
    {
     "name": "stdout",
     "output_type": "stream",
     "text": [
      "<class 'bool'>\n"
     ]
    }
   ],
   "source": [
    "print(type(d))"
   ]
  },
  {
   "cell_type": "code",
   "execution_count": 5,
   "metadata": {},
   "outputs": [
    {
     "name": "stdout",
     "output_type": "stream",
     "text": [
      "apple\n"
     ]
    }
   ],
   "source": [
    "print(c)"
   ]
  },
  {
   "cell_type": "code",
   "execution_count": 6,
   "metadata": {},
   "outputs": [
    {
     "name": "stdout",
     "output_type": "stream",
     "text": [
      "456\n"
     ]
    }
   ],
   "source": [
    "print(456)"
   ]
  },
  {
   "cell_type": "code",
   "execution_count": 7,
   "metadata": {},
   "outputs": [
    {
     "name": "stdout",
     "output_type": "stream",
     "text": [
      "hello world\n"
     ]
    }
   ],
   "source": [
    "print('hello world')"
   ]
  },
  {
   "cell_type": "markdown",
   "metadata": {},
   "source": [
    "#### Operators"
   ]
  },
  {
   "cell_type": "markdown",
   "metadata": {},
   "source": [
    "##### Arithmetic operators"
   ]
  },
  {
   "cell_type": "markdown",
   "metadata": {},
   "source": [
    "+ - * / %"
   ]
  },
  {
   "cell_type": "markdown",
   "metadata": {},
   "source": [
    "##### Logical operators"
   ]
  },
  {
   "cell_type": "markdown",
   "metadata": {},
   "source": [
    "and, or , not"
   ]
  },
  {
   "cell_type": "markdown",
   "metadata": {},
   "source": [
    "##### Conditional Operators"
   ]
  },
  {
   "cell_type": "markdown",
   "metadata": {},
   "source": [
    "< , >, <=, >=, ==, !="
   ]
  },
  {
   "cell_type": "markdown",
   "metadata": {},
   "source": [
    "##### Misc operators"
   ]
  },
  {
   "cell_type": "markdown",
   "metadata": {},
   "source": [
    "is, in , not in "
   ]
  },
  {
   "cell_type": "markdown",
   "metadata": {},
   "source": [
    "#### User input"
   ]
  },
  {
   "cell_type": "code",
   "execution_count": 11,
   "metadata": {},
   "outputs": [
    {
     "name": "stdout",
     "output_type": "stream",
     "text": [
      "Enter your name : 85\n"
     ]
    }
   ],
   "source": [
    "name = input(\"Enter your name : \")"
   ]
  },
  {
   "cell_type": "code",
   "execution_count": 12,
   "metadata": {},
   "outputs": [
    {
     "name": "stdout",
     "output_type": "stream",
     "text": [
      "85\n"
     ]
    }
   ],
   "source": [
    "print(name)"
   ]
  },
  {
   "cell_type": "code",
   "execution_count": 13,
   "metadata": {},
   "outputs": [
    {
     "name": "stdout",
     "output_type": "stream",
     "text": [
      "<class 'str'>\n"
     ]
    }
   ],
   "source": [
    "print(type(name))"
   ]
  },
  {
   "cell_type": "code",
   "execution_count": 14,
   "metadata": {},
   "outputs": [
    {
     "data": {
      "text/plain": [
       "85"
      ]
     },
     "execution_count": 14,
     "metadata": {},
     "output_type": "execute_result"
    }
   ],
   "source": [
    "int(name)"
   ]
  },
  {
   "cell_type": "code",
   "execution_count": 18,
   "metadata": {},
   "outputs": [
    {
     "name": "stdout",
     "output_type": "stream",
     "text": [
      "Enter any number : l\n"
     ]
    },
    {
     "ename": "ValueError",
     "evalue": "invalid literal for int() with base 10: 'l'",
     "output_type": "error",
     "traceback": [
      "\u001b[0;31m---------------------------------------------------------------------------\u001b[0m",
      "\u001b[0;31mValueError\u001b[0m                                Traceback (most recent call last)",
      "\u001b[0;32m<ipython-input-18-5aaf6976f909>\u001b[0m in \u001b[0;36m<module>\u001b[0;34m()\u001b[0m\n\u001b[0;32m----> 1\u001b[0;31m \u001b[0mnum\u001b[0m \u001b[0;34m=\u001b[0m \u001b[0mint\u001b[0m\u001b[0;34m(\u001b[0m\u001b[0minput\u001b[0m\u001b[0;34m(\u001b[0m\u001b[0;34m\"Enter any number : \"\u001b[0m\u001b[0;34m)\u001b[0m\u001b[0;34m)\u001b[0m\u001b[0;34m\u001b[0m\u001b[0;34m\u001b[0m\u001b[0m\n\u001b[0m",
      "\u001b[0;31mValueError\u001b[0m: invalid literal for int() with base 10: 'l'"
     ]
    }
   ],
   "source": [
    "num = int(input(\"Enter any number : \"))"
   ]
  },
  {
   "cell_type": "code",
   "execution_count": 16,
   "metadata": {},
   "outputs": [
    {
     "name": "stdout",
     "output_type": "stream",
     "text": [
      "12\n"
     ]
    }
   ],
   "source": [
    "print(num)"
   ]
  },
  {
   "cell_type": "code",
   "execution_count": 19,
   "metadata": {},
   "outputs": [],
   "source": [
    "n = 5"
   ]
  },
  {
   "cell_type": "code",
   "execution_count": null,
   "metadata": {},
   "outputs": [],
   "source": [
    "615 (555+55+5)"
   ]
  },
  {
   "cell_type": "code",
   "execution_count": 17,
   "metadata": {},
   "outputs": [
    {
     "name": "stdout",
     "output_type": "stream",
     "text": [
      "<class 'int'>\n"
     ]
    }
   ],
   "source": [
    "print(type(num))"
   ]
  },
  {
   "cell_type": "markdown",
   "metadata": {},
   "source": [
    "#### Task"
   ]
  },
  {
   "cell_type": "code",
   "execution_count": 31,
   "metadata": {},
   "outputs": [
    {
     "name": "stdout",
     "output_type": "stream",
     "text": [
      "615\n"
     ]
    }
   ],
   "source": [
    "n = 5\n",
    "ans = int(str(n)+str(n)+str(n))+int(str(n)+str(n))+n\n",
    "print(ans)"
   ]
  },
  {
   "cell_type": "code",
   "execution_count": 32,
   "metadata": {},
   "outputs": [
    {
     "name": "stdout",
     "output_type": "stream",
     "text": [
      "615\n"
     ]
    }
   ],
   "source": [
    "n = '5'\n",
    "ans = int(n*3)+int(n*2)+int(n)\n",
    "print(ans)"
   ]
  },
  {
   "cell_type": "code",
   "execution_count": 33,
   "metadata": {},
   "outputs": [
    {
     "name": "stdout",
     "output_type": "stream",
     "text": [
      "615\n"
     ]
    }
   ],
   "source": [
    "n = '5'\n",
    "ans = int(n+n+n)+int(n+n)+int(n)\n",
    "print(ans)"
   ]
  },
  {
   "cell_type": "code",
   "execution_count": 44,
   "metadata": {},
   "outputs": [],
   "source": [
    "star = \"* \""
   ]
  },
  {
   "cell_type": "code",
   "execution_count": 49,
   "metadata": {},
   "outputs": [
    {
     "name": "stdout",
     "output_type": "stream",
     "text": [
      "  * \n",
      " * * \n",
      "* * * \n"
     ]
    }
   ],
   "source": [
    "print(\"  \"+star)\n",
    "print(\" \"+star*2)\n",
    "print(star*3)"
   ]
  },
  {
   "cell_type": "markdown",
   "metadata": {},
   "source": [
    "#### Print methods"
   ]
  },
  {
   "cell_type": "markdown",
   "metadata": {},
   "source": [
    "hello apple \n",
    "\n",
    "hello 5"
   ]
  },
  {
   "cell_type": "code",
   "execution_count": 20,
   "metadata": {},
   "outputs": [
    {
     "name": "stdout",
     "output_type": "stream",
     "text": [
      "Method-1\n",
      "hello apple\n",
      "hello 5\n",
      "--------------------\n",
      "Method-2\n",
      "hello apple\n",
      "hello 5\n",
      "--------------------\n",
      "Method-3\n",
      "hello apple\n",
      "hello 5\n",
      "--------------------\n",
      "Method-4\n",
      "hello apple\n",
      "hello 5\n",
      "--------------------\n"
     ]
    }
   ],
   "source": [
    "print(\"Method-1\")\n",
    "print(\"hello \"+c)\n",
    "print(\"hello \"+str(a))\n",
    "print(\"----\"*5)\n",
    "\n",
    "print(\"Method-2\")\n",
    "print(\"hello\",c)\n",
    "print(\"hello\",a)\n",
    "print(\"----\"*5)\n",
    "\n",
    "print(\"Method-3\")\n",
    "print(\"hello %s\" %c)\n",
    "print(\"hello %d\" %a)\n",
    "print(\"----\"*5)\n",
    "\n",
    "print(\"Method-4\")\n",
    "print(\"hello {}\".format(c))\n",
    "print(\"hello {}\".format(a))\n",
    "print(\"----\"*5)"
   ]
  },
  {
   "cell_type": "code",
   "execution_count": 60,
   "metadata": {},
   "outputs": [],
   "source": [
    "# i bought 2kgs of apple for 85.5rs"
   ]
  },
  {
   "cell_type": "code",
   "execution_count": 21,
   "metadata": {},
   "outputs": [],
   "source": [
    "w = 2\n",
    "f = 'apple'\n",
    "p = 85.5"
   ]
  },
  {
   "cell_type": "code",
   "execution_count": 29,
   "metadata": {},
   "outputs": [
    {
     "name": "stdout",
     "output_type": "stream",
     "text": [
      "i bought 2kgs of apple for 85.5rs\n",
      "i bought 2 kgs of apple for 85.5 rs\n",
      "i bought 2kgs of apple for 85.5rs\n",
      "i bought 4kgs of apple for 256.5rs\n"
     ]
    }
   ],
   "source": [
    "print(\"i bought \"+str(w)+\"kgs of \"+f+\" for \"+str(p)+\"rs\")\n",
    "print(\"i bought\",w,\"kgs of\",f,\"for\",p,'rs')\n",
    "print(\"i bought %dkgs of %s for %0.1frs\"%(w,f,p))\n",
    "print(\"i bought {}kgs of {} for {}rs\".format(w*2,f,p*3))\n"
   ]
  },
  {
   "cell_type": "markdown",
   "metadata": {},
   "source": [
    "#### If-else"
   ]
  },
  {
   "cell_type": "code",
   "execution_count": 31,
   "metadata": {},
   "outputs": [
    {
     "name": "stdout",
     "output_type": "stream",
     "text": [
      "Enter any number : 74\n",
      "Even\n"
     ]
    }
   ],
   "source": [
    "num = int(input(\"Enter any number : \"))\n",
    "if num%2 == 0:\n",
    "    print('Even')\n",
    "else:\n",
    "    print('Odd')"
   ]
  },
  {
   "cell_type": "code",
   "execution_count": 33,
   "metadata": {},
   "outputs": [
    {
     "name": "stdout",
     "output_type": "stream",
     "text": [
      "Enter any number : 20\n",
      "Divisible by 4 and even\n",
      "Even\n"
     ]
    }
   ],
   "source": [
    "num = int(input(\"Enter any number : \"))\n",
    "if num%4 == 0:\n",
    "    print(\"Divisible by 4 and even\")\n",
    "elif num%2 == 0:\n",
    "    print('Even')\n",
    "else:\n",
    "    print('odd')"
   ]
  },
  {
   "cell_type": "code",
   "execution_count": 34,
   "metadata": {},
   "outputs": [
    {
     "name": "stdout",
     "output_type": "stream",
     "text": [
      "yes!!\n",
      "hello\n"
     ]
    }
   ],
   "source": [
    "if num >= 10 and num <= 50:\n",
    "    print(\"yes!!\")\n",
    "print('hello')\n"
   ]
  },
  {
   "cell_type": "code",
   "execution_count": null,
   "metadata": {},
   "outputs": [],
   "source": [
    "The area of the circle is 25sq.cm for the radius 3cm."
   ]
  },
  {
   "cell_type": "code",
   "execution_count": 37,
   "metadata": {},
   "outputs": [
    {
     "name": "stdout",
     "output_type": "stream",
     "text": [
      "Enter any number : 74\n",
      "Even\n",
      "Enter any number : 63\n",
      "odd\n",
      "Enter any number : 41\n",
      "odd\n",
      "Enter any number : 15\n",
      "skipping\n",
      "Enter any number : 21\n",
      "odd\n",
      "Enter any number : 23\n",
      "odd\n",
      "Enter any number : 25\n",
      "stopping\n"
     ]
    }
   ],
   "source": [
    "while True:\n",
    "    num = int(input(\"Enter any number : \"))\n",
    "    \n",
    "    if num == 25:\n",
    "        print(\"stopping\")\n",
    "        break\n",
    "    elif num == 15:\n",
    "        print(\"skipping\")\n",
    "        continue\n",
    "        \n",
    "    if num%4 == 0:\n",
    "        print(\"Divisible by 4 and even\")\n",
    "    elif num%2 == 0:\n",
    "        print('Even')\n",
    "    else:\n",
    "        print('odd')"
   ]
  },
  {
   "cell_type": "code",
   "execution_count": 38,
   "metadata": {},
   "outputs": [
    {
     "name": "stdout",
     "output_type": "stream",
     "text": [
      "Enter any number : 63\n",
      "odd\n",
      "Enter any number : 74\n",
      "Even\n",
      "Enter any number : 15\n",
      "skipping\n",
      "Enter any number : 96\n",
      "Divisible by 4 and even\n"
     ]
    }
   ],
   "source": [
    "i = 1\n",
    "while i <= 3:\n",
    "    num = int(input(\"Enter any number : \"))\n",
    "    \n",
    "    if num == 25:\n",
    "        print(\"stopping\")\n",
    "        break\n",
    "    elif num == 15:\n",
    "        print(\"skipping\")\n",
    "        continue\n",
    "        \n",
    "    if num%4 == 0:\n",
    "        print(\"Divisible by 4 and even\")\n",
    "    elif num%2 == 0:\n",
    "        print('Even')\n",
    "    else:\n",
    "        print('odd')\n",
    "    i += 1"
   ]
  },
  {
   "cell_type": "code",
   "execution_count": 39,
   "metadata": {},
   "outputs": [
    {
     "name": "stdout",
     "output_type": "stream",
     "text": [
      "Enter any number : 74\n",
      "Even\n",
      "Do you want to continue ? y/ny\n",
      "Enter any number : 32\n",
      "Divisible by 4 and even\n",
      "Do you want to continue ? y/nh\n"
     ]
    }
   ],
   "source": [
    "opt = 'y'\n",
    "while opt == 'y':\n",
    "    num = int(input(\"Enter any number : \"))\n",
    "    \n",
    "    if num == 25:\n",
    "        print(\"stopping\")\n",
    "        break\n",
    "    elif num == 15:\n",
    "        print(\"skipping\")\n",
    "        continue\n",
    "        \n",
    "    if num%4 == 0:\n",
    "        print(\"Divisible by 4 and even\")\n",
    "    elif num%2 == 0:\n",
    "        print('Even')\n",
    "    else:\n",
    "        print('odd')\n",
    "    \n",
    "    opt = input(\"Do you want to continue ? y/n\")"
   ]
  },
  {
   "cell_type": "code",
   "execution_count": null,
   "metadata": {},
   "outputs": [],
   "source": [
    "user1 == 'q' or user1 == 'quit'"
   ]
  },
  {
   "cell_type": "code",
   "execution_count": 8,
   "metadata": {},
   "outputs": [],
   "source": [
    "import random as r"
   ]
  },
  {
   "cell_type": "code",
   "execution_count": 15,
   "metadata": {},
   "outputs": [],
   "source": [
    "comp = r.randint(0,10)"
   ]
  },
  {
   "cell_type": "code",
   "execution_count": 16,
   "metadata": {},
   "outputs": [
    {
     "data": {
      "text/plain": [
       "3"
      ]
     },
     "execution_count": 16,
     "metadata": {},
     "output_type": "execute_result"
    }
   ],
   "source": [
    "comp"
   ]
  },
  {
   "cell_type": "code",
   "execution_count": 106,
   "metadata": {},
   "outputs": [],
   "source": [
    "name = 'apple'\n",
    "sent = \"elephant is an animal\""
   ]
  },
  {
   "cell_type": "code",
   "execution_count": 41,
   "metadata": {},
   "outputs": [
    {
     "data": {
      "text/plain": [
       "'a'"
      ]
     },
     "execution_count": 41,
     "metadata": {},
     "output_type": "execute_result"
    }
   ],
   "source": [
    "name[0]"
   ]
  },
  {
   "cell_type": "code",
   "execution_count": 42,
   "metadata": {},
   "outputs": [
    {
     "data": {
      "text/plain": [
       "'a'"
      ]
     },
     "execution_count": 42,
     "metadata": {},
     "output_type": "execute_result"
    }
   ],
   "source": [
    "name[-5]"
   ]
  },
  {
   "cell_type": "code",
   "execution_count": 43,
   "metadata": {},
   "outputs": [
    {
     "data": {
      "text/plain": [
       "'ple'"
      ]
     },
     "execution_count": 43,
     "metadata": {},
     "output_type": "execute_result"
    }
   ],
   "source": [
    "name[2:]"
   ]
  },
  {
   "cell_type": "code",
   "execution_count": 45,
   "metadata": {},
   "outputs": [
    {
     "data": {
      "text/plain": [
       "'app'"
      ]
     },
     "execution_count": 45,
     "metadata": {},
     "output_type": "execute_result"
    }
   ],
   "source": [
    "name[:3]"
   ]
  },
  {
   "cell_type": "code",
   "execution_count": 26,
   "metadata": {},
   "outputs": [
    {
     "data": {
      "text/plain": [
       "'ppl'"
      ]
     },
     "execution_count": 26,
     "metadata": {},
     "output_type": "execute_result"
    }
   ],
   "source": [
    "name[1:4]"
   ]
  },
  {
   "cell_type": "code",
   "execution_count": 56,
   "metadata": {},
   "outputs": [
    {
     "data": {
      "text/plain": [
       "'eehn sa '"
      ]
     },
     "execution_count": 56,
     "metadata": {},
     "output_type": "execute_result"
    }
   ],
   "source": [
    "sent[0:15:2]"
   ]
  },
  {
   "cell_type": "code",
   "execution_count": 55,
   "metadata": {},
   "outputs": [
    {
     "data": {
      "text/plain": [
       "'elephant is an '"
      ]
     },
     "execution_count": 55,
     "metadata": {},
     "output_type": "execute_result"
    }
   ],
   "source": [
    "sent[0:15]"
   ]
  },
  {
   "cell_type": "code",
   "execution_count": 62,
   "metadata": {},
   "outputs": [
    {
     "data": {
      "text/plain": [
       "'elppa'"
      ]
     },
     "execution_count": 62,
     "metadata": {},
     "output_type": "execute_result"
    }
   ],
   "source": [
    "name[::-1]"
   ]
  },
  {
   "cell_type": "code",
   "execution_count": 30,
   "metadata": {},
   "outputs": [
    {
     "data": {
      "text/plain": [
       "'apple'"
      ]
     },
     "execution_count": 30,
     "metadata": {},
     "output_type": "execute_result"
    }
   ],
   "source": [
    "name"
   ]
  },
  {
   "cell_type": "code",
   "execution_count": 64,
   "metadata": {},
   "outputs": [
    {
     "data": {
      "text/plain": [
       "'Elephant is an animal'"
      ]
     },
     "execution_count": 64,
     "metadata": {},
     "output_type": "execute_result"
    }
   ],
   "source": [
    "sent.capitalize()"
   ]
  },
  {
   "cell_type": "code",
   "execution_count": 65,
   "metadata": {},
   "outputs": [
    {
     "data": {
      "text/plain": [
       "'apple'"
      ]
     },
     "execution_count": 65,
     "metadata": {},
     "output_type": "execute_result"
    }
   ],
   "source": [
    "name.casefold()"
   ]
  },
  {
   "cell_type": "code",
   "execution_count": 67,
   "metadata": {},
   "outputs": [
    {
     "data": {
      "text/plain": [
       "'      apple       '"
      ]
     },
     "execution_count": 67,
     "metadata": {},
     "output_type": "execute_result"
    }
   ],
   "source": [
    "name.center(18,' ')"
   ]
  },
  {
   "cell_type": "code",
   "execution_count": 68,
   "metadata": {},
   "outputs": [
    {
     "data": {
      "text/plain": [
       "2"
      ]
     },
     "execution_count": 68,
     "metadata": {},
     "output_type": "execute_result"
    }
   ],
   "source": [
    "name.count('p')"
   ]
  },
  {
   "cell_type": "code",
   "execution_count": 70,
   "metadata": {},
   "outputs": [
    {
     "data": {
      "text/plain": [
       "'apple'"
      ]
     },
     "execution_count": 70,
     "metadata": {},
     "output_type": "execute_result"
    }
   ],
   "source": [
    "name.encode('utf-16').decode('utf-16')"
   ]
  },
  {
   "cell_type": "code",
   "execution_count": 72,
   "metadata": {},
   "outputs": [
    {
     "data": {
      "text/plain": [
       "False"
      ]
     },
     "execution_count": 72,
     "metadata": {},
     "output_type": "execute_result"
    }
   ],
   "source": [
    "name.endswith('lE')"
   ]
  },
  {
   "cell_type": "code",
   "execution_count": 73,
   "metadata": {},
   "outputs": [
    {
     "data": {
      "text/plain": [
       "True"
      ]
     },
     "execution_count": 73,
     "metadata": {},
     "output_type": "execute_result"
    }
   ],
   "source": [
    "name.startswith('ap')"
   ]
  },
  {
   "cell_type": "code",
   "execution_count": 76,
   "metadata": {},
   "outputs": [
    {
     "data": {
      "text/plain": [
       "'i           am          sharma'"
      ]
     },
     "execution_count": 76,
     "metadata": {},
     "output_type": "execute_result"
    }
   ],
   "source": [
    "\"i\\tam\\tsharma\".expandtabs(12)"
   ]
  },
  {
   "cell_type": "code",
   "execution_count": 82,
   "metadata": {},
   "outputs": [
    {
     "data": {
      "text/plain": [
       "1"
      ]
     },
     "execution_count": 82,
     "metadata": {},
     "output_type": "execute_result"
    }
   ],
   "source": [
    "name.find(\"p\")"
   ]
  },
  {
   "cell_type": "code",
   "execution_count": 79,
   "metadata": {},
   "outputs": [
    {
     "ename": "ValueError",
     "evalue": "substring not found",
     "output_type": "error",
     "traceback": [
      "\u001b[0;31m---------------------------------------------------------------------------\u001b[0m",
      "\u001b[0;31mValueError\u001b[0m                                Traceback (most recent call last)",
      "\u001b[0;32m<ipython-input-79-a593ec84d793>\u001b[0m in \u001b[0;36m<module>\u001b[0;34m()\u001b[0m\n\u001b[0;32m----> 1\u001b[0;31m \u001b[0mname\u001b[0m\u001b[0;34m.\u001b[0m\u001b[0mindex\u001b[0m\u001b[0;34m(\u001b[0m\u001b[0;34m'z'\u001b[0m\u001b[0;34m)\u001b[0m\u001b[0;34m\u001b[0m\u001b[0;34m\u001b[0m\u001b[0m\n\u001b[0m",
      "\u001b[0;31mValueError\u001b[0m: substring not found"
     ]
    }
   ],
   "source": [
    "name.index('z')"
   ]
  },
  {
   "cell_type": "code",
   "execution_count": 120,
   "metadata": {},
   "outputs": [
    {
     "data": {
      "text/plain": [
       "True"
      ]
     },
     "execution_count": 120,
     "metadata": {},
     "output_type": "execute_result"
    }
   ],
   "source": [
    "name.isprintable()"
   ]
  },
  {
   "cell_type": "code",
   "execution_count": 119,
   "metadata": {},
   "outputs": [
    {
     "name": "stdout",
     "output_type": "stream",
     "text": [
      "enter something :Hooo\n",
      "HOOO\n"
     ]
    }
   ],
   "source": [
    "someInput = input(\"enter something :\")\n",
    "if someInput.isupper():\n",
    "    print(someInput.lower())\n",
    "else:\n",
    "    print(someInput.upper())"
   ]
  },
  {
   "cell_type": "code",
   "execution_count": 83,
   "metadata": {},
   "outputs": [
    {
     "data": {
      "text/plain": [
       "'Elephant Is An Animal'"
      ]
     },
     "execution_count": 83,
     "metadata": {},
     "output_type": "execute_result"
    }
   ],
   "source": [
    "sent.title()"
   ]
  },
  {
   "cell_type": "code",
   "execution_count": 85,
   "metadata": {},
   "outputs": [
    {
     "data": {
      "text/plain": [
       "'a**le'"
      ]
     },
     "execution_count": 85,
     "metadata": {},
     "output_type": "execute_result"
    }
   ],
   "source": [
    "name.replace('p',\"*\")"
   ]
  },
  {
   "cell_type": "code",
   "execution_count": 102,
   "metadata": {},
   "outputs": [
    {
     "data": {
      "text/plain": [
       "' apple '"
      ]
     },
     "execution_count": 102,
     "metadata": {},
     "output_type": "execute_result"
    }
   ],
   "source": [
    "name.lower()"
   ]
  },
  {
   "cell_type": "code",
   "execution_count": 88,
   "metadata": {},
   "outputs": [
    {
     "data": {
      "text/plain": [
       "'elephant is an animal'"
      ]
     },
     "execution_count": 88,
     "metadata": {},
     "output_type": "execute_result"
    }
   ],
   "source": [
    "sent.zfill(15)"
   ]
  },
  {
   "cell_type": "code",
   "execution_count": 89,
   "metadata": {},
   "outputs": [],
   "source": [
    "name = \" apple \""
   ]
  },
  {
   "cell_type": "code",
   "execution_count": 90,
   "metadata": {},
   "outputs": [
    {
     "data": {
      "text/plain": [
       "'apple '"
      ]
     },
     "execution_count": 90,
     "metadata": {},
     "output_type": "execute_result"
    }
   ],
   "source": [
    "name.lstrip()"
   ]
  },
  {
   "cell_type": "code",
   "execution_count": 91,
   "metadata": {},
   "outputs": [
    {
     "data": {
      "text/plain": [
       "' apple'"
      ]
     },
     "execution_count": 91,
     "metadata": {},
     "output_type": "execute_result"
    }
   ],
   "source": [
    "name.rstrip()"
   ]
  },
  {
   "cell_type": "code",
   "execution_count": 95,
   "metadata": {},
   "outputs": [
    {
     "data": {
      "text/plain": [
       "'app'"
      ]
     },
     "execution_count": 95,
     "metadata": {},
     "output_type": "execute_result"
    }
   ],
   "source": [
    "name.strip().strip('le')"
   ]
  },
  {
   "cell_type": "code",
   "execution_count": 98,
   "metadata": {},
   "outputs": [],
   "source": [
    "temp = sent.split('an')"
   ]
  },
  {
   "cell_type": "code",
   "execution_count": 99,
   "metadata": {},
   "outputs": [
    {
     "data": {
      "text/plain": [
       "['eleph', 't is ', ' ', 'imal']"
      ]
     },
     "execution_count": 99,
     "metadata": {},
     "output_type": "execute_result"
    }
   ],
   "source": [
    "temp"
   ]
  },
  {
   "cell_type": "code",
   "execution_count": 100,
   "metadata": {},
   "outputs": [
    {
     "data": {
      "text/plain": [
       "'elephant is an animal'"
      ]
     },
     "execution_count": 100,
     "metadata": {},
     "output_type": "execute_result"
    }
   ],
   "source": [
    "'an'.join(temp)"
   ]
  },
  {
   "cell_type": "code",
   "execution_count": null,
   "metadata": {},
   "outputs": [],
   "source": [
    "rock beats scissor\n",
    "scissor beats paper\n",
    "paper beats rock"
   ]
  },
  {
   "cell_type": "markdown",
   "metadata": {},
   "source": [
    "## 2019-09-21"
   ]
  },
  {
   "cell_type": "markdown",
   "metadata": {},
   "source": [
    "### list"
   ]
  },
  {
   "cell_type": "code",
   "execution_count": 1,
   "metadata": {},
   "outputs": [],
   "source": [
    "L = []"
   ]
  },
  {
   "cell_type": "code",
   "execution_count": 2,
   "metadata": {},
   "outputs": [
    {
     "data": {
      "text/plain": [
       "[]"
      ]
     },
     "execution_count": 2,
     "metadata": {},
     "output_type": "execute_result"
    }
   ],
   "source": [
    "L"
   ]
  },
  {
   "cell_type": "code",
   "execution_count": 3,
   "metadata": {},
   "outputs": [],
   "source": [
    "L = list()"
   ]
  },
  {
   "cell_type": "code",
   "execution_count": 5,
   "metadata": {},
   "outputs": [],
   "source": [
    "l = [2,4,6,1.3,3.5,5.7,'apple','mango','papaya']"
   ]
  },
  {
   "cell_type": "code",
   "execution_count": 6,
   "metadata": {},
   "outputs": [
    {
     "data": {
      "text/plain": [
       "[2, 4, 6, 1.3, 3.5, 5.7, 'apple', 'mango', 'papaya']"
      ]
     },
     "execution_count": 6,
     "metadata": {},
     "output_type": "execute_result"
    }
   ],
   "source": [
    "l"
   ]
  },
  {
   "cell_type": "code",
   "execution_count": 7,
   "metadata": {},
   "outputs": [
    {
     "data": {
      "text/plain": [
       "9"
      ]
     },
     "execution_count": 7,
     "metadata": {},
     "output_type": "execute_result"
    }
   ],
   "source": [
    "len(l)"
   ]
  },
  {
   "cell_type": "code",
   "execution_count": 10,
   "metadata": {},
   "outputs": [
    {
     "data": {
      "text/plain": [
       "[6, 5.7]"
      ]
     },
     "execution_count": 10,
     "metadata": {},
     "output_type": "execute_result"
    }
   ],
   "source": [
    "l[2:8:3]"
   ]
  },
  {
   "cell_type": "code",
   "execution_count": 12,
   "metadata": {},
   "outputs": [],
   "source": [
    "l[2] = 58"
   ]
  },
  {
   "cell_type": "code",
   "execution_count": 13,
   "metadata": {},
   "outputs": [
    {
     "data": {
      "text/plain": [
       "[2, 4, 58, 1.3, 3.5, 5.7, 'apple', 'mango', 'papaya']"
      ]
     },
     "execution_count": 13,
     "metadata": {},
     "output_type": "execute_result"
    }
   ],
   "source": [
    "l"
   ]
  },
  {
   "cell_type": "code",
   "execution_count": 15,
   "metadata": {},
   "outputs": [],
   "source": [
    "del l[3]"
   ]
  },
  {
   "cell_type": "code",
   "execution_count": 16,
   "metadata": {},
   "outputs": [
    {
     "data": {
      "text/plain": [
       "3.5"
      ]
     },
     "execution_count": 16,
     "metadata": {},
     "output_type": "execute_result"
    }
   ],
   "source": [
    "l[3]"
   ]
  },
  {
   "cell_type": "code",
   "execution_count": 17,
   "metadata": {},
   "outputs": [
    {
     "data": {
      "text/plain": [
       "[2, 4, 58, 3.5, 5.7, 'apple', 'mango', 'papaya']"
      ]
     },
     "execution_count": 17,
     "metadata": {},
     "output_type": "execute_result"
    }
   ],
   "source": [
    "l"
   ]
  },
  {
   "cell_type": "code",
   "execution_count": 18,
   "metadata": {},
   "outputs": [],
   "source": [
    "l2 = [58,36,41,12]"
   ]
  },
  {
   "cell_type": "code",
   "execution_count": 19,
   "metadata": {},
   "outputs": [
    {
     "data": {
      "text/plain": [
       "[58, 36, 41, 12]"
      ]
     },
     "execution_count": 19,
     "metadata": {},
     "output_type": "execute_result"
    }
   ],
   "source": [
    "l2"
   ]
  },
  {
   "cell_type": "code",
   "execution_count": 21,
   "metadata": {},
   "outputs": [],
   "source": [
    "l3 = l+l2"
   ]
  },
  {
   "cell_type": "code",
   "execution_count": 24,
   "metadata": {},
   "outputs": [
    {
     "data": {
      "text/plain": [
       "[2, 4, 58, 3.5, 5.7, 'apple', 'mango', 'papaya', 58, 36, 41, 12]"
      ]
     },
     "execution_count": 24,
     "metadata": {},
     "output_type": "execute_result"
    }
   ],
   "source": [
    "l3"
   ]
  },
  {
   "cell_type": "code",
   "execution_count": 25,
   "metadata": {},
   "outputs": [],
   "source": [
    "l.append('orange')"
   ]
  },
  {
   "cell_type": "code",
   "execution_count": 26,
   "metadata": {},
   "outputs": [
    {
     "data": {
      "text/plain": [
       "[2, 4, 58, 3.5, 5.7, 'apple', 'mango', 'papaya', 'orange']"
      ]
     },
     "execution_count": 26,
     "metadata": {},
     "output_type": "execute_result"
    }
   ],
   "source": [
    "l"
   ]
  },
  {
   "cell_type": "code",
   "execution_count": 27,
   "metadata": {},
   "outputs": [],
   "source": [
    "l.insert(3,78945)"
   ]
  },
  {
   "cell_type": "code",
   "execution_count": 28,
   "metadata": {},
   "outputs": [
    {
     "data": {
      "text/plain": [
       "[2, 4, 58, 78945, 3.5, 5.7, 'apple', 'mango', 'papaya', 'orange']"
      ]
     },
     "execution_count": 28,
     "metadata": {},
     "output_type": "execute_result"
    }
   ],
   "source": [
    "l"
   ]
  },
  {
   "cell_type": "code",
   "execution_count": 29,
   "metadata": {},
   "outputs": [
    {
     "data": {
      "text/plain": [
       "'orange'"
      ]
     },
     "execution_count": 29,
     "metadata": {},
     "output_type": "execute_result"
    }
   ],
   "source": [
    "l.pop()"
   ]
  },
  {
   "cell_type": "code",
   "execution_count": 30,
   "metadata": {},
   "outputs": [
    {
     "data": {
      "text/plain": [
       "[2, 4, 58, 78945, 3.5, 5.7, 'apple', 'mango', 'papaya']"
      ]
     },
     "execution_count": 30,
     "metadata": {},
     "output_type": "execute_result"
    }
   ],
   "source": [
    "l"
   ]
  },
  {
   "cell_type": "code",
   "execution_count": 31,
   "metadata": {},
   "outputs": [],
   "source": [
    "l.remove(5.7)"
   ]
  },
  {
   "cell_type": "code",
   "execution_count": 32,
   "metadata": {},
   "outputs": [
    {
     "data": {
      "text/plain": [
       "[2, 4, 58, 78945, 3.5, 'apple', 'mango', 'papaya']"
      ]
     },
     "execution_count": 32,
     "metadata": {},
     "output_type": "execute_result"
    }
   ],
   "source": [
    "l"
   ]
  },
  {
   "cell_type": "code",
   "execution_count": 34,
   "metadata": {},
   "outputs": [],
   "source": [
    "l2.clear()"
   ]
  },
  {
   "cell_type": "code",
   "execution_count": 35,
   "metadata": {},
   "outputs": [
    {
     "data": {
      "text/plain": [
       "[]"
      ]
     },
     "execution_count": 35,
     "metadata": {},
     "output_type": "execute_result"
    }
   ],
   "source": [
    "l2"
   ]
  },
  {
   "cell_type": "code",
   "execution_count": 36,
   "metadata": {},
   "outputs": [],
   "source": [
    "l4 = l3.copy()"
   ]
  },
  {
   "cell_type": "code",
   "execution_count": 37,
   "metadata": {},
   "outputs": [
    {
     "data": {
      "text/plain": [
       "1"
      ]
     },
     "execution_count": 37,
     "metadata": {},
     "output_type": "execute_result"
    }
   ],
   "source": [
    "l.count(4)"
   ]
  },
  {
   "cell_type": "code",
   "execution_count": 38,
   "metadata": {},
   "outputs": [
    {
     "data": {
      "text/plain": [
       "1"
      ]
     },
     "execution_count": 38,
     "metadata": {},
     "output_type": "execute_result"
    }
   ],
   "source": [
    "l.index(4)"
   ]
  },
  {
   "cell_type": "code",
   "execution_count": 39,
   "metadata": {},
   "outputs": [
    {
     "data": {
      "text/plain": [
       "4"
      ]
     },
     "execution_count": 39,
     "metadata": {},
     "output_type": "execute_result"
    }
   ],
   "source": [
    "l[1]"
   ]
  },
  {
   "cell_type": "code",
   "execution_count": 40,
   "metadata": {},
   "outputs": [],
   "source": [
    "l.extend(l2)"
   ]
  },
  {
   "cell_type": "code",
   "execution_count": 42,
   "metadata": {},
   "outputs": [],
   "source": [
    "l.extend(l3)"
   ]
  },
  {
   "cell_type": "code",
   "execution_count": 43,
   "metadata": {},
   "outputs": [
    {
     "data": {
      "text/plain": [
       "[2,\n",
       " 4,\n",
       " 58,\n",
       " 78945,\n",
       " 3.5,\n",
       " 'apple',\n",
       " 'mango',\n",
       " 'papaya',\n",
       " 2,\n",
       " 4,\n",
       " 58,\n",
       " 3.5,\n",
       " 5.7,\n",
       " 'apple',\n",
       " 'mango',\n",
       " 'papaya',\n",
       " 58,\n",
       " 36,\n",
       " 41,\n",
       " 12]"
      ]
     },
     "execution_count": 43,
     "metadata": {},
     "output_type": "execute_result"
    }
   ],
   "source": [
    "l"
   ]
  },
  {
   "cell_type": "code",
   "execution_count": 44,
   "metadata": {},
   "outputs": [],
   "source": [
    "l.reverse()"
   ]
  },
  {
   "cell_type": "code",
   "execution_count": 46,
   "metadata": {},
   "outputs": [
    {
     "data": {
      "text/plain": [
       "[2,\n",
       " 4,\n",
       " 58,\n",
       " 78945,\n",
       " 3.5,\n",
       " 'apple',\n",
       " 'mango',\n",
       " 'papaya',\n",
       " 2,\n",
       " 4,\n",
       " 58,\n",
       " 3.5,\n",
       " 5.7,\n",
       " 'apple',\n",
       " 'mango',\n",
       " 'papaya',\n",
       " 58,\n",
       " 36,\n",
       " 41,\n",
       " 12]"
      ]
     },
     "execution_count": 46,
     "metadata": {},
     "output_type": "execute_result"
    }
   ],
   "source": [
    "l[::-1]"
   ]
  },
  {
   "cell_type": "code",
   "execution_count": 47,
   "metadata": {},
   "outputs": [
    {
     "ename": "TypeError",
     "evalue": "'<' not supported between instances of 'str' and 'int'",
     "output_type": "error",
     "traceback": [
      "\u001b[0;31m---------------------------------------------------------------------------\u001b[0m",
      "\u001b[0;31mTypeError\u001b[0m                                 Traceback (most recent call last)",
      "\u001b[0;32m<ipython-input-47-fb07ac7c73ab>\u001b[0m in \u001b[0;36m<module>\u001b[0;34m()\u001b[0m\n\u001b[0;32m----> 1\u001b[0;31m \u001b[0ml\u001b[0m\u001b[0;34m.\u001b[0m\u001b[0msort\u001b[0m\u001b[0;34m(\u001b[0m\u001b[0;34m)\u001b[0m\u001b[0;34m\u001b[0m\u001b[0;34m\u001b[0m\u001b[0m\n\u001b[0m",
      "\u001b[0;31mTypeError\u001b[0m: '<' not supported between instances of 'str' and 'int'"
     ]
    }
   ],
   "source": [
    "l.sort()"
   ]
  },
  {
   "cell_type": "code",
   "execution_count": 48,
   "metadata": {},
   "outputs": [
    {
     "data": {
      "text/plain": [
       "[2, 4, 58, 3.5, 5.7, 'apple', 'mango', 'papaya', 58, 36, 41, 12]"
      ]
     },
     "execution_count": 48,
     "metadata": {},
     "output_type": "execute_result"
    }
   ],
   "source": [
    "l3"
   ]
  },
  {
   "cell_type": "code",
   "execution_count": 49,
   "metadata": {},
   "outputs": [],
   "source": [
    "t = (2, 4, 58, 3.5, 5.7, 'apple', 'mango', 'papaya', 58, 36, 41, 12)"
   ]
  },
  {
   "cell_type": "code",
   "execution_count": 50,
   "metadata": {},
   "outputs": [
    {
     "data": {
      "text/plain": [
       "(2, 4, 58, 3.5, 5.7, 'apple', 'mango', 'papaya', 58, 36, 41, 12)"
      ]
     },
     "execution_count": 50,
     "metadata": {},
     "output_type": "execute_result"
    }
   ],
   "source": [
    "t"
   ]
  },
  {
   "cell_type": "code",
   "execution_count": 52,
   "metadata": {},
   "outputs": [
    {
     "ename": "TypeError",
     "evalue": "'tuple' object does not support item assignment",
     "output_type": "error",
     "traceback": [
      "\u001b[0;31m---------------------------------------------------------------------------\u001b[0m",
      "\u001b[0;31mTypeError\u001b[0m                                 Traceback (most recent call last)",
      "\u001b[0;32m<ipython-input-52-221bcce4377e>\u001b[0m in \u001b[0;36m<module>\u001b[0;34m()\u001b[0m\n\u001b[0;32m----> 1\u001b[0;31m \u001b[0mt\u001b[0m\u001b[0;34m[\u001b[0m\u001b[0;36m2\u001b[0m\u001b[0;34m]\u001b[0m \u001b[0;34m=\u001b[0m \u001b[0;36m20\u001b[0m\u001b[0;34m\u001b[0m\u001b[0;34m\u001b[0m\u001b[0m\n\u001b[0m",
      "\u001b[0;31mTypeError\u001b[0m: 'tuple' object does not support item assignment"
     ]
    }
   ],
   "source": [
    "t[2] = 20"
   ]
  },
  {
   "cell_type": "code",
   "execution_count": 53,
   "metadata": {},
   "outputs": [
    {
     "ename": "TypeError",
     "evalue": "'tuple' object doesn't support item deletion",
     "output_type": "error",
     "traceback": [
      "\u001b[0;31m---------------------------------------------------------------------------\u001b[0m",
      "\u001b[0;31mTypeError\u001b[0m                                 Traceback (most recent call last)",
      "\u001b[0;32m<ipython-input-53-2d0f41a77003>\u001b[0m in \u001b[0;36m<module>\u001b[0;34m()\u001b[0m\n\u001b[0;32m----> 1\u001b[0;31m \u001b[0;32mdel\u001b[0m \u001b[0mt\u001b[0m\u001b[0;34m[\u001b[0m\u001b[0;36m2\u001b[0m\u001b[0;34m]\u001b[0m\u001b[0;34m\u001b[0m\u001b[0;34m\u001b[0m\u001b[0m\n\u001b[0m",
      "\u001b[0;31mTypeError\u001b[0m: 'tuple' object doesn't support item deletion"
     ]
    }
   ],
   "source": [
    "del t[2]"
   ]
  },
  {
   "cell_type": "code",
   "execution_count": 54,
   "metadata": {},
   "outputs": [],
   "source": [
    "dt = {}"
   ]
  },
  {
   "cell_type": "code",
   "execution_count": 55,
   "metadata": {},
   "outputs": [],
   "source": [
    "dt = dict()"
   ]
  },
  {
   "cell_type": "code",
   "execution_count": 56,
   "metadata": {},
   "outputs": [],
   "source": [
    "d = {'a':23,\"b\":3.14,2:\"apple\",'d':[85,96,45],\"e\":{'fruit':\"mango\",\"vege\":\"carrot\"}}"
   ]
  },
  {
   "cell_type": "code",
   "execution_count": 57,
   "metadata": {},
   "outputs": [
    {
     "data": {
      "text/plain": [
       "{'a': 23,\n",
       " 'b': 3.14,\n",
       " 2: 'apple',\n",
       " 'd': [85, 96, 45],\n",
       " 'e': {'fruit': 'mango', 'vege': 'carrot'}}"
      ]
     },
     "execution_count": 57,
     "metadata": {},
     "output_type": "execute_result"
    }
   ],
   "source": [
    "d"
   ]
  },
  {
   "cell_type": "code",
   "execution_count": 58,
   "metadata": {},
   "outputs": [
    {
     "data": {
      "text/plain": [
       "23"
      ]
     },
     "execution_count": 58,
     "metadata": {},
     "output_type": "execute_result"
    }
   ],
   "source": [
    "d['a']"
   ]
  },
  {
   "cell_type": "code",
   "execution_count": 60,
   "metadata": {},
   "outputs": [],
   "source": [
    "d['b'] = 6.56"
   ]
  },
  {
   "cell_type": "code",
   "execution_count": 62,
   "metadata": {},
   "outputs": [],
   "source": [
    "del d[2]"
   ]
  },
  {
   "cell_type": "code",
   "execution_count": 63,
   "metadata": {},
   "outputs": [
    {
     "data": {
      "text/plain": [
       "{'a': 23,\n",
       " 'b': 6.56,\n",
       " 'd': [85, 96, 45],\n",
       " 'e': {'fruit': 'mango', 'vege': 'carrot'}}"
      ]
     },
     "execution_count": 63,
     "metadata": {},
     "output_type": "execute_result"
    }
   ],
   "source": [
    "d"
   ]
  },
  {
   "cell_type": "code",
   "execution_count": 65,
   "metadata": {},
   "outputs": [
    {
     "data": {
      "text/plain": [
       "{'a': None, 4: None, 6: None}"
      ]
     },
     "execution_count": 65,
     "metadata": {},
     "output_type": "execute_result"
    }
   ],
   "source": [
    "d.fromkeys(['a',4,6])"
   ]
  },
  {
   "cell_type": "code",
   "execution_count": 67,
   "metadata": {},
   "outputs": [
    {
     "ename": "KeyError",
     "evalue": "'x'",
     "output_type": "error",
     "traceback": [
      "\u001b[0;31m---------------------------------------------------------------------------\u001b[0m",
      "\u001b[0;31mKeyError\u001b[0m                                  Traceback (most recent call last)",
      "\u001b[0;32m<ipython-input-67-7657742692bd>\u001b[0m in \u001b[0;36m<module>\u001b[0;34m()\u001b[0m\n\u001b[0;32m----> 1\u001b[0;31m \u001b[0md\u001b[0m\u001b[0;34m[\u001b[0m\u001b[0;34m'x'\u001b[0m\u001b[0;34m]\u001b[0m\u001b[0;34m\u001b[0m\u001b[0;34m\u001b[0m\u001b[0m\n\u001b[0m",
      "\u001b[0;31mKeyError\u001b[0m: 'x'"
     ]
    }
   ],
   "source": [
    "d['x']"
   ]
  },
  {
   "cell_type": "code",
   "execution_count": 69,
   "metadata": {},
   "outputs": [],
   "source": [
    "d.get('x')"
   ]
  },
  {
   "cell_type": "code",
   "execution_count": 70,
   "metadata": {},
   "outputs": [
    {
     "data": {
      "text/plain": [
       "dict_keys(['a', 'b', 'd', 'e'])"
      ]
     },
     "execution_count": 70,
     "metadata": {},
     "output_type": "execute_result"
    }
   ],
   "source": [
    "d.keys()"
   ]
  },
  {
   "cell_type": "code",
   "execution_count": 71,
   "metadata": {},
   "outputs": [
    {
     "data": {
      "text/plain": [
       "dict_values([23, 6.56, [85, 96, 45], {'fruit': 'mango', 'vege': 'carrot'}])"
      ]
     },
     "execution_count": 71,
     "metadata": {},
     "output_type": "execute_result"
    }
   ],
   "source": [
    "d.values()"
   ]
  },
  {
   "cell_type": "code",
   "execution_count": 73,
   "metadata": {},
   "outputs": [
    {
     "data": {
      "text/plain": [
       "6.56"
      ]
     },
     "execution_count": 73,
     "metadata": {},
     "output_type": "execute_result"
    }
   ],
   "source": [
    "d.pop('b')"
   ]
  },
  {
   "cell_type": "code",
   "execution_count": 74,
   "metadata": {},
   "outputs": [
    {
     "data": {
      "text/plain": [
       "{'a': 23, 'd': [85, 96, 45], 'e': {'fruit': 'mango', 'vege': 'carrot'}}"
      ]
     },
     "execution_count": 74,
     "metadata": {},
     "output_type": "execute_result"
    }
   ],
   "source": [
    "d"
   ]
  },
  {
   "cell_type": "code",
   "execution_count": null,
   "metadata": {},
   "outputs": [],
   "source": [
    "d.popitem()"
   ]
  },
  {
   "cell_type": "code",
   "execution_count": 75,
   "metadata": {},
   "outputs": [],
   "source": [
    "d.update({2:45,'c':[788,990]})"
   ]
  },
  {
   "cell_type": "code",
   "execution_count": 76,
   "metadata": {},
   "outputs": [
    {
     "data": {
      "text/plain": [
       "{'a': 23,\n",
       " 'd': [85, 96, 45],\n",
       " 'e': {'fruit': 'mango', 'vege': 'carrot'},\n",
       " 2: 45,\n",
       " 'c': [788, 990]}"
      ]
     },
     "execution_count": 76,
     "metadata": {},
     "output_type": "execute_result"
    }
   ],
   "source": [
    "d"
   ]
  },
  {
   "cell_type": "markdown",
   "metadata": {},
   "source": [
    "#### for loop"
   ]
  },
  {
   "cell_type": "code",
   "execution_count": 80,
   "metadata": {},
   "outputs": [
    {
     "name": "stdout",
     "output_type": "stream",
     "text": [
      "hi 21\n",
      "hi 23\n",
      "hi 25\n",
      "hi 27\n",
      "hi 29\n"
     ]
    }
   ],
   "source": [
    "for i in range(21,31,2):\n",
    "    print('hi',i)"
   ]
  },
  {
   "cell_type": "code",
   "execution_count": 82,
   "metadata": {},
   "outputs": [
    {
     "name": "stdout",
     "output_type": "stream",
     "text": [
      "0\n",
      "1\n",
      "2\n",
      "3\n",
      "4\n",
      "5\n",
      "6\n",
      "7\n",
      "8\n",
      "9\n",
      "10\n",
      "11\n"
     ]
    }
   ],
   "source": [
    "for i in range(len(l3)):\n",
    "    print(i)"
   ]
  },
  {
   "cell_type": "code",
   "execution_count": 83,
   "metadata": {},
   "outputs": [
    {
     "name": "stdout",
     "output_type": "stream",
     "text": [
      "2\n",
      "4\n",
      "58\n",
      "3.5\n",
      "5.7\n",
      "apple\n",
      "mango\n",
      "papaya\n",
      "58\n",
      "36\n",
      "41\n",
      "12\n"
     ]
    }
   ],
   "source": [
    "for i in l3:\n",
    "    print(i)"
   ]
  },
  {
   "cell_type": "code",
   "execution_count": 85,
   "metadata": {},
   "outputs": [
    {
     "name": "stdout",
     "output_type": "stream",
     "text": [
      "0 3.5\n",
      "1 5.7\n",
      "2 apple\n",
      "3 mango\n"
     ]
    }
   ],
   "source": [
    "for i,ele in enumerate(l3[3:7]):\n",
    "    print(i,ele)"
   ]
  },
  {
   "cell_type": "code",
   "execution_count": 86,
   "metadata": {},
   "outputs": [
    {
     "data": {
      "text/plain": [
       "[2, 4, 58, 3.5, 5.7, 'apple', 'mango', 'papaya', 58, 36, 41, 12]"
      ]
     },
     "execution_count": 86,
     "metadata": {},
     "output_type": "execute_result"
    }
   ],
   "source": [
    "l3"
   ]
  },
  {
   "cell_type": "code",
   "execution_count": 87,
   "metadata": {},
   "outputs": [
    {
     "data": {
      "text/plain": [
       "[12,\n",
       " 36,\n",
       " 41,\n",
       " 58,\n",
       " 'papaya',\n",
       " 'mango',\n",
       " 'apple',\n",
       " 5.7,\n",
       " 3.5,\n",
       " 58,\n",
       " 4,\n",
       " 2,\n",
       " 'papaya',\n",
       " 'mango',\n",
       " 'apple',\n",
       " 3.5,\n",
       " 78945,\n",
       " 58,\n",
       " 4,\n",
       " 2]"
      ]
     },
     "execution_count": 87,
     "metadata": {},
     "output_type": "execute_result"
    }
   ],
   "source": [
    "l"
   ]
  },
  {
   "cell_type": "code",
   "execution_count": 88,
   "metadata": {},
   "outputs": [
    {
     "name": "stdout",
     "output_type": "stream",
     "text": [
      "2 12\n",
      "4 36\n",
      "58 41\n",
      "3.5 58\n",
      "5.7 papaya\n",
      "apple mango\n",
      "mango apple\n",
      "papaya 5.7\n",
      "58 3.5\n",
      "36 58\n",
      "41 4\n",
      "12 2\n"
     ]
    }
   ],
   "source": [
    "for i,j in zip(l3,l):\n",
    "    print(i,j)"
   ]
  },
  {
   "cell_type": "code",
   "execution_count": 89,
   "metadata": {},
   "outputs": [
    {
     "name": "stdout",
     "output_type": "stream",
     "text": [
      "a\n",
      "d\n",
      "e\n",
      "2\n",
      "c\n"
     ]
    }
   ],
   "source": [
    "for k in d.keys():\n",
    "    print(k)"
   ]
  },
  {
   "cell_type": "code",
   "execution_count": 90,
   "metadata": {},
   "outputs": [
    {
     "name": "stdout",
     "output_type": "stream",
     "text": [
      "23\n",
      "[85, 96, 45]\n",
      "{'fruit': 'mango', 'vege': 'carrot'}\n",
      "45\n",
      "[788, 990]\n"
     ]
    }
   ],
   "source": [
    "for v in d.values():\n",
    "    print(v)"
   ]
  },
  {
   "cell_type": "code",
   "execution_count": 92,
   "metadata": {},
   "outputs": [
    {
     "name": "stdout",
     "output_type": "stream",
     "text": [
      "('a', 23)\n",
      "('d', [85, 96, 45])\n",
      "('e', {'fruit': 'mango', 'vege': 'carrot'})\n",
      "(2, 45)\n",
      "('c', [788, 990])\n"
     ]
    }
   ],
   "source": [
    "for k in d.items():\n",
    "    print(k)"
   ]
  },
  {
   "cell_type": "code",
   "execution_count": null,
   "metadata": {},
   "outputs": [],
   "source": [
    "1. take two numerical lists of different length and find out common elements without duplicates \n",
    "\n",
    "a = [2,2,3,4,5,3,4,2]\n",
    "b = [2,3,3,4,5,4]\n",
    "\n",
    "2. create a new list with the elements less than 7 in the list a "
   ]
  },
  {
   "cell_type": "code",
   "execution_count": 93,
   "metadata": {},
   "outputs": [],
   "source": [
    "a = [2,2,3,4,5,3,4,2]\n",
    "b = [2,3,3,4,5,4]"
   ]
  },
  {
   "cell_type": "code",
   "execution_count": 95,
   "metadata": {},
   "outputs": [],
   "source": [
    "c = []\n",
    "for i in a:\n",
    "    for j in b:\n",
    "        if i==j and i not in c:\n",
    "            c.append(i)\n",
    "            "
   ]
  },
  {
   "cell_type": "code",
   "execution_count": 96,
   "metadata": {},
   "outputs": [
    {
     "data": {
      "text/plain": [
       "[2, 3, 4, 5]"
      ]
     },
     "execution_count": 96,
     "metadata": {},
     "output_type": "execute_result"
    }
   ],
   "source": [
    "c"
   ]
  },
  {
   "cell_type": "code",
   "execution_count": 97,
   "metadata": {},
   "outputs": [
    {
     "data": {
      "text/plain": [
       "[2, 3, 4, 5]"
      ]
     },
     "execution_count": 97,
     "metadata": {},
     "output_type": "execute_result"
    }
   ],
   "source": [
    "c = []\n",
    "for i in a:\n",
    "    if i in b and i not in c:\n",
    "            c.append(i)\n",
    "c"
   ]
  },
  {
   "cell_type": "code",
   "execution_count": 98,
   "metadata": {},
   "outputs": [],
   "source": [
    "d = []\n",
    "for i in a:\n",
    "    if i <= 3:\n",
    "        d.append(i)"
   ]
  },
  {
   "cell_type": "code",
   "execution_count": 99,
   "metadata": {},
   "outputs": [
    {
     "data": {
      "text/plain": [
       "[2, 2, 3, 3, 2]"
      ]
     },
     "execution_count": 99,
     "metadata": {},
     "output_type": "execute_result"
    }
   ],
   "source": [
    "d"
   ]
  },
  {
   "cell_type": "code",
   "execution_count": 100,
   "metadata": {},
   "outputs": [
    {
     "data": {
      "text/plain": [
       "[2, 2, 3, 3, 2]"
      ]
     },
     "execution_count": 100,
     "metadata": {},
     "output_type": "execute_result"
    }
   ],
   "source": [
    "[i for i in a if i<=3]"
   ]
  },
  {
   "cell_type": "code",
   "execution_count": 101,
   "metadata": {},
   "outputs": [
    {
     "data": {
      "text/plain": [
       "{2, 3, 4, 5}"
      ]
     },
     "execution_count": 101,
     "metadata": {},
     "output_type": "execute_result"
    }
   ],
   "source": [
    "set(a)&set(b)"
   ]
  },
  {
   "cell_type": "code",
   "execution_count": 102,
   "metadata": {},
   "outputs": [],
   "source": [
    "import random as r"
   ]
  },
  {
   "cell_type": "code",
   "execution_count": 104,
   "metadata": {},
   "outputs": [
    {
     "data": {
      "text/plain": [
       "129"
      ]
     },
     "execution_count": 104,
     "metadata": {},
     "output_type": "execute_result"
    }
   ],
   "source": [
    "r.randint(100,999)"
   ]
  },
  {
   "cell_type": "code",
   "execution_count": null,
   "metadata": {},
   "outputs": [],
   "source": [
    "cow => correct number and correct position\n",
    "bull => correct number and wrong position"
   ]
  },
  {
   "cell_type": "code",
   "execution_count": 105,
   "metadata": {},
   "outputs": [
    {
     "ename": "SyntaxError",
     "evalue": "invalid syntax (<ipython-input-105-e52f8f3d08a4>, line 1)",
     "output_type": "error",
     "traceback": [
      "\u001b[0;36m  File \u001b[0;32m\"<ipython-input-105-e52f8f3d08a4>\"\u001b[0;36m, line \u001b[0;32m1\u001b[0m\n\u001b[0;31m    error handling\u001b[0m\n\u001b[0m                 ^\u001b[0m\n\u001b[0;31mSyntaxError\u001b[0m\u001b[0;31m:\u001b[0m invalid syntax\n"
     ]
    }
   ],
   "source": [
    "file handling\n",
    "functions\n",
    "oops\n",
    "visualization"
   ]
  },
  {
   "cell_type": "code",
   "execution_count": 106,
   "metadata": {},
   "outputs": [
    {
     "ename": "NameError",
     "evalue": "name 'g' is not defined",
     "output_type": "error",
     "traceback": [
      "\u001b[0;31m---------------------------------------------------------------------------\u001b[0m",
      "\u001b[0;31mNameError\u001b[0m                                 Traceback (most recent call last)",
      "\u001b[0;32m<ipython-input-106-3a98be72e994>\u001b[0m in \u001b[0;36m<module>\u001b[0;34m()\u001b[0m\n\u001b[0;32m----> 1\u001b[0;31m \u001b[0mprint\u001b[0m\u001b[0;34m(\u001b[0m\u001b[0mg\u001b[0m\u001b[0;34m)\u001b[0m\u001b[0;34m\u001b[0m\u001b[0;34m\u001b[0m\u001b[0m\n\u001b[0m\u001b[1;32m      2\u001b[0m \u001b[0mprint\u001b[0m\u001b[0;34m(\u001b[0m\u001b[0;34m\"hello\"\u001b[0m\u001b[0;34m)\u001b[0m\u001b[0;34m\u001b[0m\u001b[0;34m\u001b[0m\u001b[0m\n",
      "\u001b[0;31mNameError\u001b[0m: name 'g' is not defined"
     ]
    }
   ],
   "source": [
    "print(g)\n",
    "print(\"hello\")"
   ]
  },
  {
   "cell_type": "code",
   "execution_count": 107,
   "metadata": {},
   "outputs": [
    {
     "name": "stdout",
     "output_type": "stream",
     "text": [
      "There is an error!!\n",
      "hello\n"
     ]
    }
   ],
   "source": [
    "try:\n",
    "    print(g)\n",
    "except:\n",
    "    print(\"There is an error!!\")\n",
    "print('hello')"
   ]
  },
  {
   "cell_type": "code",
   "execution_count": 108,
   "metadata": {},
   "outputs": [
    {
     "name": "stdout",
     "output_type": "stream",
     "text": [
      "name 'g' is not defined\n",
      "There is an error\n",
      "hello\n"
     ]
    }
   ],
   "source": [
    "try:\n",
    "    print(g)\n",
    "except Exception as e:\n",
    "    print(e)\n",
    "    print(\"There is an error\")\n",
    "print(\"hello\")"
   ]
  },
  {
   "cell_type": "code",
   "execution_count": 110,
   "metadata": {},
   "outputs": [
    {
     "ename": "TypeError",
     "evalue": "'g' is an invalid keyword argument for this function",
     "output_type": "error",
     "traceback": [
      "\u001b[0;31m---------------------------------------------------------------------------\u001b[0m",
      "\u001b[0;31mTypeError\u001b[0m                                 Traceback (most recent call last)",
      "\u001b[0;32m<ipython-input-110-f94923099865>\u001b[0m in \u001b[0;36m<module>\u001b[0;34m()\u001b[0m\n\u001b[0;32m----> 1\u001b[0;31m \u001b[0mprint\u001b[0m\u001b[0;34m(\u001b[0m\u001b[0mg\u001b[0m\u001b[0;34m=\u001b[0m\u001b[0;36m4\u001b[0m\u001b[0;34m)\u001b[0m\u001b[0;34m\u001b[0m\u001b[0;34m\u001b[0m\u001b[0m\n\u001b[0m",
      "\u001b[0;31mTypeError\u001b[0m: 'g' is an invalid keyword argument for this function"
     ]
    }
   ],
   "source": [
    "print(g=4)"
   ]
  },
  {
   "cell_type": "code",
   "execution_count": 115,
   "metadata": {},
   "outputs": [
    {
     "name": "stdout",
     "output_type": "stream",
     "text": [
      "'g' is an invalid keyword argument for this function\n",
      "hello\n"
     ]
    }
   ],
   "source": [
    "try:\n",
    "    print(g=4)\n",
    "except (NameError,TypeError) as e:\n",
    "    print(e)\n",
    "print('hello')"
   ]
  },
  {
   "cell_type": "code",
   "execution_count": 116,
   "metadata": {},
   "outputs": [
    {
     "ename": "ValueError",
     "evalue": "Test value error",
     "output_type": "error",
     "traceback": [
      "\u001b[0;31m---------------------------------------------------------------------------\u001b[0m",
      "\u001b[0;31mValueError\u001b[0m                                Traceback (most recent call last)",
      "\u001b[0;32m<ipython-input-116-6a0e9bcbe0d5>\u001b[0m in \u001b[0;36m<module>\u001b[0;34m()\u001b[0m\n\u001b[0;32m----> 1\u001b[0;31m \u001b[0;32mraise\u001b[0m \u001b[0mValueError\u001b[0m\u001b[0;34m(\u001b[0m\u001b[0;34m\"Test value error\"\u001b[0m\u001b[0;34m)\u001b[0m\u001b[0;34m\u001b[0m\u001b[0;34m\u001b[0m\u001b[0m\n\u001b[0m",
      "\u001b[0;31mValueError\u001b[0m: Test value error"
     ]
    }
   ],
   "source": [
    "raise ValueError(\"Test value error\")"
   ]
  },
  {
   "cell_type": "code",
   "execution_count": 117,
   "metadata": {},
   "outputs": [
    {
     "name": "stdout",
     "output_type": "stream",
     "text": [
      "hello\n"
     ]
    }
   ],
   "source": [
    "try:\n",
    "    print(g)\n",
    "except:\n",
    "    pass\n",
    "print(\"hello\")"
   ]
  },
  {
   "cell_type": "code",
   "execution_count": 119,
   "metadata": {},
   "outputs": [
    {
     "name": "stdout",
     "output_type": "stream",
     "text": [
      "44\n",
      "hello\n"
     ]
    }
   ],
   "source": [
    "try:\n",
    "    print(44)\n",
    "except:\n",
    "    print(\"error\")\n",
    "finally:\n",
    "    print(\"hello\")"
   ]
  },
  {
   "cell_type": "code",
   "execution_count": 127,
   "metadata": {},
   "outputs": [],
   "source": [
    "assert a == 5"
   ]
  },
  {
   "cell_type": "code",
   "execution_count": 126,
   "metadata": {},
   "outputs": [],
   "source": [
    "a=5"
   ]
  },
  {
   "cell_type": "code",
   "execution_count": null,
   "metadata": {},
   "outputs": [],
   "source": [
    "pip install <library name>"
   ]
  },
  {
   "cell_type": "code",
   "execution_count": 1,
   "metadata": {},
   "outputs": [],
   "source": [
    "import random"
   ]
  },
  {
   "cell_type": "code",
   "execution_count": 3,
   "metadata": {},
   "outputs": [
    {
     "data": {
      "text/plain": [
       "12"
      ]
     },
     "execution_count": 3,
     "metadata": {},
     "output_type": "execute_result"
    }
   ],
   "source": [
    "random.randint(1,15)"
   ]
  },
  {
   "cell_type": "code",
   "execution_count": 4,
   "metadata": {},
   "outputs": [],
   "source": [
    "import random as r"
   ]
  },
  {
   "cell_type": "code",
   "execution_count": 5,
   "metadata": {},
   "outputs": [
    {
     "data": {
      "text/plain": [
       "15"
      ]
     },
     "execution_count": 5,
     "metadata": {},
     "output_type": "execute_result"
    }
   ],
   "source": [
    "r.randint(1,15)"
   ]
  },
  {
   "cell_type": "code",
   "execution_count": 6,
   "metadata": {},
   "outputs": [],
   "source": [
    "from math import factorial,log10,sin"
   ]
  },
  {
   "cell_type": "code",
   "execution_count": 7,
   "metadata": {},
   "outputs": [
    {
     "data": {
      "text/plain": [
       "120"
      ]
     },
     "execution_count": 7,
     "metadata": {},
     "output_type": "execute_result"
    }
   ],
   "source": [
    "factorial(5)"
   ]
  },
  {
   "cell_type": "code",
   "execution_count": 8,
   "metadata": {},
   "outputs": [
    {
     "data": {
      "text/plain": [
       "0.3010299956639812"
      ]
     },
     "execution_count": 8,
     "metadata": {},
     "output_type": "execute_result"
    }
   ],
   "source": [
    "log10(2)"
   ]
  },
  {
   "cell_type": "code",
   "execution_count": 9,
   "metadata": {},
   "outputs": [],
   "source": [
    "from random import *"
   ]
  },
  {
   "cell_type": "code",
   "execution_count": 11,
   "metadata": {},
   "outputs": [],
   "source": [
    "from Deep_Learning.customLib import addition"
   ]
  },
  {
   "cell_type": "code",
   "execution_count": 12,
   "metadata": {},
   "outputs": [
    {
     "name": "stdout",
     "output_type": "stream",
     "text": [
      "Enter your name : ss\n",
      "ss\n"
     ]
    }
   ],
   "source": [
    "addition()"
   ]
  },
  {
   "cell_type": "code",
   "execution_count": 16,
   "metadata": {},
   "outputs": [],
   "source": [
    "def displays(name):\n",
    "    print(\"Name : \",name)\n",
    "\n",
    "def show(name):\n",
    "    price = input(\"enter price : \")\n",
    "    print(\"Price : \",price)\n",
    "    print('Name : ',name)"
   ]
  },
  {
   "cell_type": "code",
   "execution_count": 14,
   "metadata": {},
   "outputs": [],
   "source": [
    "name = \"pine apple\""
   ]
  },
  {
   "cell_type": "code",
   "execution_count": 15,
   "metadata": {},
   "outputs": [
    {
     "name": "stdout",
     "output_type": "stream",
     "text": [
      "Name :  pine apple\n"
     ]
    }
   ],
   "source": [
    "displays(name)"
   ]
  },
  {
   "cell_type": "code",
   "execution_count": 17,
   "metadata": {},
   "outputs": [
    {
     "name": "stdout",
     "output_type": "stream",
     "text": [
      "enter price : 12\n",
      "Price :  12\n",
      "Name :  pine apple\n"
     ]
    }
   ],
   "source": [
    "show(name)"
   ]
  },
  {
   "cell_type": "code",
   "execution_count": 18,
   "metadata": {},
   "outputs": [],
   "source": [
    "class A:\n",
    "    def display(self,name):\n",
    "        self.name = name\n",
    "        print(\"Name : \",self.name)\n",
    "    \n",
    "    def show(self):\n",
    "        self.price = input(\"enter price : \")\n",
    "        print(\"Price : \",self.price)\n",
    "        print('Name : ',name)"
   ]
  },
  {
   "cell_type": "code",
   "execution_count": 19,
   "metadata": {},
   "outputs": [],
   "source": [
    "a = A()"
   ]
  },
  {
   "cell_type": "code",
   "execution_count": 20,
   "metadata": {},
   "outputs": [
    {
     "name": "stdout",
     "output_type": "stream",
     "text": [
      "Name :  papaya\n"
     ]
    }
   ],
   "source": [
    "a.display(\"papaya\")"
   ]
  },
  {
   "cell_type": "code",
   "execution_count": 21,
   "metadata": {},
   "outputs": [
    {
     "name": "stdout",
     "output_type": "stream",
     "text": [
      "enter price : 34\n",
      "Price :  34\n",
      "Name :  pine apple\n"
     ]
    }
   ],
   "source": [
    "a.show()"
   ]
  },
  {
   "cell_type": "code",
   "execution_count": 25,
   "metadata": {},
   "outputs": [],
   "source": [
    "class B:\n",
    "    def display(self,name):\n",
    "        self.name = name\n",
    "        print(\"Name : \",self.name)\n",
    "    \n",
    "    def show(self):\n",
    "        self.price = input(\"enter price : \")\n",
    "        print(\"Price : \",self.price)\n",
    "        print('Name : ',self.name)"
   ]
  },
  {
   "cell_type": "code",
   "execution_count": 26,
   "metadata": {},
   "outputs": [],
   "source": [
    "b = B()"
   ]
  },
  {
   "cell_type": "code",
   "execution_count": 28,
   "metadata": {},
   "outputs": [
    {
     "name": "stdout",
     "output_type": "stream",
     "text": [
      "Name :  kiwi\n"
     ]
    }
   ],
   "source": [
    "b.display('kiwi')"
   ]
  },
  {
   "cell_type": "code",
   "execution_count": 29,
   "metadata": {},
   "outputs": [
    {
     "name": "stdout",
     "output_type": "stream",
     "text": [
      "enter price : 85\n",
      "Price :  85\n",
      "Name :  kiwi\n"
     ]
    }
   ],
   "source": [
    "b.show()"
   ]
  },
  {
   "cell_type": "code",
   "execution_count": 30,
   "metadata": {},
   "outputs": [],
   "source": [
    "class C:\n",
    "    def __init__(self,name):\n",
    "        self.name = name\n",
    "        self.price = input(\"enter price : \")\n",
    "        \n",
    "    def display(self):\n",
    "        print(\"Name : \",self.name)\n",
    "    \n",
    "    def show(self):\n",
    "        self.display()\n",
    "        print(\"Price : \",self.price)\n"
   ]
  },
  {
   "cell_type": "code",
   "execution_count": 31,
   "metadata": {},
   "outputs": [
    {
     "name": "stdout",
     "output_type": "stream",
     "text": [
      "enter price : 37\n"
     ]
    }
   ],
   "source": [
    "c = C('apple')"
   ]
  },
  {
   "cell_type": "code",
   "execution_count": 32,
   "metadata": {},
   "outputs": [
    {
     "data": {
      "text/plain": [
       "'apple'"
      ]
     },
     "execution_count": 32,
     "metadata": {},
     "output_type": "execute_result"
    }
   ],
   "source": [
    "c.name"
   ]
  },
  {
   "cell_type": "code",
   "execution_count": 33,
   "metadata": {},
   "outputs": [
    {
     "data": {
      "text/plain": [
       "'37'"
      ]
     },
     "execution_count": 33,
     "metadata": {},
     "output_type": "execute_result"
    }
   ],
   "source": [
    "c.price"
   ]
  },
  {
   "cell_type": "code",
   "execution_count": 34,
   "metadata": {},
   "outputs": [
    {
     "name": "stdout",
     "output_type": "stream",
     "text": [
      "Name :  apple\n",
      "Price :  37\n"
     ]
    }
   ],
   "source": [
    "c.show()"
   ]
  },
  {
   "cell_type": "code",
   "execution_count": 35,
   "metadata": {},
   "outputs": [],
   "source": [
    "class D:\n",
    "    def __init__(self,name):\n",
    "        self._name = name\n",
    "        self._price = input(\"enter price : \")\n",
    "        \n",
    "    def display(self):\n",
    "        print(\"Name : \",self._name)\n",
    "    \n",
    "    def show(self):\n",
    "        self.display()\n",
    "        print(\"Price : \",self._price)\n"
   ]
  },
  {
   "cell_type": "code",
   "execution_count": 36,
   "metadata": {},
   "outputs": [
    {
     "name": "stdout",
     "output_type": "stream",
     "text": [
      "enter price : 78\n"
     ]
    }
   ],
   "source": [
    "d  = D('orange')"
   ]
  },
  {
   "cell_type": "code",
   "execution_count": 37,
   "metadata": {},
   "outputs": [
    {
     "name": "stdout",
     "output_type": "stream",
     "text": [
      "Name :  orange\n",
      "Price :  78\n"
     ]
    }
   ],
   "source": [
    "d.show()"
   ]
  },
  {
   "cell_type": "code",
   "execution_count": 38,
   "metadata": {},
   "outputs": [],
   "source": [
    "class parent:\n",
    "    def printDetails(self):\n",
    "        print(\"Name : \",self.name)\n",
    "        print(\"Company : \",self.company)\n",
    "    \n",
    "    def getDesignation(self):\n",
    "        self.designation = input(\"enter designation : \")"
   ]
  },
  {
   "cell_type": "code",
   "execution_count": 42,
   "metadata": {},
   "outputs": [],
   "source": [
    "class child(parent):\n",
    "    def __init__(self, name , company):\n",
    "        self.name = name\n",
    "        self.company = company\n",
    "    \n",
    "    def displayAll(self):\n",
    "        self.getDesignation()\n",
    "        self.printDetails()\n",
    "        print(\"Designation : \",self.designation)"
   ]
  },
  {
   "cell_type": "code",
   "execution_count": 43,
   "metadata": {},
   "outputs": [],
   "source": [
    "child = child('aa','xyz')"
   ]
  },
  {
   "cell_type": "code",
   "execution_count": 44,
   "metadata": {},
   "outputs": [
    {
     "name": "stdout",
     "output_type": "stream",
     "text": [
      "enter designation : qwe\n",
      "Name :  aa\n",
      "Company :  xyz\n",
      "Designation :  qwe\n"
     ]
    }
   ],
   "source": [
    "child.displayAll()"
   ]
  },
  {
   "cell_type": "code",
   "execution_count": 46,
   "metadata": {},
   "outputs": [],
   "source": [
    "class p:\n",
    "    def method(self):\n",
    "        print(\"I am from P\")\n",
    "\n",
    "class c(p):\n",
    "    def method(self):\n",
    "        print(\"I am from C\")"
   ]
  },
  {
   "cell_type": "code",
   "execution_count": 47,
   "metadata": {},
   "outputs": [],
   "source": [
    "p = c()"
   ]
  },
  {
   "cell_type": "code",
   "execution_count": 48,
   "metadata": {},
   "outputs": [
    {
     "name": "stdout",
     "output_type": "stream",
     "text": [
      "I am from C\n"
     ]
    }
   ],
   "source": [
    "p.method()"
   ]
  },
  {
   "cell_type": "code",
   "execution_count": 1,
   "metadata": {},
   "outputs": [],
   "source": [
    "import pandas as pd"
   ]
  },
  {
   "cell_type": "code",
   "execution_count": 2,
   "metadata": {},
   "outputs": [],
   "source": [
    "csvFile = pd.read_csv(\"./train.csv\")"
   ]
  },
  {
   "cell_type": "code",
   "execution_count": 6,
   "metadata": {},
   "outputs": [
    {
     "data": {
      "text/html": [
       "<div>\n",
       "<style scoped>\n",
       "    .dataframe tbody tr th:only-of-type {\n",
       "        vertical-align: middle;\n",
       "    }\n",
       "\n",
       "    .dataframe tbody tr th {\n",
       "        vertical-align: top;\n",
       "    }\n",
       "\n",
       "    .dataframe thead th {\n",
       "        text-align: right;\n",
       "    }\n",
       "</style>\n",
       "<table border=\"1\" class=\"dataframe\">\n",
       "  <thead>\n",
       "    <tr style=\"text-align: right;\">\n",
       "      <th></th>\n",
       "      <th>class</th>\n",
       "      <th>petal_length</th>\n",
       "      <th>petal_width</th>\n",
       "      <th>sepal_length</th>\n",
       "      <th>sepal_width</th>\n",
       "    </tr>\n",
       "  </thead>\n",
       "  <tbody>\n",
       "    <tr>\n",
       "      <th>0</th>\n",
       "      <td>Iris-virginica</td>\n",
       "      <td>5.5</td>\n",
       "      <td>1.8</td>\n",
       "      <td>6.4</td>\n",
       "      <td>3.1</td>\n",
       "    </tr>\n",
       "    <tr>\n",
       "      <th>1</th>\n",
       "      <td>Iris-virginica</td>\n",
       "      <td>5.9</td>\n",
       "      <td>2.3</td>\n",
       "      <td>6.8</td>\n",
       "      <td>3.2</td>\n",
       "    </tr>\n",
       "    <tr>\n",
       "      <th>2</th>\n",
       "      <td>Iris-virginica</td>\n",
       "      <td>5.4</td>\n",
       "      <td>2.3</td>\n",
       "      <td>6.2</td>\n",
       "      <td>3.4</td>\n",
       "    </tr>\n",
       "  </tbody>\n",
       "</table>\n",
       "</div>"
      ],
      "text/plain": [
       "            class  petal_length  petal_width  sepal_length  sepal_width\n",
       "0  Iris-virginica           5.5          1.8           6.4          3.1\n",
       "1  Iris-virginica           5.9          2.3           6.8          3.2\n",
       "2  Iris-virginica           5.4          2.3           6.2          3.4"
      ]
     },
     "execution_count": 6,
     "metadata": {},
     "output_type": "execute_result"
    }
   ],
   "source": [
    "csvFile.head(3)"
   ]
  },
  {
   "cell_type": "code",
   "execution_count": 9,
   "metadata": {},
   "outputs": [],
   "source": [
    "tsvFile = pd.read_csv(\"./fruits_vege.tsv\",sep='\\t',index_col=0)"
   ]
  },
  {
   "cell_type": "code",
   "execution_count": 10,
   "metadata": {},
   "outputs": [
    {
     "data": {
      "text/html": [
       "<div>\n",
       "<style scoped>\n",
       "    .dataframe tbody tr th:only-of-type {\n",
       "        vertical-align: middle;\n",
       "    }\n",
       "\n",
       "    .dataframe tbody tr th {\n",
       "        vertical-align: top;\n",
       "    }\n",
       "\n",
       "    .dataframe thead th {\n",
       "        text-align: right;\n",
       "    }\n",
       "</style>\n",
       "<table border=\"1\" class=\"dataframe\">\n",
       "  <thead>\n",
       "    <tr style=\"text-align: right;\">\n",
       "      <th></th>\n",
       "      <th>fruit</th>\n",
       "      <th>vegetable</th>\n",
       "      <th>fruits 2</th>\n",
       "      <th>vegetable 2</th>\n",
       "    </tr>\n",
       "  </thead>\n",
       "  <tbody>\n",
       "    <tr>\n",
       "      <th>a</th>\n",
       "      <td>apple</td>\n",
       "      <td>onion</td>\n",
       "      <td>papaya</td>\n",
       "      <td>onion</td>\n",
       "    </tr>\n",
       "    <tr>\n",
       "      <th>b</th>\n",
       "      <td>mango</td>\n",
       "      <td>potato</td>\n",
       "      <td>cherry</td>\n",
       "      <td>potato</td>\n",
       "    </tr>\n",
       "    <tr>\n",
       "      <th>c</th>\n",
       "      <td>orange</td>\n",
       "      <td>beans</td>\n",
       "      <td>pine apple</td>\n",
       "      <td>carrot</td>\n",
       "    </tr>\n",
       "  </tbody>\n",
       "</table>\n",
       "</div>"
      ],
      "text/plain": [
       "    fruit vegetable    fruits 2 vegetable 2\n",
       "a   apple     onion      papaya       onion\n",
       "b   mango    potato      cherry      potato\n",
       "c  orange     beans  pine apple      carrot"
      ]
     },
     "execution_count": 10,
     "metadata": {},
     "output_type": "execute_result"
    }
   ],
   "source": [
    "tsvFile"
   ]
  },
  {
   "cell_type": "code",
   "execution_count": 13,
   "metadata": {},
   "outputs": [],
   "source": [
    "excelFile = pd.read_excel(\"./Course Syllabus.xlsx\", sheet_name=\"Machine Learning\")"
   ]
  },
  {
   "cell_type": "code",
   "execution_count": 14,
   "metadata": {},
   "outputs": [
    {
     "data": {
      "text/html": [
       "<div>\n",
       "<style scoped>\n",
       "    .dataframe tbody tr th:only-of-type {\n",
       "        vertical-align: middle;\n",
       "    }\n",
       "\n",
       "    .dataframe tbody tr th {\n",
       "        vertical-align: top;\n",
       "    }\n",
       "\n",
       "    .dataframe thead th {\n",
       "        text-align: right;\n",
       "    }\n",
       "</style>\n",
       "<table border=\"1\" class=\"dataframe\">\n",
       "  <thead>\n",
       "    <tr style=\"text-align: right;\">\n",
       "      <th></th>\n",
       "      <th>Syllabus</th>\n",
       "      <th>Duration</th>\n",
       "    </tr>\n",
       "  </thead>\n",
       "  <tbody>\n",
       "    <tr>\n",
       "      <th>0</th>\n",
       "      <td>1.Introduction to Machine learning</td>\n",
       "      <td>60 mins</td>\n",
       "    </tr>\n",
       "    <tr>\n",
       "      <th>1</th>\n",
       "      <td>1.a  Introduction to Data Operation</td>\n",
       "      <td>150 mins</td>\n",
       "    </tr>\n",
       "    <tr>\n",
       "      <th>2</th>\n",
       "      <td>Basic Operations</td>\n",
       "      <td>NaN</td>\n",
       "    </tr>\n",
       "    <tr>\n",
       "      <th>3</th>\n",
       "      <td>Moving Data Around</td>\n",
       "      <td>NaN</td>\n",
       "    </tr>\n",
       "    <tr>\n",
       "      <th>4</th>\n",
       "      <td>Computing on Data</td>\n",
       "      <td>NaN</td>\n",
       "    </tr>\n",
       "  </tbody>\n",
       "</table>\n",
       "</div>"
      ],
      "text/plain": [
       "                              Syllabus  Duration\n",
       "0   1.Introduction to Machine learning   60 mins\n",
       "1  1.a  Introduction to Data Operation  150 mins\n",
       "2                     Basic Operations       NaN\n",
       "3                   Moving Data Around       NaN\n",
       "4                    Computing on Data       NaN"
      ]
     },
     "execution_count": 14,
     "metadata": {},
     "output_type": "execute_result"
    }
   ],
   "source": [
    "excelFile.head()"
   ]
  },
  {
   "cell_type": "code",
   "execution_count": 27,
   "metadata": {},
   "outputs": [],
   "source": [
    "DF = pd.DataFrame()"
   ]
  },
  {
   "cell_type": "code",
   "execution_count": 28,
   "metadata": {},
   "outputs": [],
   "source": [
    "DF[\"Fruits\"] = [\"apple\",'mango','orange','papaya','kiwi']"
   ]
  },
  {
   "cell_type": "code",
   "execution_count": 29,
   "metadata": {},
   "outputs": [],
   "source": [
    "DF['Vegetables'] = pd.Series(['carrot','onion','potato'])"
   ]
  },
  {
   "cell_type": "code",
   "execution_count": 30,
   "metadata": {},
   "outputs": [
    {
     "data": {
      "text/html": [
       "<div>\n",
       "<style scoped>\n",
       "    .dataframe tbody tr th:only-of-type {\n",
       "        vertical-align: middle;\n",
       "    }\n",
       "\n",
       "    .dataframe tbody tr th {\n",
       "        vertical-align: top;\n",
       "    }\n",
       "\n",
       "    .dataframe thead th {\n",
       "        text-align: right;\n",
       "    }\n",
       "</style>\n",
       "<table border=\"1\" class=\"dataframe\">\n",
       "  <thead>\n",
       "    <tr style=\"text-align: right;\">\n",
       "      <th></th>\n",
       "      <th>Fruits</th>\n",
       "      <th>Vegetables</th>\n",
       "    </tr>\n",
       "  </thead>\n",
       "  <tbody>\n",
       "    <tr>\n",
       "      <th>0</th>\n",
       "      <td>apple</td>\n",
       "      <td>carrot</td>\n",
       "    </tr>\n",
       "    <tr>\n",
       "      <th>1</th>\n",
       "      <td>mango</td>\n",
       "      <td>onion</td>\n",
       "    </tr>\n",
       "    <tr>\n",
       "      <th>2</th>\n",
       "      <td>orange</td>\n",
       "      <td>potato</td>\n",
       "    </tr>\n",
       "    <tr>\n",
       "      <th>3</th>\n",
       "      <td>papaya</td>\n",
       "      <td>NaN</td>\n",
       "    </tr>\n",
       "    <tr>\n",
       "      <th>4</th>\n",
       "      <td>kiwi</td>\n",
       "      <td>NaN</td>\n",
       "    </tr>\n",
       "  </tbody>\n",
       "</table>\n",
       "</div>"
      ],
      "text/plain": [
       "   Fruits Vegetables\n",
       "0   apple     carrot\n",
       "1   mango      onion\n",
       "2  orange     potato\n",
       "3  papaya        NaN\n",
       "4    kiwi        NaN"
      ]
     },
     "execution_count": 30,
     "metadata": {},
     "output_type": "execute_result"
    }
   ],
   "source": [
    "DF"
   ]
  },
  {
   "cell_type": "code",
   "execution_count": 32,
   "metadata": {},
   "outputs": [],
   "source": [
    "DF.to_csv(\"vanilla.csv\",index=False)"
   ]
  },
  {
   "cell_type": "code",
   "execution_count": 34,
   "metadata": {},
   "outputs": [],
   "source": [
    "DF.to_csv(\"vanilla.tsv\",sep=\"\\t\",index=False)"
   ]
  },
  {
   "cell_type": "code",
   "execution_count": null,
   "metadata": {},
   "outputs": [],
   "source": [
    "DF.to_excel(\"vanilla.xlsx\",index=False)"
   ]
  },
  {
   "cell_type": "code",
   "execution_count": 43,
   "metadata": {},
   "outputs": [],
   "source": [
    "inFile = open(\"vanilla.txt\",'a')"
   ]
  },
  {
   "cell_type": "code",
   "execution_count": 44,
   "metadata": {},
   "outputs": [
    {
     "data": {
      "text/plain": [
       "15"
      ]
     },
     "execution_count": 44,
     "metadata": {},
     "output_type": "execute_result"
    }
   ],
   "source": [
    "inFile.write(\"how do you do?\\n\")"
   ]
  },
  {
   "cell_type": "code",
   "execution_count": 41,
   "metadata": {},
   "outputs": [],
   "source": [
    "inFile.writelines(\"i am good.\\n\")"
   ]
  },
  {
   "cell_type": "code",
   "execution_count": 45,
   "metadata": {},
   "outputs": [],
   "source": [
    "inFile.close()"
   ]
  },
  {
   "cell_type": "code",
   "execution_count": 64,
   "metadata": {},
   "outputs": [],
   "source": [
    "outFile = open('vanilla.txt','r')"
   ]
  },
  {
   "cell_type": "code",
   "execution_count": 63,
   "metadata": {},
   "outputs": [
    {
     "data": {
      "text/plain": [
       "['hi, hello how are you?\\n', 'i am good.\\n', 'how do you do?\\n']"
      ]
     },
     "execution_count": 63,
     "metadata": {},
     "output_type": "execute_result"
    }
   ],
   "source": [
    "out = outFile.readlines()\n",
    "out"
   ]
  },
  {
   "cell_type": "code",
   "execution_count": 52,
   "metadata": {},
   "outputs": [
    {
     "data": {
      "text/plain": [
       "['hi, hello how are you?', 'i am good.', 'how do you do?']"
      ]
     },
     "execution_count": 52,
     "metadata": {},
     "output_type": "execute_result"
    }
   ],
   "source": [
    "out.splitlines()"
   ]
  },
  {
   "cell_type": "code",
   "execution_count": 65,
   "metadata": {},
   "outputs": [
    {
     "data": {
      "text/plain": [
       "['hi, hello how are you?', 'i am good.', 'how do you do?']"
      ]
     },
     "execution_count": 65,
     "metadata": {},
     "output_type": "execute_result"
    }
   ],
   "source": [
    "outFile.read().splitlines()"
   ]
  },
  {
   "cell_type": "code",
   "execution_count": 67,
   "metadata": {},
   "outputs": [],
   "source": [
    "import matplotlib.pyplot as plt"
   ]
  },
  {
   "cell_type": "code",
   "execution_count": 68,
   "metadata": {},
   "outputs": [],
   "source": [
    "import seaborn as sns"
   ]
  },
  {
   "cell_type": "code",
   "execution_count": 82,
   "metadata": {},
   "outputs": [],
   "source": [
    "x = [1,2,3,4,5,6,7]\n",
    "y = [1,4,9,16,25,36,49]\n",
    "y3 = [1,8,27,64,125,6**3,7**3]"
   ]
  },
  {
   "cell_type": "code",
   "execution_count": 81,
   "metadata": {},
   "outputs": [
    {
     "data": {
      "image/png": "[encoded data removed]",
      "text/plain": [
       "<Figure size 432x288 with 1 Axes>"
      ]
     },
     "metadata": {},
     "output_type": "display_data"
    }
   ],
   "source": [
    "plt.plot(x,y,'rp',lw=2)\n",
    "plt.xlabel(\"x\")\n",
    "plt.ylabel('f(x)')\n",
    "plt.title(\"Simple graph\")\n",
    "plt.show()"
   ]
  },
  {
   "cell_type": "code",
   "execution_count": 88,
   "metadata": {},
   "outputs": [
    {
     "data": {
      "image/png": "[encoded data removed]",
      "text/plain": [
       "<Figure size 432x288 with 1 Axes>"
      ]
     },
     "metadata": {},
     "output_type": "display_data"
    }
   ],
   "source": [
    "plt.plot(x,y,'rp-',x,y3,'bv-')\n",
    "plt.xlabel(\"x\")\n",
    "plt.ylabel('f(x)')\n",
    "plt.title(\"Simple graph\")\n",
    "plt.legend(['x vs x^2','x vs x^3'],loc='best')\n",
    "plt.show()"
   ]
  },
  {
   "cell_type": "code",
   "execution_count": 89,
   "metadata": {},
   "outputs": [
    {
     "data": {
      "image/png": "[encoded data removed]",
      "text/plain": [
       "<Figure size 432x288 with 1 Axes>"
      ]
     },
     "metadata": {},
     "output_type": "display_data"
    },
    {
     "data": {
      "image/png": "[encoded data removed]",
      "text/plain": [
       "<Figure size 432x288 with 1 Axes>"
      ]
     },
     "metadata": {},
     "output_type": "display_data"
    }
   ],
   "source": [
    "plt.figure(1)\n",
    "plt.plot(x,y,'rp-')\n",
    "plt.xlabel(\"x\")\n",
    "plt.ylabel('f(x)')\n",
    "plt.title(\"Simple graph\")\n",
    "plt.legend(['x vs x^2','x vs x^3'],loc='best')\n",
    "plt.figure(2)\n",
    "plt.plot(x,y3,'bv-')\n",
    "plt.xlabel(\"x\")\n",
    "plt.ylabel('f(x)')\n",
    "plt.title(\"Simple graph\")\n",
    "plt.legend(['x vs x^2','x vs x^3'],loc='best')\n",
    "plt.show()\n"
   ]
  },
  {
   "cell_type": "code",
   "execution_count": 90,
   "metadata": {
    "scrolled": true
   },
   "outputs": [
    {
     "data": {
      "image/png": "[encoded data removed]",
      "text/plain": [
       "<Figure size 432x288 with 2 Axes>"
      ]
     },
     "metadata": {},
     "output_type": "display_data"
    }
   ],
   "source": [
    "plt.subplot(121)\n",
    "plt.plot(x,y,'rp-')\n",
    "plt.xlabel(\"x\")\n",
    "plt.ylabel('f(x)')\n",
    "plt.title(\"Simple graph\")\n",
    "plt.legend(['x vs x^2','x vs x^3'],loc='best')\n",
    "plt.subplot(122)\n",
    "plt.plot(x,y3,'bv-')\n",
    "plt.xlabel(\"x\")\n",
    "plt.ylabel('f(x)')\n",
    "plt.title(\"Simple graph\")\n",
    "plt.legend(['x vs x^2','x vs x^3'],loc='best')\n",
    "plt.show()\n"
   ]
  },
  {
   "cell_type": "code",
   "execution_count": 93,
   "metadata": {},
   "outputs": [
    {
     "data": {
      "image/png": "[encoded data removed]",
      "text/plain": [
       "<Figure size 432x288 with 1 Axes>"
      ]
     },
     "metadata": {},
     "output_type": "display_data"
    }
   ],
   "source": [
    "plt.scatter(x,y)\n",
    "plt.show()"
   ]
  },
  {
   "cell_type": "code",
   "execution_count": 94,
   "metadata": {},
   "outputs": [],
   "source": [
    "histList = ['a','a','b','c','c','b','b']"
   ]
  },
  {
   "cell_type": "code",
   "execution_count": 96,
   "metadata": {},
   "outputs": [
    {
     "data": {
      "image/png": "[encoded data removed]",
      "text/plain": [
       "<Figure size 432x288 with 1 Axes>"
      ]
     },
     "metadata": {},
     "output_type": "display_data"
    }
   ],
   "source": [
    "plt.hist(histList)\n",
    "plt.show()"
   ]
  },
  {
   "cell_type": "code",
   "execution_count": 104,
   "metadata": {},
   "outputs": [
    {
     "data": {
      "image/png": "[encoded data removed]",
      "text/plain": [
       "<Figure size 432x288 with 1 Axes>"
      ]
     },
     "metadata": {},
     "output_type": "display_data"
    }
   ],
   "source": [
    "plt.bar(['apple','mango','orange'],[25,37,54],facecolor='white',edgecolor='red')\n",
    "plt.text('apple',35,'red')\n",
    "plt.show()"
   ]
  },
  {
   "cell_type": "code",
   "execution_count": 109,
   "metadata": {},
   "outputs": [
    {
     "data": {
      "image/png": "[encoded data removed]",
      "text/plain": [
       "<Figure size 432x288 with 1 Axes>"
      ]
     },
     "metadata": {},
     "output_type": "display_data"
    }
   ],
   "source": [
    "plt.pie([25,37,54],labels=['apple','mango','orange'],labeldistance=0.5)\n",
    "plt.show()"
   ]
  },
  {
   "cell_type": "markdown",
   "metadata": {},
   "source": [
    "## Machine Learning"
   ]
  },
  {
   "attachments": {
    "image.png": {
     "image/png": "[encoded data removed]"
    }
   },
   "cell_type": "markdown",
   "metadata": {},
   "source": [
    "#### Fitting: \n",
    "\n",
    "![image.png](attachment:image.png)"
   ]
  },
  {
   "cell_type": "markdown",
   "metadata": {},
   "source": [
    "#### Error Types:\n",
    "##### Regression:\n",
    "1. Absolute Error: y_pred - y_actual\n",
    "2. Mean Absolute Error: avg(y_pred - y_acutal)\n",
    "3. Mean Square Error: sum(y_pred - y_actual)^2 / n\n",
    "4. Root Mean Square Error: sqrt(sum(y_pred - y_actual)^2 / n)\n",
    "5. Error Percentage = Avg.Error / Total Value\n",
    "\n",
    "\n",
    "https://github.com/SudhakarCN/JPA_Machine_Learning\n",
    "\n",
    "##### Classification:\n",
    "1. Recall: TP / (TP + FN)\n",
    "2. Precision: TP / (TP + FP)\n",
    "3. Accuracy: (TP + TN) / (TP + TN + FP + FN)\n",
    "4. F1 score [harmonic mean]: (Recall + Precision) / (Recall * Precision)"
   ]
  },
  {
   "cell_type": "markdown",
   "metadata": {},
   "source": [
    "##### Confusion Matrix:"
   ]
  },
  {
   "attachments": {
    "image.png": {
     "image/png": "[encoded data removed]"
    }
   },
   "cell_type": "markdown",
   "metadata": {},
   "source": [
    "![image.png](attachment:image.png)"
   ]
  },
  {
   "cell_type": "markdown",
   "metadata": {},
   "source": [
    "#### ALGORITHMS\n",
    "\n",
    "1. Linear Rrgression  {R}\n",
    "2. Logistic Regression {C}\n",
    "3. SVM {C}\n",
    "4. K-means {Cl}\n",
    "5. KNN {Cl}\n",
    "6. Hierachial clustering {Cl}\n",
    "7. Ada Boost {Ensemble method}\n",
    "8. Random forest {Ensemble method}\n",
    "9. Naive Bayes {R+C}\n",
    "10. Decision tree {R+C}\n",
    "11. Eclat {Associate Learning}\n",
    "12. Apriori {Associate Learning}\n",
    "13. LDA {Topic modeling}\n",
    "14. TF-IDF {Topic modeling}\n",
    "15. PCA {Dimensionality Rreduction}"
   ]
  },
  {
   "cell_type": "markdown",
   "metadata": {},
   "source": [
    "#### Steps for implementation:\n",
    "1. Load Dataset\n",
    "2. Split Dataset {80/20}\n",
    "3. Vectorization or Normalization\n",
    "4. Define a model\n",
    "5. Training {80% of the data}\n",
    "6. Validation\n",
    "7. Tuning\n",
    "8. Testing or cross validation {20% of the data}"
   ]
  },
  {
   "cell_type": "markdown",
   "metadata": {},
   "source": [
    "### Linear Regression\n",
    "\n",
    "y = mx + c \n",
    "\n",
    "{where, \n",
    "m - Slope\n",
    "c - y-intercept}\n",
    " \n",
    "m = sum {( x-x' )( y-y' )} / sum{( x-x' )^2}    \n",
    "(or)    \n",
    "(m_x * m_y) - m(x * y) / (m_x) ^ 2 - m (x^2)\n",
    "\n",
    "c = y - mx"
   ]
  },
  {
   "cell_type": "code",
   "execution_count": 3,
   "metadata": {},
   "outputs": [
    {
     "name": "stdout",
     "output_type": "stream",
     "text": [
      "y-intercept:  2.066666666666669\n",
      "Slope:  1.5999999999999994\n",
      "[3.6666666666666687, 5.2666666666666675, 6.866666666666667, 8.466666666666667, 10.066666666666666, 11.666666666666664]\n",
      "Predicted output:  18.066666666666663\n",
      "Mean Squared Error:  0.1600000000000001\n",
      "RMSE:  0.40000000000000013\n",
      "Accuracy:  0.5999999999999999\n"
     ]
    },
    {
     "data": {
      "image/png": "[encoded data removed]",
      "text/plain": [
       "<Figure size 432x288 with 1 Axes>"
      ]
     },
     "metadata": {
      "needs_background": "light"
     },
     "output_type": "display_data"
    }
   ],
   "source": [
    "import matplotlib.pyplot as plt\n",
    "import numpy as np\n",
    "import pandas as pd\n",
    "from statistics import mean\n",
    "\n",
    "x = np.array([1,2,3,4,5,6], dtype = np.float64)\n",
    "y = np.array([3,5,8,10,8,12], dtype = np.float64)\n",
    "\n",
    "m = (((mean(x)*mean(y)) - mean(x*y)) /  #----------------> Slope\n",
    "         ((mean(x)**2) - mean(x**2)))\n",
    "\n",
    "c = mean(y) - m*mean(x) #---------------------------------> y-intercept\n",
    "\n",
    "print(\"y-intercept: \", c)\n",
    "print(\"Slope: \", m)\n",
    "\n",
    "#regression_line = [(m*i) + c for i in x]\n",
    "regression_line = []\n",
    "for i in x:\n",
    "    regression_line.append((m*i) + c)\n",
    "\n",
    "print(regression_line)\n",
    "    \n",
    "pred_x = 10\n",
    "pred_y = (m*pred_x) + c\n",
    "print(\"Predicted output: \", pred_y)\n",
    "\n",
    "mean_y = mean(y)\n",
    "prd_values = 0\n",
    "actual_values = 0\n",
    "for i in range (len(x)):\n",
    "    prd_values += (y[i] - regression_line[i]) ** 2\n",
    "    actual_values += (y[i] - mean_y) ** 2\n",
    "    \n",
    "mean_squared_error = (prd_values/actual_values)\n",
    "rmse = np.sqrt(mean_squared_error)\n",
    "accuracy = 1 - rmse\n",
    "\n",
    "print(\"Mean Squared Error: \", mean_squared_error)\n",
    "print(\"RMSE: \", rmse)\n",
    "print(\"Accuracy: \", accuracy)\n",
    "\n",
    "plt.scatter(x,y)\n",
    "plt.scatter(pred_x, pred_y, color='g')\n",
    "plt.plot(x,regression_line)\n",
    "plt.show()"
   ]
  },
  {
   "cell_type": "markdown",
   "metadata": {},
   "source": [
    "#### USA housing"
   ]
  },
  {
   "cell_type": "code",
   "execution_count": 12,
   "metadata": {},
   "outputs": [
    {
     "name": "stdout",
     "output_type": "stream",
     "text": [
      "(1460, 7)\n",
      "(1168, 7)\n",
      "[[18450     5  1979 ...     0     1  2007]\n",
      " [ 9950     5  1995 ...     0     1  2007]\n",
      " [ 9600     5  1950 ...     0     1  2008]\n",
      " ...\n",
      " [12354     8  2000 ...     0     1  2009]\n",
      " [12416     5  1986 ...     1     1  2008]\n",
      " [11200     5  1985 ...     1     1  2006]]\n",
      "(292, 7)\n",
      "[[11287     6  1989 ...     0     1  2007]\n",
      " [ 7500     5  2000 ...     1     1  2010]\n",
      " [ 7388     6  2002 ...     1     1  2007]\n",
      " ...\n",
      " [12257     5  1995 ...     0     1  2007]\n",
      " [ 1526     8  2002 ...     1     1  2009]\n",
      " [ 7875     5  2003 ...     0     1  2006]]\n"
     ]
    }
   ],
   "source": [
    "import pandas as pd\n",
    "import numpy as np \n",
    "from sklearn.model_selection import train_test_split\n",
    "from sklearn.linear_model import LinearRegression\n",
    "from sklearn.preprocessing import LabelEncoder\n",
    "from sklearn.metrics import mean_squared_error\n",
    "import matplotlib.pyplot as plt\n",
    "\n",
    "\n",
    "dataset = pd.read_csv(\"/home/sudhakar/JPA_ML/housing_train.csv\")\n",
    "\n",
    "\n",
    "X = np.array(dataset[[\"LotArea\", \"OverallCond\", \"YearRemodAdd\", \n",
    "            \"GrLivArea\", \"BsmtFullBath\", \"KitchenAbvGr\", \"YrSold\"]])\n",
    "\n",
    "y = np.array(dataset[[\"SalePrice\"]])\n",
    "\n",
    "x_train, x_test, y_train, y_test = train_test_split(X,y,random_state = 4,train_size = 0.8)\n",
    "# print(X.shape)\n",
    "# print(x_train.shape)\n",
    "# print(x_train)\n",
    "# print(x_test.shape)\n",
    "# print(x_test)\n"
   ]
  },
  {
   "cell_type": "code",
   "execution_count": null,
   "metadata": {},
   "outputs": [],
   "source": [
    "model = LinearRegression()\n",
    "\n",
    "model.fit(x_train, y_train)\n",
    "actual = [i[0] for i in y_test]"
   ]
  },
  {
   "cell_type": "code",
   "execution_count": 7,
   "metadata": {},
   "outputs": [
    {
     "name": "stdout",
     "output_type": "stream",
     "text": [
      "Actual: 228500  | Predicted: 219645.23799883178\n",
      "Actual: 216000  | Predicted: 226696.8243027979\n",
      "Actual: 150750  | Predicted: 195487.2708093454\n",
      "Actual: 134000  | Predicted: 151715.55542964255\n",
      "Actual: 90350  | Predicted: 112990.5626609337\n",
      "Actual: 159895  | Predicted: 173386.58690559585\n",
      "Actual: 220000  | Predicted: 194820.9011259179\n",
      "Actual: 240000  | Predicted: 263655.5172655801\n",
      "Actual: 213000  | Predicted: 229745.88460414973\n",
      "Actual: 181000  | Predicted: 212266.0742227896\n",
      "Actual: 138000  | Predicted: 159689.62267551175\n",
      "Actual: 244600  | Predicted: 196700.4069906231\n",
      "Actual: 89471  | Predicted: 147608.63729910715\n",
      "Actual: 110000  | Predicted: 102863.04112993879\n",
      "Actual: 145000  | Predicted: 127322.5088907464\n",
      "Actual: 281000  | Predicted: 242081.20560832112\n",
      "Actual: 129500  | Predicted: 104667.50093957875\n",
      "Actual: 137450  | Predicted: 182514.80245119892\n",
      "Actual: 230500  | Predicted: 232325.52105790074\n",
      "Actual: 149000  | Predicted: 136995.47799446923\n",
      "Actual: 335000  | Predicted: 305263.24171308614\n",
      "Actual: 202500  | Predicted: 184990.3530039622\n",
      "Actual: 254900  | Predicted: 236752.39955480397\n",
      "Actual: 317000  | Predicted: 285377.62100604665\n",
      "Actual: 250000  | Predicted: 210882.98784015537\n",
      "Actual: 160000  | Predicted: 197848.4184361829\n",
      "Actual: 181000  | Predicted: 198155.67022578977\n",
      "Actual: 438780  | Predicted: 332435.2474596349\n",
      "Actual: 120500  | Predicted: 96252.35305089015\n",
      "Actual: 93000  | Predicted: 76055.79913006513\n",
      "Actual: 262000  | Predicted: 222011.69264520984\n",
      "Actual: 128200  | Predicted: 126387.50782370265\n",
      "Actual: 301500  | Predicted: 253541.2576025233\n",
      "Actual: 231500  | Predicted: 236413.40577315283\n",
      "Actual: 109008  | Predicted: 83562.775749892\n",
      "Actual: 83500  | Predicted: 117351.82291448163\n",
      "Actual: 149900  | Predicted: 180006.45964524779\n",
      "Actual: 193000  | Predicted: 238484.38662586943\n",
      "Actual: 501837  | Predicted: 293792.811539795\n",
      "Actual: 134000  | Predicted: 133389.64835476666\n",
      "Actual: 154000  | Predicted: 116721.89212150127\n",
      "Actual: 157000  | Predicted: 182032.12079674052\n",
      "Actual: 118964  | Predicted: 114209.45670216368\n",
      "Actual: 154000  | Predicted: 173142.53571183537\n",
      "Actual: 133900  | Predicted: 113175.27510809386\n",
      "Actual: 275000  | Predicted: 257965.39703599643\n",
      "Actual: 219500  | Predicted: 233789.56634586374\n",
      "Actual: 135000  | Predicted: 115574.82953187404\n",
      "Actual: 245350  | Predicted: 215936.34414557135\n",
      "Actual: 116000  | Predicted: 123786.74161609123\n",
      "Actual: 170000  | Predicted: 129290.86402981658\n",
      "Actual: 119500  | Predicted: 108383.1482520646\n",
      "Actual: 217000  | Predicted: 236666.99199231016\n",
      "Actual: 120500  | Predicted: 92623.365377713\n",
      "Actual: 163000  | Predicted: 167063.56433022465\n",
      "Actual: 176432  | Predicted: 180574.20289676706\n",
      "Actual: 168000  | Predicted: 184615.648425302\n",
      "Actual: 175000  | Predicted: 173513.25468701264\n",
      "Actual: 279500  | Predicted: 198819.97626814828\n",
      "Actual: 125000  | Predicted: 124457.56300928141\n",
      "Actual: 423000  | Predicted: 281908.30267800065\n",
      "Actual: 173000  | Predicted: 176907.17395817046\n",
      "Actual: 127000  | Predicted: 143957.06427522842\n",
      "Actual: 239000  | Predicted: 204801.05949123274\n",
      "Actual: 260000  | Predicted: 262094.54569564923\n",
      "Actual: 85000  | Predicted: 182814.7072831574\n",
      "Actual: 127500  | Predicted: 157638.18095927685\n",
      "Actual: 173900  | Predicted: 198025.71408609324\n",
      "Actual: 186500  | Predicted: 240352.1816467999\n",
      "Actual: 252000  | Predicted: 238108.2620042623\n",
      "Actual: 61000  | Predicted: 118001.4104301373\n",
      "Actual: 230000  | Predicted: 246259.36319347308\n",
      "Actual: 97000  | Predicted: 95592.75061576162\n",
      "Actual: 139000  | Predicted: 207356.67309650523\n",
      "Actual: 137000  | Predicted: 92343.68659888231\n",
      "Actual: 179900  | Predicted: 188639.72180111986\n",
      "Actual: 274000  | Predicted: 197986.7425988065\n",
      "Actual: 143250  | Predicted: 134715.79057608033\n",
      "Actual: 135000  | Predicted: 120418.59714872972\n",
      "Actual: 224000  | Predicted: 208466.048632337\n",
      "Actual: 183200  | Predicted: 218072.56922528334\n",
      "Actual: 221000  | Predicted: 221259.0572325238\n",
      "Actual: 87000  | Predicted: 65075.44674587692\n",
      "Actual: 116500  | Predicted: 153257.13751241355\n",
      "Actual: 125000  | Predicted: 140256.99490859406\n",
      "Actual: 162000  | Predicted: 180714.95653892518\n",
      "Actual: 213500  | Predicted: 195802.7148563501\n",
      "Actual: 402000  | Predicted: 316310.049274076\n",
      "Actual: 164500  | Predicted: 171473.4143868261\n",
      "Actual: 161500  | Predicted: 227462.26430574828\n",
      "Actual: 143000  | Predicted: 196798.55867771502\n",
      "Actual: 189000  | Predicted: 173636.4392914779\n",
      "Actual: 139000  | Predicted: 99514.84088248503\n",
      "Actual: 116000  | Predicted: 86461.8121163107\n",
      "Actual: 158000  | Predicted: 154924.9565486845\n",
      "Actual: 146800  | Predicted: 148128.0091046663\n",
      "Actual: 100000  | Predicted: 98904.07780265273\n",
      "Actual: 315500  | Predicted: 234269.93757985323\n",
      "Actual: 185000  | Predicted: 219686.55047695246\n",
      "Actual: 169990  | Predicted: 181958.99553627078\n",
      "Actual: 142600  | Predicted: 120043.96372498176\n",
      "Actual: 108500  | Predicted: 87698.43600486382\n",
      "Actual: 85500  | Predicted: 77365.20902753598\n",
      "Actual: 176000  | Predicted: 164370.92166320723\n",
      "Actual: 133700  | Predicted: 102730.75155928242\n",
      "Actual: 250000  | Predicted: 221197.5984990911\n",
      "Actual: 79900  | Predicted: 150584.9237836562\n",
      "Actual: 140000  | Predicted: 118371.05874552671\n",
      "Actual: 180000  | Predicted: 166395.819731344\n",
      "Actual: 106500  | Predicted: 81271.75639082468\n",
      "Actual: 135000  | Predicted: 131166.61458897847\n",
      "Actual: 143500  | Predicted: 148105.16382832034\n",
      "Actual: 220000  | Predicted: 199504.06489591673\n",
      "Actual: 172785  | Predicted: 197526.88076203247\n",
      "Actual: 119000  | Predicted: 111622.27545909258\n",
      "Actual: 141000  | Predicted: 155626.25722316816\n",
      "Actual: 166000  | Predicted: 156541.39836224285\n",
      "Actual: 152000  | Predicted: 135269.7075350308\n",
      "Actual: 284000  | Predicted: 229439.58486144594\n",
      "Actual: 140000  | Predicted: 142586.00656062947\n",
      "Actual: 128000  | Predicted: 120676.41706863442\n",
      "Actual: 149300  | Predicted: 155626.25722316816\n",
      "Actual: 263000  | Predicted: 248110.75628671655\n",
      "Actual: 249700  | Predicted: 212717.45021267538\n",
      "Actual: 140000  | Predicted: 197603.20434957533\n",
      "Actual: 235000  | Predicted: 273634.06739057833\n",
      "Actual: 270000  | Predicted: 239276.8161633073\n",
      "Actual: 285000  | Predicted: 316761.7009045931\n",
      "Actual: 244000  | Predicted: 248056.12579754833\n",
      "Actual: 160200  | Predicted: 160501.47772574704\n",
      "Actual: 229000  | Predicted: 242809.73928362667\n",
      "Actual: 162900  | Predicted: 178432.355876829\n",
      "Actual: 229456  | Predicted: 205237.2512917749\n",
      "Actual: 91000  | Predicted: 131484.03942069015\n",
      "Actual: 164990  | Predicted: 179523.4243086942\n",
      "Actual: 203000  | Predicted: 209712.62698495877\n",
      "Actual: 163500  | Predicted: 164627.74273147597\n",
      "Actual: 86000  | Predicted: 55062.33882761956\n",
      "Actual: 207000  | Predicted: 216050.43945585843\n",
      "Actual: 280000  | Predicted: 261409.61247220193\n",
      "Actual: 176500  | Predicted: 201237.57334347325\n",
      "Actual: 107500  | Predicted: 178588.69198940392\n",
      "Actual: 68400  | Predicted: 101650.33007116104\n",
      "Actual: 115000  | Predicted: 137035.53988006897\n",
      "Actual: 165000  | Predicted: 200399.64004482655\n",
      "Actual: 124000  | Predicted: 200237.74349135556\n",
      "Actual: 155000  | Predicted: 248181.31145854527\n",
      "Actual: 144000  | Predicted: 180749.63871497288\n",
      "Actual: 143000  | Predicted: 163139.82026511128\n",
      "Actual: 158900  | Predicted: 154821.98390989052\n",
      "Actual: 167000  | Predicted: 202641.72459664126\n",
      "Actual: 274970  | Predicted: 215099.14145894372\n",
      "Actual: 283463  | Predicted: 250089.09221534198\n",
      "Actual: 232600  | Predicted: 198259.91360053164\n",
      "Actual: 129500  | Predicted: 133009.09373263712\n",
      "Actual: 345000  | Predicted: 297939.0448527979\n",
      "Actual: 140000  | Predicted: 148460.033893961\n",
      "Actual: 238000  | Predicted: 263065.08521422977\n",
      "Actual: 137000  | Predicted: 122198.60695843212\n",
      "Actual: 187000  | Predicted: 208887.05187766417\n",
      "Actual: 120000  | Predicted: 105762.6751028439\n",
      "Actual: 236000  | Predicted: 246349.41119663022\n",
      "Actual: 147000  | Predicted: 156613.02746142563\n",
      "Actual: 235000  | Predicted: 156988.1265439901\n",
      "Actual: 162900  | Predicted: 180070.04682279634\n",
      "Actual: 239000  | Predicted: 206024.75858365116\n",
      "Actual: 150000  | Predicted: 219837.0722983859\n",
      "Actual: 80500  | Predicted: 80278.85105790966\n",
      "Actual: 123600  | Predicted: 161131.8218391547\n",
      "Actual: 143000  | Predicted: 128309.9737201056\n",
      "Actual: 145000  | Predicted: 142265.01082702423\n",
      "Actual: 136500  | Predicted: 154510.9679727687\n",
      "Actual: 466500  | Predicted: 320665.6921496531\n",
      "Actual: 127500  | Predicted: 117198.72640877799\n",
      "Actual: 159000  | Predicted: 184102.4650744747\n",
      "Actual: 222500  | Predicted: 238712.23139005294\n",
      "Actual: 395000  | Predicted: 243284.78331773798\n",
      "Actual: 110000  | Predicted: 120895.20822444954\n",
      "Actual: 108480  | Predicted: 110808.39153536758\n",
      "Actual: 340000  | Predicted: 285549.548893627\n",
      "Actual: 144000  | Predicted: 117069.81500778906\n",
      "Actual: 124500  | Predicted: 120937.21072321641\n",
      "Actual: 103200  | Predicted: 79266.82364927535\n",
      "Actual: 254000  | Predicted: 201536.13708338165\n",
      "Actual: 173000  | Predicted: 169212.86134488625\n",
      "Actual: 125500  | Predicted: 93763.69085685513\n",
      "Actual: 208900  | Predicted: 212319.13223761017\n",
      "Actual: 178400  | Predicted: 161245.59279648564\n",
      "Actual: 226000  | Predicted: 216077.77767306287\n",
      "Actual: 148000  | Predicted: 133740.8394991455\n",
      "Actual: 345000  | Predicted: 311376.3533574764\n",
      "Actual: 130000  | Predicted: 153721.9419711253\n",
      "Actual: 146000  | Predicted: 156333.3980708951\n",
      "Actual: 134800  | Predicted: 125026.82866425673\n",
      "Actual: 129000  | Predicted: 99371.94518348831\n",
      "Actual: 172500  | Predicted: 182424.68022514787\n",
      "Actual: 97500  | Predicted: 133109.10162047902\n",
      "Actual: 137500  | Predicted: 153097.25461917114\n",
      "Actual: 124000  | Predicted: 139218.27630523196\n",
      "Actual: 175000  | Predicted: 154533.09494589618\n",
      "Actual: 259000  | Predicted: 223893.59057615045\n",
      "Actual: 282922  | Predicted: 221587.17930883728\n",
      "Actual: 227000  | Predicted: 205938.60717422166\n",
      "Actual: 135750  | Predicted: 82602.5248873583\n",
      "Actual: 198500  | Predicted: 230209.05732882675\n",
      "Actual: 333168  | Predicted: 290700.39014766365\n",
      "Actual: 137500  | Predicted: 107539.03841875936\n",
      "Actual: 168000  | Predicted: 193468.56286518392\n",
      "Actual: 108000  | Predicted: 117598.67604746972\n",
      "Actual: 265979  | Predicted: 290266.6475890083\n",
      "Actual: 136900  | Predicted: 196586.78343052906\n",
      "Actual: 149350  | Predicted: 167713.94927020883\n",
      "Actual: 165400  | Predicted: 207579.93453852832\n",
      "Actual: 160000  | Predicted: 180081.16185254953\n",
      "Actual: 135000  | Predicted: 144256.5361240469\n",
      "Actual: 129000  | Predicted: 150716.62587266485\n",
      "Actual: 133000  | Predicted: 181008.01584027847\n",
      "Actual: 148500  | Predicted: 151804.99488466606\n",
      "Actual: 212000  | Predicted: 219520.82059018244\n",
      "Actual: 119500  | Predicted: 128194.86099878326\n",
      "Actual: 360000  | Predicted: 261254.19106425578\n",
      "Actual: 107500  | Predicted: 180182.71738898824\n",
      "Actual: 139000  | Predicted: 136017.72860388528\n",
      "Actual: 124000  | Predicted: 134179.36080293823\n",
      "Actual: 169000  | Predicted: 209351.4175953886\n",
      "Actual: 95000  | Predicted: 144076.756264691\n",
      "Actual: 148000  | Predicted: 158264.3438353839\n",
      "Actual: 301000  | Predicted: 312185.9999428438\n",
      "Actual: 117500  | Predicted: 93708.78752112854\n",
      "Actual: 136500  | Predicted: 151336.0668457863\n",
      "Actual: 233170  | Predicted: 199766.44574953616\n",
      "Actual: 180500  | Predicted: 143392.00812205393\n",
      "Actual: 115000  | Predicted: 147402.9455677853\n",
      "Actual: 169000  | Predicted: 256293.06274153478\n",
      "Actual: 153337  | Predicted: 132024.93910958245\n",
      "Actual: 106000  | Predicted: 101911.34104682878\n",
      "Actual: 243000  | Predicted: 269056.48630064586\n",
      "Actual: 154900  | Predicted: 114317.85523644695\n",
      "Actual: 91500  | Predicted: 161503.01427659066\n",
      "Actual: 68500  | Predicted: 39216.51583512826\n",
      "Actual: 139000  | Predicted: 132309.07679350418\n",
      "Actual: 181000  | Predicted: 207516.11145770806\n",
      "Actual: 264132  | Predicted: 202369.32119787904\n",
      "Actual: 136000  | Predicted: 133100.97352820006\n",
      "Actual: 230000  | Predicted: 222103.99158954946\n",
      "Actual: 83000  | Predicted: 72655.52926598117\n",
      "Actual: 315750  | Predicted: 293819.80397595325\n",
      "Actual: 324000  | Predicted: 249255.26178056747\n",
      "Actual: 140000  | Predicted: 162420.23963824683\n",
      "Actual: 392500  | Predicted: 234092.68451126642\n",
      "Actual: 145000  | Predicted: 117955.50865364913\n",
      "Actual: 146500  | Predicted: 190686.6849495729\n",
      "Actual: 153575  | Predicted: 176620.18944062642\n",
      "Actual: 185750  | Predicted: 144687.7874533371\n",
      "Actual: 175500  | Predicted: 159272.801614773\n",
      "Actual: 130000  | Predicted: 133643.12112128665\n",
      "Actual: 200000  | Predicted: 228829.92686221446\n",
      "Actual: 236500  | Predicted: 215820.4383519038\n",
      "Actual: 184000  | Predicted: 199986.86262738658\n",
      "Actual: 143000  | Predicted: 154874.59044362535\n",
      "Actual: 133000  | Predicted: 145291.363311806\n",
      "Actual: 140200  | Predicted: 141074.31856974703\n",
      "Actual: 122000  | Predicted: 120988.29937459622\n",
      "Actual: 359100  | Predicted: 340802.9145507484\n",
      "Actual: 169000  | Predicted: 196312.89121019538\n",
      "Actual: 132000  | Predicted: 119663.41136754048\n",
      "Actual: 87500  | Predicted: 43399.56567532197\n",
      "Actual: 147000  | Predicted: 225943.87673702487\n",
      "Actual: 219500  | Predicted: 192918.51251272508\n",
      "Actual: 168000  | Predicted: 213043.0094275088\n",
      "Actual: 115000  | Predicted: 85514.82107608998\n",
      "Actual: 269500  | Predicted: 243982.18204846373\n",
      "Actual: 178000  | Predicted: 188046.34532742505\n",
      "Actual: 261500  | Predicted: 248900.45836395002\n",
      "Actual: 180000  | Predicted: 139542.78833817085\n",
      "Actual: 167500  | Predicted: 218353.84630145226\n",
      "Actual: 184900  | Predicted: 188866.55176368007\n",
      "Actual: 81000  | Predicted: 87222.22153768875\n",
      "Actual: 230000  | Predicted: 202216.1457091847\n",
      "Actual: 112000  | Predicted: 134846.26711247535\n",
      "Actual: 164500  | Predicted: 157543.26855907775\n",
      "Actual: 117000  | Predicted: 193482.59648505016\n",
      "Actual: 232000  | Predicted: 231146.99713759194\n",
      "Actual: 446261  | Predicted: 335819.07530467934\n",
      "Actual: 164000  | Predicted: 183975.0453183418\n",
      "Actual: 239000  | Predicted: 214593.80072373617\n",
      "Actual: 176500  | Predicted: 196836.77586751874\n",
      "Actual: 163500  | Predicted: 180813.68735058955\n",
      "Actual: 140000  | Predicted: 129664.86847904022\n",
      "Actual: 290000  | Predicted: 280864.0789443583\n",
      "Actual: 86000  | Predicted: 119595.97015853389\n",
      "Actual: 180000  | Predicted: 194979.88053078693\n"
     ]
    }
   ],
   "source": [
    "history = model.predict(x_test)\n",
    "predicted = [i[0] for i in history]\n",
    "for i in range(len(actual)):\n",
    "    print(\"Actual: {0}  | Predicted: {1}\".format(actual[i], predicted[i]))"
   ]
  },
  {
   "cell_type": "code",
   "execution_count": 16,
   "metadata": {},
   "outputs": [
    {
     "data": {
      "image/png": "[encoded data removed]",
      "text/plain": [
       "<Figure size 432x288 with 1 Axes>"
      ]
     },
     "metadata": {
      "needs_background": "light"
     },
     "output_type": "display_data"
    }
   ],
   "source": [
    "count = [i for i in range(len(actual))]\n",
    "plt.scatter(count, actual, color=\"b\")\n",
    "plt.scatter(count, predicted, color=\"g\")\n",
    "plt.show()"
   ]
  },
  {
   "cell_type": "code",
   "execution_count": 8,
   "metadata": {},
   "outputs": [
    {
     "data": {
      "text/plain": [
       "39891.75645530386"
      ]
     },
     "execution_count": 8,
     "metadata": {},
     "output_type": "execute_result"
    }
   ],
   "source": [
    "mse = mean_squared_error(y_test, history)\n",
    "rmse = np.sqrt(mse)\n",
    "rmse"
   ]
  },
  {
   "cell_type": "code",
   "execution_count": 9,
   "metadata": {},
   "outputs": [
    {
     "name": "stdout",
     "output_type": "stream",
     "text": [
      "The error percentage is:  22.088955079465745\n"
     ]
    }
   ],
   "source": [
    "error_pct = rmse/np.average(y_test)\n",
    "print(\"The error percentage is: \", error_pct*100)"
   ]
  },
  {
   "cell_type": "markdown",
   "metadata": {},
   "source": [
    "### Logistic Regression"
   ]
  },
  {
   "attachments": {
    "image.png": {
     "image/png": "[encoded data removed]"
    }
   },
   "cell_type": "markdown",
   "metadata": {},
   "source": [
    "Classification algorithm. Its a sigmoid function. A S-shaped curve with the values lies between 0 and 1\n",
    "![image.png](attachment:image.png)"
   ]
  },
  {
   "cell_type": "markdown",
   "metadata": {},
   "source": [
    "logit is a natural log function. \n",
    "\n",
    "logit = log[P/1-P]\n",
    "\n",
    "logistic = 1/(1+e^-z) where z=P\n",
    "\n",
    "since logistic regression is a classification model, we need discrete values. The value of z lies between -infinithy to infinity. \n",
    "\n",
    "z = B + B1x1 + B2x2 + . . . ."
   ]
  },
  {
   "cell_type": "markdown",
   "metadata": {},
   "source": [
    "OVR - One Vs Rest\n",
    "\n",
    "Regulaizer:\n",
    "    Lasso: Reduces the coeffecient of an attribute\n",
    "    Ridge: Makes the coeffiecnt to zero\n",
    "    Elastic Net: Combination of Lasso and Ridge\n",
    "\n",
    "n_job: No. of cores used on running the program. (1 and -1)"
   ]
  },
  {
   "cell_type": "markdown",
   "metadata": {},
   "source": [
    "A | B | C"
   ]
  },
  {
   "cell_type": "markdown",
   "metadata": {},
   "source": [
    "###### Importing:"
   ]
  },
  {
   "cell_type": "code",
   "execution_count": 78,
   "metadata": {},
   "outputs": [],
   "source": [
    "import pandas as pd\n",
    "import numpy as np\n",
    "from sklearn.linear_model import LogisticRegression\n",
    "from sklearn.model_selection import train_test_split\n",
    "import re\n",
    "from bs4 import BeautifulSoup\n",
    "from nltk.corpus import stopwords\n",
    "from sklearn.feature_extraction.text import CountVectorizer\n",
    "from sklearn.metrics import accuracy_score, classification_report"
   ]
  },
  {
   "cell_type": "code",
   "execution_count": 28,
   "metadata": {},
   "outputs": [
    {
     "name": "stdout",
     "output_type": "stream",
     "text": [
      "                                       SentimentText  Sentiment\n",
      "0  first think another Disney movie, might good, ...          1\n",
      "1  Put aside Dr. House repeat missed, Desperate H...          0\n",
      "2  big fan Stephen King's work, film made even gr...          1\n",
      "3  watched horrid thing TV. Needless say one movi...          0\n",
      "4  truly enjoyed film. acting terrific plot. Jeff...          1\n"
     ]
    }
   ],
   "source": [
    "dataset = pd.read_csv(\"/home/sudhakar/Documents/Dataset/imdb_reviews.csv\", encoding='latin-1')\n",
    "print(dataset.head())"
   ]
  },
  {
   "cell_type": "code",
   "execution_count": 23,
   "metadata": {},
   "outputs": [
    {
     "name": "stdout",
     "output_type": "stream",
     "text": [
      "Put aside Dr. House repeat missed, Desperate Housewives (new) watch one. don't know exactly plagued movie. never thought I'd say this, want 15 minutes fame back.<br /><br />Script, Direction, can't say. recognized stable actors (the usual suspects), thought Herbert Marshall class addition sat good cheesy flick. Boy, wrong. Dullsville.<br /><br />My favorite parts: \"office girl\" makes 029 keypunch puts cards 087 sorter. LOL @ \"the computer\". I'd like someone identify next device - 477 ? It's even dinosaur's time.<br /><br />And dinosaurs don't much time waste.\n"
     ]
    }
   ],
   "source": [
    "print(dataset.SentimentText[1])"
   ]
  },
  {
   "cell_type": "code",
   "execution_count": 47,
   "metadata": {},
   "outputs": [],
   "source": [
    "y = dataset.Sentiment\n",
    "ip = dataset.SentimentText"
   ]
  },
  {
   "cell_type": "code",
   "execution_count": 48,
   "metadata": {},
   "outputs": [],
   "source": [
    "def cleaning(data):\n",
    "    stop = stopwords.words('english')\n",
    "    html_free = BeautifulSoup(data, 'html.parser').get_text()\n",
    "    only_text = re.sub(\"[^a-zA-Z]\",\" \", html_free)\n",
    "    split_words = only_text.split()\n",
    "    cleaned_data = [w for w in split_words if w not in stop]\n",
    "    return \" \".join(cleaned_data)"
   ]
  },
  {
   "cell_type": "code",
   "execution_count": 49,
   "metadata": {},
   "outputs": [],
   "source": [
    "X = []\n",
    "for i in ip:\n",
    "    X.append(cleaning(i))"
   ]
  },
  {
   "cell_type": "code",
   "execution_count": 52,
   "metadata": {},
   "outputs": [
    {
     "name": "stdout",
     "output_type": "stream",
     "text": [
      "truly enjoyed film acting terrific plot Jeff Combs talent recognized part flick would change ending death creature far gruesome Sci Fi Channel There interesting religious messages film Jeff Combs obviously played Messiah figure creature shark prefer represented anti Chirst particularly frightening scenes end world feel noticed third viewing classic creature feature know many people get references Christianity watch close get\n",
      "1\n"
     ]
    }
   ],
   "source": []
  },
  {
   "cell_type": "markdown",
   "metadata": {},
   "source": [
    "###### Splitting:"
   ]
  },
  {
   "cell_type": "code",
   "execution_count": 54,
   "metadata": {},
   "outputs": [],
   "source": [
    "x_train, x_test, y_train, y_test = train_test_split(X, y, random_state=4, train_size = 0.8)"
   ]
  },
  {
   "cell_type": "code",
   "execution_count": 59,
   "metadata": {},
   "outputs": [],
   "source": [
    "vextx = CountVectorizer().fit(x_train)"
   ]
  },
  {
   "cell_type": "code",
   "execution_count": 69,
   "metadata": {},
   "outputs": [],
   "source": [
    "vext_X = vextx.transform(x_train)\n",
    "vect_X_test = vextx.transform(x_test)"
   ]
  },
  {
   "cell_type": "code",
   "execution_count": 70,
   "metadata": {
    "scrolled": true
   },
   "outputs": [
    {
     "data": {
      "text/plain": [
       "<20000x67488 sparse matrix of type '<class 'numpy.int64'>'\n",
       "\twith 1975236 stored elements in Compressed Sparse Row format>"
      ]
     },
     "execution_count": 70,
     "metadata": {},
     "output_type": "execute_result"
    }
   ],
   "source": [
    "vext_X"
   ]
  },
  {
   "cell_type": "code",
   "execution_count": 71,
   "metadata": {},
   "outputs": [],
   "source": [
    "log_model = LogisticRegression()"
   ]
  },
  {
   "cell_type": "code",
   "execution_count": 72,
   "metadata": {},
   "outputs": [
    {
     "name": "stderr",
     "output_type": "stream",
     "text": [
      "/home/sudhakar/.local/lib/python3.6/site-packages/sklearn/linear_model/logistic.py:432: FutureWarning: Default solver will be changed to 'lbfgs' in 0.22. Specify a solver to silence this warning.\n",
      "  FutureWarning)\n"
     ]
    },
    {
     "data": {
      "text/plain": [
       "LogisticRegression(C=1.0, class_weight=None, dual=False, fit_intercept=True,\n",
       "                   intercept_scaling=1, l1_ratio=None, max_iter=100,\n",
       "                   multi_class='warn', n_jobs=None, penalty='l2',\n",
       "                   random_state=None, solver='warn', tol=0.0001, verbose=0,\n",
       "                   warm_start=False)"
      ]
     },
     "execution_count": 72,
     "metadata": {},
     "output_type": "execute_result"
    }
   ],
   "source": [
    "log_model.fit(vext_X, y_train)"
   ]
  },
  {
   "cell_type": "code",
   "execution_count": 74,
   "metadata": {},
   "outputs": [
    {
     "data": {
      "text/plain": [
       "array([0, 0, 1, ..., 1, 1, 1])"
      ]
     },
     "execution_count": 74,
     "metadata": {},
     "output_type": "execute_result"
    }
   ],
   "source": [
    "history = log_model.predict(vect_X_test)\n",
    "\n",
    "history"
   ]
  },
  {
   "cell_type": "code",
   "execution_count": 77,
   "metadata": {},
   "outputs": [
    {
     "name": "stdout",
     "output_type": "stream",
     "text": [
      "Actual: 0 | Predicted: 0\n",
      "Actual: 0 | Predicted: 0\n",
      "Actual: 1 | Predicted: 1\n",
      "Actual: 0 | Predicted: 0\n",
      "Actual: 0 | Predicted: 0\n",
      "Actual: 0 | Predicted: 0\n",
      "Actual: 1 | Predicted: 1\n",
      "Actual: 1 | Predicted: 1\n",
      "Actual: 0 | Predicted: 0\n",
      "Actual: 1 | Predicted: 0\n",
      "Actual: 1 | Predicted: 1\n",
      "Actual: 0 | Predicted: 0\n",
      "Actual: 0 | Predicted: 1\n",
      "Actual: 1 | Predicted: 1\n",
      "Actual: 1 | Predicted: 0\n",
      "Actual: 0 | Predicted: 0\n",
      "Actual: 1 | Predicted: 1\n",
      "Actual: 1 | Predicted: 1\n",
      "Actual: 1 | Predicted: 1\n",
      "Actual: 1 | Predicted: 1\n",
      "Actual: 0 | Predicted: 0\n",
      "Actual: 1 | Predicted: 1\n",
      "Actual: 0 | Predicted: 0\n",
      "Actual: 0 | Predicted: 1\n",
      "Actual: 1 | Predicted: 1\n",
      "Actual: 1 | Predicted: 0\n",
      "Actual: 1 | Predicted: 1\n",
      "Actual: 0 | Predicted: 0\n",
      "Actual: 0 | Predicted: 1\n",
      "Actual: 0 | Predicted: 0\n",
      "Actual: 0 | Predicted: 0\n",
      "Actual: 0 | Predicted: 0\n",
      "Actual: 1 | Predicted: 1\n",
      "Actual: 1 | Predicted: 1\n",
      "Actual: 1 | Predicted: 1\n",
      "Actual: 1 | Predicted: 1\n",
      "Actual: 0 | Predicted: 0\n",
      "Actual: 1 | Predicted: 1\n",
      "Actual: 0 | Predicted: 0\n",
      "Actual: 1 | Predicted: 1\n",
      "Actual: 1 | Predicted: 1\n",
      "Actual: 0 | Predicted: 0\n",
      "Actual: 1 | Predicted: 1\n",
      "Actual: 0 | Predicted: 0\n",
      "Actual: 1 | Predicted: 1\n",
      "Actual: 1 | Predicted: 1\n",
      "Actual: 0 | Predicted: 0\n",
      "Actual: 1 | Predicted: 1\n",
      "Actual: 0 | Predicted: 0\n",
      "Actual: 1 | Predicted: 1\n",
      "Actual: 1 | Predicted: 1\n",
      "Actual: 0 | Predicted: 0\n",
      "Actual: 0 | Predicted: 0\n",
      "Actual: 0 | Predicted: 0\n",
      "Actual: 1 | Predicted: 1\n",
      "Actual: 0 | Predicted: 0\n",
      "Actual: 0 | Predicted: 0\n",
      "Actual: 0 | Predicted: 0\n",
      "Actual: 1 | Predicted: 1\n",
      "Actual: 0 | Predicted: 0\n",
      "Actual: 1 | Predicted: 1\n",
      "Actual: 0 | Predicted: 0\n",
      "Actual: 0 | Predicted: 0\n",
      "Actual: 1 | Predicted: 1\n",
      "Actual: 0 | Predicted: 0\n",
      "Actual: 0 | Predicted: 0\n",
      "Actual: 1 | Predicted: 1\n",
      "Actual: 0 | Predicted: 0\n",
      "Actual: 1 | Predicted: 1\n",
      "Actual: 1 | Predicted: 1\n",
      "Actual: 1 | Predicted: 0\n",
      "Actual: 1 | Predicted: 1\n",
      "Actual: 1 | Predicted: 0\n",
      "Actual: 1 | Predicted: 1\n",
      "Actual: 0 | Predicted: 0\n",
      "Actual: 1 | Predicted: 1\n",
      "Actual: 0 | Predicted: 0\n",
      "Actual: 0 | Predicted: 0\n",
      "Actual: 1 | Predicted: 1\n",
      "Actual: 0 | Predicted: 0\n",
      "Actual: 0 | Predicted: 0\n",
      "Actual: 0 | Predicted: 0\n",
      "Actual: 1 | Predicted: 1\n",
      "Actual: 0 | Predicted: 0\n",
      "Actual: 1 | Predicted: 1\n",
      "Actual: 0 | Predicted: 0\n",
      "Actual: 0 | Predicted: 0\n",
      "Actual: 1 | Predicted: 1\n",
      "Actual: 1 | Predicted: 0\n",
      "Actual: 0 | Predicted: 0\n",
      "Actual: 1 | Predicted: 1\n",
      "Actual: 0 | Predicted: 0\n",
      "Actual: 0 | Predicted: 0\n",
      "Actual: 1 | Predicted: 1\n",
      "Actual: 0 | Predicted: 0\n",
      "Actual: 1 | Predicted: 1\n",
      "Actual: 0 | Predicted: 0\n",
      "Actual: 1 | Predicted: 1\n",
      "Actual: 0 | Predicted: 0\n",
      "Actual: 1 | Predicted: 1\n",
      "Actual: 0 | Predicted: 0\n",
      "Actual: 0 | Predicted: 0\n",
      "Actual: 0 | Predicted: 0\n",
      "Actual: 1 | Predicted: 0\n",
      "Actual: 1 | Predicted: 1\n",
      "Actual: 0 | Predicted: 0\n",
      "Actual: 0 | Predicted: 0\n",
      "Actual: 1 | Predicted: 1\n",
      "Actual: 1 | Predicted: 0\n",
      "Actual: 1 | Predicted: 1\n",
      "Actual: 1 | Predicted: 1\n",
      "Actual: 0 | Predicted: 0\n",
      "Actual: 0 | Predicted: 0\n",
      "Actual: 0 | Predicted: 0\n",
      "Actual: 0 | Predicted: 0\n",
      "Actual: 0 | Predicted: 0\n",
      "Actual: 1 | Predicted: 0\n",
      "Actual: 1 | Predicted: 1\n",
      "Actual: 1 | Predicted: 1\n",
      "Actual: 0 | Predicted: 0\n",
      "Actual: 1 | Predicted: 1\n",
      "Actual: 0 | Predicted: 0\n",
      "Actual: 0 | Predicted: 0\n",
      "Actual: 0 | Predicted: 0\n",
      "Actual: 0 | Predicted: 0\n",
      "Actual: 1 | Predicted: 1\n",
      "Actual: 0 | Predicted: 0\n",
      "Actual: 0 | Predicted: 0\n",
      "Actual: 0 | Predicted: 0\n",
      "Actual: 0 | Predicted: 0\n",
      "Actual: 1 | Predicted: 1\n",
      "Actual: 0 | Predicted: 0\n",
      "Actual: 0 | Predicted: 0\n",
      "Actual: 0 | Predicted: 1\n",
      "Actual: 1 | Predicted: 1\n",
      "Actual: 0 | Predicted: 0\n",
      "Actual: 1 | Predicted: 1\n",
      "Actual: 1 | Predicted: 1\n",
      "Actual: 1 | Predicted: 1\n",
      "Actual: 0 | Predicted: 0\n",
      "Actual: 1 | Predicted: 1\n",
      "Actual: 1 | Predicted: 1\n",
      "Actual: 1 | Predicted: 1\n",
      "Actual: 0 | Predicted: 0\n",
      "Actual: 0 | Predicted: 0\n",
      "Actual: 0 | Predicted: 1\n",
      "Actual: 0 | Predicted: 0\n",
      "Actual: 1 | Predicted: 0\n",
      "Actual: 1 | Predicted: 1\n",
      "Actual: 0 | Predicted: 0\n",
      "Actual: 1 | Predicted: 1\n",
      "Actual: 0 | Predicted: 0\n",
      "Actual: 0 | Predicted: 1\n",
      "Actual: 0 | Predicted: 0\n",
      "Actual: 1 | Predicted: 1\n",
      "Actual: 0 | Predicted: 0\n",
      "Actual: 1 | Predicted: 1\n",
      "Actual: 1 | Predicted: 1\n",
      "Actual: 1 | Predicted: 1\n",
      "Actual: 1 | Predicted: 1\n",
      "Actual: 1 | Predicted: 1\n",
      "Actual: 1 | Predicted: 1\n",
      "Actual: 1 | Predicted: 1\n",
      "Actual: 1 | Predicted: 0\n",
      "Actual: 1 | Predicted: 1\n",
      "Actual: 1 | Predicted: 1\n",
      "Actual: 1 | Predicted: 1\n",
      "Actual: 1 | Predicted: 1\n",
      "Actual: 1 | Predicted: 0\n",
      "Actual: 1 | Predicted: 1\n",
      "Actual: 1 | Predicted: 1\n",
      "Actual: 0 | Predicted: 0\n",
      "Actual: 1 | Predicted: 1\n",
      "Actual: 1 | Predicted: 0\n",
      "Actual: 0 | Predicted: 1\n",
      "Actual: 0 | Predicted: 0\n",
      "Actual: 0 | Predicted: 0\n",
      "Actual: 0 | Predicted: 1\n",
      "Actual: 0 | Predicted: 0\n",
      "Actual: 1 | Predicted: 0\n",
      "Actual: 1 | Predicted: 0\n",
      "Actual: 0 | Predicted: 1\n",
      "Actual: 1 | Predicted: 1\n",
      "Actual: 0 | Predicted: 0\n",
      "Actual: 1 | Predicted: 1\n",
      "Actual: 0 | Predicted: 0\n",
      "Actual: 0 | Predicted: 0\n",
      "Actual: 0 | Predicted: 0\n",
      "Actual: 0 | Predicted: 0\n",
      "Actual: 1 | Predicted: 1\n",
      "Actual: 0 | Predicted: 1\n",
      "Actual: 0 | Predicted: 0\n",
      "Actual: 1 | Predicted: 1\n",
      "Actual: 1 | Predicted: 1\n",
      "Actual: 1 | Predicted: 1\n",
      "Actual: 0 | Predicted: 0\n",
      "Actual: 0 | Predicted: 0\n",
      "Actual: 1 | Predicted: 1\n",
      "Actual: 1 | Predicted: 1\n",
      "Actual: 1 | Predicted: 1\n",
      "Actual: 1 | Predicted: 0\n",
      "Actual: 0 | Predicted: 0\n",
      "Actual: 1 | Predicted: 0\n",
      "Actual: 0 | Predicted: 1\n",
      "Actual: 1 | Predicted: 1\n",
      "Actual: 1 | Predicted: 1\n",
      "Actual: 0 | Predicted: 0\n",
      "Actual: 0 | Predicted: 0\n",
      "Actual: 1 | Predicted: 1\n",
      "Actual: 1 | Predicted: 1\n",
      "Actual: 0 | Predicted: 1\n",
      "Actual: 0 | Predicted: 1\n",
      "Actual: 1 | Predicted: 1\n",
      "Actual: 0 | Predicted: 0\n",
      "Actual: 0 | Predicted: 0\n",
      "Actual: 1 | Predicted: 1\n",
      "Actual: 0 | Predicted: 0\n",
      "Actual: 0 | Predicted: 0\n",
      "Actual: 0 | Predicted: 1\n",
      "Actual: 0 | Predicted: 0\n",
      "Actual: 1 | Predicted: 1\n",
      "Actual: 0 | Predicted: 0\n",
      "Actual: 1 | Predicted: 1\n",
      "Actual: 0 | Predicted: 0\n",
      "Actual: 1 | Predicted: 1\n",
      "Actual: 1 | Predicted: 1\n",
      "Actual: 1 | Predicted: 1\n",
      "Actual: 0 | Predicted: 0\n",
      "Actual: 0 | Predicted: 0\n",
      "Actual: 1 | Predicted: 0\n",
      "Actual: 1 | Predicted: 1\n",
      "Actual: 1 | Predicted: 1\n",
      "Actual: 1 | Predicted: 1\n",
      "Actual: 1 | Predicted: 1\n",
      "Actual: 0 | Predicted: 0\n",
      "Actual: 0 | Predicted: 0\n",
      "Actual: 0 | Predicted: 0\n",
      "Actual: 1 | Predicted: 1\n",
      "Actual: 1 | Predicted: 0\n",
      "Actual: 0 | Predicted: 0\n",
      "Actual: 0 | Predicted: 0\n",
      "Actual: 0 | Predicted: 0\n",
      "Actual: 1 | Predicted: 0\n",
      "Actual: 0 | Predicted: 0\n",
      "Actual: 0 | Predicted: 1\n",
      "Actual: 1 | Predicted: 1\n",
      "Actual: 1 | Predicted: 1\n",
      "Actual: 0 | Predicted: 0\n",
      "Actual: 0 | Predicted: 0\n",
      "Actual: 0 | Predicted: 0\n",
      "Actual: 0 | Predicted: 1\n",
      "Actual: 0 | Predicted: 0\n",
      "Actual: 1 | Predicted: 1\n",
      "Actual: 0 | Predicted: 1\n",
      "Actual: 1 | Predicted: 1\n",
      "Actual: 0 | Predicted: 1\n",
      "Actual: 1 | Predicted: 1\n",
      "Actual: 1 | Predicted: 1\n",
      "Actual: 0 | Predicted: 0\n",
      "Actual: 1 | Predicted: 1\n",
      "Actual: 1 | Predicted: 1\n",
      "Actual: 0 | Predicted: 0\n",
      "Actual: 0 | Predicted: 0\n",
      "Actual: 0 | Predicted: 0\n",
      "Actual: 0 | Predicted: 1\n",
      "Actual: 0 | Predicted: 0\n",
      "Actual: 0 | Predicted: 0\n",
      "Actual: 0 | Predicted: 1\n",
      "Actual: 0 | Predicted: 0\n",
      "Actual: 0 | Predicted: 0\n",
      "Actual: 0 | Predicted: 0\n",
      "Actual: 1 | Predicted: 1\n",
      "Actual: 0 | Predicted: 0\n",
      "Actual: 0 | Predicted: 0\n",
      "Actual: 1 | Predicted: 1\n",
      "Actual: 1 | Predicted: 1\n",
      "Actual: 1 | Predicted: 1\n",
      "Actual: 0 | Predicted: 1\n",
      "Actual: 1 | Predicted: 1\n",
      "Actual: 0 | Predicted: 0\n",
      "Actual: 1 | Predicted: 1\n",
      "Actual: 1 | Predicted: 1\n",
      "Actual: 1 | Predicted: 1\n",
      "Actual: 0 | Predicted: 0\n",
      "Actual: 1 | Predicted: 1\n",
      "Actual: 1 | Predicted: 0\n",
      "Actual: 1 | Predicted: 1\n",
      "Actual: 1 | Predicted: 1\n",
      "Actual: 0 | Predicted: 1\n",
      "Actual: 0 | Predicted: 0\n",
      "Actual: 0 | Predicted: 0\n",
      "Actual: 0 | Predicted: 0\n",
      "Actual: 0 | Predicted: 0\n",
      "Actual: 0 | Predicted: 0\n",
      "Actual: 1 | Predicted: 1\n",
      "Actual: 1 | Predicted: 1\n",
      "Actual: 1 | Predicted: 1\n",
      "Actual: 0 | Predicted: 0\n",
      "Actual: 1 | Predicted: 0\n",
      "Actual: 0 | Predicted: 0\n",
      "Actual: 1 | Predicted: 1\n",
      "Actual: 0 | Predicted: 1\n",
      "Actual: 1 | Predicted: 1\n",
      "Actual: 0 | Predicted: 0\n",
      "Actual: 1 | Predicted: 1\n",
      "Actual: 1 | Predicted: 1\n",
      "Actual: 1 | Predicted: 1\n",
      "Actual: 1 | Predicted: 1\n",
      "Actual: 0 | Predicted: 0\n",
      "Actual: 0 | Predicted: 0\n",
      "Actual: 1 | Predicted: 1\n",
      "Actual: 0 | Predicted: 0\n",
      "Actual: 0 | Predicted: 0\n",
      "Actual: 1 | Predicted: 1\n",
      "Actual: 0 | Predicted: 0\n",
      "Actual: 1 | Predicted: 1\n",
      "Actual: 0 | Predicted: 0\n",
      "Actual: 0 | Predicted: 0\n",
      "Actual: 0 | Predicted: 0\n",
      "Actual: 1 | Predicted: 1\n",
      "Actual: 1 | Predicted: 1\n",
      "Actual: 0 | Predicted: 0\n",
      "Actual: 1 | Predicted: 1\n",
      "Actual: 1 | Predicted: 1\n",
      "Actual: 1 | Predicted: 1\n",
      "Actual: 0 | Predicted: 0\n",
      "Actual: 1 | Predicted: 1\n",
      "Actual: 0 | Predicted: 0\n",
      "Actual: 1 | Predicted: 0\n",
      "Actual: 0 | Predicted: 0\n",
      "Actual: 1 | Predicted: 1\n",
      "Actual: 1 | Predicted: 1\n",
      "Actual: 1 | Predicted: 1\n",
      "Actual: 1 | Predicted: 1\n",
      "Actual: 0 | Predicted: 0\n",
      "Actual: 1 | Predicted: 1\n",
      "Actual: 1 | Predicted: 1\n",
      "Actual: 1 | Predicted: 1\n",
      "Actual: 0 | Predicted: 1\n",
      "Actual: 1 | Predicted: 1\n",
      "Actual: 0 | Predicted: 0\n",
      "Actual: 1 | Predicted: 1\n",
      "Actual: 1 | Predicted: 1\n",
      "Actual: 0 | Predicted: 0\n",
      "Actual: 0 | Predicted: 0\n",
      "Actual: 1 | Predicted: 0\n",
      "Actual: 0 | Predicted: 1\n",
      "Actual: 0 | Predicted: 0\n",
      "Actual: 1 | Predicted: 0\n",
      "Actual: 1 | Predicted: 1\n",
      "Actual: 1 | Predicted: 1\n",
      "Actual: 0 | Predicted: 0\n",
      "Actual: 1 | Predicted: 1\n",
      "Actual: 0 | Predicted: 0\n",
      "Actual: 0 | Predicted: 0\n",
      "Actual: 1 | Predicted: 1\n",
      "Actual: 1 | Predicted: 0\n",
      "Actual: 0 | Predicted: 0\n",
      "Actual: 1 | Predicted: 1\n",
      "Actual: 0 | Predicted: 0\n",
      "Actual: 0 | Predicted: 0\n",
      "Actual: 1 | Predicted: 1\n",
      "Actual: 0 | Predicted: 0\n",
      "Actual: 1 | Predicted: 1\n",
      "Actual: 1 | Predicted: 1\n",
      "Actual: 1 | Predicted: 1\n",
      "Actual: 1 | Predicted: 1\n",
      "Actual: 0 | Predicted: 0\n",
      "Actual: 1 | Predicted: 1\n",
      "Actual: 0 | Predicted: 0\n",
      "Actual: 1 | Predicted: 1\n",
      "Actual: 1 | Predicted: 1\n",
      "Actual: 0 | Predicted: 0\n",
      "Actual: 1 | Predicted: 1\n",
      "Actual: 1 | Predicted: 0\n",
      "Actual: 0 | Predicted: 0\n",
      "Actual: 1 | Predicted: 1\n",
      "Actual: 0 | Predicted: 0\n",
      "Actual: 0 | Predicted: 0\n",
      "Actual: 0 | Predicted: 0\n",
      "Actual: 0 | Predicted: 0\n",
      "Actual: 0 | Predicted: 0\n",
      "Actual: 1 | Predicted: 0\n",
      "Actual: 0 | Predicted: 0\n",
      "Actual: 1 | Predicted: 0\n",
      "Actual: 0 | Predicted: 0\n",
      "Actual: 1 | Predicted: 1\n",
      "Actual: 0 | Predicted: 0\n",
      "Actual: 1 | Predicted: 1\n",
      "Actual: 1 | Predicted: 1\n",
      "Actual: 1 | Predicted: 1\n",
      "Actual: 1 | Predicted: 1\n",
      "Actual: 1 | Predicted: 1\n",
      "Actual: 1 | Predicted: 1\n",
      "Actual: 0 | Predicted: 0\n",
      "Actual: 1 | Predicted: 1\n",
      "Actual: 1 | Predicted: 1\n",
      "Actual: 0 | Predicted: 0\n",
      "Actual: 1 | Predicted: 1\n",
      "Actual: 1 | Predicted: 1\n",
      "Actual: 0 | Predicted: 0\n",
      "Actual: 0 | Predicted: 1\n",
      "Actual: 1 | Predicted: 1\n",
      "Actual: 1 | Predicted: 1\n",
      "Actual: 0 | Predicted: 0\n",
      "Actual: 1 | Predicted: 1\n",
      "Actual: 1 | Predicted: 1\n",
      "Actual: 0 | Predicted: 0\n",
      "Actual: 0 | Predicted: 0\n",
      "Actual: 1 | Predicted: 1\n",
      "Actual: 1 | Predicted: 1\n",
      "Actual: 0 | Predicted: 0\n",
      "Actual: 0 | Predicted: 0\n",
      "Actual: 0 | Predicted: 1\n",
      "Actual: 1 | Predicted: 1\n",
      "Actual: 1 | Predicted: 0\n",
      "Actual: 1 | Predicted: 1\n",
      "Actual: 0 | Predicted: 0\n",
      "Actual: 1 | Predicted: 1\n",
      "Actual: 0 | Predicted: 0\n",
      "Actual: 1 | Predicted: 1\n",
      "Actual: 1 | Predicted: 1\n",
      "Actual: 0 | Predicted: 0\n",
      "Actual: 1 | Predicted: 0\n",
      "Actual: 0 | Predicted: 0\n",
      "Actual: 0 | Predicted: 0\n",
      "Actual: 1 | Predicted: 0\n",
      "Actual: 1 | Predicted: 1\n",
      "Actual: 1 | Predicted: 1\n",
      "Actual: 0 | Predicted: 0\n",
      "Actual: 0 | Predicted: 0\n",
      "Actual: 1 | Predicted: 1\n",
      "Actual: 1 | Predicted: 1\n",
      "Actual: 0 | Predicted: 0\n",
      "Actual: 0 | Predicted: 0\n",
      "Actual: 1 | Predicted: 1\n",
      "Actual: 0 | Predicted: 0\n",
      "Actual: 0 | Predicted: 0\n",
      "Actual: 0 | Predicted: 0\n",
      "Actual: 0 | Predicted: 0\n",
      "Actual: 1 | Predicted: 1\n",
      "Actual: 0 | Predicted: 0\n",
      "Actual: 1 | Predicted: 1\n",
      "Actual: 0 | Predicted: 0\n",
      "Actual: 0 | Predicted: 1\n",
      "Actual: 0 | Predicted: 0\n",
      "Actual: 1 | Predicted: 1\n",
      "Actual: 1 | Predicted: 1\n",
      "Actual: 0 | Predicted: 0\n",
      "Actual: 0 | Predicted: 0\n",
      "Actual: 0 | Predicted: 0\n",
      "Actual: 0 | Predicted: 0\n",
      "Actual: 1 | Predicted: 1\n",
      "Actual: 0 | Predicted: 0\n",
      "Actual: 1 | Predicted: 1\n",
      "Actual: 0 | Predicted: 0\n",
      "Actual: 0 | Predicted: 0\n",
      "Actual: 0 | Predicted: 0\n",
      "Actual: 0 | Predicted: 0\n",
      "Actual: 0 | Predicted: 0\n",
      "Actual: 0 | Predicted: 1\n",
      "Actual: 0 | Predicted: 0\n",
      "Actual: 0 | Predicted: 1\n",
      "Actual: 0 | Predicted: 0\n",
      "Actual: 1 | Predicted: 1\n",
      "Actual: 1 | Predicted: 0\n",
      "Actual: 1 | Predicted: 1\n",
      "Actual: 1 | Predicted: 1\n",
      "Actual: 0 | Predicted: 0\n",
      "Actual: 1 | Predicted: 1\n",
      "Actual: 1 | Predicted: 0\n",
      "Actual: 1 | Predicted: 0\n",
      "Actual: 1 | Predicted: 1\n",
      "Actual: 0 | Predicted: 0\n",
      "Actual: 0 | Predicted: 0\n",
      "Actual: 0 | Predicted: 0\n",
      "Actual: 0 | Predicted: 0\n",
      "Actual: 0 | Predicted: 0\n",
      "Actual: 1 | Predicted: 1\n",
      "Actual: 1 | Predicted: 1\n",
      "Actual: 0 | Predicted: 0\n",
      "Actual: 0 | Predicted: 0\n",
      "Actual: 1 | Predicted: 0\n",
      "Actual: 0 | Predicted: 0\n",
      "Actual: 0 | Predicted: 0\n",
      "Actual: 0 | Predicted: 0\n",
      "Actual: 0 | Predicted: 0\n",
      "Actual: 0 | Predicted: 0\n",
      "Actual: 1 | Predicted: 0\n",
      "Actual: 0 | Predicted: 0\n",
      "Actual: 0 | Predicted: 0\n",
      "Actual: 1 | Predicted: 1\n",
      "Actual: 1 | Predicted: 1\n",
      "Actual: 0 | Predicted: 0\n",
      "Actual: 0 | Predicted: 0\n",
      "Actual: 1 | Predicted: 1\n",
      "Actual: 1 | Predicted: 1\n",
      "Actual: 0 | Predicted: 0\n",
      "Actual: 0 | Predicted: 0\n",
      "Actual: 1 | Predicted: 1\n",
      "Actual: 1 | Predicted: 1\n",
      "Actual: 1 | Predicted: 0\n",
      "Actual: 0 | Predicted: 0\n",
      "Actual: 0 | Predicted: 0\n",
      "Actual: 0 | Predicted: 0\n",
      "Actual: 0 | Predicted: 0\n",
      "Actual: 0 | Predicted: 0\n",
      "Actual: 0 | Predicted: 0\n",
      "Actual: 1 | Predicted: 1\n",
      "Actual: 1 | Predicted: 0\n",
      "Actual: 1 | Predicted: 1\n",
      "Actual: 1 | Predicted: 1\n",
      "Actual: 0 | Predicted: 0\n",
      "Actual: 1 | Predicted: 1\n",
      "Actual: 1 | Predicted: 1\n",
      "Actual: 0 | Predicted: 0\n",
      "Actual: 1 | Predicted: 1\n",
      "Actual: 1 | Predicted: 1\n",
      "Actual: 0 | Predicted: 0\n",
      "Actual: 1 | Predicted: 0\n",
      "Actual: 0 | Predicted: 0\n",
      "Actual: 1 | Predicted: 1\n",
      "Actual: 1 | Predicted: 1\n",
      "Actual: 1 | Predicted: 1\n",
      "Actual: 0 | Predicted: 0\n",
      "Actual: 1 | Predicted: 1\n",
      "Actual: 1 | Predicted: 1\n",
      "Actual: 1 | Predicted: 1\n",
      "Actual: 1 | Predicted: 1\n",
      "Actual: 0 | Predicted: 0\n",
      "Actual: 0 | Predicted: 0\n",
      "Actual: 1 | Predicted: 1\n",
      "Actual: 0 | Predicted: 0\n",
      "Actual: 1 | Predicted: 1\n",
      "Actual: 0 | Predicted: 0\n",
      "Actual: 0 | Predicted: 0\n",
      "Actual: 1 | Predicted: 1\n",
      "Actual: 1 | Predicted: 1\n",
      "Actual: 1 | Predicted: 1\n",
      "Actual: 0 | Predicted: 0\n",
      "Actual: 0 | Predicted: 0\n",
      "Actual: 0 | Predicted: 0\n",
      "Actual: 0 | Predicted: 0\n",
      "Actual: 1 | Predicted: 1\n",
      "Actual: 0 | Predicted: 0\n",
      "Actual: 1 | Predicted: 1\n",
      "Actual: 1 | Predicted: 1\n",
      "Actual: 1 | Predicted: 1\n",
      "Actual: 0 | Predicted: 0\n",
      "Actual: 1 | Predicted: 1\n",
      "Actual: 0 | Predicted: 0\n",
      "Actual: 0 | Predicted: 0\n",
      "Actual: 1 | Predicted: 1\n",
      "Actual: 0 | Predicted: 0\n",
      "Actual: 0 | Predicted: 0\n",
      "Actual: 1 | Predicted: 1\n",
      "Actual: 1 | Predicted: 1\n",
      "Actual: 1 | Predicted: 0\n",
      "Actual: 1 | Predicted: 1\n",
      "Actual: 0 | Predicted: 0\n",
      "Actual: 0 | Predicted: 1\n",
      "Actual: 0 | Predicted: 0\n",
      "Actual: 1 | Predicted: 0\n",
      "Actual: 0 | Predicted: 0\n",
      "Actual: 0 | Predicted: 0\n",
      "Actual: 1 | Predicted: 1\n",
      "Actual: 1 | Predicted: 1\n",
      "Actual: 0 | Predicted: 0\n",
      "Actual: 0 | Predicted: 0\n",
      "Actual: 1 | Predicted: 1\n",
      "Actual: 0 | Predicted: 0\n",
      "Actual: 1 | Predicted: 1\n",
      "Actual: 0 | Predicted: 1\n",
      "Actual: 0 | Predicted: 1\n",
      "Actual: 1 | Predicted: 1\n",
      "Actual: 1 | Predicted: 1\n",
      "Actual: 1 | Predicted: 0\n",
      "Actual: 1 | Predicted: 1\n",
      "Actual: 0 | Predicted: 0\n",
      "Actual: 0 | Predicted: 0\n",
      "Actual: 1 | Predicted: 1\n",
      "Actual: 1 | Predicted: 1\n",
      "Actual: 1 | Predicted: 1\n",
      "Actual: 0 | Predicted: 0\n",
      "Actual: 0 | Predicted: 0\n",
      "Actual: 1 | Predicted: 1\n",
      "Actual: 1 | Predicted: 1\n",
      "Actual: 1 | Predicted: 1\n",
      "Actual: 0 | Predicted: 0\n",
      "Actual: 0 | Predicted: 0\n",
      "Actual: 0 | Predicted: 0\n",
      "Actual: 0 | Predicted: 0\n",
      "Actual: 0 | Predicted: 0\n",
      "Actual: 0 | Predicted: 0\n",
      "Actual: 0 | Predicted: 0\n",
      "Actual: 1 | Predicted: 1\n",
      "Actual: 1 | Predicted: 1\n",
      "Actual: 1 | Predicted: 1\n",
      "Actual: 1 | Predicted: 1\n",
      "Actual: 1 | Predicted: 1\n",
      "Actual: 0 | Predicted: 0\n",
      "Actual: 1 | Predicted: 0\n",
      "Actual: 1 | Predicted: 1\n",
      "Actual: 0 | Predicted: 0\n",
      "Actual: 0 | Predicted: 0\n",
      "Actual: 0 | Predicted: 0\n",
      "Actual: 0 | Predicted: 0\n",
      "Actual: 1 | Predicted: 1\n",
      "Actual: 0 | Predicted: 0\n",
      "Actual: 1 | Predicted: 1\n",
      "Actual: 0 | Predicted: 0\n",
      "Actual: 1 | Predicted: 1\n",
      "Actual: 1 | Predicted: 1\n",
      "Actual: 1 | Predicted: 1\n",
      "Actual: 0 | Predicted: 0\n",
      "Actual: 0 | Predicted: 0\n",
      "Actual: 1 | Predicted: 1\n",
      "Actual: 1 | Predicted: 1\n",
      "Actual: 0 | Predicted: 0\n",
      "Actual: 1 | Predicted: 1\n",
      "Actual: 0 | Predicted: 0\n",
      "Actual: 1 | Predicted: 1\n",
      "Actual: 0 | Predicted: 0\n",
      "Actual: 1 | Predicted: 1\n",
      "Actual: 1 | Predicted: 1\n",
      "Actual: 0 | Predicted: 0\n",
      "Actual: 0 | Predicted: 0\n",
      "Actual: 1 | Predicted: 1\n",
      "Actual: 0 | Predicted: 1\n",
      "Actual: 0 | Predicted: 0\n",
      "Actual: 0 | Predicted: 0\n",
      "Actual: 1 | Predicted: 1\n",
      "Actual: 1 | Predicted: 1\n",
      "Actual: 0 | Predicted: 0\n",
      "Actual: 0 | Predicted: 0\n",
      "Actual: 1 | Predicted: 1\n",
      "Actual: 0 | Predicted: 0\n",
      "Actual: 1 | Predicted: 1\n",
      "Actual: 1 | Predicted: 0\n",
      "Actual: 0 | Predicted: 0\n",
      "Actual: 0 | Predicted: 0\n",
      "Actual: 0 | Predicted: 0\n",
      "Actual: 1 | Predicted: 1\n",
      "Actual: 0 | Predicted: 0\n",
      "Actual: 0 | Predicted: 0\n",
      "Actual: 1 | Predicted: 1\n",
      "Actual: 1 | Predicted: 0\n",
      "Actual: 1 | Predicted: 1\n",
      "Actual: 0 | Predicted: 1\n",
      "Actual: 1 | Predicted: 1\n",
      "Actual: 0 | Predicted: 0\n",
      "Actual: 1 | Predicted: 1\n",
      "Actual: 1 | Predicted: 1\n",
      "Actual: 0 | Predicted: 0\n",
      "Actual: 0 | Predicted: 0\n",
      "Actual: 1 | Predicted: 1\n",
      "Actual: 0 | Predicted: 1\n",
      "Actual: 0 | Predicted: 0\n",
      "Actual: 1 | Predicted: 1\n",
      "Actual: 0 | Predicted: 0\n",
      "Actual: 1 | Predicted: 1\n",
      "Actual: 1 | Predicted: 1\n",
      "Actual: 0 | Predicted: 0\n",
      "Actual: 1 | Predicted: 1\n",
      "Actual: 1 | Predicted: 1\n",
      "Actual: 1 | Predicted: 0\n",
      "Actual: 1 | Predicted: 1\n",
      "Actual: 0 | Predicted: 0\n",
      "Actual: 0 | Predicted: 0\n",
      "Actual: 0 | Predicted: 0\n",
      "Actual: 0 | Predicted: 0\n",
      "Actual: 1 | Predicted: 1\n",
      "Actual: 0 | Predicted: 0\n",
      "Actual: 1 | Predicted: 1\n",
      "Actual: 0 | Predicted: 0\n",
      "Actual: 1 | Predicted: 1\n",
      "Actual: 0 | Predicted: 0\n",
      "Actual: 1 | Predicted: 1\n",
      "Actual: 0 | Predicted: 0\n",
      "Actual: 1 | Predicted: 1\n",
      "Actual: 1 | Predicted: 1\n",
      "Actual: 1 | Predicted: 1\n",
      "Actual: 0 | Predicted: 1\n",
      "Actual: 1 | Predicted: 1\n",
      "Actual: 0 | Predicted: 0\n",
      "Actual: 0 | Predicted: 0\n",
      "Actual: 1 | Predicted: 1\n",
      "Actual: 1 | Predicted: 1\n",
      "Actual: 0 | Predicted: 0\n",
      "Actual: 0 | Predicted: 1\n",
      "Actual: 0 | Predicted: 1\n",
      "Actual: 0 | Predicted: 0\n",
      "Actual: 1 | Predicted: 1\n",
      "Actual: 0 | Predicted: 0\n",
      "Actual: 0 | Predicted: 0\n",
      "Actual: 1 | Predicted: 1\n",
      "Actual: 0 | Predicted: 0\n",
      "Actual: 1 | Predicted: 1\n",
      "Actual: 0 | Predicted: 0\n",
      "Actual: 0 | Predicted: 0\n",
      "Actual: 0 | Predicted: 0\n",
      "Actual: 1 | Predicted: 1\n",
      "Actual: 0 | Predicted: 0\n",
      "Actual: 0 | Predicted: 0\n",
      "Actual: 0 | Predicted: 0\n",
      "Actual: 1 | Predicted: 1\n",
      "Actual: 0 | Predicted: 1\n",
      "Actual: 0 | Predicted: 0\n",
      "Actual: 1 | Predicted: 1\n",
      "Actual: 0 | Predicted: 0\n",
      "Actual: 1 | Predicted: 1\n",
      "Actual: 0 | Predicted: 0\n",
      "Actual: 0 | Predicted: 0\n",
      "Actual: 1 | Predicted: 1\n",
      "Actual: 1 | Predicted: 1\n",
      "Actual: 1 | Predicted: 1\n",
      "Actual: 0 | Predicted: 0\n",
      "Actual: 1 | Predicted: 1\n",
      "Actual: 0 | Predicted: 0\n",
      "Actual: 0 | Predicted: 0\n",
      "Actual: 1 | Predicted: 1\n",
      "Actual: 0 | Predicted: 0\n",
      "Actual: 1 | Predicted: 1\n",
      "Actual: 0 | Predicted: 1\n",
      "Actual: 1 | Predicted: 1\n",
      "Actual: 0 | Predicted: 0\n",
      "Actual: 1 | Predicted: 1\n",
      "Actual: 1 | Predicted: 1\n",
      "Actual: 0 | Predicted: 0\n",
      "Actual: 1 | Predicted: 0\n",
      "Actual: 0 | Predicted: 0\n",
      "Actual: 1 | Predicted: 1\n",
      "Actual: 1 | Predicted: 1\n",
      "Actual: 0 | Predicted: 0\n",
      "Actual: 0 | Predicted: 1\n",
      "Actual: 1 | Predicted: 1\n",
      "Actual: 1 | Predicted: 1\n",
      "Actual: 1 | Predicted: 1\n",
      "Actual: 0 | Predicted: 0\n",
      "Actual: 0 | Predicted: 0\n",
      "Actual: 0 | Predicted: 0\n",
      "Actual: 1 | Predicted: 1\n",
      "Actual: 1 | Predicted: 1\n",
      "Actual: 1 | Predicted: 0\n",
      "Actual: 1 | Predicted: 1\n",
      "Actual: 0 | Predicted: 0\n",
      "Actual: 1 | Predicted: 1\n",
      "Actual: 0 | Predicted: 0\n",
      "Actual: 0 | Predicted: 1\n",
      "Actual: 1 | Predicted: 1\n",
      "Actual: 0 | Predicted: 1\n",
      "Actual: 1 | Predicted: 1\n",
      "Actual: 0 | Predicted: 0\n",
      "Actual: 1 | Predicted: 1\n",
      "Actual: 1 | Predicted: 1\n",
      "Actual: 1 | Predicted: 1\n",
      "Actual: 1 | Predicted: 1\n",
      "Actual: 0 | Predicted: 0\n",
      "Actual: 1 | Predicted: 1\n",
      "Actual: 1 | Predicted: 1\n",
      "Actual: 0 | Predicted: 0\n",
      "Actual: 0 | Predicted: 0\n",
      "Actual: 0 | Predicted: 0\n",
      "Actual: 1 | Predicted: 1\n",
      "Actual: 0 | Predicted: 0\n",
      "Actual: 1 | Predicted: 1\n",
      "Actual: 1 | Predicted: 1\n",
      "Actual: 0 | Predicted: 0\n",
      "Actual: 0 | Predicted: 0\n",
      "Actual: 1 | Predicted: 1\n",
      "Actual: 0 | Predicted: 0\n",
      "Actual: 0 | Predicted: 0\n",
      "Actual: 1 | Predicted: 1\n",
      "Actual: 1 | Predicted: 1\n",
      "Actual: 1 | Predicted: 1\n",
      "Actual: 1 | Predicted: 1\n",
      "Actual: 1 | Predicted: 1\n",
      "Actual: 1 | Predicted: 0\n",
      "Actual: 0 | Predicted: 1\n",
      "Actual: 0 | Predicted: 1\n",
      "Actual: 0 | Predicted: 0\n",
      "Actual: 1 | Predicted: 1\n",
      "Actual: 1 | Predicted: 1\n",
      "Actual: 1 | Predicted: 1\n",
      "Actual: 0 | Predicted: 0\n",
      "Actual: 1 | Predicted: 1\n",
      "Actual: 0 | Predicted: 0\n",
      "Actual: 1 | Predicted: 1\n",
      "Actual: 0 | Predicted: 0\n",
      "Actual: 0 | Predicted: 0\n",
      "Actual: 0 | Predicted: 0\n",
      "Actual: 0 | Predicted: 0\n",
      "Actual: 0 | Predicted: 0\n",
      "Actual: 0 | Predicted: 0\n",
      "Actual: 1 | Predicted: 1\n",
      "Actual: 0 | Predicted: 0\n",
      "Actual: 1 | Predicted: 1\n",
      "Actual: 1 | Predicted: 1\n",
      "Actual: 0 | Predicted: 0\n",
      "Actual: 1 | Predicted: 1\n",
      "Actual: 1 | Predicted: 1\n",
      "Actual: 0 | Predicted: 0\n",
      "Actual: 1 | Predicted: 1\n",
      "Actual: 1 | Predicted: 1\n",
      "Actual: 1 | Predicted: 1\n",
      "Actual: 1 | Predicted: 0\n",
      "Actual: 1 | Predicted: 1\n",
      "Actual: 0 | Predicted: 0\n",
      "Actual: 1 | Predicted: 1\n",
      "Actual: 1 | Predicted: 1\n",
      "Actual: 0 | Predicted: 0\n",
      "Actual: 1 | Predicted: 1\n",
      "Actual: 0 | Predicted: 0\n",
      "Actual: 1 | Predicted: 1\n",
      "Actual: 1 | Predicted: 1\n",
      "Actual: 0 | Predicted: 0\n",
      "Actual: 1 | Predicted: 1\n",
      "Actual: 1 | Predicted: 0\n",
      "Actual: 1 | Predicted: 1\n",
      "Actual: 1 | Predicted: 1\n",
      "Actual: 1 | Predicted: 0\n",
      "Actual: 0 | Predicted: 0\n",
      "Actual: 1 | Predicted: 1\n",
      "Actual: 0 | Predicted: 0\n",
      "Actual: 0 | Predicted: 0\n",
      "Actual: 0 | Predicted: 0\n",
      "Actual: 0 | Predicted: 0\n",
      "Actual: 0 | Predicted: 0\n",
      "Actual: 0 | Predicted: 0\n",
      "Actual: 1 | Predicted: 1\n",
      "Actual: 1 | Predicted: 0\n",
      "Actual: 1 | Predicted: 1\n",
      "Actual: 1 | Predicted: 0\n",
      "Actual: 1 | Predicted: 1\n",
      "Actual: 1 | Predicted: 1\n",
      "Actual: 1 | Predicted: 0\n",
      "Actual: 0 | Predicted: 0\n",
      "Actual: 0 | Predicted: 0\n",
      "Actual: 0 | Predicted: 0\n",
      "Actual: 1 | Predicted: 1\n",
      "Actual: 1 | Predicted: 1\n",
      "Actual: 0 | Predicted: 0\n",
      "Actual: 0 | Predicted: 0\n",
      "Actual: 0 | Predicted: 0\n",
      "Actual: 0 | Predicted: 0\n",
      "Actual: 1 | Predicted: 1\n",
      "Actual: 1 | Predicted: 1\n",
      "Actual: 1 | Predicted: 0\n",
      "Actual: 0 | Predicted: 0\n",
      "Actual: 1 | Predicted: 1\n",
      "Actual: 0 | Predicted: 0\n",
      "Actual: 0 | Predicted: 0\n",
      "Actual: 0 | Predicted: 0\n",
      "Actual: 1 | Predicted: 1\n",
      "Actual: 1 | Predicted: 1\n",
      "Actual: 0 | Predicted: 0\n",
      "Actual: 0 | Predicted: 1\n",
      "Actual: 1 | Predicted: 1\n",
      "Actual: 1 | Predicted: 1\n",
      "Actual: 0 | Predicted: 0\n",
      "Actual: 1 | Predicted: 1\n",
      "Actual: 1 | Predicted: 0\n",
      "Actual: 1 | Predicted: 1\n",
      "Actual: 0 | Predicted: 0\n",
      "Actual: 0 | Predicted: 0\n",
      "Actual: 0 | Predicted: 0\n",
      "Actual: 1 | Predicted: 1\n",
      "Actual: 1 | Predicted: 0\n",
      "Actual: 1 | Predicted: 1\n",
      "Actual: 1 | Predicted: 1\n",
      "Actual: 1 | Predicted: 1\n",
      "Actual: 0 | Predicted: 0\n",
      "Actual: 1 | Predicted: 1\n",
      "Actual: 1 | Predicted: 1\n",
      "Actual: 1 | Predicted: 1\n",
      "Actual: 1 | Predicted: 0\n",
      "Actual: 1 | Predicted: 1\n",
      "Actual: 0 | Predicted: 0\n",
      "Actual: 1 | Predicted: 1\n",
      "Actual: 1 | Predicted: 1\n",
      "Actual: 0 | Predicted: 0\n",
      "Actual: 0 | Predicted: 0\n",
      "Actual: 0 | Predicted: 0\n",
      "Actual: 0 | Predicted: 0\n",
      "Actual: 0 | Predicted: 0\n",
      "Actual: 1 | Predicted: 1\n",
      "Actual: 1 | Predicted: 1\n",
      "Actual: 1 | Predicted: 0\n",
      "Actual: 1 | Predicted: 1\n",
      "Actual: 0 | Predicted: 1\n",
      "Actual: 1 | Predicted: 1\n",
      "Actual: 0 | Predicted: 1\n",
      "Actual: 0 | Predicted: 0\n",
      "Actual: 0 | Predicted: 0\n",
      "Actual: 0 | Predicted: 0\n",
      "Actual: 1 | Predicted: 1\n",
      "Actual: 1 | Predicted: 1\n",
      "Actual: 0 | Predicted: 0\n",
      "Actual: 1 | Predicted: 1\n",
      "Actual: 0 | Predicted: 0\n",
      "Actual: 1 | Predicted: 1\n",
      "Actual: 1 | Predicted: 1\n",
      "Actual: 0 | Predicted: 0\n",
      "Actual: 1 | Predicted: 1\n",
      "Actual: 1 | Predicted: 1\n",
      "Actual: 0 | Predicted: 0\n",
      "Actual: 1 | Predicted: 1\n",
      "Actual: 0 | Predicted: 0\n",
      "Actual: 0 | Predicted: 1\n",
      "Actual: 0 | Predicted: 1\n",
      "Actual: 1 | Predicted: 1\n",
      "Actual: 1 | Predicted: 1\n",
      "Actual: 0 | Predicted: 0\n",
      "Actual: 1 | Predicted: 0\n",
      "Actual: 1 | Predicted: 1\n",
      "Actual: 0 | Predicted: 0\n",
      "Actual: 1 | Predicted: 1\n",
      "Actual: 0 | Predicted: 0\n",
      "Actual: 0 | Predicted: 0\n",
      "Actual: 0 | Predicted: 0\n",
      "Actual: 1 | Predicted: 1\n",
      "Actual: 1 | Predicted: 1\n",
      "Actual: 0 | Predicted: 0\n",
      "Actual: 0 | Predicted: 0\n",
      "Actual: 0 | Predicted: 0\n",
      "Actual: 0 | Predicted: 0\n",
      "Actual: 1 | Predicted: 1\n",
      "Actual: 0 | Predicted: 0\n",
      "Actual: 0 | Predicted: 0\n",
      "Actual: 0 | Predicted: 0\n",
      "Actual: 0 | Predicted: 0\n",
      "Actual: 1 | Predicted: 1\n",
      "Actual: 0 | Predicted: 0\n",
      "Actual: 1 | Predicted: 1\n",
      "Actual: 0 | Predicted: 1\n",
      "Actual: 1 | Predicted: 1\n",
      "Actual: 1 | Predicted: 1\n",
      "Actual: 0 | Predicted: 0\n",
      "Actual: 0 | Predicted: 0\n",
      "Actual: 1 | Predicted: 1\n",
      "Actual: 0 | Predicted: 0\n",
      "Actual: 1 | Predicted: 1\n",
      "Actual: 1 | Predicted: 0\n",
      "Actual: 1 | Predicted: 1\n",
      "Actual: 0 | Predicted: 0\n",
      "Actual: 1 | Predicted: 1\n",
      "Actual: 1 | Predicted: 1\n",
      "Actual: 1 | Predicted: 1\n",
      "Actual: 1 | Predicted: 0\n",
      "Actual: 0 | Predicted: 0\n",
      "Actual: 1 | Predicted: 1\n",
      "Actual: 0 | Predicted: 1\n",
      "Actual: 1 | Predicted: 1\n",
      "Actual: 0 | Predicted: 0\n",
      "Actual: 1 | Predicted: 1\n",
      "Actual: 1 | Predicted: 1\n",
      "Actual: 1 | Predicted: 1\n",
      "Actual: 1 | Predicted: 1\n",
      "Actual: 0 | Predicted: 0\n",
      "Actual: 1 | Predicted: 1\n",
      "Actual: 0 | Predicted: 1\n",
      "Actual: 1 | Predicted: 1\n",
      "Actual: 1 | Predicted: 1\n",
      "Actual: 0 | Predicted: 0\n",
      "Actual: 0 | Predicted: 0\n",
      "Actual: 1 | Predicted: 1\n",
      "Actual: 1 | Predicted: 1\n",
      "Actual: 1 | Predicted: 1\n",
      "Actual: 1 | Predicted: 1\n",
      "Actual: 0 | Predicted: 0\n",
      "Actual: 0 | Predicted: 0\n",
      "Actual: 1 | Predicted: 1\n",
      "Actual: 0 | Predicted: 0\n",
      "Actual: 1 | Predicted: 1\n",
      "Actual: 0 | Predicted: 0\n",
      "Actual: 1 | Predicted: 1\n",
      "Actual: 1 | Predicted: 1\n",
      "Actual: 0 | Predicted: 0\n",
      "Actual: 0 | Predicted: 0\n",
      "Actual: 0 | Predicted: 0\n",
      "Actual: 0 | Predicted: 0\n",
      "Actual: 0 | Predicted: 0\n",
      "Actual: 1 | Predicted: 1\n",
      "Actual: 1 | Predicted: 1\n",
      "Actual: 0 | Predicted: 0\n",
      "Actual: 1 | Predicted: 1\n",
      "Actual: 1 | Predicted: 1\n",
      "Actual: 1 | Predicted: 1\n",
      "Actual: 0 | Predicted: 0\n",
      "Actual: 0 | Predicted: 0\n",
      "Actual: 1 | Predicted: 1\n",
      "Actual: 1 | Predicted: 1\n",
      "Actual: 0 | Predicted: 0\n",
      "Actual: 0 | Predicted: 0\n",
      "Actual: 1 | Predicted: 1\n",
      "Actual: 1 | Predicted: 1\n",
      "Actual: 0 | Predicted: 0\n",
      "Actual: 0 | Predicted: 0\n",
      "Actual: 1 | Predicted: 1\n",
      "Actual: 1 | Predicted: 0\n",
      "Actual: 1 | Predicted: 1\n",
      "Actual: 1 | Predicted: 0\n",
      "Actual: 0 | Predicted: 0\n",
      "Actual: 0 | Predicted: 0\n",
      "Actual: 1 | Predicted: 1\n",
      "Actual: 0 | Predicted: 0\n",
      "Actual: 0 | Predicted: 0\n",
      "Actual: 0 | Predicted: 0\n",
      "Actual: 0 | Predicted: 0\n",
      "Actual: 1 | Predicted: 0\n",
      "Actual: 0 | Predicted: 0\n",
      "Actual: 0 | Predicted: 0\n",
      "Actual: 0 | Predicted: 1\n",
      "Actual: 1 | Predicted: 1\n",
      "Actual: 1 | Predicted: 1\n",
      "Actual: 0 | Predicted: 0\n",
      "Actual: 1 | Predicted: 1\n",
      "Actual: 1 | Predicted: 1\n",
      "Actual: 1 | Predicted: 1\n",
      "Actual: 0 | Predicted: 0\n",
      "Actual: 1 | Predicted: 1\n",
      "Actual: 0 | Predicted: 1\n",
      "Actual: 0 | Predicted: 0\n",
      "Actual: 0 | Predicted: 0\n",
      "Actual: 1 | Predicted: 1\n",
      "Actual: 1 | Predicted: 1\n",
      "Actual: 0 | Predicted: 0\n",
      "Actual: 0 | Predicted: 0\n",
      "Actual: 1 | Predicted: 1\n",
      "Actual: 0 | Predicted: 1\n",
      "Actual: 0 | Predicted: 0\n",
      "Actual: 1 | Predicted: 1\n",
      "Actual: 0 | Predicted: 0\n",
      "Actual: 0 | Predicted: 0\n",
      "Actual: 1 | Predicted: 1\n",
      "Actual: 1 | Predicted: 1\n",
      "Actual: 0 | Predicted: 0\n",
      "Actual: 0 | Predicted: 0\n",
      "Actual: 0 | Predicted: 0\n",
      "Actual: 1 | Predicted: 1\n",
      "Actual: 0 | Predicted: 0\n",
      "Actual: 1 | Predicted: 1\n",
      "Actual: 0 | Predicted: 0\n",
      "Actual: 1 | Predicted: 1\n",
      "Actual: 1 | Predicted: 1\n",
      "Actual: 0 | Predicted: 0\n",
      "Actual: 0 | Predicted: 0\n",
      "Actual: 0 | Predicted: 0\n",
      "Actual: 0 | Predicted: 0\n",
      "Actual: 1 | Predicted: 0\n",
      "Actual: 0 | Predicted: 0\n",
      "Actual: 0 | Predicted: 0\n",
      "Actual: 1 | Predicted: 1\n",
      "Actual: 1 | Predicted: 0\n",
      "Actual: 1 | Predicted: 1\n",
      "Actual: 0 | Predicted: 0\n",
      "Actual: 0 | Predicted: 0\n",
      "Actual: 0 | Predicted: 0\n",
      "Actual: 0 | Predicted: 0\n",
      "Actual: 0 | Predicted: 0\n",
      "Actual: 1 | Predicted: 1\n",
      "Actual: 1 | Predicted: 1\n",
      "Actual: 0 | Predicted: 0\n",
      "Actual: 0 | Predicted: 1\n",
      "Actual: 0 | Predicted: 0\n",
      "Actual: 1 | Predicted: 1\n",
      "Actual: 1 | Predicted: 1\n",
      "Actual: 0 | Predicted: 0\n",
      "Actual: 1 | Predicted: 1\n",
      "Actual: 1 | Predicted: 0\n",
      "Actual: 0 | Predicted: 0\n",
      "Actual: 0 | Predicted: 0\n",
      "Actual: 1 | Predicted: 1\n",
      "Actual: 1 | Predicted: 1\n",
      "Actual: 1 | Predicted: 1\n",
      "Actual: 1 | Predicted: 1\n",
      "Actual: 0 | Predicted: 0\n",
      "Actual: 1 | Predicted: 1\n",
      "Actual: 0 | Predicted: 0\n",
      "Actual: 1 | Predicted: 1\n",
      "Actual: 1 | Predicted: 1\n",
      "Actual: 1 | Predicted: 1\n",
      "Actual: 0 | Predicted: 1\n",
      "Actual: 0 | Predicted: 0\n",
      "Actual: 1 | Predicted: 1\n",
      "Actual: 0 | Predicted: 0\n",
      "Actual: 1 | Predicted: 1\n",
      "Actual: 0 | Predicted: 0\n",
      "Actual: 1 | Predicted: 1\n",
      "Actual: 1 | Predicted: 0\n",
      "Actual: 1 | Predicted: 1\n",
      "Actual: 0 | Predicted: 0\n",
      "Actual: 0 | Predicted: 0\n",
      "Actual: 1 | Predicted: 1\n",
      "Actual: 1 | Predicted: 1\n",
      "Actual: 0 | Predicted: 0\n",
      "Actual: 1 | Predicted: 1\n",
      "Actual: 1 | Predicted: 1\n",
      "Actual: 1 | Predicted: 1\n",
      "Actual: 0 | Predicted: 0\n",
      "Actual: 0 | Predicted: 0\n",
      "Actual: 0 | Predicted: 1\n",
      "Actual: 0 | Predicted: 0\n",
      "Actual: 1 | Predicted: 1\n",
      "Actual: 1 | Predicted: 1\n",
      "Actual: 1 | Predicted: 1\n",
      "Actual: 1 | Predicted: 1\n",
      "Actual: 1 | Predicted: 1\n",
      "Actual: 0 | Predicted: 1\n",
      "Actual: 1 | Predicted: 1\n",
      "Actual: 1 | Predicted: 1\n",
      "Actual: 1 | Predicted: 1\n",
      "Actual: 0 | Predicted: 0\n",
      "Actual: 1 | Predicted: 0\n",
      "Actual: 0 | Predicted: 0\n",
      "Actual: 1 | Predicted: 1\n",
      "Actual: 1 | Predicted: 1\n",
      "Actual: 0 | Predicted: 0\n",
      "Actual: 0 | Predicted: 0\n",
      "Actual: 1 | Predicted: 1\n",
      "Actual: 1 | Predicted: 1\n",
      "Actual: 0 | Predicted: 0\n",
      "Actual: 0 | Predicted: 0\n",
      "Actual: 0 | Predicted: 1\n",
      "Actual: 1 | Predicted: 0\n",
      "Actual: 1 | Predicted: 1\n",
      "Actual: 0 | Predicted: 0\n",
      "Actual: 1 | Predicted: 1\n",
      "Actual: 0 | Predicted: 0\n",
      "Actual: 1 | Predicted: 1\n",
      "Actual: 1 | Predicted: 1\n",
      "Actual: 1 | Predicted: 0\n",
      "Actual: 1 | Predicted: 1\n",
      "Actual: 1 | Predicted: 1\n",
      "Actual: 0 | Predicted: 0\n",
      "Actual: 0 | Predicted: 0\n",
      "Actual: 1 | Predicted: 1\n",
      "Actual: 0 | Predicted: 0\n",
      "Actual: 1 | Predicted: 1\n",
      "Actual: 0 | Predicted: 0\n",
      "Actual: 0 | Predicted: 1\n",
      "Actual: 1 | Predicted: 1\n",
      "Actual: 1 | Predicted: 1\n",
      "Actual: 1 | Predicted: 0\n",
      "Actual: 1 | Predicted: 1\n",
      "Actual: 1 | Predicted: 1\n",
      "Actual: 0 | Predicted: 0\n",
      "Actual: 0 | Predicted: 0\n",
      "Actual: 1 | Predicted: 1\n",
      "Actual: 0 | Predicted: 1\n",
      "Actual: 1 | Predicted: 1\n",
      "Actual: 1 | Predicted: 1\n",
      "Actual: 0 | Predicted: 0\n",
      "Actual: 0 | Predicted: 0\n",
      "Actual: 1 | Predicted: 1\n",
      "Actual: 1 | Predicted: 1\n",
      "Actual: 1 | Predicted: 1\n",
      "Actual: 1 | Predicted: 1\n",
      "Actual: 1 | Predicted: 1\n",
      "Actual: 1 | Predicted: 1\n",
      "Actual: 0 | Predicted: 0\n",
      "Actual: 1 | Predicted: 1\n",
      "Actual: 1 | Predicted: 1\n",
      "Actual: 0 | Predicted: 0\n",
      "Actual: 0 | Predicted: 0\n",
      "Actual: 1 | Predicted: 1\n",
      "Actual: 1 | Predicted: 1\n",
      "Actual: 1 | Predicted: 1\n",
      "Actual: 0 | Predicted: 1\n",
      "Actual: 1 | Predicted: 0\n",
      "Actual: 0 | Predicted: 0\n",
      "Actual: 1 | Predicted: 1\n",
      "Actual: 1 | Predicted: 1\n",
      "Actual: 0 | Predicted: 0\n",
      "Actual: 1 | Predicted: 1\n",
      "Actual: 0 | Predicted: 0\n",
      "Actual: 0 | Predicted: 0\n",
      "Actual: 1 | Predicted: 1\n",
      "Actual: 0 | Predicted: 0\n",
      "Actual: 1 | Predicted: 1\n",
      "Actual: 1 | Predicted: 0\n",
      "Actual: 0 | Predicted: 0\n",
      "Actual: 1 | Predicted: 1\n",
      "Actual: 0 | Predicted: 0\n",
      "Actual: 0 | Predicted: 0\n",
      "Actual: 1 | Predicted: 1\n",
      "Actual: 1 | Predicted: 1\n",
      "Actual: 0 | Predicted: 1\n",
      "Actual: 0 | Predicted: 1\n",
      "Actual: 0 | Predicted: 0\n",
      "Actual: 0 | Predicted: 0\n",
      "Actual: 0 | Predicted: 1\n",
      "Actual: 0 | Predicted: 0\n",
      "Actual: 1 | Predicted: 1\n",
      "Actual: 1 | Predicted: 1\n",
      "Actual: 1 | Predicted: 1\n",
      "Actual: 0 | Predicted: 0\n",
      "Actual: 0 | Predicted: 0\n",
      "Actual: 0 | Predicted: 0\n",
      "Actual: 0 | Predicted: 0\n",
      "Actual: 0 | Predicted: 0\n",
      "Actual: 0 | Predicted: 0\n",
      "Actual: 1 | Predicted: 1\n",
      "Actual: 1 | Predicted: 1\n",
      "Actual: 1 | Predicted: 1\n",
      "Actual: 1 | Predicted: 1\n",
      "Actual: 0 | Predicted: 0\n",
      "Actual: 0 | Predicted: 0\n",
      "Actual: 1 | Predicted: 1\n",
      "Actual: 0 | Predicted: 1\n",
      "Actual: 1 | Predicted: 1\n",
      "Actual: 1 | Predicted: 0\n",
      "Actual: 0 | Predicted: 0\n",
      "Actual: 1 | Predicted: 1\n",
      "Actual: 0 | Predicted: 1\n",
      "Actual: 1 | Predicted: 1\n",
      "Actual: 0 | Predicted: 0\n",
      "Actual: 1 | Predicted: 1\n",
      "Actual: 1 | Predicted: 1\n",
      "Actual: 1 | Predicted: 1\n",
      "Actual: 0 | Predicted: 0\n",
      "Actual: 1 | Predicted: 1\n",
      "Actual: 1 | Predicted: 1\n",
      "Actual: 1 | Predicted: 1\n",
      "Actual: 0 | Predicted: 0\n",
      "Actual: 0 | Predicted: 0\n",
      "Actual: 1 | Predicted: 1\n",
      "Actual: 0 | Predicted: 0\n",
      "Actual: 0 | Predicted: 0\n",
      "Actual: 0 | Predicted: 0\n",
      "Actual: 0 | Predicted: 1\n",
      "Actual: 1 | Predicted: 1\n",
      "Actual: 0 | Predicted: 0\n",
      "Actual: 1 | Predicted: 1\n",
      "Actual: 0 | Predicted: 0\n",
      "Actual: 1 | Predicted: 1\n",
      "Actual: 0 | Predicted: 0\n",
      "Actual: 1 | Predicted: 0\n",
      "Actual: 0 | Predicted: 0\n",
      "Actual: 0 | Predicted: 1\n",
      "Actual: 0 | Predicted: 0\n",
      "Actual: 1 | Predicted: 1\n",
      "Actual: 1 | Predicted: 1\n",
      "Actual: 0 | Predicted: 0\n",
      "Actual: 0 | Predicted: 0\n",
      "Actual: 0 | Predicted: 0\n",
      "Actual: 0 | Predicted: 0\n",
      "Actual: 1 | Predicted: 1\n",
      "Actual: 0 | Predicted: 0\n",
      "Actual: 1 | Predicted: 1\n",
      "Actual: 0 | Predicted: 0\n",
      "Actual: 1 | Predicted: 1\n",
      "Actual: 1 | Predicted: 1\n",
      "Actual: 0 | Predicted: 0\n",
      "Actual: 0 | Predicted: 0\n",
      "Actual: 0 | Predicted: 0\n",
      "Actual: 1 | Predicted: 1\n",
      "Actual: 0 | Predicted: 1\n",
      "Actual: 1 | Predicted: 1\n",
      "Actual: 1 | Predicted: 1\n",
      "Actual: 0 | Predicted: 0\n",
      "Actual: 1 | Predicted: 1\n",
      "Actual: 1 | Predicted: 1\n",
      "Actual: 0 | Predicted: 0\n",
      "Actual: 1 | Predicted: 1\n",
      "Actual: 0 | Predicted: 0\n",
      "Actual: 1 | Predicted: 0\n",
      "Actual: 0 | Predicted: 0\n",
      "Actual: 0 | Predicted: 0\n",
      "Actual: 0 | Predicted: 0\n",
      "Actual: 1 | Predicted: 1\n",
      "Actual: 0 | Predicted: 0\n",
      "Actual: 0 | Predicted: 0\n",
      "Actual: 0 | Predicted: 0\n",
      "Actual: 1 | Predicted: 1\n",
      "Actual: 1 | Predicted: 1\n",
      "Actual: 0 | Predicted: 0\n",
      "Actual: 1 | Predicted: 1\n",
      "Actual: 0 | Predicted: 0\n",
      "Actual: 0 | Predicted: 0\n",
      "Actual: 0 | Predicted: 0\n",
      "Actual: 0 | Predicted: 0\n",
      "Actual: 0 | Predicted: 1\n",
      "Actual: 0 | Predicted: 0\n",
      "Actual: 1 | Predicted: 1\n",
      "Actual: 1 | Predicted: 1\n",
      "Actual: 1 | Predicted: 1\n",
      "Actual: 1 | Predicted: 1\n",
      "Actual: 1 | Predicted: 1\n",
      "Actual: 1 | Predicted: 1\n",
      "Actual: 0 | Predicted: 0\n",
      "Actual: 1 | Predicted: 1\n",
      "Actual: 1 | Predicted: 1\n",
      "Actual: 0 | Predicted: 0\n",
      "Actual: 1 | Predicted: 1\n",
      "Actual: 0 | Predicted: 0\n",
      "Actual: 0 | Predicted: 0\n",
      "Actual: 0 | Predicted: 0\n",
      "Actual: 0 | Predicted: 0\n",
      "Actual: 0 | Predicted: 0\n",
      "Actual: 0 | Predicted: 0\n",
      "Actual: 1 | Predicted: 1\n",
      "Actual: 1 | Predicted: 1\n",
      "Actual: 1 | Predicted: 0\n",
      "Actual: 1 | Predicted: 0\n",
      "Actual: 0 | Predicted: 0\n",
      "Actual: 1 | Predicted: 0\n",
      "Actual: 0 | Predicted: 0\n",
      "Actual: 1 | Predicted: 1\n",
      "Actual: 0 | Predicted: 0\n",
      "Actual: 0 | Predicted: 0\n",
      "Actual: 1 | Predicted: 1\n",
      "Actual: 0 | Predicted: 0\n",
      "Actual: 0 | Predicted: 1\n",
      "Actual: 0 | Predicted: 1\n",
      "Actual: 1 | Predicted: 0\n",
      "Actual: 1 | Predicted: 1\n",
      "Actual: 0 | Predicted: 0\n",
      "Actual: 1 | Predicted: 1\n",
      "Actual: 0 | Predicted: 0\n",
      "Actual: 1 | Predicted: 1\n",
      "Actual: 1 | Predicted: 1\n",
      "Actual: 0 | Predicted: 0\n",
      "Actual: 0 | Predicted: 0\n",
      "Actual: 0 | Predicted: 0\n",
      "Actual: 1 | Predicted: 1\n",
      "Actual: 0 | Predicted: 0\n",
      "Actual: 1 | Predicted: 1\n",
      "Actual: 0 | Predicted: 0\n",
      "Actual: 1 | Predicted: 0\n",
      "Actual: 1 | Predicted: 0\n",
      "Actual: 0 | Predicted: 1\n",
      "Actual: 1 | Predicted: 0\n",
      "Actual: 0 | Predicted: 0\n",
      "Actual: 1 | Predicted: 1\n",
      "Actual: 0 | Predicted: 0\n",
      "Actual: 1 | Predicted: 1\n",
      "Actual: 0 | Predicted: 0\n",
      "Actual: 0 | Predicted: 0\n",
      "Actual: 1 | Predicted: 1\n",
      "Actual: 1 | Predicted: 1\n",
      "Actual: 0 | Predicted: 0\n",
      "Actual: 1 | Predicted: 1\n",
      "Actual: 1 | Predicted: 1\n",
      "Actual: 1 | Predicted: 1\n",
      "Actual: 0 | Predicted: 0\n",
      "Actual: 0 | Predicted: 1\n",
      "Actual: 1 | Predicted: 1\n",
      "Actual: 1 | Predicted: 0\n",
      "Actual: 1 | Predicted: 1\n",
      "Actual: 0 | Predicted: 0\n",
      "Actual: 0 | Predicted: 0\n",
      "Actual: 0 | Predicted: 0\n",
      "Actual: 1 | Predicted: 1\n",
      "Actual: 0 | Predicted: 0\n",
      "Actual: 1 | Predicted: 1\n",
      "Actual: 0 | Predicted: 0\n",
      "Actual: 1 | Predicted: 0\n",
      "Actual: 1 | Predicted: 1\n",
      "Actual: 0 | Predicted: 0\n",
      "Actual: 1 | Predicted: 1\n",
      "Actual: 1 | Predicted: 1\n",
      "Actual: 1 | Predicted: 1\n",
      "Actual: 0 | Predicted: 0\n",
      "Actual: 1 | Predicted: 1\n",
      "Actual: 1 | Predicted: 1\n",
      "Actual: 1 | Predicted: 1\n",
      "Actual: 0 | Predicted: 0\n",
      "Actual: 0 | Predicted: 0\n",
      "Actual: 0 | Predicted: 0\n",
      "Actual: 1 | Predicted: 1\n",
      "Actual: 0 | Predicted: 0\n",
      "Actual: 1 | Predicted: 1\n",
      "Actual: 0 | Predicted: 0\n",
      "Actual: 0 | Predicted: 0\n",
      "Actual: 1 | Predicted: 0\n",
      "Actual: 0 | Predicted: 0\n",
      "Actual: 1 | Predicted: 1\n",
      "Actual: 1 | Predicted: 1\n",
      "Actual: 0 | Predicted: 0\n",
      "Actual: 1 | Predicted: 0\n",
      "Actual: 1 | Predicted: 1\n",
      "Actual: 0 | Predicted: 0\n",
      "Actual: 0 | Predicted: 0\n",
      "Actual: 1 | Predicted: 1\n",
      "Actual: 1 | Predicted: 1\n",
      "Actual: 1 | Predicted: 1\n",
      "Actual: 0 | Predicted: 0\n",
      "Actual: 1 | Predicted: 1\n",
      "Actual: 0 | Predicted: 0\n",
      "Actual: 1 | Predicted: 1\n",
      "Actual: 0 | Predicted: 0\n",
      "Actual: 1 | Predicted: 1\n",
      "Actual: 1 | Predicted: 1\n",
      "Actual: 0 | Predicted: 1\n",
      "Actual: 1 | Predicted: 1\n",
      "Actual: 0 | Predicted: 0\n",
      "Actual: 1 | Predicted: 1\n",
      "Actual: 0 | Predicted: 1\n",
      "Actual: 0 | Predicted: 0\n",
      "Actual: 1 | Predicted: 1\n",
      "Actual: 1 | Predicted: 1\n",
      "Actual: 1 | Predicted: 1\n",
      "Actual: 1 | Predicted: 1\n",
      "Actual: 1 | Predicted: 1\n",
      "Actual: 0 | Predicted: 0\n",
      "Actual: 1 | Predicted: 1\n",
      "Actual: 0 | Predicted: 0\n",
      "Actual: 1 | Predicted: 1\n",
      "Actual: 0 | Predicted: 0\n",
      "Actual: 0 | Predicted: 0\n",
      "Actual: 1 | Predicted: 1\n",
      "Actual: 0 | Predicted: 0\n",
      "Actual: 0 | Predicted: 0\n",
      "Actual: 0 | Predicted: 0\n",
      "Actual: 0 | Predicted: 0\n",
      "Actual: 0 | Predicted: 0\n",
      "Actual: 1 | Predicted: 1\n",
      "Actual: 0 | Predicted: 0\n",
      "Actual: 1 | Predicted: 1\n",
      "Actual: 0 | Predicted: 0\n",
      "Actual: 1 | Predicted: 1\n",
      "Actual: 1 | Predicted: 1\n",
      "Actual: 0 | Predicted: 1\n",
      "Actual: 0 | Predicted: 0\n",
      "Actual: 1 | Predicted: 1\n",
      "Actual: 0 | Predicted: 0\n",
      "Actual: 0 | Predicted: 0\n",
      "Actual: 1 | Predicted: 0\n",
      "Actual: 0 | Predicted: 0\n",
      "Actual: 0 | Predicted: 1\n",
      "Actual: 1 | Predicted: 1\n",
      "Actual: 1 | Predicted: 1\n",
      "Actual: 0 | Predicted: 0\n",
      "Actual: 1 | Predicted: 1\n",
      "Actual: 1 | Predicted: 1\n",
      "Actual: 1 | Predicted: 1\n",
      "Actual: 1 | Predicted: 1\n",
      "Actual: 1 | Predicted: 1\n",
      "Actual: 1 | Predicted: 1\n",
      "Actual: 0 | Predicted: 0\n",
      "Actual: 0 | Predicted: 0\n",
      "Actual: 1 | Predicted: 1\n",
      "Actual: 1 | Predicted: 1\n",
      "Actual: 1 | Predicted: 0\n",
      "Actual: 1 | Predicted: 1\n",
      "Actual: 1 | Predicted: 1\n",
      "Actual: 1 | Predicted: 1\n",
      "Actual: 0 | Predicted: 0\n",
      "Actual: 1 | Predicted: 1\n",
      "Actual: 0 | Predicted: 0\n",
      "Actual: 0 | Predicted: 1\n",
      "Actual: 1 | Predicted: 1\n",
      "Actual: 0 | Predicted: 0\n",
      "Actual: 1 | Predicted: 1\n",
      "Actual: 1 | Predicted: 1\n",
      "Actual: 0 | Predicted: 0\n",
      "Actual: 0 | Predicted: 0\n",
      "Actual: 1 | Predicted: 1\n",
      "Actual: 1 | Predicted: 1\n",
      "Actual: 1 | Predicted: 1\n",
      "Actual: 1 | Predicted: 1\n",
      "Actual: 0 | Predicted: 0\n",
      "Actual: 0 | Predicted: 1\n",
      "Actual: 1 | Predicted: 1\n",
      "Actual: 0 | Predicted: 0\n",
      "Actual: 1 | Predicted: 1\n",
      "Actual: 1 | Predicted: 1\n",
      "Actual: 1 | Predicted: 1\n",
      "Actual: 0 | Predicted: 0\n",
      "Actual: 1 | Predicted: 1\n",
      "Actual: 0 | Predicted: 0\n",
      "Actual: 1 | Predicted: 1\n",
      "Actual: 0 | Predicted: 0\n",
      "Actual: 1 | Predicted: 1\n",
      "Actual: 1 | Predicted: 1\n",
      "Actual: 0 | Predicted: 0\n",
      "Actual: 0 | Predicted: 0\n",
      "Actual: 0 | Predicted: 0\n",
      "Actual: 0 | Predicted: 0\n",
      "Actual: 0 | Predicted: 0\n",
      "Actual: 0 | Predicted: 1\n",
      "Actual: 1 | Predicted: 1\n",
      "Actual: 0 | Predicted: 0\n",
      "Actual: 1 | Predicted: 1\n",
      "Actual: 1 | Predicted: 1\n",
      "Actual: 0 | Predicted: 0\n",
      "Actual: 0 | Predicted: 0\n",
      "Actual: 1 | Predicted: 1\n",
      "Actual: 0 | Predicted: 1\n",
      "Actual: 1 | Predicted: 1\n",
      "Actual: 0 | Predicted: 0\n",
      "Actual: 0 | Predicted: 0\n",
      "Actual: 0 | Predicted: 0\n"
     ]
    },
    {
     "name": "stdout",
     "output_type": "stream",
     "text": [
      "Actual: 1 | Predicted: 1\n",
      "Actual: 1 | Predicted: 1\n",
      "Actual: 0 | Predicted: 0\n",
      "Actual: 0 | Predicted: 0\n",
      "Actual: 1 | Predicted: 0\n",
      "Actual: 1 | Predicted: 1\n",
      "Actual: 0 | Predicted: 0\n",
      "Actual: 1 | Predicted: 1\n",
      "Actual: 0 | Predicted: 0\n",
      "Actual: 0 | Predicted: 0\n",
      "Actual: 0 | Predicted: 0\n",
      "Actual: 0 | Predicted: 0\n",
      "Actual: 1 | Predicted: 1\n",
      "Actual: 1 | Predicted: 1\n",
      "Actual: 1 | Predicted: 1\n",
      "Actual: 1 | Predicted: 1\n",
      "Actual: 0 | Predicted: 0\n",
      "Actual: 0 | Predicted: 0\n",
      "Actual: 0 | Predicted: 0\n",
      "Actual: 1 | Predicted: 1\n",
      "Actual: 1 | Predicted: 1\n",
      "Actual: 1 | Predicted: 1\n",
      "Actual: 1 | Predicted: 1\n",
      "Actual: 0 | Predicted: 0\n",
      "Actual: 0 | Predicted: 1\n",
      "Actual: 0 | Predicted: 0\n",
      "Actual: 1 | Predicted: 1\n",
      "Actual: 1 | Predicted: 1\n",
      "Actual: 0 | Predicted: 0\n",
      "Actual: 1 | Predicted: 1\n",
      "Actual: 1 | Predicted: 1\n",
      "Actual: 0 | Predicted: 0\n",
      "Actual: 0 | Predicted: 0\n",
      "Actual: 0 | Predicted: 0\n",
      "Actual: 1 | Predicted: 1\n",
      "Actual: 1 | Predicted: 1\n",
      "Actual: 0 | Predicted: 1\n",
      "Actual: 0 | Predicted: 1\n",
      "Actual: 1 | Predicted: 1\n",
      "Actual: 0 | Predicted: 0\n",
      "Actual: 0 | Predicted: 0\n",
      "Actual: 1 | Predicted: 1\n",
      "Actual: 0 | Predicted: 0\n",
      "Actual: 1 | Predicted: 1\n",
      "Actual: 1 | Predicted: 1\n",
      "Actual: 0 | Predicted: 0\n",
      "Actual: 1 | Predicted: 1\n",
      "Actual: 1 | Predicted: 1\n",
      "Actual: 0 | Predicted: 0\n",
      "Actual: 0 | Predicted: 1\n",
      "Actual: 0 | Predicted: 0\n",
      "Actual: 0 | Predicted: 0\n",
      "Actual: 1 | Predicted: 1\n",
      "Actual: 1 | Predicted: 1\n",
      "Actual: 1 | Predicted: 1\n",
      "Actual: 0 | Predicted: 0\n",
      "Actual: 0 | Predicted: 0\n",
      "Actual: 0 | Predicted: 0\n",
      "Actual: 1 | Predicted: 1\n",
      "Actual: 0 | Predicted: 1\n",
      "Actual: 0 | Predicted: 0\n",
      "Actual: 1 | Predicted: 1\n",
      "Actual: 0 | Predicted: 0\n",
      "Actual: 1 | Predicted: 1\n",
      "Actual: 0 | Predicted: 0\n",
      "Actual: 1 | Predicted: 1\n",
      "Actual: 0 | Predicted: 0\n",
      "Actual: 0 | Predicted: 0\n",
      "Actual: 1 | Predicted: 1\n",
      "Actual: 0 | Predicted: 1\n",
      "Actual: 1 | Predicted: 1\n",
      "Actual: 1 | Predicted: 0\n",
      "Actual: 0 | Predicted: 0\n",
      "Actual: 1 | Predicted: 1\n",
      "Actual: 1 | Predicted: 1\n",
      "Actual: 1 | Predicted: 1\n",
      "Actual: 1 | Predicted: 1\n",
      "Actual: 0 | Predicted: 0\n",
      "Actual: 1 | Predicted: 1\n",
      "Actual: 1 | Predicted: 1\n",
      "Actual: 0 | Predicted: 0\n",
      "Actual: 1 | Predicted: 1\n",
      "Actual: 1 | Predicted: 1\n",
      "Actual: 1 | Predicted: 1\n",
      "Actual: 1 | Predicted: 1\n",
      "Actual: 0 | Predicted: 0\n",
      "Actual: 1 | Predicted: 1\n",
      "Actual: 1 | Predicted: 1\n",
      "Actual: 0 | Predicted: 0\n",
      "Actual: 0 | Predicted: 0\n",
      "Actual: 1 | Predicted: 1\n",
      "Actual: 0 | Predicted: 0\n",
      "Actual: 0 | Predicted: 0\n",
      "Actual: 0 | Predicted: 0\n",
      "Actual: 1 | Predicted: 1\n",
      "Actual: 0 | Predicted: 0\n",
      "Actual: 0 | Predicted: 0\n",
      "Actual: 1 | Predicted: 1\n",
      "Actual: 1 | Predicted: 1\n",
      "Actual: 1 | Predicted: 1\n",
      "Actual: 0 | Predicted: 0\n",
      "Actual: 1 | Predicted: 0\n",
      "Actual: 0 | Predicted: 0\n",
      "Actual: 1 | Predicted: 1\n",
      "Actual: 0 | Predicted: 0\n",
      "Actual: 0 | Predicted: 0\n",
      "Actual: 1 | Predicted: 1\n",
      "Actual: 0 | Predicted: 0\n",
      "Actual: 1 | Predicted: 1\n",
      "Actual: 1 | Predicted: 1\n",
      "Actual: 0 | Predicted: 0\n",
      "Actual: 1 | Predicted: 1\n",
      "Actual: 1 | Predicted: 0\n",
      "Actual: 1 | Predicted: 1\n",
      "Actual: 1 | Predicted: 1\n",
      "Actual: 1 | Predicted: 1\n",
      "Actual: 0 | Predicted: 0\n",
      "Actual: 1 | Predicted: 1\n",
      "Actual: 1 | Predicted: 1\n",
      "Actual: 0 | Predicted: 0\n",
      "Actual: 0 | Predicted: 0\n",
      "Actual: 0 | Predicted: 0\n",
      "Actual: 0 | Predicted: 0\n",
      "Actual: 0 | Predicted: 1\n",
      "Actual: 1 | Predicted: 1\n",
      "Actual: 1 | Predicted: 1\n",
      "Actual: 0 | Predicted: 0\n",
      "Actual: 1 | Predicted: 1\n",
      "Actual: 0 | Predicted: 0\n",
      "Actual: 1 | Predicted: 1\n",
      "Actual: 1 | Predicted: 1\n",
      "Actual: 0 | Predicted: 0\n",
      "Actual: 1 | Predicted: 1\n",
      "Actual: 1 | Predicted: 1\n",
      "Actual: 1 | Predicted: 1\n",
      "Actual: 0 | Predicted: 0\n",
      "Actual: 0 | Predicted: 0\n",
      "Actual: 0 | Predicted: 0\n",
      "Actual: 0 | Predicted: 0\n",
      "Actual: 0 | Predicted: 0\n",
      "Actual: 0 | Predicted: 0\n",
      "Actual: 0 | Predicted: 0\n",
      "Actual: 1 | Predicted: 1\n",
      "Actual: 0 | Predicted: 0\n",
      "Actual: 1 | Predicted: 1\n",
      "Actual: 0 | Predicted: 0\n",
      "Actual: 1 | Predicted: 1\n",
      "Actual: 0 | Predicted: 0\n",
      "Actual: 0 | Predicted: 0\n",
      "Actual: 1 | Predicted: 1\n",
      "Actual: 0 | Predicted: 0\n",
      "Actual: 1 | Predicted: 1\n",
      "Actual: 1 | Predicted: 1\n",
      "Actual: 1 | Predicted: 1\n",
      "Actual: 1 | Predicted: 1\n",
      "Actual: 0 | Predicted: 0\n",
      "Actual: 1 | Predicted: 1\n",
      "Actual: 1 | Predicted: 1\n",
      "Actual: 0 | Predicted: 0\n",
      "Actual: 1 | Predicted: 1\n",
      "Actual: 0 | Predicted: 0\n",
      "Actual: 1 | Predicted: 1\n",
      "Actual: 1 | Predicted: 1\n",
      "Actual: 1 | Predicted: 0\n",
      "Actual: 1 | Predicted: 1\n",
      "Actual: 0 | Predicted: 0\n",
      "Actual: 1 | Predicted: 1\n",
      "Actual: 0 | Predicted: 0\n",
      "Actual: 0 | Predicted: 0\n",
      "Actual: 1 | Predicted: 1\n",
      "Actual: 1 | Predicted: 1\n",
      "Actual: 1 | Predicted: 1\n",
      "Actual: 1 | Predicted: 1\n",
      "Actual: 0 | Predicted: 0\n",
      "Actual: 0 | Predicted: 0\n",
      "Actual: 1 | Predicted: 1\n",
      "Actual: 1 | Predicted: 1\n",
      "Actual: 1 | Predicted: 1\n",
      "Actual: 0 | Predicted: 0\n",
      "Actual: 1 | Predicted: 1\n",
      "Actual: 0 | Predicted: 0\n",
      "Actual: 1 | Predicted: 1\n",
      "Actual: 0 | Predicted: 0\n",
      "Actual: 1 | Predicted: 1\n",
      "Actual: 1 | Predicted: 1\n",
      "Actual: 0 | Predicted: 0\n",
      "Actual: 0 | Predicted: 0\n",
      "Actual: 0 | Predicted: 0\n",
      "Actual: 0 | Predicted: 0\n",
      "Actual: 1 | Predicted: 1\n",
      "Actual: 1 | Predicted: 1\n",
      "Actual: 1 | Predicted: 0\n",
      "Actual: 1 | Predicted: 1\n",
      "Actual: 1 | Predicted: 1\n",
      "Actual: 0 | Predicted: 0\n",
      "Actual: 0 | Predicted: 0\n",
      "Actual: 0 | Predicted: 0\n",
      "Actual: 1 | Predicted: 1\n",
      "Actual: 0 | Predicted: 0\n",
      "Actual: 1 | Predicted: 1\n",
      "Actual: 0 | Predicted: 0\n",
      "Actual: 1 | Predicted: 1\n",
      "Actual: 0 | Predicted: 0\n",
      "Actual: 0 | Predicted: 0\n",
      "Actual: 0 | Predicted: 0\n",
      "Actual: 0 | Predicted: 0\n",
      "Actual: 0 | Predicted: 0\n",
      "Actual: 0 | Predicted: 0\n",
      "Actual: 0 | Predicted: 0\n",
      "Actual: 0 | Predicted: 0\n",
      "Actual: 0 | Predicted: 0\n",
      "Actual: 1 | Predicted: 0\n",
      "Actual: 0 | Predicted: 1\n",
      "Actual: 0 | Predicted: 0\n",
      "Actual: 0 | Predicted: 0\n",
      "Actual: 0 | Predicted: 0\n",
      "Actual: 1 | Predicted: 1\n",
      "Actual: 1 | Predicted: 1\n",
      "Actual: 0 | Predicted: 0\n",
      "Actual: 1 | Predicted: 0\n",
      "Actual: 1 | Predicted: 1\n",
      "Actual: 0 | Predicted: 1\n",
      "Actual: 0 | Predicted: 0\n",
      "Actual: 0 | Predicted: 0\n",
      "Actual: 0 | Predicted: 0\n",
      "Actual: 1 | Predicted: 1\n",
      "Actual: 1 | Predicted: 1\n",
      "Actual: 1 | Predicted: 1\n",
      "Actual: 1 | Predicted: 1\n",
      "Actual: 1 | Predicted: 1\n",
      "Actual: 0 | Predicted: 0\n",
      "Actual: 0 | Predicted: 0\n",
      "Actual: 0 | Predicted: 0\n",
      "Actual: 0 | Predicted: 0\n",
      "Actual: 1 | Predicted: 1\n",
      "Actual: 1 | Predicted: 1\n",
      "Actual: 0 | Predicted: 0\n",
      "Actual: 1 | Predicted: 1\n",
      "Actual: 0 | Predicted: 0\n",
      "Actual: 1 | Predicted: 1\n",
      "Actual: 0 | Predicted: 0\n",
      "Actual: 1 | Predicted: 1\n",
      "Actual: 0 | Predicted: 0\n",
      "Actual: 1 | Predicted: 1\n",
      "Actual: 1 | Predicted: 1\n",
      "Actual: 0 | Predicted: 0\n",
      "Actual: 0 | Predicted: 1\n",
      "Actual: 1 | Predicted: 1\n",
      "Actual: 1 | Predicted: 0\n",
      "Actual: 1 | Predicted: 1\n",
      "Actual: 1 | Predicted: 1\n",
      "Actual: 0 | Predicted: 0\n",
      "Actual: 1 | Predicted: 1\n",
      "Actual: 1 | Predicted: 0\n",
      "Actual: 1 | Predicted: 1\n",
      "Actual: 0 | Predicted: 1\n",
      "Actual: 1 | Predicted: 1\n",
      "Actual: 0 | Predicted: 0\n",
      "Actual: 1 | Predicted: 1\n",
      "Actual: 0 | Predicted: 0\n",
      "Actual: 1 | Predicted: 1\n",
      "Actual: 0 | Predicted: 0\n",
      "Actual: 1 | Predicted: 0\n",
      "Actual: 0 | Predicted: 0\n",
      "Actual: 0 | Predicted: 0\n",
      "Actual: 1 | Predicted: 0\n",
      "Actual: 1 | Predicted: 0\n",
      "Actual: 0 | Predicted: 1\n",
      "Actual: 0 | Predicted: 1\n",
      "Actual: 0 | Predicted: 1\n",
      "Actual: 0 | Predicted: 0\n",
      "Actual: 0 | Predicted: 0\n",
      "Actual: 1 | Predicted: 1\n",
      "Actual: 0 | Predicted: 0\n",
      "Actual: 0 | Predicted: 0\n",
      "Actual: 0 | Predicted: 0\n",
      "Actual: 1 | Predicted: 0\n",
      "Actual: 1 | Predicted: 1\n",
      "Actual: 1 | Predicted: 1\n",
      "Actual: 0 | Predicted: 0\n",
      "Actual: 1 | Predicted: 1\n",
      "Actual: 0 | Predicted: 0\n",
      "Actual: 0 | Predicted: 0\n",
      "Actual: 1 | Predicted: 1\n",
      "Actual: 1 | Predicted: 1\n",
      "Actual: 1 | Predicted: 1\n",
      "Actual: 1 | Predicted: 1\n",
      "Actual: 0 | Predicted: 0\n",
      "Actual: 1 | Predicted: 1\n",
      "Actual: 0 | Predicted: 0\n",
      "Actual: 1 | Predicted: 1\n",
      "Actual: 0 | Predicted: 0\n",
      "Actual: 1 | Predicted: 1\n",
      "Actual: 0 | Predicted: 0\n",
      "Actual: 0 | Predicted: 0\n",
      "Actual: 0 | Predicted: 0\n",
      "Actual: 1 | Predicted: 1\n",
      "Actual: 0 | Predicted: 0\n",
      "Actual: 0 | Predicted: 0\n",
      "Actual: 1 | Predicted: 0\n",
      "Actual: 0 | Predicted: 0\n",
      "Actual: 0 | Predicted: 0\n",
      "Actual: 0 | Predicted: 0\n",
      "Actual: 1 | Predicted: 0\n",
      "Actual: 0 | Predicted: 0\n",
      "Actual: 0 | Predicted: 0\n",
      "Actual: 1 | Predicted: 1\n",
      "Actual: 1 | Predicted: 1\n",
      "Actual: 1 | Predicted: 0\n",
      "Actual: 1 | Predicted: 1\n",
      "Actual: 1 | Predicted: 1\n",
      "Actual: 1 | Predicted: 1\n",
      "Actual: 0 | Predicted: 0\n",
      "Actual: 0 | Predicted: 0\n",
      "Actual: 0 | Predicted: 0\n",
      "Actual: 0 | Predicted: 1\n",
      "Actual: 1 | Predicted: 1\n",
      "Actual: 0 | Predicted: 0\n",
      "Actual: 1 | Predicted: 1\n",
      "Actual: 1 | Predicted: 1\n",
      "Actual: 1 | Predicted: 1\n",
      "Actual: 1 | Predicted: 1\n",
      "Actual: 1 | Predicted: 0\n",
      "Actual: 1 | Predicted: 1\n",
      "Actual: 1 | Predicted: 0\n",
      "Actual: 0 | Predicted: 0\n",
      "Actual: 0 | Predicted: 0\n",
      "Actual: 1 | Predicted: 1\n",
      "Actual: 0 | Predicted: 0\n",
      "Actual: 1 | Predicted: 1\n",
      "Actual: 1 | Predicted: 1\n",
      "Actual: 1 | Predicted: 1\n",
      "Actual: 0 | Predicted: 0\n",
      "Actual: 1 | Predicted: 1\n",
      "Actual: 0 | Predicted: 0\n",
      "Actual: 0 | Predicted: 0\n",
      "Actual: 0 | Predicted: 0\n",
      "Actual: 0 | Predicted: 0\n",
      "Actual: 0 | Predicted: 0\n",
      "Actual: 1 | Predicted: 1\n",
      "Actual: 1 | Predicted: 1\n",
      "Actual: 0 | Predicted: 0\n",
      "Actual: 0 | Predicted: 0\n",
      "Actual: 1 | Predicted: 0\n",
      "Actual: 1 | Predicted: 1\n",
      "Actual: 0 | Predicted: 0\n",
      "Actual: 1 | Predicted: 0\n",
      "Actual: 0 | Predicted: 0\n",
      "Actual: 0 | Predicted: 0\n",
      "Actual: 1 | Predicted: 1\n",
      "Actual: 1 | Predicted: 1\n",
      "Actual: 1 | Predicted: 1\n",
      "Actual: 1 | Predicted: 1\n",
      "Actual: 0 | Predicted: 0\n",
      "Actual: 0 | Predicted: 0\n",
      "Actual: 0 | Predicted: 1\n",
      "Actual: 1 | Predicted: 1\n",
      "Actual: 1 | Predicted: 0\n",
      "Actual: 0 | Predicted: 0\n",
      "Actual: 1 | Predicted: 1\n",
      "Actual: 1 | Predicted: 1\n",
      "Actual: 1 | Predicted: 1\n",
      "Actual: 1 | Predicted: 1\n",
      "Actual: 1 | Predicted: 1\n",
      "Actual: 1 | Predicted: 1\n",
      "Actual: 1 | Predicted: 1\n",
      "Actual: 0 | Predicted: 0\n",
      "Actual: 1 | Predicted: 1\n",
      "Actual: 1 | Predicted: 1\n",
      "Actual: 0 | Predicted: 0\n",
      "Actual: 0 | Predicted: 0\n",
      "Actual: 1 | Predicted: 1\n",
      "Actual: 0 | Predicted: 0\n",
      "Actual: 1 | Predicted: 1\n",
      "Actual: 1 | Predicted: 0\n",
      "Actual: 0 | Predicted: 0\n",
      "Actual: 0 | Predicted: 1\n",
      "Actual: 0 | Predicted: 0\n",
      "Actual: 1 | Predicted: 1\n",
      "Actual: 0 | Predicted: 0\n",
      "Actual: 1 | Predicted: 1\n",
      "Actual: 1 | Predicted: 1\n",
      "Actual: 1 | Predicted: 1\n",
      "Actual: 0 | Predicted: 0\n",
      "Actual: 0 | Predicted: 0\n",
      "Actual: 1 | Predicted: 1\n",
      "Actual: 1 | Predicted: 1\n",
      "Actual: 0 | Predicted: 0\n",
      "Actual: 1 | Predicted: 0\n",
      "Actual: 1 | Predicted: 0\n",
      "Actual: 0 | Predicted: 1\n",
      "Actual: 0 | Predicted: 0\n",
      "Actual: 0 | Predicted: 0\n",
      "Actual: 1 | Predicted: 0\n",
      "Actual: 1 | Predicted: 1\n",
      "Actual: 1 | Predicted: 1\n",
      "Actual: 1 | Predicted: 1\n",
      "Actual: 0 | Predicted: 0\n",
      "Actual: 1 | Predicted: 1\n",
      "Actual: 0 | Predicted: 0\n",
      "Actual: 1 | Predicted: 1\n",
      "Actual: 0 | Predicted: 0\n",
      "Actual: 0 | Predicted: 0\n",
      "Actual: 1 | Predicted: 1\n",
      "Actual: 0 | Predicted: 0\n",
      "Actual: 1 | Predicted: 1\n",
      "Actual: 1 | Predicted: 1\n",
      "Actual: 1 | Predicted: 0\n",
      "Actual: 0 | Predicted: 0\n",
      "Actual: 0 | Predicted: 0\n",
      "Actual: 0 | Predicted: 0\n",
      "Actual: 1 | Predicted: 1\n",
      "Actual: 1 | Predicted: 0\n",
      "Actual: 0 | Predicted: 0\n",
      "Actual: 0 | Predicted: 0\n",
      "Actual: 1 | Predicted: 1\n",
      "Actual: 0 | Predicted: 0\n",
      "Actual: 0 | Predicted: 1\n",
      "Actual: 0 | Predicted: 0\n",
      "Actual: 1 | Predicted: 1\n",
      "Actual: 0 | Predicted: 0\n",
      "Actual: 1 | Predicted: 1\n",
      "Actual: 1 | Predicted: 1\n",
      "Actual: 1 | Predicted: 0\n",
      "Actual: 0 | Predicted: 0\n",
      "Actual: 1 | Predicted: 0\n",
      "Actual: 0 | Predicted: 0\n",
      "Actual: 0 | Predicted: 0\n",
      "Actual: 0 | Predicted: 0\n",
      "Actual: 0 | Predicted: 0\n",
      "Actual: 0 | Predicted: 0\n",
      "Actual: 1 | Predicted: 1\n",
      "Actual: 0 | Predicted: 0\n",
      "Actual: 0 | Predicted: 0\n",
      "Actual: 0 | Predicted: 1\n",
      "Actual: 0 | Predicted: 0\n",
      "Actual: 0 | Predicted: 0\n",
      "Actual: 1 | Predicted: 1\n",
      "Actual: 1 | Predicted: 0\n",
      "Actual: 1 | Predicted: 0\n",
      "Actual: 0 | Predicted: 0\n",
      "Actual: 0 | Predicted: 0\n",
      "Actual: 1 | Predicted: 1\n",
      "Actual: 1 | Predicted: 1\n",
      "Actual: 1 | Predicted: 1\n",
      "Actual: 1 | Predicted: 1\n",
      "Actual: 1 | Predicted: 1\n",
      "Actual: 1 | Predicted: 1\n",
      "Actual: 1 | Predicted: 1\n",
      "Actual: 1 | Predicted: 1\n",
      "Actual: 1 | Predicted: 1\n",
      "Actual: 1 | Predicted: 1\n",
      "Actual: 0 | Predicted: 0\n",
      "Actual: 1 | Predicted: 1\n",
      "Actual: 1 | Predicted: 1\n",
      "Actual: 1 | Predicted: 1\n",
      "Actual: 1 | Predicted: 1\n",
      "Actual: 0 | Predicted: 0\n",
      "Actual: 0 | Predicted: 0\n",
      "Actual: 0 | Predicted: 0\n",
      "Actual: 0 | Predicted: 0\n",
      "Actual: 1 | Predicted: 1\n",
      "Actual: 0 | Predicted: 0\n",
      "Actual: 0 | Predicted: 0\n",
      "Actual: 0 | Predicted: 0\n",
      "Actual: 1 | Predicted: 0\n",
      "Actual: 1 | Predicted: 1\n",
      "Actual: 0 | Predicted: 0\n",
      "Actual: 0 | Predicted: 0\n",
      "Actual: 0 | Predicted: 0\n",
      "Actual: 1 | Predicted: 1\n",
      "Actual: 1 | Predicted: 1\n",
      "Actual: 1 | Predicted: 1\n",
      "Actual: 1 | Predicted: 1\n",
      "Actual: 1 | Predicted: 1\n",
      "Actual: 1 | Predicted: 1\n",
      "Actual: 1 | Predicted: 1\n",
      "Actual: 1 | Predicted: 1\n",
      "Actual: 0 | Predicted: 0\n",
      "Actual: 1 | Predicted: 1\n",
      "Actual: 1 | Predicted: 1\n",
      "Actual: 0 | Predicted: 0\n",
      "Actual: 1 | Predicted: 1\n",
      "Actual: 1 | Predicted: 1\n",
      "Actual: 1 | Predicted: 1\n",
      "Actual: 0 | Predicted: 0\n",
      "Actual: 0 | Predicted: 0\n",
      "Actual: 1 | Predicted: 1\n",
      "Actual: 0 | Predicted: 0\n",
      "Actual: 0 | Predicted: 0\n",
      "Actual: 0 | Predicted: 0\n",
      "Actual: 1 | Predicted: 1\n",
      "Actual: 0 | Predicted: 1\n",
      "Actual: 1 | Predicted: 1\n",
      "Actual: 1 | Predicted: 1\n",
      "Actual: 0 | Predicted: 0\n",
      "Actual: 1 | Predicted: 1\n",
      "Actual: 0 | Predicted: 0\n",
      "Actual: 1 | Predicted: 1\n",
      "Actual: 0 | Predicted: 0\n",
      "Actual: 1 | Predicted: 1\n",
      "Actual: 0 | Predicted: 0\n",
      "Actual: 1 | Predicted: 1\n",
      "Actual: 1 | Predicted: 1\n",
      "Actual: 1 | Predicted: 0\n",
      "Actual: 1 | Predicted: 1\n",
      "Actual: 1 | Predicted: 1\n",
      "Actual: 0 | Predicted: 0\n",
      "Actual: 1 | Predicted: 1\n",
      "Actual: 1 | Predicted: 1\n",
      "Actual: 0 | Predicted: 1\n",
      "Actual: 1 | Predicted: 1\n",
      "Actual: 1 | Predicted: 1\n",
      "Actual: 0 | Predicted: 0\n",
      "Actual: 0 | Predicted: 0\n",
      "Actual: 0 | Predicted: 0\n",
      "Actual: 1 | Predicted: 1\n",
      "Actual: 0 | Predicted: 0\n",
      "Actual: 0 | Predicted: 0\n",
      "Actual: 1 | Predicted: 0\n",
      "Actual: 0 | Predicted: 0\n",
      "Actual: 1 | Predicted: 1\n",
      "Actual: 1 | Predicted: 0\n",
      "Actual: 1 | Predicted: 1\n",
      "Actual: 0 | Predicted: 0\n",
      "Actual: 0 | Predicted: 0\n",
      "Actual: 1 | Predicted: 1\n",
      "Actual: 1 | Predicted: 1\n",
      "Actual: 0 | Predicted: 0\n",
      "Actual: 1 | Predicted: 1\n",
      "Actual: 0 | Predicted: 0\n",
      "Actual: 0 | Predicted: 0\n",
      "Actual: 0 | Predicted: 0\n",
      "Actual: 1 | Predicted: 1\n",
      "Actual: 0 | Predicted: 1\n",
      "Actual: 0 | Predicted: 0\n",
      "Actual: 1 | Predicted: 1\n",
      "Actual: 0 | Predicted: 0\n",
      "Actual: 1 | Predicted: 0\n",
      "Actual: 0 | Predicted: 0\n",
      "Actual: 0 | Predicted: 0\n",
      "Actual: 1 | Predicted: 1\n",
      "Actual: 1 | Predicted: 1\n",
      "Actual: 0 | Predicted: 0\n",
      "Actual: 1 | Predicted: 1\n",
      "Actual: 0 | Predicted: 0\n",
      "Actual: 1 | Predicted: 1\n",
      "Actual: 0 | Predicted: 0\n",
      "Actual: 1 | Predicted: 1\n",
      "Actual: 1 | Predicted: 0\n",
      "Actual: 0 | Predicted: 1\n",
      "Actual: 0 | Predicted: 0\n",
      "Actual: 0 | Predicted: 0\n",
      "Actual: 1 | Predicted: 1\n",
      "Actual: 0 | Predicted: 0\n",
      "Actual: 0 | Predicted: 0\n",
      "Actual: 1 | Predicted: 0\n",
      "Actual: 1 | Predicted: 1\n",
      "Actual: 0 | Predicted: 0\n",
      "Actual: 0 | Predicted: 0\n",
      "Actual: 0 | Predicted: 0\n",
      "Actual: 1 | Predicted: 1\n",
      "Actual: 1 | Predicted: 1\n",
      "Actual: 0 | Predicted: 0\n",
      "Actual: 1 | Predicted: 1\n",
      "Actual: 0 | Predicted: 1\n",
      "Actual: 0 | Predicted: 0\n",
      "Actual: 0 | Predicted: 0\n",
      "Actual: 1 | Predicted: 1\n",
      "Actual: 0 | Predicted: 0\n",
      "Actual: 1 | Predicted: 1\n",
      "Actual: 1 | Predicted: 1\n",
      "Actual: 0 | Predicted: 0\n",
      "Actual: 1 | Predicted: 1\n",
      "Actual: 1 | Predicted: 1\n",
      "Actual: 1 | Predicted: 0\n",
      "Actual: 1 | Predicted: 1\n",
      "Actual: 0 | Predicted: 0\n",
      "Actual: 1 | Predicted: 1\n",
      "Actual: 1 | Predicted: 1\n",
      "Actual: 1 | Predicted: 1\n",
      "Actual: 0 | Predicted: 0\n",
      "Actual: 1 | Predicted: 1\n",
      "Actual: 1 | Predicted: 1\n",
      "Actual: 0 | Predicted: 0\n",
      "Actual: 1 | Predicted: 0\n",
      "Actual: 0 | Predicted: 0\n",
      "Actual: 0 | Predicted: 0\n",
      "Actual: 0 | Predicted: 0\n",
      "Actual: 1 | Predicted: 1\n",
      "Actual: 0 | Predicted: 0\n",
      "Actual: 1 | Predicted: 1\n",
      "Actual: 1 | Predicted: 1\n",
      "Actual: 0 | Predicted: 0\n",
      "Actual: 1 | Predicted: 1\n",
      "Actual: 1 | Predicted: 1\n",
      "Actual: 0 | Predicted: 0\n",
      "Actual: 0 | Predicted: 0\n",
      "Actual: 0 | Predicted: 0\n",
      "Actual: 1 | Predicted: 0\n",
      "Actual: 1 | Predicted: 1\n",
      "Actual: 1 | Predicted: 1\n",
      "Actual: 0 | Predicted: 0\n",
      "Actual: 1 | Predicted: 0\n",
      "Actual: 1 | Predicted: 1\n",
      "Actual: 1 | Predicted: 1\n",
      "Actual: 1 | Predicted: 1\n",
      "Actual: 0 | Predicted: 0\n",
      "Actual: 0 | Predicted: 0\n",
      "Actual: 0 | Predicted: 0\n",
      "Actual: 0 | Predicted: 0\n",
      "Actual: 0 | Predicted: 0\n",
      "Actual: 1 | Predicted: 1\n",
      "Actual: 0 | Predicted: 0\n",
      "Actual: 1 | Predicted: 1\n",
      "Actual: 1 | Predicted: 1\n",
      "Actual: 0 | Predicted: 0\n",
      "Actual: 1 | Predicted: 1\n",
      "Actual: 0 | Predicted: 0\n",
      "Actual: 0 | Predicted: 0\n",
      "Actual: 1 | Predicted: 1\n",
      "Actual: 1 | Predicted: 0\n",
      "Actual: 1 | Predicted: 1\n",
      "Actual: 0 | Predicted: 0\n",
      "Actual: 0 | Predicted: 1\n",
      "Actual: 0 | Predicted: 1\n",
      "Actual: 0 | Predicted: 1\n",
      "Actual: 0 | Predicted: 0\n",
      "Actual: 0 | Predicted: 0\n",
      "Actual: 0 | Predicted: 0\n",
      "Actual: 1 | Predicted: 1\n",
      "Actual: 1 | Predicted: 0\n",
      "Actual: 1 | Predicted: 1\n",
      "Actual: 0 | Predicted: 1\n",
      "Actual: 1 | Predicted: 1\n",
      "Actual: 1 | Predicted: 1\n",
      "Actual: 1 | Predicted: 1\n",
      "Actual: 1 | Predicted: 1\n",
      "Actual: 1 | Predicted: 1\n",
      "Actual: 0 | Predicted: 0\n",
      "Actual: 0 | Predicted: 0\n",
      "Actual: 1 | Predicted: 1\n",
      "Actual: 1 | Predicted: 1\n",
      "Actual: 1 | Predicted: 0\n",
      "Actual: 1 | Predicted: 1\n",
      "Actual: 1 | Predicted: 1\n",
      "Actual: 0 | Predicted: 0\n",
      "Actual: 1 | Predicted: 1\n",
      "Actual: 1 | Predicted: 1\n",
      "Actual: 1 | Predicted: 1\n",
      "Actual: 1 | Predicted: 1\n",
      "Actual: 0 | Predicted: 0\n",
      "Actual: 0 | Predicted: 0\n",
      "Actual: 0 | Predicted: 1\n",
      "Actual: 1 | Predicted: 1\n",
      "Actual: 1 | Predicted: 1\n",
      "Actual: 1 | Predicted: 1\n",
      "Actual: 1 | Predicted: 1\n",
      "Actual: 1 | Predicted: 1\n",
      "Actual: 0 | Predicted: 0\n",
      "Actual: 1 | Predicted: 1\n",
      "Actual: 0 | Predicted: 0\n",
      "Actual: 1 | Predicted: 1\n",
      "Actual: 1 | Predicted: 1\n",
      "Actual: 1 | Predicted: 1\n",
      "Actual: 0 | Predicted: 0\n",
      "Actual: 1 | Predicted: 1\n",
      "Actual: 1 | Predicted: 1\n",
      "Actual: 0 | Predicted: 0\n",
      "Actual: 0 | Predicted: 1\n",
      "Actual: 0 | Predicted: 0\n",
      "Actual: 0 | Predicted: 0\n",
      "Actual: 1 | Predicted: 1\n",
      "Actual: 1 | Predicted: 0\n",
      "Actual: 0 | Predicted: 1\n",
      "Actual: 0 | Predicted: 0\n",
      "Actual: 0 | Predicted: 0\n",
      "Actual: 0 | Predicted: 0\n",
      "Actual: 0 | Predicted: 1\n",
      "Actual: 1 | Predicted: 1\n",
      "Actual: 1 | Predicted: 1\n",
      "Actual: 0 | Predicted: 0\n",
      "Actual: 0 | Predicted: 1\n",
      "Actual: 0 | Predicted: 1\n",
      "Actual: 0 | Predicted: 0\n",
      "Actual: 0 | Predicted: 0\n",
      "Actual: 1 | Predicted: 1\n",
      "Actual: 1 | Predicted: 1\n",
      "Actual: 0 | Predicted: 0\n",
      "Actual: 0 | Predicted: 0\n",
      "Actual: 1 | Predicted: 1\n",
      "Actual: 0 | Predicted: 0\n",
      "Actual: 1 | Predicted: 1\n",
      "Actual: 0 | Predicted: 0\n",
      "Actual: 0 | Predicted: 0\n",
      "Actual: 0 | Predicted: 0\n",
      "Actual: 0 | Predicted: 0\n",
      "Actual: 1 | Predicted: 1\n",
      "Actual: 0 | Predicted: 0\n",
      "Actual: 1 | Predicted: 1\n",
      "Actual: 1 | Predicted: 1\n",
      "Actual: 1 | Predicted: 1\n",
      "Actual: 1 | Predicted: 1\n",
      "Actual: 0 | Predicted: 0\n",
      "Actual: 0 | Predicted: 0\n",
      "Actual: 0 | Predicted: 1\n",
      "Actual: 0 | Predicted: 0\n",
      "Actual: 1 | Predicted: 1\n",
      "Actual: 1 | Predicted: 1\n",
      "Actual: 0 | Predicted: 0\n",
      "Actual: 0 | Predicted: 0\n",
      "Actual: 1 | Predicted: 1\n",
      "Actual: 0 | Predicted: 0\n",
      "Actual: 0 | Predicted: 0\n",
      "Actual: 1 | Predicted: 1\n",
      "Actual: 0 | Predicted: 0\n",
      "Actual: 0 | Predicted: 0\n",
      "Actual: 0 | Predicted: 0\n",
      "Actual: 1 | Predicted: 1\n",
      "Actual: 0 | Predicted: 0\n",
      "Actual: 1 | Predicted: 1\n",
      "Actual: 0 | Predicted: 0\n",
      "Actual: 1 | Predicted: 1\n",
      "Actual: 1 | Predicted: 1\n",
      "Actual: 1 | Predicted: 1\n",
      "Actual: 0 | Predicted: 0\n",
      "Actual: 0 | Predicted: 0\n",
      "Actual: 0 | Predicted: 0\n",
      "Actual: 0 | Predicted: 0\n",
      "Actual: 0 | Predicted: 0\n",
      "Actual: 0 | Predicted: 0\n",
      "Actual: 1 | Predicted: 0\n",
      "Actual: 0 | Predicted: 0\n",
      "Actual: 1 | Predicted: 1\n",
      "Actual: 1 | Predicted: 1\n",
      "Actual: 0 | Predicted: 0\n",
      "Actual: 0 | Predicted: 0\n",
      "Actual: 1 | Predicted: 1\n",
      "Actual: 0 | Predicted: 0\n",
      "Actual: 1 | Predicted: 1\n",
      "Actual: 1 | Predicted: 1\n",
      "Actual: 0 | Predicted: 0\n",
      "Actual: 0 | Predicted: 0\n",
      "Actual: 1 | Predicted: 1\n",
      "Actual: 0 | Predicted: 1\n",
      "Actual: 1 | Predicted: 0\n",
      "Actual: 0 | Predicted: 1\n",
      "Actual: 0 | Predicted: 1\n",
      "Actual: 0 | Predicted: 0\n",
      "Actual: 1 | Predicted: 1\n",
      "Actual: 0 | Predicted: 0\n",
      "Actual: 1 | Predicted: 1\n",
      "Actual: 0 | Predicted: 0\n",
      "Actual: 0 | Predicted: 0\n",
      "Actual: 0 | Predicted: 0\n",
      "Actual: 0 | Predicted: 0\n",
      "Actual: 1 | Predicted: 0\n",
      "Actual: 1 | Predicted: 1\n",
      "Actual: 1 | Predicted: 1\n",
      "Actual: 1 | Predicted: 1\n",
      "Actual: 1 | Predicted: 1\n",
      "Actual: 1 | Predicted: 0\n",
      "Actual: 0 | Predicted: 0\n",
      "Actual: 0 | Predicted: 0\n",
      "Actual: 0 | Predicted: 1\n",
      "Actual: 0 | Predicted: 0\n",
      "Actual: 1 | Predicted: 1\n",
      "Actual: 0 | Predicted: 1\n",
      "Actual: 1 | Predicted: 1\n",
      "Actual: 1 | Predicted: 1\n",
      "Actual: 0 | Predicted: 0\n",
      "Actual: 1 | Predicted: 1\n",
      "Actual: 0 | Predicted: 0\n",
      "Actual: 1 | Predicted: 1\n",
      "Actual: 1 | Predicted: 1\n",
      "Actual: 1 | Predicted: 1\n",
      "Actual: 1 | Predicted: 1\n",
      "Actual: 0 | Predicted: 1\n",
      "Actual: 0 | Predicted: 0\n",
      "Actual: 1 | Predicted: 1\n",
      "Actual: 0 | Predicted: 0\n",
      "Actual: 0 | Predicted: 0\n",
      "Actual: 1 | Predicted: 1\n",
      "Actual: 1 | Predicted: 1\n",
      "Actual: 0 | Predicted: 0\n",
      "Actual: 1 | Predicted: 1\n",
      "Actual: 0 | Predicted: 0\n",
      "Actual: 0 | Predicted: 1\n",
      "Actual: 1 | Predicted: 1\n",
      "Actual: 0 | Predicted: 0\n",
      "Actual: 0 | Predicted: 1\n",
      "Actual: 1 | Predicted: 1\n",
      "Actual: 0 | Predicted: 0\n",
      "Actual: 0 | Predicted: 0\n",
      "Actual: 0 | Predicted: 0\n",
      "Actual: 1 | Predicted: 1\n",
      "Actual: 1 | Predicted: 1\n",
      "Actual: 0 | Predicted: 0\n",
      "Actual: 0 | Predicted: 0\n",
      "Actual: 1 | Predicted: 1\n",
      "Actual: 0 | Predicted: 0\n",
      "Actual: 0 | Predicted: 0\n",
      "Actual: 1 | Predicted: 1\n",
      "Actual: 1 | Predicted: 1\n",
      "Actual: 0 | Predicted: 0\n",
      "Actual: 0 | Predicted: 1\n",
      "Actual: 1 | Predicted: 1\n",
      "Actual: 1 | Predicted: 1\n",
      "Actual: 1 | Predicted: 1\n",
      "Actual: 0 | Predicted: 0\n",
      "Actual: 1 | Predicted: 1\n",
      "Actual: 0 | Predicted: 0\n",
      "Actual: 0 | Predicted: 0\n",
      "Actual: 0 | Predicted: 0\n",
      "Actual: 0 | Predicted: 1\n",
      "Actual: 0 | Predicted: 0\n",
      "Actual: 0 | Predicted: 0\n",
      "Actual: 1 | Predicted: 1\n",
      "Actual: 1 | Predicted: 1\n",
      "Actual: 0 | Predicted: 0\n",
      "Actual: 0 | Predicted: 0\n",
      "Actual: 1 | Predicted: 1\n",
      "Actual: 0 | Predicted: 1\n",
      "Actual: 0 | Predicted: 0\n",
      "Actual: 1 | Predicted: 1\n",
      "Actual: 0 | Predicted: 0\n",
      "Actual: 1 | Predicted: 1\n",
      "Actual: 1 | Predicted: 1\n",
      "Actual: 1 | Predicted: 1\n",
      "Actual: 0 | Predicted: 0\n",
      "Actual: 1 | Predicted: 1\n",
      "Actual: 0 | Predicted: 0\n",
      "Actual: 0 | Predicted: 0\n",
      "Actual: 1 | Predicted: 1\n",
      "Actual: 0 | Predicted: 0\n",
      "Actual: 0 | Predicted: 0\n",
      "Actual: 1 | Predicted: 1\n",
      "Actual: 1 | Predicted: 1\n",
      "Actual: 1 | Predicted: 1\n",
      "Actual: 1 | Predicted: 0\n",
      "Actual: 1 | Predicted: 1\n",
      "Actual: 1 | Predicted: 1\n",
      "Actual: 0 | Predicted: 0\n",
      "Actual: 1 | Predicted: 1\n",
      "Actual: 1 | Predicted: 1\n",
      "Actual: 1 | Predicted: 1\n",
      "Actual: 1 | Predicted: 1\n",
      "Actual: 0 | Predicted: 0\n",
      "Actual: 1 | Predicted: 1\n",
      "Actual: 1 | Predicted: 1\n",
      "Actual: 1 | Predicted: 1\n",
      "Actual: 1 | Predicted: 1\n",
      "Actual: 1 | Predicted: 1\n",
      "Actual: 1 | Predicted: 1\n",
      "Actual: 1 | Predicted: 1\n",
      "Actual: 1 | Predicted: 1\n",
      "Actual: 0 | Predicted: 0\n",
      "Actual: 1 | Predicted: 1\n",
      "Actual: 1 | Predicted: 0\n",
      "Actual: 0 | Predicted: 0\n",
      "Actual: 0 | Predicted: 0\n",
      "Actual: 0 | Predicted: 0\n",
      "Actual: 0 | Predicted: 0\n",
      "Actual: 1 | Predicted: 1\n",
      "Actual: 0 | Predicted: 0\n",
      "Actual: 0 | Predicted: 0\n",
      "Actual: 0 | Predicted: 0\n",
      "Actual: 1 | Predicted: 1\n",
      "Actual: 1 | Predicted: 1\n",
      "Actual: 1 | Predicted: 1\n",
      "Actual: 0 | Predicted: 0\n",
      "Actual: 0 | Predicted: 0\n",
      "Actual: 1 | Predicted: 1\n",
      "Actual: 1 | Predicted: 1\n",
      "Actual: 1 | Predicted: 1\n",
      "Actual: 0 | Predicted: 0\n",
      "Actual: 0 | Predicted: 1\n",
      "Actual: 0 | Predicted: 0\n",
      "Actual: 0 | Predicted: 0\n",
      "Actual: 1 | Predicted: 1\n",
      "Actual: 0 | Predicted: 0\n",
      "Actual: 0 | Predicted: 0\n",
      "Actual: 1 | Predicted: 1\n",
      "Actual: 1 | Predicted: 1\n",
      "Actual: 1 | Predicted: 0\n",
      "Actual: 0 | Predicted: 0\n",
      "Actual: 1 | Predicted: 0\n",
      "Actual: 0 | Predicted: 0\n",
      "Actual: 1 | Predicted: 0\n",
      "Actual: 0 | Predicted: 0\n",
      "Actual: 1 | Predicted: 1\n",
      "Actual: 1 | Predicted: 1\n",
      "Actual: 0 | Predicted: 0\n",
      "Actual: 1 | Predicted: 1\n",
      "Actual: 0 | Predicted: 1\n",
      "Actual: 1 | Predicted: 1\n",
      "Actual: 0 | Predicted: 1\n",
      "Actual: 0 | Predicted: 0\n",
      "Actual: 1 | Predicted: 1\n",
      "Actual: 0 | Predicted: 0\n",
      "Actual: 0 | Predicted: 0\n",
      "Actual: 0 | Predicted: 0\n",
      "Actual: 0 | Predicted: 0\n",
      "Actual: 0 | Predicted: 0\n",
      "Actual: 0 | Predicted: 0\n",
      "Actual: 0 | Predicted: 0\n",
      "Actual: 1 | Predicted: 1\n",
      "Actual: 1 | Predicted: 1\n",
      "Actual: 0 | Predicted: 1\n",
      "Actual: 0 | Predicted: 0\n",
      "Actual: 0 | Predicted: 0\n",
      "Actual: 0 | Predicted: 0\n",
      "Actual: 1 | Predicted: 1\n",
      "Actual: 0 | Predicted: 0\n",
      "Actual: 0 | Predicted: 0\n",
      "Actual: 1 | Predicted: 1\n",
      "Actual: 1 | Predicted: 1\n",
      "Actual: 1 | Predicted: 1\n",
      "Actual: 1 | Predicted: 1\n",
      "Actual: 0 | Predicted: 0\n",
      "Actual: 1 | Predicted: 1\n",
      "Actual: 0 | Predicted: 0\n",
      "Actual: 1 | Predicted: 1\n",
      "Actual: 0 | Predicted: 0\n",
      "Actual: 1 | Predicted: 1\n",
      "Actual: 1 | Predicted: 1\n",
      "Actual: 0 | Predicted: 0\n",
      "Actual: 0 | Predicted: 0\n",
      "Actual: 0 | Predicted: 0\n",
      "Actual: 0 | Predicted: 0\n",
      "Actual: 0 | Predicted: 0\n",
      "Actual: 1 | Predicted: 0\n",
      "Actual: 1 | Predicted: 1\n",
      "Actual: 0 | Predicted: 0\n",
      "Actual: 1 | Predicted: 1\n",
      "Actual: 0 | Predicted: 0\n",
      "Actual: 1 | Predicted: 1\n",
      "Actual: 1 | Predicted: 1\n",
      "Actual: 0 | Predicted: 0\n",
      "Actual: 1 | Predicted: 0\n",
      "Actual: 0 | Predicted: 0\n",
      "Actual: 0 | Predicted: 0\n",
      "Actual: 0 | Predicted: 0\n",
      "Actual: 1 | Predicted: 1\n",
      "Actual: 0 | Predicted: 0\n",
      "Actual: 0 | Predicted: 0\n",
      "Actual: 0 | Predicted: 0\n",
      "Actual: 1 | Predicted: 1\n",
      "Actual: 0 | Predicted: 0\n",
      "Actual: 1 | Predicted: 1\n",
      "Actual: 0 | Predicted: 0\n",
      "Actual: 0 | Predicted: 0\n",
      "Actual: 1 | Predicted: 1\n",
      "Actual: 1 | Predicted: 1\n",
      "Actual: 1 | Predicted: 1\n",
      "Actual: 1 | Predicted: 1\n",
      "Actual: 1 | Predicted: 1\n",
      "Actual: 1 | Predicted: 1\n",
      "Actual: 1 | Predicted: 1\n",
      "Actual: 0 | Predicted: 0\n",
      "Actual: 1 | Predicted: 1\n",
      "Actual: 0 | Predicted: 0\n",
      "Actual: 1 | Predicted: 1\n",
      "Actual: 1 | Predicted: 1\n",
      "Actual: 1 | Predicted: 1\n",
      "Actual: 1 | Predicted: 1\n",
      "Actual: 1 | Predicted: 1\n",
      "Actual: 1 | Predicted: 1\n",
      "Actual: 0 | Predicted: 0\n",
      "Actual: 1 | Predicted: 1\n",
      "Actual: 1 | Predicted: 1\n",
      "Actual: 0 | Predicted: 1\n",
      "Actual: 0 | Predicted: 0\n",
      "Actual: 0 | Predicted: 0\n",
      "Actual: 0 | Predicted: 0\n",
      "Actual: 0 | Predicted: 0\n",
      "Actual: 0 | Predicted: 0\n",
      "Actual: 1 | Predicted: 1\n",
      "Actual: 0 | Predicted: 0\n",
      "Actual: 1 | Predicted: 1\n",
      "Actual: 1 | Predicted: 1\n",
      "Actual: 0 | Predicted: 0\n",
      "Actual: 0 | Predicted: 0\n",
      "Actual: 1 | Predicted: 1\n",
      "Actual: 1 | Predicted: 1\n",
      "Actual: 1 | Predicted: 1\n",
      "Actual: 0 | Predicted: 0\n",
      "Actual: 1 | Predicted: 1\n",
      "Actual: 0 | Predicted: 0\n",
      "Actual: 1 | Predicted: 1\n",
      "Actual: 0 | Predicted: 0\n",
      "Actual: 1 | Predicted: 1\n",
      "Actual: 0 | Predicted: 1\n",
      "Actual: 0 | Predicted: 0\n",
      "Actual: 0 | Predicted: 0\n",
      "Actual: 1 | Predicted: 1\n",
      "Actual: 1 | Predicted: 1\n",
      "Actual: 0 | Predicted: 0\n",
      "Actual: 1 | Predicted: 1\n",
      "Actual: 0 | Predicted: 0\n",
      "Actual: 0 | Predicted: 0\n",
      "Actual: 1 | Predicted: 1\n",
      "Actual: 0 | Predicted: 0\n",
      "Actual: 1 | Predicted: 1\n",
      "Actual: 1 | Predicted: 1\n",
      "Actual: 1 | Predicted: 1\n",
      "Actual: 0 | Predicted: 0\n",
      "Actual: 1 | Predicted: 1\n",
      "Actual: 0 | Predicted: 1\n",
      "Actual: 1 | Predicted: 0\n",
      "Actual: 1 | Predicted: 1\n",
      "Actual: 1 | Predicted: 1\n",
      "Actual: 1 | Predicted: 1\n",
      "Actual: 0 | Predicted: 1\n",
      "Actual: 0 | Predicted: 0\n",
      "Actual: 1 | Predicted: 1\n",
      "Actual: 0 | Predicted: 0\n",
      "Actual: 1 | Predicted: 1\n",
      "Actual: 1 | Predicted: 1\n",
      "Actual: 0 | Predicted: 1\n",
      "Actual: 0 | Predicted: 0\n",
      "Actual: 1 | Predicted: 1\n",
      "Actual: 0 | Predicted: 0\n",
      "Actual: 1 | Predicted: 1\n",
      "Actual: 1 | Predicted: 1\n",
      "Actual: 1 | Predicted: 1\n",
      "Actual: 1 | Predicted: 1\n",
      "Actual: 0 | Predicted: 0\n",
      "Actual: 0 | Predicted: 0\n",
      "Actual: 0 | Predicted: 1\n",
      "Actual: 0 | Predicted: 0\n",
      "Actual: 0 | Predicted: 0\n",
      "Actual: 0 | Predicted: 0\n",
      "Actual: 0 | Predicted: 0\n",
      "Actual: 0 | Predicted: 0\n",
      "Actual: 1 | Predicted: 1\n",
      "Actual: 1 | Predicted: 1\n",
      "Actual: 0 | Predicted: 0\n",
      "Actual: 1 | Predicted: 0\n",
      "Actual: 0 | Predicted: 0\n",
      "Actual: 0 | Predicted: 0\n",
      "Actual: 1 | Predicted: 1\n",
      "Actual: 1 | Predicted: 1\n",
      "Actual: 0 | Predicted: 1\n",
      "Actual: 1 | Predicted: 1\n",
      "Actual: 0 | Predicted: 0\n",
      "Actual: 1 | Predicted: 1\n",
      "Actual: 0 | Predicted: 0\n",
      "Actual: 0 | Predicted: 0\n",
      "Actual: 0 | Predicted: 0\n",
      "Actual: 1 | Predicted: 1\n",
      "Actual: 1 | Predicted: 1\n",
      "Actual: 1 | Predicted: 1\n",
      "Actual: 0 | Predicted: 0\n",
      "Actual: 0 | Predicted: 0\n",
      "Actual: 0 | Predicted: 0\n",
      "Actual: 1 | Predicted: 1\n",
      "Actual: 0 | Predicted: 1\n",
      "Actual: 1 | Predicted: 0\n",
      "Actual: 0 | Predicted: 0\n",
      "Actual: 1 | Predicted: 1\n",
      "Actual: 1 | Predicted: 1\n",
      "Actual: 1 | Predicted: 1\n",
      "Actual: 0 | Predicted: 1\n",
      "Actual: 1 | Predicted: 1\n",
      "Actual: 1 | Predicted: 0\n",
      "Actual: 0 | Predicted: 0\n",
      "Actual: 0 | Predicted: 0\n"
     ]
    },
    {
     "name": "stdout",
     "output_type": "stream",
     "text": [
      "Actual: 1 | Predicted: 1\n",
      "Actual: 1 | Predicted: 0\n",
      "Actual: 0 | Predicted: 1\n",
      "Actual: 1 | Predicted: 1\n",
      "Actual: 1 | Predicted: 1\n",
      "Actual: 0 | Predicted: 0\n",
      "Actual: 0 | Predicted: 1\n",
      "Actual: 0 | Predicted: 0\n",
      "Actual: 0 | Predicted: 0\n",
      "Actual: 1 | Predicted: 1\n",
      "Actual: 1 | Predicted: 1\n",
      "Actual: 0 | Predicted: 1\n",
      "Actual: 0 | Predicted: 0\n",
      "Actual: 0 | Predicted: 0\n",
      "Actual: 0 | Predicted: 0\n",
      "Actual: 1 | Predicted: 1\n",
      "Actual: 0 | Predicted: 0\n",
      "Actual: 1 | Predicted: 1\n",
      "Actual: 0 | Predicted: 0\n",
      "Actual: 0 | Predicted: 0\n",
      "Actual: 0 | Predicted: 1\n",
      "Actual: 1 | Predicted: 1\n",
      "Actual: 0 | Predicted: 0\n",
      "Actual: 0 | Predicted: 0\n",
      "Actual: 1 | Predicted: 1\n",
      "Actual: 0 | Predicted: 0\n",
      "Actual: 0 | Predicted: 1\n",
      "Actual: 0 | Predicted: 0\n",
      "Actual: 0 | Predicted: 0\n",
      "Actual: 0 | Predicted: 0\n",
      "Actual: 0 | Predicted: 0\n",
      "Actual: 1 | Predicted: 1\n",
      "Actual: 1 | Predicted: 1\n",
      "Actual: 1 | Predicted: 1\n",
      "Actual: 0 | Predicted: 0\n",
      "Actual: 0 | Predicted: 1\n",
      "Actual: 1 | Predicted: 1\n",
      "Actual: 0 | Predicted: 0\n",
      "Actual: 0 | Predicted: 0\n",
      "Actual: 1 | Predicted: 1\n",
      "Actual: 0 | Predicted: 0\n",
      "Actual: 0 | Predicted: 0\n",
      "Actual: 0 | Predicted: 0\n",
      "Actual: 1 | Predicted: 0\n",
      "Actual: 0 | Predicted: 0\n",
      "Actual: 1 | Predicted: 1\n",
      "Actual: 0 | Predicted: 0\n",
      "Actual: 1 | Predicted: 1\n",
      "Actual: 1 | Predicted: 1\n",
      "Actual: 1 | Predicted: 0\n",
      "Actual: 1 | Predicted: 1\n",
      "Actual: 0 | Predicted: 0\n",
      "Actual: 0 | Predicted: 1\n",
      "Actual: 1 | Predicted: 1\n",
      "Actual: 1 | Predicted: 1\n",
      "Actual: 0 | Predicted: 0\n",
      "Actual: 0 | Predicted: 0\n",
      "Actual: 1 | Predicted: 1\n",
      "Actual: 0 | Predicted: 0\n",
      "Actual: 1 | Predicted: 0\n",
      "Actual: 0 | Predicted: 0\n",
      "Actual: 0 | Predicted: 0\n",
      "Actual: 0 | Predicted: 0\n",
      "Actual: 1 | Predicted: 1\n",
      "Actual: 1 | Predicted: 1\n",
      "Actual: 1 | Predicted: 1\n",
      "Actual: 0 | Predicted: 0\n",
      "Actual: 1 | Predicted: 1\n",
      "Actual: 1 | Predicted: 1\n",
      "Actual: 0 | Predicted: 0\n",
      "Actual: 0 | Predicted: 0\n",
      "Actual: 0 | Predicted: 1\n",
      "Actual: 0 | Predicted: 0\n",
      "Actual: 0 | Predicted: 0\n",
      "Actual: 1 | Predicted: 1\n",
      "Actual: 0 | Predicted: 0\n",
      "Actual: 1 | Predicted: 1\n",
      "Actual: 1 | Predicted: 1\n",
      "Actual: 1 | Predicted: 1\n",
      "Actual: 0 | Predicted: 0\n",
      "Actual: 1 | Predicted: 1\n",
      "Actual: 1 | Predicted: 0\n",
      "Actual: 0 | Predicted: 1\n",
      "Actual: 0 | Predicted: 0\n",
      "Actual: 0 | Predicted: 1\n",
      "Actual: 0 | Predicted: 0\n",
      "Actual: 0 | Predicted: 0\n",
      "Actual: 0 | Predicted: 0\n",
      "Actual: 0 | Predicted: 0\n",
      "Actual: 1 | Predicted: 1\n",
      "Actual: 0 | Predicted: 0\n",
      "Actual: 1 | Predicted: 1\n",
      "Actual: 0 | Predicted: 1\n",
      "Actual: 1 | Predicted: 1\n",
      "Actual: 1 | Predicted: 1\n",
      "Actual: 0 | Predicted: 0\n",
      "Actual: 1 | Predicted: 1\n",
      "Actual: 1 | Predicted: 1\n",
      "Actual: 1 | Predicted: 1\n",
      "Actual: 0 | Predicted: 0\n",
      "Actual: 0 | Predicted: 0\n",
      "Actual: 0 | Predicted: 0\n",
      "Actual: 0 | Predicted: 0\n",
      "Actual: 1 | Predicted: 1\n",
      "Actual: 0 | Predicted: 0\n",
      "Actual: 0 | Predicted: 0\n",
      "Actual: 0 | Predicted: 0\n",
      "Actual: 1 | Predicted: 1\n",
      "Actual: 1 | Predicted: 1\n",
      "Actual: 0 | Predicted: 0\n",
      "Actual: 0 | Predicted: 1\n",
      "Actual: 0 | Predicted: 0\n",
      "Actual: 0 | Predicted: 0\n",
      "Actual: 1 | Predicted: 1\n",
      "Actual: 1 | Predicted: 0\n",
      "Actual: 0 | Predicted: 1\n",
      "Actual: 1 | Predicted: 1\n",
      "Actual: 1 | Predicted: 1\n",
      "Actual: 0 | Predicted: 0\n",
      "Actual: 1 | Predicted: 1\n",
      "Actual: 1 | Predicted: 1\n",
      "Actual: 1 | Predicted: 1\n",
      "Actual: 1 | Predicted: 0\n",
      "Actual: 0 | Predicted: 1\n",
      "Actual: 1 | Predicted: 1\n",
      "Actual: 0 | Predicted: 0\n",
      "Actual: 0 | Predicted: 1\n",
      "Actual: 1 | Predicted: 1\n",
      "Actual: 0 | Predicted: 0\n",
      "Actual: 0 | Predicted: 0\n",
      "Actual: 0 | Predicted: 0\n",
      "Actual: 0 | Predicted: 0\n",
      "Actual: 1 | Predicted: 1\n",
      "Actual: 1 | Predicted: 0\n",
      "Actual: 1 | Predicted: 1\n",
      "Actual: 1 | Predicted: 0\n",
      "Actual: 0 | Predicted: 1\n",
      "Actual: 0 | Predicted: 0\n",
      "Actual: 1 | Predicted: 1\n",
      "Actual: 0 | Predicted: 1\n",
      "Actual: 1 | Predicted: 1\n",
      "Actual: 1 | Predicted: 1\n",
      "Actual: 0 | Predicted: 0\n",
      "Actual: 0 | Predicted: 0\n",
      "Actual: 1 | Predicted: 1\n",
      "Actual: 0 | Predicted: 0\n",
      "Actual: 0 | Predicted: 0\n",
      "Actual: 0 | Predicted: 0\n",
      "Actual: 1 | Predicted: 1\n",
      "Actual: 0 | Predicted: 0\n",
      "Actual: 0 | Predicted: 0\n",
      "Actual: 1 | Predicted: 0\n",
      "Actual: 0 | Predicted: 0\n",
      "Actual: 1 | Predicted: 1\n",
      "Actual: 1 | Predicted: 0\n",
      "Actual: 1 | Predicted: 1\n",
      "Actual: 0 | Predicted: 0\n",
      "Actual: 1 | Predicted: 1\n",
      "Actual: 1 | Predicted: 1\n",
      "Actual: 1 | Predicted: 1\n",
      "Actual: 1 | Predicted: 1\n",
      "Actual: 1 | Predicted: 1\n",
      "Actual: 1 | Predicted: 1\n",
      "Actual: 1 | Predicted: 1\n",
      "Actual: 0 | Predicted: 0\n",
      "Actual: 0 | Predicted: 0\n",
      "Actual: 1 | Predicted: 1\n",
      "Actual: 0 | Predicted: 0\n",
      "Actual: 1 | Predicted: 1\n",
      "Actual: 0 | Predicted: 0\n",
      "Actual: 1 | Predicted: 1\n",
      "Actual: 1 | Predicted: 1\n",
      "Actual: 0 | Predicted: 0\n",
      "Actual: 0 | Predicted: 0\n",
      "Actual: 0 | Predicted: 0\n",
      "Actual: 0 | Predicted: 0\n",
      "Actual: 0 | Predicted: 1\n",
      "Actual: 0 | Predicted: 0\n",
      "Actual: 1 | Predicted: 1\n",
      "Actual: 1 | Predicted: 1\n",
      "Actual: 0 | Predicted: 0\n",
      "Actual: 1 | Predicted: 1\n",
      "Actual: 1 | Predicted: 1\n",
      "Actual: 1 | Predicted: 0\n",
      "Actual: 0 | Predicted: 0\n",
      "Actual: 1 | Predicted: 1\n",
      "Actual: 0 | Predicted: 0\n",
      "Actual: 1 | Predicted: 1\n",
      "Actual: 1 | Predicted: 1\n",
      "Actual: 0 | Predicted: 0\n",
      "Actual: 0 | Predicted: 1\n",
      "Actual: 1 | Predicted: 0\n",
      "Actual: 0 | Predicted: 0\n",
      "Actual: 1 | Predicted: 1\n",
      "Actual: 0 | Predicted: 0\n",
      "Actual: 1 | Predicted: 0\n",
      "Actual: 1 | Predicted: 1\n",
      "Actual: 0 | Predicted: 0\n",
      "Actual: 1 | Predicted: 1\n",
      "Actual: 1 | Predicted: 1\n",
      "Actual: 0 | Predicted: 0\n",
      "Actual: 0 | Predicted: 0\n",
      "Actual: 0 | Predicted: 0\n",
      "Actual: 0 | Predicted: 0\n",
      "Actual: 1 | Predicted: 1\n",
      "Actual: 1 | Predicted: 1\n",
      "Actual: 1 | Predicted: 1\n",
      "Actual: 1 | Predicted: 1\n",
      "Actual: 0 | Predicted: 1\n",
      "Actual: 1 | Predicted: 1\n",
      "Actual: 1 | Predicted: 1\n",
      "Actual: 0 | Predicted: 0\n",
      "Actual: 1 | Predicted: 1\n",
      "Actual: 1 | Predicted: 1\n",
      "Actual: 0 | Predicted: 0\n",
      "Actual: 0 | Predicted: 0\n",
      "Actual: 0 | Predicted: 0\n",
      "Actual: 0 | Predicted: 0\n",
      "Actual: 0 | Predicted: 1\n",
      "Actual: 0 | Predicted: 0\n",
      "Actual: 1 | Predicted: 1\n",
      "Actual: 1 | Predicted: 1\n",
      "Actual: 0 | Predicted: 0\n",
      "Actual: 0 | Predicted: 0\n",
      "Actual: 1 | Predicted: 1\n",
      "Actual: 0 | Predicted: 0\n",
      "Actual: 0 | Predicted: 0\n",
      "Actual: 1 | Predicted: 1\n",
      "Actual: 0 | Predicted: 1\n",
      "Actual: 1 | Predicted: 1\n",
      "Actual: 1 | Predicted: 0\n",
      "Actual: 0 | Predicted: 0\n",
      "Actual: 0 | Predicted: 0\n",
      "Actual: 0 | Predicted: 0\n",
      "Actual: 0 | Predicted: 0\n",
      "Actual: 0 | Predicted: 1\n",
      "Actual: 1 | Predicted: 1\n",
      "Actual: 1 | Predicted: 1\n",
      "Actual: 0 | Predicted: 1\n",
      "Actual: 1 | Predicted: 1\n",
      "Actual: 0 | Predicted: 0\n",
      "Actual: 0 | Predicted: 1\n",
      "Actual: 0 | Predicted: 0\n",
      "Actual: 0 | Predicted: 0\n",
      "Actual: 1 | Predicted: 1\n",
      "Actual: 1 | Predicted: 1\n",
      "Actual: 0 | Predicted: 1\n",
      "Actual: 1 | Predicted: 1\n",
      "Actual: 0 | Predicted: 0\n",
      "Actual: 0 | Predicted: 0\n",
      "Actual: 1 | Predicted: 1\n",
      "Actual: 1 | Predicted: 1\n",
      "Actual: 1 | Predicted: 1\n",
      "Actual: 0 | Predicted: 0\n",
      "Actual: 1 | Predicted: 1\n",
      "Actual: 0 | Predicted: 0\n",
      "Actual: 1 | Predicted: 1\n",
      "Actual: 0 | Predicted: 0\n",
      "Actual: 0 | Predicted: 0\n",
      "Actual: 1 | Predicted: 1\n",
      "Actual: 1 | Predicted: 1\n",
      "Actual: 0 | Predicted: 0\n",
      "Actual: 1 | Predicted: 1\n",
      "Actual: 1 | Predicted: 0\n",
      "Actual: 1 | Predicted: 1\n",
      "Actual: 0 | Predicted: 1\n",
      "Actual: 1 | Predicted: 1\n",
      "Actual: 1 | Predicted: 1\n",
      "Actual: 0 | Predicted: 0\n",
      "Actual: 0 | Predicted: 0\n",
      "Actual: 1 | Predicted: 0\n",
      "Actual: 0 | Predicted: 0\n",
      "Actual: 1 | Predicted: 1\n",
      "Actual: 0 | Predicted: 0\n",
      "Actual: 1 | Predicted: 1\n",
      "Actual: 1 | Predicted: 1\n",
      "Actual: 0 | Predicted: 0\n",
      "Actual: 0 | Predicted: 0\n",
      "Actual: 1 | Predicted: 1\n",
      "Actual: 0 | Predicted: 0\n",
      "Actual: 1 | Predicted: 0\n",
      "Actual: 1 | Predicted: 1\n",
      "Actual: 1 | Predicted: 1\n",
      "Actual: 1 | Predicted: 0\n",
      "Actual: 1 | Predicted: 1\n",
      "Actual: 1 | Predicted: 1\n",
      "Actual: 1 | Predicted: 1\n",
      "Actual: 1 | Predicted: 0\n",
      "Actual: 1 | Predicted: 1\n",
      "Actual: 0 | Predicted: 0\n",
      "Actual: 1 | Predicted: 1\n",
      "Actual: 1 | Predicted: 1\n",
      "Actual: 1 | Predicted: 1\n",
      "Actual: 1 | Predicted: 1\n",
      "Actual: 1 | Predicted: 1\n",
      "Actual: 1 | Predicted: 1\n",
      "Actual: 1 | Predicted: 1\n",
      "Actual: 0 | Predicted: 1\n",
      "Actual: 1 | Predicted: 1\n",
      "Actual: 0 | Predicted: 1\n",
      "Actual: 0 | Predicted: 0\n",
      "Actual: 1 | Predicted: 1\n",
      "Actual: 1 | Predicted: 1\n",
      "Actual: 0 | Predicted: 0\n",
      "Actual: 0 | Predicted: 0\n",
      "Actual: 0 | Predicted: 0\n",
      "Actual: 1 | Predicted: 1\n",
      "Actual: 0 | Predicted: 1\n",
      "Actual: 0 | Predicted: 1\n",
      "Actual: 0 | Predicted: 0\n",
      "Actual: 1 | Predicted: 0\n",
      "Actual: 1 | Predicted: 1\n",
      "Actual: 1 | Predicted: 1\n",
      "Actual: 0 | Predicted: 0\n",
      "Actual: 1 | Predicted: 1\n",
      "Actual: 1 | Predicted: 1\n",
      "Actual: 0 | Predicted: 1\n",
      "Actual: 1 | Predicted: 1\n",
      "Actual: 1 | Predicted: 1\n",
      "Actual: 1 | Predicted: 1\n",
      "Actual: 0 | Predicted: 0\n",
      "Actual: 0 | Predicted: 0\n",
      "Actual: 0 | Predicted: 0\n",
      "Actual: 0 | Predicted: 0\n",
      "Actual: 1 | Predicted: 1\n",
      "Actual: 0 | Predicted: 1\n",
      "Actual: 0 | Predicted: 0\n",
      "Actual: 1 | Predicted: 1\n",
      "Actual: 0 | Predicted: 1\n",
      "Actual: 0 | Predicted: 0\n",
      "Actual: 1 | Predicted: 1\n",
      "Actual: 0 | Predicted: 0\n",
      "Actual: 1 | Predicted: 1\n",
      "Actual: 0 | Predicted: 1\n",
      "Actual: 1 | Predicted: 1\n",
      "Actual: 0 | Predicted: 1\n",
      "Actual: 1 | Predicted: 1\n",
      "Actual: 0 | Predicted: 1\n",
      "Actual: 1 | Predicted: 1\n",
      "Actual: 1 | Predicted: 1\n",
      "Actual: 1 | Predicted: 1\n",
      "Actual: 1 | Predicted: 1\n",
      "Actual: 0 | Predicted: 0\n",
      "Actual: 1 | Predicted: 1\n",
      "Actual: 1 | Predicted: 1\n",
      "Actual: 0 | Predicted: 0\n",
      "Actual: 0 | Predicted: 0\n",
      "Actual: 0 | Predicted: 1\n",
      "Actual: 1 | Predicted: 1\n",
      "Actual: 0 | Predicted: 0\n",
      "Actual: 1 | Predicted: 1\n",
      "Actual: 0 | Predicted: 0\n",
      "Actual: 1 | Predicted: 1\n",
      "Actual: 0 | Predicted: 0\n",
      "Actual: 1 | Predicted: 1\n",
      "Actual: 0 | Predicted: 0\n",
      "Actual: 1 | Predicted: 1\n",
      "Actual: 0 | Predicted: 0\n",
      "Actual: 0 | Predicted: 0\n",
      "Actual: 1 | Predicted: 0\n",
      "Actual: 1 | Predicted: 1\n",
      "Actual: 0 | Predicted: 0\n",
      "Actual: 1 | Predicted: 1\n",
      "Actual: 1 | Predicted: 1\n",
      "Actual: 0 | Predicted: 0\n",
      "Actual: 0 | Predicted: 0\n",
      "Actual: 1 | Predicted: 1\n",
      "Actual: 0 | Predicted: 1\n",
      "Actual: 0 | Predicted: 0\n",
      "Actual: 0 | Predicted: 0\n",
      "Actual: 1 | Predicted: 1\n",
      "Actual: 1 | Predicted: 0\n",
      "Actual: 1 | Predicted: 1\n",
      "Actual: 0 | Predicted: 1\n",
      "Actual: 1 | Predicted: 1\n",
      "Actual: 0 | Predicted: 0\n",
      "Actual: 0 | Predicted: 0\n",
      "Actual: 0 | Predicted: 0\n",
      "Actual: 0 | Predicted: 1\n",
      "Actual: 1 | Predicted: 1\n",
      "Actual: 0 | Predicted: 0\n",
      "Actual: 1 | Predicted: 1\n",
      "Actual: 1 | Predicted: 1\n",
      "Actual: 0 | Predicted: 0\n",
      "Actual: 0 | Predicted: 0\n",
      "Actual: 1 | Predicted: 1\n",
      "Actual: 0 | Predicted: 0\n",
      "Actual: 1 | Predicted: 1\n",
      "Actual: 1 | Predicted: 1\n",
      "Actual: 1 | Predicted: 1\n",
      "Actual: 0 | Predicted: 0\n",
      "Actual: 1 | Predicted: 1\n",
      "Actual: 1 | Predicted: 1\n",
      "Actual: 0 | Predicted: 0\n",
      "Actual: 0 | Predicted: 0\n",
      "Actual: 1 | Predicted: 0\n",
      "Actual: 1 | Predicted: 1\n",
      "Actual: 1 | Predicted: 1\n",
      "Actual: 0 | Predicted: 0\n",
      "Actual: 0 | Predicted: 0\n",
      "Actual: 1 | Predicted: 1\n",
      "Actual: 1 | Predicted: 1\n",
      "Actual: 1 | Predicted: 0\n",
      "Actual: 0 | Predicted: 1\n",
      "Actual: 0 | Predicted: 0\n",
      "Actual: 1 | Predicted: 1\n",
      "Actual: 0 | Predicted: 1\n",
      "Actual: 1 | Predicted: 1\n",
      "Actual: 0 | Predicted: 0\n",
      "Actual: 1 | Predicted: 1\n",
      "Actual: 0 | Predicted: 0\n",
      "Actual: 1 | Predicted: 1\n",
      "Actual: 0 | Predicted: 0\n",
      "Actual: 1 | Predicted: 1\n",
      "Actual: 0 | Predicted: 0\n",
      "Actual: 1 | Predicted: 1\n",
      "Actual: 1 | Predicted: 1\n",
      "Actual: 1 | Predicted: 1\n",
      "Actual: 1 | Predicted: 1\n",
      "Actual: 1 | Predicted: 0\n",
      "Actual: 1 | Predicted: 1\n",
      "Actual: 0 | Predicted: 1\n",
      "Actual: 1 | Predicted: 1\n",
      "Actual: 0 | Predicted: 0\n",
      "Actual: 0 | Predicted: 0\n",
      "Actual: 0 | Predicted: 0\n",
      "Actual: 1 | Predicted: 1\n",
      "Actual: 1 | Predicted: 1\n",
      "Actual: 1 | Predicted: 1\n",
      "Actual: 0 | Predicted: 0\n",
      "Actual: 0 | Predicted: 0\n",
      "Actual: 0 | Predicted: 0\n",
      "Actual: 1 | Predicted: 1\n",
      "Actual: 1 | Predicted: 1\n",
      "Actual: 0 | Predicted: 0\n",
      "Actual: 0 | Predicted: 0\n",
      "Actual: 0 | Predicted: 0\n",
      "Actual: 1 | Predicted: 1\n",
      "Actual: 0 | Predicted: 0\n",
      "Actual: 1 | Predicted: 1\n",
      "Actual: 0 | Predicted: 0\n",
      "Actual: 0 | Predicted: 0\n",
      "Actual: 1 | Predicted: 1\n",
      "Actual: 1 | Predicted: 1\n",
      "Actual: 1 | Predicted: 1\n",
      "Actual: 0 | Predicted: 1\n",
      "Actual: 1 | Predicted: 1\n",
      "Actual: 1 | Predicted: 1\n",
      "Actual: 1 | Predicted: 1\n",
      "Actual: 1 | Predicted: 1\n",
      "Actual: 0 | Predicted: 1\n",
      "Actual: 0 | Predicted: 0\n",
      "Actual: 0 | Predicted: 0\n",
      "Actual: 1 | Predicted: 1\n",
      "Actual: 0 | Predicted: 0\n",
      "Actual: 1 | Predicted: 0\n",
      "Actual: 1 | Predicted: 1\n",
      "Actual: 1 | Predicted: 1\n",
      "Actual: 0 | Predicted: 0\n",
      "Actual: 1 | Predicted: 1\n",
      "Actual: 1 | Predicted: 1\n",
      "Actual: 0 | Predicted: 0\n",
      "Actual: 1 | Predicted: 1\n",
      "Actual: 0 | Predicted: 1\n",
      "Actual: 0 | Predicted: 0\n",
      "Actual: 1 | Predicted: 1\n",
      "Actual: 1 | Predicted: 1\n",
      "Actual: 0 | Predicted: 0\n",
      "Actual: 0 | Predicted: 0\n",
      "Actual: 0 | Predicted: 0\n",
      "Actual: 1 | Predicted: 1\n",
      "Actual: 1 | Predicted: 1\n",
      "Actual: 1 | Predicted: 0\n",
      "Actual: 1 | Predicted: 1\n",
      "Actual: 1 | Predicted: 1\n",
      "Actual: 1 | Predicted: 1\n",
      "Actual: 0 | Predicted: 1\n",
      "Actual: 0 | Predicted: 0\n",
      "Actual: 1 | Predicted: 1\n",
      "Actual: 0 | Predicted: 0\n",
      "Actual: 1 | Predicted: 1\n",
      "Actual: 0 | Predicted: 0\n",
      "Actual: 0 | Predicted: 0\n",
      "Actual: 1 | Predicted: 1\n",
      "Actual: 0 | Predicted: 0\n",
      "Actual: 1 | Predicted: 1\n",
      "Actual: 0 | Predicted: 0\n",
      "Actual: 0 | Predicted: 0\n",
      "Actual: 0 | Predicted: 0\n",
      "Actual: 0 | Predicted: 0\n",
      "Actual: 1 | Predicted: 1\n",
      "Actual: 1 | Predicted: 1\n",
      "Actual: 0 | Predicted: 1\n",
      "Actual: 0 | Predicted: 1\n",
      "Actual: 1 | Predicted: 1\n",
      "Actual: 0 | Predicted: 0\n",
      "Actual: 0 | Predicted: 0\n",
      "Actual: 0 | Predicted: 0\n",
      "Actual: 0 | Predicted: 0\n",
      "Actual: 0 | Predicted: 0\n",
      "Actual: 1 | Predicted: 0\n",
      "Actual: 0 | Predicted: 0\n",
      "Actual: 0 | Predicted: 1\n",
      "Actual: 0 | Predicted: 0\n",
      "Actual: 0 | Predicted: 0\n",
      "Actual: 1 | Predicted: 1\n",
      "Actual: 1 | Predicted: 1\n",
      "Actual: 1 | Predicted: 1\n",
      "Actual: 0 | Predicted: 0\n",
      "Actual: 1 | Predicted: 0\n",
      "Actual: 0 | Predicted: 0\n",
      "Actual: 0 | Predicted: 0\n",
      "Actual: 1 | Predicted: 1\n",
      "Actual: 0 | Predicted: 0\n",
      "Actual: 0 | Predicted: 1\n",
      "Actual: 1 | Predicted: 1\n",
      "Actual: 0 | Predicted: 1\n",
      "Actual: 0 | Predicted: 0\n",
      "Actual: 1 | Predicted: 1\n",
      "Actual: 1 | Predicted: 0\n",
      "Actual: 0 | Predicted: 0\n",
      "Actual: 1 | Predicted: 1\n",
      "Actual: 0 | Predicted: 0\n",
      "Actual: 1 | Predicted: 1\n",
      "Actual: 1 | Predicted: 1\n",
      "Actual: 1 | Predicted: 1\n",
      "Actual: 1 | Predicted: 1\n",
      "Actual: 1 | Predicted: 1\n",
      "Actual: 0 | Predicted: 0\n",
      "Actual: 1 | Predicted: 1\n",
      "Actual: 1 | Predicted: 1\n",
      "Actual: 0 | Predicted: 0\n",
      "Actual: 1 | Predicted: 1\n",
      "Actual: 1 | Predicted: 1\n",
      "Actual: 0 | Predicted: 0\n",
      "Actual: 0 | Predicted: 0\n",
      "Actual: 0 | Predicted: 0\n",
      "Actual: 1 | Predicted: 0\n",
      "Actual: 0 | Predicted: 0\n",
      "Actual: 0 | Predicted: 0\n",
      "Actual: 1 | Predicted: 0\n",
      "Actual: 1 | Predicted: 1\n",
      "Actual: 0 | Predicted: 0\n",
      "Actual: 1 | Predicted: 1\n",
      "Actual: 0 | Predicted: 0\n",
      "Actual: 1 | Predicted: 1\n",
      "Actual: 1 | Predicted: 1\n",
      "Actual: 1 | Predicted: 1\n",
      "Actual: 1 | Predicted: 0\n",
      "Actual: 1 | Predicted: 1\n",
      "Actual: 0 | Predicted: 0\n",
      "Actual: 1 | Predicted: 1\n",
      "Actual: 0 | Predicted: 1\n",
      "Actual: 0 | Predicted: 0\n",
      "Actual: 0 | Predicted: 0\n",
      "Actual: 0 | Predicted: 0\n",
      "Actual: 1 | Predicted: 1\n",
      "Actual: 0 | Predicted: 0\n",
      "Actual: 0 | Predicted: 0\n",
      "Actual: 0 | Predicted: 0\n",
      "Actual: 0 | Predicted: 0\n",
      "Actual: 0 | Predicted: 0\n",
      "Actual: 1 | Predicted: 1\n",
      "Actual: 0 | Predicted: 0\n",
      "Actual: 1 | Predicted: 1\n",
      "Actual: 1 | Predicted: 1\n",
      "Actual: 0 | Predicted: 0\n",
      "Actual: 0 | Predicted: 0\n",
      "Actual: 1 | Predicted: 1\n",
      "Actual: 0 | Predicted: 0\n",
      "Actual: 1 | Predicted: 1\n",
      "Actual: 1 | Predicted: 1\n",
      "Actual: 0 | Predicted: 1\n",
      "Actual: 0 | Predicted: 0\n",
      "Actual: 0 | Predicted: 1\n",
      "Actual: 0 | Predicted: 0\n",
      "Actual: 1 | Predicted: 0\n",
      "Actual: 0 | Predicted: 0\n",
      "Actual: 1 | Predicted: 0\n",
      "Actual: 1 | Predicted: 1\n",
      "Actual: 1 | Predicted: 1\n",
      "Actual: 1 | Predicted: 1\n",
      "Actual: 1 | Predicted: 0\n",
      "Actual: 1 | Predicted: 1\n",
      "Actual: 0 | Predicted: 1\n",
      "Actual: 1 | Predicted: 1\n",
      "Actual: 0 | Predicted: 0\n",
      "Actual: 1 | Predicted: 1\n",
      "Actual: 1 | Predicted: 1\n",
      "Actual: 1 | Predicted: 1\n",
      "Actual: 0 | Predicted: 1\n",
      "Actual: 1 | Predicted: 1\n",
      "Actual: 1 | Predicted: 1\n",
      "Actual: 0 | Predicted: 0\n",
      "Actual: 1 | Predicted: 1\n",
      "Actual: 1 | Predicted: 1\n",
      "Actual: 1 | Predicted: 1\n",
      "Actual: 1 | Predicted: 1\n",
      "Actual: 1 | Predicted: 0\n",
      "Actual: 1 | Predicted: 1\n",
      "Actual: 0 | Predicted: 0\n",
      "Actual: 1 | Predicted: 1\n",
      "Actual: 0 | Predicted: 0\n",
      "Actual: 1 | Predicted: 1\n",
      "Actual: 0 | Predicted: 0\n",
      "Actual: 0 | Predicted: 0\n",
      "Actual: 0 | Predicted: 0\n",
      "Actual: 1 | Predicted: 1\n",
      "Actual: 1 | Predicted: 1\n",
      "Actual: 0 | Predicted: 0\n",
      "Actual: 1 | Predicted: 1\n",
      "Actual: 1 | Predicted: 1\n",
      "Actual: 1 | Predicted: 1\n",
      "Actual: 1 | Predicted: 1\n",
      "Actual: 1 | Predicted: 1\n",
      "Actual: 1 | Predicted: 1\n",
      "Actual: 1 | Predicted: 1\n",
      "Actual: 1 | Predicted: 1\n",
      "Actual: 0 | Predicted: 0\n",
      "Actual: 1 | Predicted: 0\n",
      "Actual: 1 | Predicted: 0\n",
      "Actual: 0 | Predicted: 0\n",
      "Actual: 1 | Predicted: 1\n",
      "Actual: 0 | Predicted: 0\n",
      "Actual: 0 | Predicted: 0\n",
      "Actual: 1 | Predicted: 0\n",
      "Actual: 1 | Predicted: 1\n",
      "Actual: 0 | Predicted: 0\n",
      "Actual: 1 | Predicted: 1\n",
      "Actual: 1 | Predicted: 1\n",
      "Actual: 0 | Predicted: 0\n",
      "Actual: 0 | Predicted: 0\n",
      "Actual: 1 | Predicted: 1\n",
      "Actual: 0 | Predicted: 0\n",
      "Actual: 1 | Predicted: 1\n",
      "Actual: 0 | Predicted: 0\n",
      "Actual: 0 | Predicted: 0\n",
      "Actual: 0 | Predicted: 0\n",
      "Actual: 1 | Predicted: 1\n",
      "Actual: 0 | Predicted: 0\n",
      "Actual: 1 | Predicted: 1\n",
      "Actual: 1 | Predicted: 1\n",
      "Actual: 1 | Predicted: 1\n",
      "Actual: 1 | Predicted: 1\n",
      "Actual: 0 | Predicted: 0\n",
      "Actual: 1 | Predicted: 1\n",
      "Actual: 0 | Predicted: 0\n",
      "Actual: 0 | Predicted: 1\n",
      "Actual: 0 | Predicted: 0\n",
      "Actual: 0 | Predicted: 0\n",
      "Actual: 1 | Predicted: 1\n",
      "Actual: 0 | Predicted: 0\n",
      "Actual: 1 | Predicted: 1\n",
      "Actual: 0 | Predicted: 0\n",
      "Actual: 1 | Predicted: 1\n",
      "Actual: 0 | Predicted: 0\n",
      "Actual: 1 | Predicted: 0\n",
      "Actual: 1 | Predicted: 1\n",
      "Actual: 0 | Predicted: 0\n",
      "Actual: 0 | Predicted: 0\n",
      "Actual: 0 | Predicted: 0\n",
      "Actual: 0 | Predicted: 0\n",
      "Actual: 1 | Predicted: 1\n",
      "Actual: 1 | Predicted: 1\n",
      "Actual: 1 | Predicted: 1\n",
      "Actual: 0 | Predicted: 0\n",
      "Actual: 0 | Predicted: 1\n",
      "Actual: 0 | Predicted: 0\n",
      "Actual: 0 | Predicted: 1\n",
      "Actual: 0 | Predicted: 0\n",
      "Actual: 1 | Predicted: 1\n",
      "Actual: 1 | Predicted: 1\n",
      "Actual: 0 | Predicted: 1\n",
      "Actual: 1 | Predicted: 1\n",
      "Actual: 1 | Predicted: 1\n",
      "Actual: 1 | Predicted: 0\n",
      "Actual: 0 | Predicted: 0\n",
      "Actual: 0 | Predicted: 1\n",
      "Actual: 1 | Predicted: 1\n",
      "Actual: 0 | Predicted: 0\n",
      "Actual: 1 | Predicted: 1\n",
      "Actual: 1 | Predicted: 1\n",
      "Actual: 0 | Predicted: 1\n",
      "Actual: 1 | Predicted: 1\n",
      "Actual: 1 | Predicted: 1\n",
      "Actual: 1 | Predicted: 1\n",
      "Actual: 1 | Predicted: 1\n",
      "Actual: 1 | Predicted: 1\n",
      "Actual: 1 | Predicted: 1\n",
      "Actual: 1 | Predicted: 1\n",
      "Actual: 1 | Predicted: 1\n",
      "Actual: 0 | Predicted: 0\n",
      "Actual: 1 | Predicted: 1\n",
      "Actual: 1 | Predicted: 1\n",
      "Actual: 1 | Predicted: 1\n",
      "Actual: 1 | Predicted: 1\n",
      "Actual: 0 | Predicted: 1\n",
      "Actual: 1 | Predicted: 1\n",
      "Actual: 1 | Predicted: 1\n",
      "Actual: 1 | Predicted: 1\n",
      "Actual: 1 | Predicted: 1\n",
      "Actual: 1 | Predicted: 1\n",
      "Actual: 1 | Predicted: 1\n",
      "Actual: 1 | Predicted: 1\n",
      "Actual: 1 | Predicted: 1\n",
      "Actual: 1 | Predicted: 1\n",
      "Actual: 1 | Predicted: 0\n",
      "Actual: 1 | Predicted: 1\n",
      "Actual: 0 | Predicted: 0\n",
      "Actual: 1 | Predicted: 1\n",
      "Actual: 1 | Predicted: 1\n",
      "Actual: 0 | Predicted: 0\n",
      "Actual: 0 | Predicted: 0\n",
      "Actual: 1 | Predicted: 1\n",
      "Actual: 1 | Predicted: 1\n",
      "Actual: 1 | Predicted: 1\n",
      "Actual: 0 | Predicted: 0\n",
      "Actual: 1 | Predicted: 0\n",
      "Actual: 1 | Predicted: 1\n",
      "Actual: 1 | Predicted: 1\n",
      "Actual: 1 | Predicted: 1\n",
      "Actual: 0 | Predicted: 0\n",
      "Actual: 1 | Predicted: 1\n",
      "Actual: 0 | Predicted: 1\n",
      "Actual: 1 | Predicted: 1\n",
      "Actual: 1 | Predicted: 1\n",
      "Actual: 0 | Predicted: 0\n",
      "Actual: 1 | Predicted: 1\n",
      "Actual: 0 | Predicted: 0\n",
      "Actual: 1 | Predicted: 1\n",
      "Actual: 1 | Predicted: 1\n",
      "Actual: 1 | Predicted: 1\n",
      "Actual: 1 | Predicted: 1\n",
      "Actual: 1 | Predicted: 0\n",
      "Actual: 0 | Predicted: 1\n",
      "Actual: 1 | Predicted: 1\n",
      "Actual: 1 | Predicted: 1\n",
      "Actual: 0 | Predicted: 0\n",
      "Actual: 1 | Predicted: 1\n",
      "Actual: 1 | Predicted: 1\n",
      "Actual: 0 | Predicted: 0\n",
      "Actual: 1 | Predicted: 1\n",
      "Actual: 0 | Predicted: 0\n",
      "Actual: 0 | Predicted: 0\n",
      "Actual: 1 | Predicted: 1\n",
      "Actual: 1 | Predicted: 1\n",
      "Actual: 1 | Predicted: 1\n",
      "Actual: 0 | Predicted: 0\n",
      "Actual: 1 | Predicted: 1\n",
      "Actual: 1 | Predicted: 1\n",
      "Actual: 0 | Predicted: 0\n",
      "Actual: 0 | Predicted: 0\n",
      "Actual: 0 | Predicted: 0\n",
      "Actual: 0 | Predicted: 0\n",
      "Actual: 0 | Predicted: 0\n",
      "Actual: 0 | Predicted: 1\n",
      "Actual: 1 | Predicted: 1\n",
      "Actual: 0 | Predicted: 0\n",
      "Actual: 1 | Predicted: 1\n",
      "Actual: 1 | Predicted: 1\n",
      "Actual: 0 | Predicted: 0\n",
      "Actual: 0 | Predicted: 0\n",
      "Actual: 0 | Predicted: 0\n",
      "Actual: 0 | Predicted: 1\n",
      "Actual: 0 | Predicted: 0\n",
      "Actual: 1 | Predicted: 1\n",
      "Actual: 1 | Predicted: 1\n",
      "Actual: 0 | Predicted: 1\n",
      "Actual: 0 | Predicted: 0\n",
      "Actual: 0 | Predicted: 0\n",
      "Actual: 1 | Predicted: 1\n",
      "Actual: 1 | Predicted: 1\n",
      "Actual: 0 | Predicted: 0\n",
      "Actual: 1 | Predicted: 1\n",
      "Actual: 1 | Predicted: 1\n",
      "Actual: 1 | Predicted: 1\n",
      "Actual: 1 | Predicted: 1\n",
      "Actual: 1 | Predicted: 1\n",
      "Actual: 1 | Predicted: 1\n",
      "Actual: 0 | Predicted: 0\n",
      "Actual: 1 | Predicted: 1\n",
      "Actual: 1 | Predicted: 1\n",
      "Actual: 1 | Predicted: 1\n",
      "Actual: 1 | Predicted: 1\n",
      "Actual: 0 | Predicted: 0\n",
      "Actual: 1 | Predicted: 1\n",
      "Actual: 1 | Predicted: 1\n",
      "Actual: 1 | Predicted: 1\n",
      "Actual: 1 | Predicted: 1\n",
      "Actual: 1 | Predicted: 1\n",
      "Actual: 1 | Predicted: 1\n",
      "Actual: 1 | Predicted: 1\n",
      "Actual: 1 | Predicted: 1\n",
      "Actual: 1 | Predicted: 1\n",
      "Actual: 0 | Predicted: 0\n",
      "Actual: 1 | Predicted: 1\n",
      "Actual: 0 | Predicted: 0\n",
      "Actual: 1 | Predicted: 0\n",
      "Actual: 1 | Predicted: 1\n",
      "Actual: 0 | Predicted: 0\n",
      "Actual: 1 | Predicted: 1\n",
      "Actual: 1 | Predicted: 1\n",
      "Actual: 1 | Predicted: 1\n",
      "Actual: 0 | Predicted: 0\n",
      "Actual: 1 | Predicted: 1\n",
      "Actual: 1 | Predicted: 1\n",
      "Actual: 0 | Predicted: 0\n",
      "Actual: 0 | Predicted: 0\n",
      "Actual: 1 | Predicted: 1\n",
      "Actual: 0 | Predicted: 0\n",
      "Actual: 1 | Predicted: 1\n",
      "Actual: 1 | Predicted: 1\n",
      "Actual: 0 | Predicted: 0\n",
      "Actual: 1 | Predicted: 1\n",
      "Actual: 0 | Predicted: 0\n",
      "Actual: 0 | Predicted: 0\n",
      "Actual: 0 | Predicted: 0\n",
      "Actual: 0 | Predicted: 0\n",
      "Actual: 0 | Predicted: 0\n",
      "Actual: 0 | Predicted: 0\n",
      "Actual: 0 | Predicted: 1\n",
      "Actual: 1 | Predicted: 0\n",
      "Actual: 1 | Predicted: 1\n",
      "Actual: 0 | Predicted: 0\n",
      "Actual: 0 | Predicted: 1\n",
      "Actual: 0 | Predicted: 0\n",
      "Actual: 0 | Predicted: 0\n",
      "Actual: 1 | Predicted: 1\n",
      "Actual: 0 | Predicted: 0\n",
      "Actual: 1 | Predicted: 1\n",
      "Actual: 0 | Predicted: 0\n",
      "Actual: 0 | Predicted: 0\n",
      "Actual: 0 | Predicted: 0\n",
      "Actual: 1 | Predicted: 1\n",
      "Actual: 0 | Predicted: 1\n",
      "Actual: 0 | Predicted: 0\n",
      "Actual: 0 | Predicted: 0\n",
      "Actual: 0 | Predicted: 0\n",
      "Actual: 0 | Predicted: 0\n",
      "Actual: 1 | Predicted: 1\n",
      "Actual: 0 | Predicted: 0\n",
      "Actual: 1 | Predicted: 1\n",
      "Actual: 0 | Predicted: 0\n",
      "Actual: 1 | Predicted: 1\n",
      "Actual: 0 | Predicted: 0\n",
      "Actual: 1 | Predicted: 1\n",
      "Actual: 0 | Predicted: 0\n",
      "Actual: 0 | Predicted: 0\n",
      "Actual: 1 | Predicted: 1\n",
      "Actual: 0 | Predicted: 0\n",
      "Actual: 0 | Predicted: 0\n",
      "Actual: 1 | Predicted: 0\n",
      "Actual: 0 | Predicted: 0\n",
      "Actual: 1 | Predicted: 1\n",
      "Actual: 0 | Predicted: 0\n",
      "Actual: 1 | Predicted: 1\n",
      "Actual: 0 | Predicted: 0\n",
      "Actual: 1 | Predicted: 1\n",
      "Actual: 1 | Predicted: 1\n",
      "Actual: 1 | Predicted: 1\n",
      "Actual: 1 | Predicted: 1\n",
      "Actual: 0 | Predicted: 0\n",
      "Actual: 0 | Predicted: 0\n",
      "Actual: 0 | Predicted: 0\n",
      "Actual: 1 | Predicted: 1\n",
      "Actual: 1 | Predicted: 1\n",
      "Actual: 1 | Predicted: 1\n",
      "Actual: 0 | Predicted: 1\n",
      "Actual: 1 | Predicted: 1\n",
      "Actual: 0 | Predicted: 0\n",
      "Actual: 0 | Predicted: 0\n",
      "Actual: 0 | Predicted: 0\n",
      "Actual: 0 | Predicted: 0\n",
      "Actual: 0 | Predicted: 0\n",
      "Actual: 1 | Predicted: 1\n",
      "Actual: 0 | Predicted: 0\n",
      "Actual: 1 | Predicted: 1\n",
      "Actual: 1 | Predicted: 1\n",
      "Actual: 1 | Predicted: 1\n",
      "Actual: 1 | Predicted: 1\n",
      "Actual: 1 | Predicted: 1\n",
      "Actual: 0 | Predicted: 1\n",
      "Actual: 1 | Predicted: 1\n",
      "Actual: 0 | Predicted: 0\n",
      "Actual: 1 | Predicted: 1\n",
      "Actual: 0 | Predicted: 0\n",
      "Actual: 0 | Predicted: 0\n",
      "Actual: 1 | Predicted: 0\n",
      "Actual: 0 | Predicted: 0\n",
      "Actual: 1 | Predicted: 0\n",
      "Actual: 0 | Predicted: 0\n",
      "Actual: 0 | Predicted: 0\n",
      "Actual: 1 | Predicted: 1\n",
      "Actual: 1 | Predicted: 1\n",
      "Actual: 1 | Predicted: 1\n",
      "Actual: 1 | Predicted: 0\n",
      "Actual: 1 | Predicted: 1\n",
      "Actual: 0 | Predicted: 0\n",
      "Actual: 1 | Predicted: 1\n",
      "Actual: 0 | Predicted: 0\n",
      "Actual: 0 | Predicted: 0\n",
      "Actual: 0 | Predicted: 0\n",
      "Actual: 1 | Predicted: 1\n",
      "Actual: 1 | Predicted: 1\n",
      "Actual: 0 | Predicted: 0\n",
      "Actual: 1 | Predicted: 1\n",
      "Actual: 1 | Predicted: 1\n",
      "Actual: 1 | Predicted: 1\n",
      "Actual: 0 | Predicted: 0\n",
      "Actual: 1 | Predicted: 1\n",
      "Actual: 1 | Predicted: 1\n",
      "Actual: 0 | Predicted: 0\n",
      "Actual: 0 | Predicted: 0\n",
      "Actual: 0 | Predicted: 0\n",
      "Actual: 1 | Predicted: 1\n",
      "Actual: 0 | Predicted: 0\n",
      "Actual: 0 | Predicted: 0\n",
      "Actual: 0 | Predicted: 0\n",
      "Actual: 0 | Predicted: 0\n",
      "Actual: 1 | Predicted: 1\n",
      "Actual: 0 | Predicted: 0\n",
      "Actual: 0 | Predicted: 0\n",
      "Actual: 0 | Predicted: 0\n",
      "Actual: 1 | Predicted: 1\n",
      "Actual: 1 | Predicted: 1\n",
      "Actual: 1 | Predicted: 1\n",
      "Actual: 0 | Predicted: 0\n",
      "Actual: 1 | Predicted: 0\n",
      "Actual: 1 | Predicted: 1\n",
      "Actual: 0 | Predicted: 0\n",
      "Actual: 1 | Predicted: 1\n",
      "Actual: 1 | Predicted: 1\n",
      "Actual: 1 | Predicted: 1\n",
      "Actual: 0 | Predicted: 0\n",
      "Actual: 1 | Predicted: 1\n",
      "Actual: 1 | Predicted: 0\n",
      "Actual: 1 | Predicted: 1\n",
      "Actual: 1 | Predicted: 1\n",
      "Actual: 0 | Predicted: 0\n",
      "Actual: 1 | Predicted: 1\n",
      "Actual: 0 | Predicted: 0\n",
      "Actual: 0 | Predicted: 0\n",
      "Actual: 1 | Predicted: 1\n",
      "Actual: 0 | Predicted: 0\n",
      "Actual: 0 | Predicted: 0\n",
      "Actual: 1 | Predicted: 1\n",
      "Actual: 1 | Predicted: 1\n",
      "Actual: 0 | Predicted: 0\n",
      "Actual: 1 | Predicted: 1\n",
      "Actual: 1 | Predicted: 1\n",
      "Actual: 1 | Predicted: 1\n",
      "Actual: 0 | Predicted: 0\n",
      "Actual: 1 | Predicted: 1\n",
      "Actual: 1 | Predicted: 1\n",
      "Actual: 1 | Predicted: 1\n",
      "Actual: 1 | Predicted: 1\n",
      "Actual: 1 | Predicted: 1\n",
      "Actual: 0 | Predicted: 0\n",
      "Actual: 1 | Predicted: 1\n",
      "Actual: 0 | Predicted: 0\n",
      "Actual: 0 | Predicted: 0\n",
      "Actual: 0 | Predicted: 1\n",
      "Actual: 0 | Predicted: 0\n",
      "Actual: 1 | Predicted: 1\n",
      "Actual: 0 | Predicted: 0\n",
      "Actual: 0 | Predicted: 0\n",
      "Actual: 1 | Predicted: 1\n",
      "Actual: 1 | Predicted: 1\n",
      "Actual: 1 | Predicted: 1\n",
      "Actual: 1 | Predicted: 1\n",
      "Actual: 1 | Predicted: 0\n",
      "Actual: 1 | Predicted: 1\n",
      "Actual: 1 | Predicted: 1\n",
      "Actual: 1 | Predicted: 1\n",
      "Actual: 0 | Predicted: 0\n",
      "Actual: 1 | Predicted: 1\n",
      "Actual: 0 | Predicted: 0\n",
      "Actual: 0 | Predicted: 1\n",
      "Actual: 1 | Predicted: 1\n",
      "Actual: 0 | Predicted: 0\n",
      "Actual: 1 | Predicted: 1\n",
      "Actual: 0 | Predicted: 0\n",
      "Actual: 0 | Predicted: 0\n",
      "Actual: 0 | Predicted: 0\n",
      "Actual: 0 | Predicted: 0\n",
      "Actual: 1 | Predicted: 1\n",
      "Actual: 1 | Predicted: 1\n",
      "Actual: 1 | Predicted: 1\n",
      "Actual: 1 | Predicted: 1\n",
      "Actual: 1 | Predicted: 1\n",
      "Actual: 0 | Predicted: 0\n",
      "Actual: 0 | Predicted: 0\n",
      "Actual: 1 | Predicted: 0\n",
      "Actual: 0 | Predicted: 0\n",
      "Actual: 0 | Predicted: 0\n",
      "Actual: 0 | Predicted: 0\n",
      "Actual: 1 | Predicted: 1\n",
      "Actual: 0 | Predicted: 0\n",
      "Actual: 0 | Predicted: 1\n",
      "Actual: 1 | Predicted: 1\n",
      "Actual: 1 | Predicted: 1\n",
      "Actual: 1 | Predicted: 1\n",
      "Actual: 1 | Predicted: 0\n",
      "Actual: 0 | Predicted: 0\n",
      "Actual: 0 | Predicted: 0\n",
      "Actual: 0 | Predicted: 1\n",
      "Actual: 1 | Predicted: 0\n",
      "Actual: 1 | Predicted: 1\n",
      "Actual: 1 | Predicted: 1\n",
      "Actual: 1 | Predicted: 1\n",
      "Actual: 1 | Predicted: 1\n",
      "Actual: 0 | Predicted: 0\n",
      "Actual: 0 | Predicted: 0\n",
      "Actual: 0 | Predicted: 1\n",
      "Actual: 0 | Predicted: 0\n",
      "Actual: 1 | Predicted: 0\n",
      "Actual: 1 | Predicted: 0\n",
      "Actual: 1 | Predicted: 1\n",
      "Actual: 1 | Predicted: 1\n",
      "Actual: 0 | Predicted: 0\n",
      "Actual: 0 | Predicted: 0\n",
      "Actual: 0 | Predicted: 0\n",
      "Actual: 1 | Predicted: 1\n",
      "Actual: 1 | Predicted: 1\n",
      "Actual: 1 | Predicted: 1\n",
      "Actual: 1 | Predicted: 1\n",
      "Actual: 1 | Predicted: 1\n",
      "Actual: 1 | Predicted: 1\n",
      "Actual: 1 | Predicted: 1\n",
      "Actual: 1 | Predicted: 1\n",
      "Actual: 0 | Predicted: 0\n",
      "Actual: 0 | Predicted: 0\n",
      "Actual: 0 | Predicted: 0\n",
      "Actual: 1 | Predicted: 1\n",
      "Actual: 0 | Predicted: 0\n",
      "Actual: 0 | Predicted: 0\n",
      "Actual: 1 | Predicted: 1\n",
      "Actual: 1 | Predicted: 1\n",
      "Actual: 1 | Predicted: 1\n",
      "Actual: 1 | Predicted: 1\n",
      "Actual: 1 | Predicted: 0\n",
      "Actual: 1 | Predicted: 1\n",
      "Actual: 1 | Predicted: 1\n",
      "Actual: 0 | Predicted: 0\n",
      "Actual: 1 | Predicted: 0\n",
      "Actual: 1 | Predicted: 0\n",
      "Actual: 0 | Predicted: 1\n",
      "Actual: 0 | Predicted: 0\n",
      "Actual: 0 | Predicted: 0\n",
      "Actual: 1 | Predicted: 0\n",
      "Actual: 1 | Predicted: 1\n",
      "Actual: 0 | Predicted: 0\n",
      "Actual: 1 | Predicted: 1\n",
      "Actual: 0 | Predicted: 0\n",
      "Actual: 0 | Predicted: 0\n",
      "Actual: 1 | Predicted: 1\n",
      "Actual: 1 | Predicted: 1\n",
      "Actual: 0 | Predicted: 0\n",
      "Actual: 0 | Predicted: 0\n",
      "Actual: 1 | Predicted: 1\n",
      "Actual: 1 | Predicted: 1\n",
      "Actual: 1 | Predicted: 1\n",
      "Actual: 0 | Predicted: 0\n",
      "Actual: 1 | Predicted: 1\n",
      "Actual: 1 | Predicted: 1\n",
      "Actual: 0 | Predicted: 0\n",
      "Actual: 1 | Predicted: 1\n",
      "Actual: 1 | Predicted: 1\n",
      "Actual: 1 | Predicted: 1\n",
      "Actual: 0 | Predicted: 0\n",
      "Actual: 1 | Predicted: 1\n",
      "Actual: 1 | Predicted: 1\n",
      "Actual: 1 | Predicted: 0\n",
      "Actual: 1 | Predicted: 1\n",
      "Actual: 1 | Predicted: 1\n",
      "Actual: 1 | Predicted: 1\n",
      "Actual: 1 | Predicted: 1\n",
      "Actual: 1 | Predicted: 1\n",
      "Actual: 0 | Predicted: 0\n",
      "Actual: 0 | Predicted: 0\n",
      "Actual: 0 | Predicted: 0\n",
      "Actual: 1 | Predicted: 1\n",
      "Actual: 1 | Predicted: 1\n",
      "Actual: 0 | Predicted: 0\n",
      "Actual: 0 | Predicted: 0\n",
      "Actual: 0 | Predicted: 0\n",
      "Actual: 1 | Predicted: 1\n",
      "Actual: 0 | Predicted: 0\n",
      "Actual: 0 | Predicted: 1\n",
      "Actual: 1 | Predicted: 1\n",
      "Actual: 1 | Predicted: 1\n",
      "Actual: 0 | Predicted: 0\n",
      "Actual: 0 | Predicted: 0\n",
      "Actual: 1 | Predicted: 1\n",
      "Actual: 0 | Predicted: 0\n",
      "Actual: 0 | Predicted: 0\n",
      "Actual: 1 | Predicted: 1\n",
      "Actual: 1 | Predicted: 1\n",
      "Actual: 0 | Predicted: 0\n",
      "Actual: 1 | Predicted: 1\n",
      "Actual: 0 | Predicted: 0\n",
      "Actual: 0 | Predicted: 1\n",
      "Actual: 1 | Predicted: 1\n",
      "Actual: 1 | Predicted: 1\n",
      "Actual: 1 | Predicted: 1\n",
      "Actual: 0 | Predicted: 0\n",
      "Actual: 0 | Predicted: 0\n",
      "Actual: 0 | Predicted: 0\n",
      "Actual: 0 | Predicted: 0\n",
      "Actual: 0 | Predicted: 0\n",
      "Actual: 1 | Predicted: 1\n",
      "Actual: 0 | Predicted: 0\n",
      "Actual: 1 | Predicted: 1\n",
      "Actual: 0 | Predicted: 1\n",
      "Actual: 1 | Predicted: 0\n",
      "Actual: 0 | Predicted: 0\n",
      "Actual: 0 | Predicted: 0\n",
      "Actual: 0 | Predicted: 0\n",
      "Actual: 0 | Predicted: 0\n",
      "Actual: 1 | Predicted: 1\n",
      "Actual: 0 | Predicted: 0\n",
      "Actual: 1 | Predicted: 1\n",
      "Actual: 0 | Predicted: 0\n",
      "Actual: 1 | Predicted: 1\n",
      "Actual: 0 | Predicted: 1\n",
      "Actual: 0 | Predicted: 0\n",
      "Actual: 0 | Predicted: 0\n",
      "Actual: 0 | Predicted: 0\n",
      "Actual: 0 | Predicted: 0\n",
      "Actual: 1 | Predicted: 1\n",
      "Actual: 1 | Predicted: 1\n",
      "Actual: 1 | Predicted: 1\n",
      "Actual: 1 | Predicted: 1\n",
      "Actual: 0 | Predicted: 0\n",
      "Actual: 1 | Predicted: 1\n",
      "Actual: 1 | Predicted: 1\n",
      "Actual: 1 | Predicted: 1\n",
      "Actual: 0 | Predicted: 0\n",
      "Actual: 1 | Predicted: 1\n",
      "Actual: 1 | Predicted: 1\n",
      "Actual: 0 | Predicted: 0\n",
      "Actual: 0 | Predicted: 0\n",
      "Actual: 1 | Predicted: 1\n",
      "Actual: 1 | Predicted: 1\n",
      "Actual: 1 | Predicted: 1\n",
      "Actual: 1 | Predicted: 1\n",
      "Actual: 1 | Predicted: 0\n",
      "Actual: 0 | Predicted: 1\n",
      "Actual: 0 | Predicted: 0\n",
      "Actual: 0 | Predicted: 0\n",
      "Actual: 0 | Predicted: 0\n",
      "Actual: 0 | Predicted: 0\n",
      "Actual: 0 | Predicted: 0\n",
      "Actual: 1 | Predicted: 1\n",
      "Actual: 0 | Predicted: 0\n",
      "Actual: 1 | Predicted: 1\n",
      "Actual: 0 | Predicted: 0\n",
      "Actual: 1 | Predicted: 1\n",
      "Actual: 0 | Predicted: 0\n",
      "Actual: 0 | Predicted: 0\n",
      "Actual: 1 | Predicted: 1\n",
      "Actual: 1 | Predicted: 1\n",
      "Actual: 0 | Predicted: 0\n",
      "Actual: 1 | Predicted: 1\n",
      "Actual: 1 | Predicted: 1\n",
      "Actual: 0 | Predicted: 0\n",
      "Actual: 0 | Predicted: 0\n",
      "Actual: 1 | Predicted: 1\n",
      "Actual: 1 | Predicted: 1\n",
      "Actual: 0 | Predicted: 0\n",
      "Actual: 0 | Predicted: 0\n",
      "Actual: 1 | Predicted: 1\n",
      "Actual: 1 | Predicted: 0\n",
      "Actual: 1 | Predicted: 1\n",
      "Actual: 0 | Predicted: 0\n",
      "Actual: 0 | Predicted: 0\n",
      "Actual: 0 | Predicted: 0\n",
      "Actual: 1 | Predicted: 1\n",
      "Actual: 1 | Predicted: 1\n",
      "Actual: 0 | Predicted: 0\n",
      "Actual: 0 | Predicted: 0\n",
      "Actual: 0 | Predicted: 0\n",
      "Actual: 0 | Predicted: 1\n",
      "Actual: 1 | Predicted: 1\n",
      "Actual: 0 | Predicted: 0\n",
      "Actual: 1 | Predicted: 1\n",
      "Actual: 1 | Predicted: 1\n",
      "Actual: 1 | Predicted: 1\n",
      "Actual: 0 | Predicted: 0\n",
      "Actual: 0 | Predicted: 0\n",
      "Actual: 0 | Predicted: 1\n",
      "Actual: 1 | Predicted: 1\n",
      "Actual: 0 | Predicted: 0\n"
     ]
    },
    {
     "name": "stdout",
     "output_type": "stream",
     "text": [
      "Actual: 0 | Predicted: 1\n",
      "Actual: 1 | Predicted: 0\n",
      "Actual: 0 | Predicted: 0\n",
      "Actual: 1 | Predicted: 1\n",
      "Actual: 0 | Predicted: 0\n",
      "Actual: 0 | Predicted: 0\n",
      "Actual: 0 | Predicted: 0\n",
      "Actual: 0 | Predicted: 1\n",
      "Actual: 1 | Predicted: 1\n",
      "Actual: 1 | Predicted: 1\n",
      "Actual: 1 | Predicted: 0\n",
      "Actual: 0 | Predicted: 1\n",
      "Actual: 1 | Predicted: 1\n",
      "Actual: 0 | Predicted: 0\n",
      "Actual: 0 | Predicted: 0\n",
      "Actual: 0 | Predicted: 1\n",
      "Actual: 1 | Predicted: 1\n",
      "Actual: 1 | Predicted: 0\n",
      "Actual: 0 | Predicted: 0\n",
      "Actual: 0 | Predicted: 0\n",
      "Actual: 0 | Predicted: 0\n",
      "Actual: 1 | Predicted: 1\n",
      "Actual: 1 | Predicted: 1\n",
      "Actual: 0 | Predicted: 0\n",
      "Actual: 0 | Predicted: 0\n",
      "Actual: 1 | Predicted: 0\n",
      "Actual: 1 | Predicted: 1\n",
      "Actual: 0 | Predicted: 0\n",
      "Actual: 1 | Predicted: 1\n",
      "Actual: 1 | Predicted: 1\n",
      "Actual: 0 | Predicted: 0\n",
      "Actual: 1 | Predicted: 1\n",
      "Actual: 1 | Predicted: 1\n",
      "Actual: 1 | Predicted: 1\n",
      "Actual: 0 | Predicted: 0\n",
      "Actual: 0 | Predicted: 0\n",
      "Actual: 0 | Predicted: 0\n",
      "Actual: 0 | Predicted: 0\n",
      "Actual: 0 | Predicted: 0\n",
      "Actual: 0 | Predicted: 0\n",
      "Actual: 1 | Predicted: 1\n",
      "Actual: 0 | Predicted: 0\n",
      "Actual: 1 | Predicted: 1\n",
      "Actual: 0 | Predicted: 0\n",
      "Actual: 0 | Predicted: 0\n",
      "Actual: 1 | Predicted: 1\n",
      "Actual: 0 | Predicted: 0\n",
      "Actual: 1 | Predicted: 1\n",
      "Actual: 1 | Predicted: 1\n",
      "Actual: 1 | Predicted: 1\n",
      "Actual: 1 | Predicted: 1\n",
      "Actual: 0 | Predicted: 0\n",
      "Actual: 1 | Predicted: 1\n",
      "Actual: 1 | Predicted: 1\n",
      "Actual: 1 | Predicted: 1\n",
      "Actual: 1 | Predicted: 1\n",
      "Actual: 0 | Predicted: 0\n",
      "Actual: 0 | Predicted: 0\n",
      "Actual: 1 | Predicted: 1\n",
      "Actual: 0 | Predicted: 0\n",
      "Actual: 1 | Predicted: 1\n",
      "Actual: 1 | Predicted: 1\n",
      "Actual: 0 | Predicted: 0\n",
      "Actual: 1 | Predicted: 1\n",
      "Actual: 0 | Predicted: 0\n",
      "Actual: 1 | Predicted: 1\n",
      "Actual: 1 | Predicted: 1\n",
      "Actual: 1 | Predicted: 1\n",
      "Actual: 1 | Predicted: 1\n",
      "Actual: 1 | Predicted: 1\n",
      "Actual: 0 | Predicted: 1\n",
      "Actual: 0 | Predicted: 0\n",
      "Actual: 1 | Predicted: 1\n",
      "Actual: 0 | Predicted: 0\n",
      "Actual: 1 | Predicted: 1\n",
      "Actual: 1 | Predicted: 1\n",
      "Actual: 0 | Predicted: 0\n",
      "Actual: 0 | Predicted: 0\n",
      "Actual: 0 | Predicted: 0\n",
      "Actual: 1 | Predicted: 1\n",
      "Actual: 0 | Predicted: 0\n",
      "Actual: 0 | Predicted: 0\n",
      "Actual: 1 | Predicted: 1\n",
      "Actual: 0 | Predicted: 0\n",
      "Actual: 0 | Predicted: 0\n",
      "Actual: 1 | Predicted: 1\n",
      "Actual: 1 | Predicted: 0\n",
      "Actual: 0 | Predicted: 0\n",
      "Actual: 0 | Predicted: 0\n",
      "Actual: 0 | Predicted: 0\n",
      "Actual: 1 | Predicted: 1\n",
      "Actual: 0 | Predicted: 1\n",
      "Actual: 1 | Predicted: 1\n",
      "Actual: 1 | Predicted: 1\n",
      "Actual: 0 | Predicted: 0\n",
      "Actual: 1 | Predicted: 1\n",
      "Actual: 1 | Predicted: 1\n",
      "Actual: 1 | Predicted: 1\n",
      "Actual: 1 | Predicted: 1\n",
      "Actual: 1 | Predicted: 1\n",
      "Actual: 1 | Predicted: 1\n",
      "Actual: 0 | Predicted: 0\n",
      "Actual: 0 | Predicted: 1\n",
      "Actual: 1 | Predicted: 1\n",
      "Actual: 1 | Predicted: 1\n",
      "Actual: 0 | Predicted: 0\n",
      "Actual: 0 | Predicted: 0\n",
      "Actual: 0 | Predicted: 0\n",
      "Actual: 0 | Predicted: 0\n",
      "Actual: 0 | Predicted: 0\n",
      "Actual: 1 | Predicted: 1\n",
      "Actual: 1 | Predicted: 1\n",
      "Actual: 0 | Predicted: 0\n",
      "Actual: 1 | Predicted: 1\n",
      "Actual: 1 | Predicted: 1\n",
      "Actual: 1 | Predicted: 1\n",
      "Actual: 0 | Predicted: 0\n",
      "Actual: 0 | Predicted: 0\n",
      "Actual: 0 | Predicted: 0\n",
      "Actual: 0 | Predicted: 1\n",
      "Actual: 1 | Predicted: 1\n",
      "Actual: 1 | Predicted: 0\n",
      "Actual: 0 | Predicted: 0\n",
      "Actual: 1 | Predicted: 1\n",
      "Actual: 1 | Predicted: 1\n",
      "Actual: 1 | Predicted: 0\n",
      "Actual: 1 | Predicted: 1\n",
      "Actual: 0 | Predicted: 0\n",
      "Actual: 1 | Predicted: 1\n",
      "Actual: 0 | Predicted: 0\n",
      "Actual: 1 | Predicted: 1\n",
      "Actual: 0 | Predicted: 0\n",
      "Actual: 0 | Predicted: 0\n",
      "Actual: 0 | Predicted: 0\n",
      "Actual: 0 | Predicted: 0\n",
      "Actual: 1 | Predicted: 0\n",
      "Actual: 0 | Predicted: 0\n",
      "Actual: 1 | Predicted: 0\n",
      "Actual: 1 | Predicted: 1\n",
      "Actual: 0 | Predicted: 0\n",
      "Actual: 0 | Predicted: 0\n",
      "Actual: 1 | Predicted: 1\n",
      "Actual: 0 | Predicted: 0\n",
      "Actual: 1 | Predicted: 1\n",
      "Actual: 1 | Predicted: 1\n",
      "Actual: 1 | Predicted: 1\n",
      "Actual: 0 | Predicted: 0\n",
      "Actual: 0 | Predicted: 0\n",
      "Actual: 0 | Predicted: 0\n",
      "Actual: 1 | Predicted: 1\n",
      "Actual: 1 | Predicted: 0\n",
      "Actual: 0 | Predicted: 0\n",
      "Actual: 1 | Predicted: 1\n",
      "Actual: 0 | Predicted: 1\n",
      "Actual: 1 | Predicted: 1\n",
      "Actual: 0 | Predicted: 0\n",
      "Actual: 1 | Predicted: 1\n",
      "Actual: 0 | Predicted: 0\n",
      "Actual: 1 | Predicted: 1\n",
      "Actual: 1 | Predicted: 1\n",
      "Actual: 1 | Predicted: 1\n",
      "Actual: 0 | Predicted: 0\n",
      "Actual: 0 | Predicted: 1\n",
      "Actual: 1 | Predicted: 0\n",
      "Actual: 0 | Predicted: 0\n",
      "Actual: 1 | Predicted: 1\n",
      "Actual: 0 | Predicted: 0\n",
      "Actual: 1 | Predicted: 1\n",
      "Actual: 0 | Predicted: 0\n",
      "Actual: 1 | Predicted: 1\n",
      "Actual: 1 | Predicted: 1\n",
      "Actual: 1 | Predicted: 0\n",
      "Actual: 1 | Predicted: 1\n",
      "Actual: 1 | Predicted: 1\n",
      "Actual: 1 | Predicted: 1\n",
      "Actual: 0 | Predicted: 0\n",
      "Actual: 1 | Predicted: 1\n",
      "Actual: 0 | Predicted: 0\n",
      "Actual: 0 | Predicted: 0\n",
      "Actual: 1 | Predicted: 1\n",
      "Actual: 0 | Predicted: 0\n",
      "Actual: 1 | Predicted: 1\n",
      "Actual: 0 | Predicted: 0\n",
      "Actual: 1 | Predicted: 1\n",
      "Actual: 0 | Predicted: 0\n",
      "Actual: 1 | Predicted: 1\n",
      "Actual: 1 | Predicted: 1\n",
      "Actual: 0 | Predicted: 1\n",
      "Actual: 0 | Predicted: 0\n",
      "Actual: 0 | Predicted: 0\n",
      "Actual: 0 | Predicted: 0\n",
      "Actual: 1 | Predicted: 1\n",
      "Actual: 1 | Predicted: 1\n",
      "Actual: 1 | Predicted: 1\n",
      "Actual: 0 | Predicted: 0\n",
      "Actual: 1 | Predicted: 1\n",
      "Actual: 0 | Predicted: 0\n",
      "Actual: 1 | Predicted: 1\n",
      "Actual: 1 | Predicted: 0\n",
      "Actual: 1 | Predicted: 1\n",
      "Actual: 1 | Predicted: 1\n",
      "Actual: 0 | Predicted: 0\n",
      "Actual: 1 | Predicted: 1\n",
      "Actual: 0 | Predicted: 0\n",
      "Actual: 1 | Predicted: 1\n",
      "Actual: 1 | Predicted: 1\n",
      "Actual: 0 | Predicted: 0\n",
      "Actual: 1 | Predicted: 1\n",
      "Actual: 1 | Predicted: 1\n",
      "Actual: 0 | Predicted: 0\n",
      "Actual: 1 | Predicted: 0\n",
      "Actual: 0 | Predicted: 0\n",
      "Actual: 1 | Predicted: 1\n",
      "Actual: 0 | Predicted: 0\n",
      "Actual: 0 | Predicted: 1\n",
      "Actual: 1 | Predicted: 1\n",
      "Actual: 0 | Predicted: 0\n",
      "Actual: 0 | Predicted: 0\n",
      "Actual: 1 | Predicted: 0\n",
      "Actual: 0 | Predicted: 0\n",
      "Actual: 1 | Predicted: 1\n",
      "Actual: 1 | Predicted: 1\n",
      "Actual: 1 | Predicted: 1\n",
      "Actual: 1 | Predicted: 1\n",
      "Actual: 0 | Predicted: 0\n",
      "Actual: 0 | Predicted: 0\n",
      "Actual: 0 | Predicted: 0\n",
      "Actual: 1 | Predicted: 1\n",
      "Actual: 1 | Predicted: 1\n",
      "Actual: 1 | Predicted: 1\n",
      "Actual: 0 | Predicted: 0\n",
      "Actual: 0 | Predicted: 1\n",
      "Actual: 0 | Predicted: 1\n",
      "Actual: 1 | Predicted: 1\n",
      "Actual: 0 | Predicted: 1\n",
      "Actual: 0 | Predicted: 0\n",
      "Actual: 0 | Predicted: 0\n",
      "Actual: 1 | Predicted: 1\n",
      "Actual: 1 | Predicted: 0\n",
      "Actual: 1 | Predicted: 1\n",
      "Actual: 0 | Predicted: 0\n",
      "Actual: 0 | Predicted: 0\n",
      "Actual: 1 | Predicted: 1\n",
      "Actual: 1 | Predicted: 1\n",
      "Actual: 1 | Predicted: 1\n",
      "Actual: 0 | Predicted: 1\n",
      "Actual: 1 | Predicted: 1\n",
      "Actual: 1 | Predicted: 1\n",
      "Actual: 0 | Predicted: 0\n",
      "Actual: 1 | Predicted: 1\n",
      "Actual: 0 | Predicted: 0\n",
      "Actual: 1 | Predicted: 1\n",
      "Actual: 1 | Predicted: 1\n",
      "Actual: 0 | Predicted: 0\n",
      "Actual: 0 | Predicted: 0\n",
      "Actual: 0 | Predicted: 0\n",
      "Actual: 1 | Predicted: 1\n",
      "Actual: 1 | Predicted: 1\n",
      "Actual: 0 | Predicted: 0\n",
      "Actual: 0 | Predicted: 0\n",
      "Actual: 0 | Predicted: 0\n",
      "Actual: 0 | Predicted: 1\n",
      "Actual: 1 | Predicted: 1\n",
      "Actual: 1 | Predicted: 1\n",
      "Actual: 1 | Predicted: 1\n",
      "Actual: 1 | Predicted: 1\n",
      "Actual: 0 | Predicted: 1\n",
      "Actual: 1 | Predicted: 1\n",
      "Actual: 0 | Predicted: 0\n",
      "Actual: 1 | Predicted: 1\n",
      "Actual: 0 | Predicted: 0\n",
      "Actual: 1 | Predicted: 1\n",
      "Actual: 1 | Predicted: 1\n",
      "Actual: 0 | Predicted: 0\n",
      "Actual: 0 | Predicted: 0\n",
      "Actual: 0 | Predicted: 0\n",
      "Actual: 0 | Predicted: 0\n",
      "Actual: 0 | Predicted: 0\n",
      "Actual: 0 | Predicted: 0\n",
      "Actual: 1 | Predicted: 1\n",
      "Actual: 1 | Predicted: 1\n",
      "Actual: 0 | Predicted: 1\n",
      "Actual: 1 | Predicted: 1\n",
      "Actual: 0 | Predicted: 0\n",
      "Actual: 1 | Predicted: 1\n",
      "Actual: 0 | Predicted: 0\n",
      "Actual: 1 | Predicted: 1\n",
      "Actual: 1 | Predicted: 1\n",
      "Actual: 1 | Predicted: 1\n",
      "Actual: 1 | Predicted: 1\n",
      "Actual: 1 | Predicted: 1\n",
      "Actual: 0 | Predicted: 1\n",
      "Actual: 0 | Predicted: 0\n",
      "Actual: 1 | Predicted: 1\n",
      "Actual: 0 | Predicted: 0\n",
      "Actual: 1 | Predicted: 1\n",
      "Actual: 1 | Predicted: 1\n",
      "Actual: 1 | Predicted: 1\n",
      "Actual: 1 | Predicted: 0\n",
      "Actual: 1 | Predicted: 0\n",
      "Actual: 1 | Predicted: 1\n",
      "Actual: 1 | Predicted: 1\n",
      "Actual: 0 | Predicted: 0\n",
      "Actual: 0 | Predicted: 0\n",
      "Actual: 1 | Predicted: 1\n",
      "Actual: 0 | Predicted: 0\n",
      "Actual: 1 | Predicted: 1\n",
      "Actual: 0 | Predicted: 0\n",
      "Actual: 1 | Predicted: 1\n",
      "Actual: 0 | Predicted: 0\n",
      "Actual: 0 | Predicted: 0\n",
      "Actual: 0 | Predicted: 1\n",
      "Actual: 1 | Predicted: 1\n",
      "Actual: 0 | Predicted: 0\n",
      "Actual: 1 | Predicted: 1\n",
      "Actual: 0 | Predicted: 1\n",
      "Actual: 1 | Predicted: 1\n",
      "Actual: 0 | Predicted: 0\n",
      "Actual: 1 | Predicted: 1\n",
      "Actual: 1 | Predicted: 0\n",
      "Actual: 1 | Predicted: 1\n",
      "Actual: 1 | Predicted: 1\n",
      "Actual: 0 | Predicted: 0\n",
      "Actual: 0 | Predicted: 1\n",
      "Actual: 1 | Predicted: 0\n",
      "Actual: 0 | Predicted: 0\n",
      "Actual: 0 | Predicted: 1\n",
      "Actual: 1 | Predicted: 1\n",
      "Actual: 0 | Predicted: 0\n",
      "Actual: 0 | Predicted: 0\n",
      "Actual: 1 | Predicted: 1\n",
      "Actual: 1 | Predicted: 1\n",
      "Actual: 0 | Predicted: 0\n",
      "Actual: 0 | Predicted: 0\n",
      "Actual: 0 | Predicted: 0\n",
      "Actual: 1 | Predicted: 1\n",
      "Actual: 0 | Predicted: 0\n",
      "Actual: 0 | Predicted: 0\n",
      "Actual: 0 | Predicted: 0\n",
      "Actual: 0 | Predicted: 1\n",
      "Actual: 1 | Predicted: 1\n",
      "Actual: 1 | Predicted: 1\n",
      "Actual: 1 | Predicted: 0\n",
      "Actual: 0 | Predicted: 0\n",
      "Actual: 0 | Predicted: 0\n",
      "Actual: 0 | Predicted: 0\n",
      "Actual: 1 | Predicted: 1\n",
      "Actual: 1 | Predicted: 1\n",
      "Actual: 0 | Predicted: 0\n",
      "Actual: 1 | Predicted: 0\n",
      "Actual: 1 | Predicted: 1\n",
      "Actual: 1 | Predicted: 1\n",
      "Actual: 0 | Predicted: 0\n",
      "Actual: 0 | Predicted: 0\n",
      "Actual: 0 | Predicted: 0\n",
      "Actual: 1 | Predicted: 1\n",
      "Actual: 1 | Predicted: 1\n",
      "Actual: 0 | Predicted: 1\n",
      "Actual: 1 | Predicted: 1\n",
      "Actual: 0 | Predicted: 0\n",
      "Actual: 1 | Predicted: 1\n",
      "Actual: 1 | Predicted: 1\n",
      "Actual: 0 | Predicted: 0\n",
      "Actual: 0 | Predicted: 0\n",
      "Actual: 0 | Predicted: 0\n",
      "Actual: 0 | Predicted: 1\n",
      "Actual: 0 | Predicted: 1\n",
      "Actual: 0 | Predicted: 0\n",
      "Actual: 1 | Predicted: 1\n",
      "Actual: 1 | Predicted: 1\n",
      "Actual: 1 | Predicted: 0\n",
      "Actual: 0 | Predicted: 0\n",
      "Actual: 0 | Predicted: 0\n",
      "Actual: 0 | Predicted: 0\n",
      "Actual: 0 | Predicted: 0\n",
      "Actual: 1 | Predicted: 1\n",
      "Actual: 1 | Predicted: 1\n",
      "Actual: 0 | Predicted: 0\n",
      "Actual: 0 | Predicted: 0\n",
      "Actual: 1 | Predicted: 0\n",
      "Actual: 1 | Predicted: 1\n",
      "Actual: 0 | Predicted: 1\n",
      "Actual: 1 | Predicted: 1\n",
      "Actual: 1 | Predicted: 1\n",
      "Actual: 0 | Predicted: 0\n",
      "Actual: 0 | Predicted: 1\n",
      "Actual: 0 | Predicted: 0\n",
      "Actual: 1 | Predicted: 0\n",
      "Actual: 1 | Predicted: 1\n",
      "Actual: 1 | Predicted: 0\n",
      "Actual: 0 | Predicted: 0\n",
      "Actual: 1 | Predicted: 1\n",
      "Actual: 0 | Predicted: 0\n",
      "Actual: 1 | Predicted: 1\n",
      "Actual: 1 | Predicted: 1\n",
      "Actual: 0 | Predicted: 0\n",
      "Actual: 1 | Predicted: 1\n",
      "Actual: 0 | Predicted: 0\n",
      "Actual: 0 | Predicted: 0\n",
      "Actual: 0 | Predicted: 0\n",
      "Actual: 1 | Predicted: 1\n",
      "Actual: 1 | Predicted: 1\n",
      "Actual: 0 | Predicted: 0\n",
      "Actual: 0 | Predicted: 0\n",
      "Actual: 0 | Predicted: 0\n",
      "Actual: 1 | Predicted: 1\n",
      "Actual: 0 | Predicted: 0\n",
      "Actual: 0 | Predicted: 0\n",
      "Actual: 1 | Predicted: 1\n",
      "Actual: 1 | Predicted: 1\n",
      "Actual: 1 | Predicted: 1\n",
      "Actual: 0 | Predicted: 0\n",
      "Actual: 0 | Predicted: 0\n",
      "Actual: 0 | Predicted: 0\n",
      "Actual: 0 | Predicted: 0\n",
      "Actual: 0 | Predicted: 1\n",
      "Actual: 1 | Predicted: 1\n",
      "Actual: 0 | Predicted: 1\n",
      "Actual: 0 | Predicted: 0\n",
      "Actual: 0 | Predicted: 0\n",
      "Actual: 1 | Predicted: 1\n",
      "Actual: 1 | Predicted: 1\n",
      "Actual: 0 | Predicted: 0\n",
      "Actual: 0 | Predicted: 1\n",
      "Actual: 1 | Predicted: 1\n",
      "Actual: 0 | Predicted: 1\n",
      "Actual: 1 | Predicted: 1\n",
      "Actual: 1 | Predicted: 1\n",
      "Actual: 0 | Predicted: 0\n",
      "Actual: 1 | Predicted: 0\n",
      "Actual: 0 | Predicted: 0\n",
      "Actual: 1 | Predicted: 1\n",
      "Actual: 1 | Predicted: 1\n",
      "Actual: 1 | Predicted: 1\n",
      "Actual: 1 | Predicted: 1\n",
      "Actual: 1 | Predicted: 1\n",
      "Actual: 0 | Predicted: 0\n",
      "Actual: 0 | Predicted: 0\n",
      "Actual: 0 | Predicted: 0\n",
      "Actual: 0 | Predicted: 1\n",
      "Actual: 1 | Predicted: 1\n",
      "Actual: 0 | Predicted: 0\n",
      "Actual: 1 | Predicted: 1\n",
      "Actual: 1 | Predicted: 1\n",
      "Actual: 0 | Predicted: 0\n",
      "Actual: 0 | Predicted: 0\n",
      "Actual: 0 | Predicted: 1\n",
      "Actual: 0 | Predicted: 0\n",
      "Actual: 1 | Predicted: 1\n",
      "Actual: 0 | Predicted: 0\n",
      "Actual: 1 | Predicted: 1\n",
      "Actual: 1 | Predicted: 1\n",
      "Actual: 0 | Predicted: 0\n",
      "Actual: 1 | Predicted: 1\n",
      "Actual: 1 | Predicted: 0\n",
      "Actual: 1 | Predicted: 1\n",
      "Actual: 1 | Predicted: 1\n",
      "Actual: 0 | Predicted: 1\n",
      "Actual: 0 | Predicted: 0\n",
      "Actual: 1 | Predicted: 1\n",
      "Actual: 0 | Predicted: 0\n",
      "Actual: 1 | Predicted: 1\n",
      "Actual: 1 | Predicted: 1\n",
      "Actual: 1 | Predicted: 1\n",
      "Actual: 1 | Predicted: 1\n",
      "Actual: 1 | Predicted: 1\n",
      "Actual: 0 | Predicted: 0\n",
      "Actual: 1 | Predicted: 1\n",
      "Actual: 1 | Predicted: 0\n",
      "Actual: 0 | Predicted: 0\n",
      "Actual: 1 | Predicted: 1\n",
      "Actual: 1 | Predicted: 1\n",
      "Actual: 1 | Predicted: 1\n",
      "Actual: 1 | Predicted: 1\n",
      "Actual: 0 | Predicted: 0\n",
      "Actual: 0 | Predicted: 0\n",
      "Actual: 0 | Predicted: 0\n",
      "Actual: 1 | Predicted: 1\n",
      "Actual: 0 | Predicted: 0\n",
      "Actual: 1 | Predicted: 1\n",
      "Actual: 1 | Predicted: 1\n",
      "Actual: 0 | Predicted: 1\n",
      "Actual: 1 | Predicted: 1\n",
      "Actual: 1 | Predicted: 0\n",
      "Actual: 0 | Predicted: 0\n",
      "Actual: 1 | Predicted: 1\n",
      "Actual: 1 | Predicted: 1\n",
      "Actual: 1 | Predicted: 1\n",
      "Actual: 0 | Predicted: 0\n",
      "Actual: 1 | Predicted: 1\n",
      "Actual: 1 | Predicted: 0\n",
      "Actual: 1 | Predicted: 1\n",
      "Actual: 0 | Predicted: 0\n",
      "Actual: 1 | Predicted: 1\n",
      "Actual: 1 | Predicted: 1\n",
      "Actual: 0 | Predicted: 0\n",
      "Actual: 0 | Predicted: 0\n",
      "Actual: 0 | Predicted: 0\n",
      "Actual: 1 | Predicted: 1\n",
      "Actual: 0 | Predicted: 0\n",
      "Actual: 0 | Predicted: 0\n",
      "Actual: 1 | Predicted: 1\n",
      "Actual: 0 | Predicted: 0\n",
      "Actual: 1 | Predicted: 1\n",
      "Actual: 0 | Predicted: 1\n",
      "Actual: 0 | Predicted: 0\n",
      "Actual: 1 | Predicted: 1\n",
      "Actual: 1 | Predicted: 0\n",
      "Actual: 0 | Predicted: 0\n",
      "Actual: 0 | Predicted: 0\n",
      "Actual: 1 | Predicted: 0\n",
      "Actual: 1 | Predicted: 1\n",
      "Actual: 0 | Predicted: 0\n",
      "Actual: 1 | Predicted: 1\n",
      "Actual: 0 | Predicted: 0\n",
      "Actual: 0 | Predicted: 0\n",
      "Actual: 0 | Predicted: 0\n",
      "Actual: 0 | Predicted: 0\n",
      "Actual: 1 | Predicted: 1\n",
      "Actual: 1 | Predicted: 1\n",
      "Actual: 0 | Predicted: 0\n",
      "Actual: 1 | Predicted: 1\n",
      "Actual: 0 | Predicted: 1\n",
      "Actual: 1 | Predicted: 0\n",
      "Actual: 1 | Predicted: 1\n",
      "Actual: 0 | Predicted: 0\n",
      "Actual: 0 | Predicted: 0\n",
      "Actual: 1 | Predicted: 1\n",
      "Actual: 0 | Predicted: 0\n",
      "Actual: 1 | Predicted: 1\n",
      "Actual: 1 | Predicted: 1\n",
      "Actual: 0 | Predicted: 0\n",
      "Actual: 0 | Predicted: 0\n",
      "Actual: 1 | Predicted: 1\n",
      "Actual: 1 | Predicted: 1\n",
      "Actual: 1 | Predicted: 0\n",
      "Actual: 0 | Predicted: 0\n",
      "Actual: 1 | Predicted: 1\n",
      "Actual: 1 | Predicted: 1\n",
      "Actual: 1 | Predicted: 1\n",
      "Actual: 1 | Predicted: 1\n",
      "Actual: 0 | Predicted: 1\n",
      "Actual: 0 | Predicted: 0\n",
      "Actual: 1 | Predicted: 1\n",
      "Actual: 1 | Predicted: 1\n",
      "Actual: 1 | Predicted: 1\n",
      "Actual: 0 | Predicted: 0\n",
      "Actual: 0 | Predicted: 0\n",
      "Actual: 1 | Predicted: 1\n",
      "Actual: 0 | Predicted: 0\n",
      "Actual: 1 | Predicted: 1\n",
      "Actual: 1 | Predicted: 1\n",
      "Actual: 0 | Predicted: 0\n",
      "Actual: 0 | Predicted: 0\n",
      "Actual: 0 | Predicted: 1\n",
      "Actual: 0 | Predicted: 0\n",
      "Actual: 0 | Predicted: 0\n",
      "Actual: 0 | Predicted: 0\n",
      "Actual: 0 | Predicted: 0\n",
      "Actual: 1 | Predicted: 1\n",
      "Actual: 0 | Predicted: 0\n",
      "Actual: 1 | Predicted: 1\n",
      "Actual: 0 | Predicted: 0\n",
      "Actual: 0 | Predicted: 0\n",
      "Actual: 0 | Predicted: 0\n",
      "Actual: 1 | Predicted: 1\n",
      "Actual: 1 | Predicted: 1\n",
      "Actual: 0 | Predicted: 0\n",
      "Actual: 1 | Predicted: 1\n",
      "Actual: 1 | Predicted: 1\n",
      "Actual: 0 | Predicted: 0\n",
      "Actual: 1 | Predicted: 1\n",
      "Actual: 0 | Predicted: 0\n",
      "Actual: 0 | Predicted: 1\n",
      "Actual: 0 | Predicted: 0\n",
      "Actual: 0 | Predicted: 1\n",
      "Actual: 0 | Predicted: 0\n",
      "Actual: 1 | Predicted: 1\n",
      "Actual: 1 | Predicted: 1\n",
      "Actual: 0 | Predicted: 0\n",
      "Actual: 0 | Predicted: 0\n",
      "Actual: 0 | Predicted: 0\n",
      "Actual: 0 | Predicted: 1\n",
      "Actual: 0 | Predicted: 0\n",
      "Actual: 1 | Predicted: 1\n",
      "Actual: 1 | Predicted: 1\n",
      "Actual: 1 | Predicted: 1\n",
      "Actual: 0 | Predicted: 0\n",
      "Actual: 1 | Predicted: 1\n",
      "Actual: 0 | Predicted: 1\n",
      "Actual: 1 | Predicted: 1\n",
      "Actual: 1 | Predicted: 1\n",
      "Actual: 0 | Predicted: 0\n",
      "Actual: 0 | Predicted: 0\n",
      "Actual: 1 | Predicted: 1\n",
      "Actual: 0 | Predicted: 0\n",
      "Actual: 1 | Predicted: 1\n",
      "Actual: 0 | Predicted: 0\n",
      "Actual: 0 | Predicted: 0\n",
      "Actual: 1 | Predicted: 1\n",
      "Actual: 1 | Predicted: 1\n",
      "Actual: 0 | Predicted: 0\n",
      "Actual: 0 | Predicted: 1\n",
      "Actual: 0 | Predicted: 0\n",
      "Actual: 1 | Predicted: 1\n",
      "Actual: 0 | Predicted: 0\n",
      "Actual: 1 | Predicted: 1\n",
      "Actual: 1 | Predicted: 1\n",
      "Actual: 1 | Predicted: 1\n",
      "Actual: 0 | Predicted: 0\n",
      "Actual: 1 | Predicted: 1\n",
      "Actual: 1 | Predicted: 1\n",
      "Actual: 1 | Predicted: 1\n",
      "Actual: 0 | Predicted: 0\n",
      "Actual: 0 | Predicted: 0\n",
      "Actual: 1 | Predicted: 1\n",
      "Actual: 0 | Predicted: 0\n",
      "Actual: 0 | Predicted: 0\n",
      "Actual: 1 | Predicted: 1\n",
      "Actual: 0 | Predicted: 0\n",
      "Actual: 0 | Predicted: 0\n",
      "Actual: 0 | Predicted: 0\n",
      "Actual: 1 | Predicted: 1\n",
      "Actual: 0 | Predicted: 0\n",
      "Actual: 1 | Predicted: 1\n",
      "Actual: 0 | Predicted: 0\n",
      "Actual: 0 | Predicted: 1\n",
      "Actual: 0 | Predicted: 0\n",
      "Actual: 1 | Predicted: 1\n",
      "Actual: 1 | Predicted: 1\n",
      "Actual: 1 | Predicted: 1\n",
      "Actual: 1 | Predicted: 1\n",
      "Actual: 0 | Predicted: 0\n",
      "Actual: 1 | Predicted: 1\n",
      "Actual: 1 | Predicted: 0\n",
      "Actual: 0 | Predicted: 0\n",
      "Actual: 0 | Predicted: 0\n",
      "Actual: 0 | Predicted: 0\n",
      "Actual: 1 | Predicted: 1\n",
      "Actual: 1 | Predicted: 1\n",
      "Actual: 0 | Predicted: 0\n",
      "Actual: 1 | Predicted: 1\n",
      "Actual: 0 | Predicted: 0\n",
      "Actual: 1 | Predicted: 1\n",
      "Actual: 1 | Predicted: 1\n",
      "Actual: 0 | Predicted: 0\n",
      "Actual: 1 | Predicted: 1\n",
      "Actual: 1 | Predicted: 1\n",
      "Actual: 1 | Predicted: 1\n",
      "Actual: 1 | Predicted: 0\n",
      "Actual: 1 | Predicted: 1\n",
      "Actual: 1 | Predicted: 1\n",
      "Actual: 0 | Predicted: 0\n",
      "Actual: 0 | Predicted: 0\n",
      "Actual: 0 | Predicted: 0\n",
      "Actual: 0 | Predicted: 1\n",
      "Actual: 1 | Predicted: 1\n",
      "Actual: 1 | Predicted: 1\n",
      "Actual: 1 | Predicted: 1\n",
      "Actual: 0 | Predicted: 0\n",
      "Actual: 1 | Predicted: 1\n",
      "Actual: 1 | Predicted: 1\n",
      "Actual: 1 | Predicted: 1\n",
      "Actual: 0 | Predicted: 0\n",
      "Actual: 0 | Predicted: 0\n",
      "Actual: 0 | Predicted: 0\n",
      "Actual: 1 | Predicted: 1\n",
      "Actual: 1 | Predicted: 1\n",
      "Actual: 0 | Predicted: 0\n",
      "Actual: 0 | Predicted: 0\n",
      "Actual: 1 | Predicted: 1\n",
      "Actual: 0 | Predicted: 0\n",
      "Actual: 1 | Predicted: 1\n",
      "Actual: 1 | Predicted: 1\n",
      "Actual: 1 | Predicted: 0\n",
      "Actual: 0 | Predicted: 0\n",
      "Actual: 0 | Predicted: 0\n",
      "Actual: 1 | Predicted: 0\n",
      "Actual: 0 | Predicted: 1\n",
      "Actual: 0 | Predicted: 0\n",
      "Actual: 0 | Predicted: 0\n",
      "Actual: 0 | Predicted: 0\n",
      "Actual: 0 | Predicted: 0\n",
      "Actual: 1 | Predicted: 1\n",
      "Actual: 0 | Predicted: 0\n",
      "Actual: 1 | Predicted: 1\n",
      "Actual: 0 | Predicted: 1\n",
      "Actual: 0 | Predicted: 0\n",
      "Actual: 1 | Predicted: 1\n",
      "Actual: 1 | Predicted: 1\n",
      "Actual: 0 | Predicted: 0\n",
      "Actual: 0 | Predicted: 0\n",
      "Actual: 0 | Predicted: 0\n",
      "Actual: 0 | Predicted: 1\n",
      "Actual: 0 | Predicted: 0\n",
      "Actual: 1 | Predicted: 1\n",
      "Actual: 0 | Predicted: 0\n",
      "Actual: 0 | Predicted: 0\n",
      "Actual: 0 | Predicted: 0\n",
      "Actual: 1 | Predicted: 1\n",
      "Actual: 0 | Predicted: 0\n",
      "Actual: 0 | Predicted: 0\n",
      "Actual: 0 | Predicted: 1\n",
      "Actual: 0 | Predicted: 0\n",
      "Actual: 0 | Predicted: 0\n",
      "Actual: 1 | Predicted: 1\n",
      "Actual: 1 | Predicted: 1\n",
      "Actual: 0 | Predicted: 0\n",
      "Actual: 0 | Predicted: 0\n",
      "Actual: 0 | Predicted: 0\n",
      "Actual: 0 | Predicted: 0\n",
      "Actual: 0 | Predicted: 0\n",
      "Actual: 0 | Predicted: 0\n",
      "Actual: 0 | Predicted: 0\n",
      "Actual: 0 | Predicted: 0\n",
      "Actual: 1 | Predicted: 1\n",
      "Actual: 1 | Predicted: 1\n",
      "Actual: 1 | Predicted: 1\n",
      "Actual: 0 | Predicted: 0\n",
      "Actual: 1 | Predicted: 1\n",
      "Actual: 0 | Predicted: 1\n",
      "Actual: 1 | Predicted: 1\n",
      "Actual: 1 | Predicted: 1\n",
      "Actual: 0 | Predicted: 0\n",
      "Actual: 0 | Predicted: 0\n",
      "Actual: 1 | Predicted: 1\n",
      "Actual: 1 | Predicted: 1\n",
      "Actual: 0 | Predicted: 0\n",
      "Actual: 0 | Predicted: 0\n",
      "Actual: 0 | Predicted: 0\n",
      "Actual: 1 | Predicted: 1\n",
      "Actual: 0 | Predicted: 0\n",
      "Actual: 0 | Predicted: 0\n",
      "Actual: 1 | Predicted: 1\n",
      "Actual: 0 | Predicted: 0\n",
      "Actual: 1 | Predicted: 1\n",
      "Actual: 1 | Predicted: 1\n",
      "Actual: 0 | Predicted: 0\n",
      "Actual: 0 | Predicted: 0\n",
      "Actual: 0 | Predicted: 0\n",
      "Actual: 1 | Predicted: 1\n",
      "Actual: 0 | Predicted: 0\n",
      "Actual: 0 | Predicted: 0\n",
      "Actual: 0 | Predicted: 0\n",
      "Actual: 0 | Predicted: 0\n",
      "Actual: 0 | Predicted: 1\n",
      "Actual: 0 | Predicted: 0\n",
      "Actual: 1 | Predicted: 1\n",
      "Actual: 1 | Predicted: 1\n",
      "Actual: 1 | Predicted: 1\n",
      "Actual: 1 | Predicted: 1\n",
      "Actual: 0 | Predicted: 0\n",
      "Actual: 0 | Predicted: 0\n",
      "Actual: 0 | Predicted: 0\n",
      "Actual: 1 | Predicted: 1\n",
      "Actual: 0 | Predicted: 0\n",
      "Actual: 1 | Predicted: 0\n",
      "Actual: 1 | Predicted: 1\n",
      "Actual: 0 | Predicted: 0\n",
      "Actual: 1 | Predicted: 1\n",
      "Actual: 1 | Predicted: 1\n",
      "Actual: 1 | Predicted: 1\n",
      "Actual: 1 | Predicted: 1\n",
      "Actual: 1 | Predicted: 0\n",
      "Actual: 0 | Predicted: 0\n",
      "Actual: 0 | Predicted: 0\n",
      "Actual: 1 | Predicted: 0\n",
      "Actual: 1 | Predicted: 1\n",
      "Actual: 1 | Predicted: 1\n",
      "Actual: 1 | Predicted: 1\n",
      "Actual: 1 | Predicted: 1\n",
      "Actual: 0 | Predicted: 0\n",
      "Actual: 0 | Predicted: 0\n",
      "Actual: 1 | Predicted: 1\n",
      "Actual: 0 | Predicted: 1\n",
      "Actual: 0 | Predicted: 0\n",
      "Actual: 0 | Predicted: 0\n",
      "Actual: 0 | Predicted: 0\n",
      "Actual: 1 | Predicted: 1\n",
      "Actual: 1 | Predicted: 1\n",
      "Actual: 1 | Predicted: 1\n",
      "Actual: 0 | Predicted: 0\n",
      "Actual: 1 | Predicted: 1\n",
      "Actual: 1 | Predicted: 1\n",
      "Actual: 0 | Predicted: 0\n",
      "Actual: 0 | Predicted: 1\n",
      "Actual: 1 | Predicted: 1\n",
      "Actual: 1 | Predicted: 1\n",
      "Actual: 0 | Predicted: 0\n",
      "Actual: 1 | Predicted: 1\n",
      "Actual: 1 | Predicted: 1\n",
      "Actual: 0 | Predicted: 0\n",
      "Actual: 0 | Predicted: 0\n",
      "Actual: 1 | Predicted: 1\n",
      "Actual: 1 | Predicted: 1\n",
      "Actual: 0 | Predicted: 0\n",
      "Actual: 1 | Predicted: 1\n",
      "Actual: 0 | Predicted: 0\n",
      "Actual: 1 | Predicted: 1\n",
      "Actual: 0 | Predicted: 0\n",
      "Actual: 1 | Predicted: 1\n",
      "Actual: 1 | Predicted: 1\n",
      "Actual: 0 | Predicted: 0\n",
      "Actual: 0 | Predicted: 1\n",
      "Actual: 1 | Predicted: 1\n",
      "Actual: 1 | Predicted: 1\n",
      "Actual: 0 | Predicted: 0\n",
      "Actual: 1 | Predicted: 1\n",
      "Actual: 0 | Predicted: 0\n",
      "Actual: 1 | Predicted: 1\n",
      "Actual: 1 | Predicted: 0\n",
      "Actual: 0 | Predicted: 0\n",
      "Actual: 0 | Predicted: 1\n",
      "Actual: 0 | Predicted: 0\n",
      "Actual: 0 | Predicted: 0\n",
      "Actual: 0 | Predicted: 0\n",
      "Actual: 0 | Predicted: 0\n",
      "Actual: 0 | Predicted: 0\n",
      "Actual: 0 | Predicted: 0\n",
      "Actual: 1 | Predicted: 1\n",
      "Actual: 1 | Predicted: 1\n",
      "Actual: 0 | Predicted: 0\n",
      "Actual: 1 | Predicted: 1\n",
      "Actual: 0 | Predicted: 0\n",
      "Actual: 1 | Predicted: 1\n",
      "Actual: 0 | Predicted: 0\n",
      "Actual: 1 | Predicted: 1\n",
      "Actual: 0 | Predicted: 0\n",
      "Actual: 0 | Predicted: 0\n",
      "Actual: 1 | Predicted: 1\n",
      "Actual: 1 | Predicted: 1\n",
      "Actual: 0 | Predicted: 0\n",
      "Actual: 1 | Predicted: 1\n",
      "Actual: 1 | Predicted: 1\n",
      "Actual: 0 | Predicted: 0\n",
      "Actual: 1 | Predicted: 1\n",
      "Actual: 1 | Predicted: 0\n",
      "Actual: 0 | Predicted: 0\n",
      "Actual: 1 | Predicted: 1\n",
      "Actual: 1 | Predicted: 1\n",
      "Actual: 1 | Predicted: 1\n",
      "Actual: 1 | Predicted: 1\n",
      "Actual: 0 | Predicted: 0\n",
      "Actual: 0 | Predicted: 0\n",
      "Actual: 0 | Predicted: 0\n",
      "Actual: 1 | Predicted: 1\n",
      "Actual: 0 | Predicted: 0\n",
      "Actual: 0 | Predicted: 1\n",
      "Actual: 1 | Predicted: 1\n",
      "Actual: 1 | Predicted: 1\n",
      "Actual: 1 | Predicted: 1\n",
      "Actual: 1 | Predicted: 1\n",
      "Actual: 0 | Predicted: 0\n",
      "Actual: 1 | Predicted: 1\n",
      "Actual: 0 | Predicted: 0\n",
      "Actual: 0 | Predicted: 0\n",
      "Actual: 0 | Predicted: 0\n",
      "Actual: 1 | Predicted: 1\n",
      "Actual: 0 | Predicted: 1\n",
      "Actual: 0 | Predicted: 1\n",
      "Actual: 0 | Predicted: 0\n",
      "Actual: 0 | Predicted: 0\n",
      "Actual: 0 | Predicted: 0\n",
      "Actual: 0 | Predicted: 0\n",
      "Actual: 0 | Predicted: 0\n",
      "Actual: 0 | Predicted: 0\n",
      "Actual: 1 | Predicted: 1\n",
      "Actual: 0 | Predicted: 0\n",
      "Actual: 0 | Predicted: 0\n",
      "Actual: 0 | Predicted: 0\n",
      "Actual: 0 | Predicted: 0\n",
      "Actual: 0 | Predicted: 0\n",
      "Actual: 0 | Predicted: 0\n",
      "Actual: 1 | Predicted: 1\n",
      "Actual: 1 | Predicted: 1\n",
      "Actual: 0 | Predicted: 0\n",
      "Actual: 0 | Predicted: 0\n",
      "Actual: 0 | Predicted: 0\n",
      "Actual: 0 | Predicted: 0\n",
      "Actual: 0 | Predicted: 0\n",
      "Actual: 0 | Predicted: 0\n",
      "Actual: 1 | Predicted: 1\n",
      "Actual: 1 | Predicted: 1\n",
      "Actual: 1 | Predicted: 1\n",
      "Actual: 1 | Predicted: 1\n",
      "Actual: 1 | Predicted: 1\n",
      "Actual: 0 | Predicted: 0\n",
      "Actual: 0 | Predicted: 0\n",
      "Actual: 1 | Predicted: 1\n",
      "Actual: 1 | Predicted: 1\n",
      "Actual: 1 | Predicted: 1\n",
      "Actual: 1 | Predicted: 1\n",
      "Actual: 1 | Predicted: 1\n",
      "Actual: 1 | Predicted: 1\n",
      "Actual: 1 | Predicted: 1\n",
      "Actual: 1 | Predicted: 1\n",
      "Actual: 1 | Predicted: 1\n",
      "Actual: 1 | Predicted: 1\n",
      "Actual: 1 | Predicted: 1\n",
      "Actual: 1 | Predicted: 1\n",
      "Actual: 1 | Predicted: 1\n",
      "Actual: 1 | Predicted: 1\n",
      "Actual: 0 | Predicted: 1\n",
      "Actual: 1 | Predicted: 1\n",
      "Actual: 0 | Predicted: 0\n",
      "Actual: 0 | Predicted: 0\n",
      "Actual: 0 | Predicted: 0\n",
      "Actual: 0 | Predicted: 0\n",
      "Actual: 0 | Predicted: 0\n",
      "Actual: 0 | Predicted: 0\n",
      "Actual: 1 | Predicted: 0\n",
      "Actual: 0 | Predicted: 0\n",
      "Actual: 0 | Predicted: 1\n",
      "Actual: 0 | Predicted: 0\n",
      "Actual: 0 | Predicted: 0\n",
      "Actual: 0 | Predicted: 0\n",
      "Actual: 1 | Predicted: 1\n",
      "Actual: 0 | Predicted: 0\n",
      "Actual: 1 | Predicted: 1\n",
      "Actual: 1 | Predicted: 1\n",
      "Actual: 0 | Predicted: 0\n",
      "Actual: 1 | Predicted: 1\n",
      "Actual: 0 | Predicted: 0\n",
      "Actual: 0 | Predicted: 0\n",
      "Actual: 0 | Predicted: 0\n",
      "Actual: 0 | Predicted: 0\n",
      "Actual: 0 | Predicted: 0\n",
      "Actual: 1 | Predicted: 1\n",
      "Actual: 0 | Predicted: 1\n",
      "Actual: 0 | Predicted: 0\n",
      "Actual: 1 | Predicted: 1\n",
      "Actual: 1 | Predicted: 1\n",
      "Actual: 0 | Predicted: 0\n",
      "Actual: 0 | Predicted: 0\n",
      "Actual: 1 | Predicted: 1\n",
      "Actual: 0 | Predicted: 0\n",
      "Actual: 0 | Predicted: 0\n",
      "Actual: 0 | Predicted: 0\n",
      "Actual: 0 | Predicted: 0\n",
      "Actual: 1 | Predicted: 1\n",
      "Actual: 0 | Predicted: 0\n",
      "Actual: 1 | Predicted: 1\n",
      "Actual: 1 | Predicted: 1\n",
      "Actual: 1 | Predicted: 1\n",
      "Actual: 1 | Predicted: 1\n",
      "Actual: 0 | Predicted: 0\n",
      "Actual: 0 | Predicted: 0\n",
      "Actual: 0 | Predicted: 0\n",
      "Actual: 0 | Predicted: 0\n",
      "Actual: 0 | Predicted: 0\n",
      "Actual: 0 | Predicted: 0\n",
      "Actual: 1 | Predicted: 1\n",
      "Actual: 1 | Predicted: 1\n",
      "Actual: 1 | Predicted: 0\n",
      "Actual: 0 | Predicted: 0\n",
      "Actual: 0 | Predicted: 0\n",
      "Actual: 1 | Predicted: 1\n",
      "Actual: 0 | Predicted: 0\n",
      "Actual: 0 | Predicted: 0\n",
      "Actual: 0 | Predicted: 0\n",
      "Actual: 0 | Predicted: 0\n",
      "Actual: 0 | Predicted: 0\n",
      "Actual: 0 | Predicted: 0\n",
      "Actual: 1 | Predicted: 1\n",
      "Actual: 0 | Predicted: 0\n",
      "Actual: 0 | Predicted: 0\n",
      "Actual: 0 | Predicted: 0\n",
      "Actual: 1 | Predicted: 1\n",
      "Actual: 1 | Predicted: 1\n",
      "Actual: 0 | Predicted: 0\n",
      "Actual: 1 | Predicted: 1\n",
      "Actual: 0 | Predicted: 0\n",
      "Actual: 1 | Predicted: 1\n",
      "Actual: 0 | Predicted: 0\n",
      "Actual: 1 | Predicted: 0\n",
      "Actual: 1 | Predicted: 1\n",
      "Actual: 1 | Predicted: 1\n",
      "Actual: 0 | Predicted: 0\n",
      "Actual: 0 | Predicted: 0\n",
      "Actual: 0 | Predicted: 0\n",
      "Actual: 0 | Predicted: 0\n",
      "Actual: 0 | Predicted: 0\n",
      "Actual: 1 | Predicted: 1\n",
      "Actual: 0 | Predicted: 0\n",
      "Actual: 0 | Predicted: 0\n",
      "Actual: 1 | Predicted: 1\n",
      "Actual: 1 | Predicted: 1\n",
      "Actual: 1 | Predicted: 1\n",
      "Actual: 1 | Predicted: 1\n",
      "Actual: 0 | Predicted: 1\n",
      "Actual: 0 | Predicted: 0\n",
      "Actual: 1 | Predicted: 1\n",
      "Actual: 1 | Predicted: 1\n",
      "Actual: 1 | Predicted: 1\n",
      "Actual: 0 | Predicted: 1\n",
      "Actual: 0 | Predicted: 1\n",
      "Actual: 0 | Predicted: 0\n",
      "Actual: 0 | Predicted: 0\n",
      "Actual: 1 | Predicted: 1\n",
      "Actual: 1 | Predicted: 1\n",
      "Actual: 1 | Predicted: 1\n",
      "Actual: 1 | Predicted: 1\n",
      "Actual: 0 | Predicted: 1\n",
      "Actual: 0 | Predicted: 0\n",
      "Actual: 0 | Predicted: 0\n",
      "Actual: 0 | Predicted: 0\n",
      "Actual: 1 | Predicted: 1\n",
      "Actual: 1 | Predicted: 1\n",
      "Actual: 1 | Predicted: 1\n",
      "Actual: 1 | Predicted: 1\n",
      "Actual: 0 | Predicted: 0\n",
      "Actual: 1 | Predicted: 1\n",
      "Actual: 0 | Predicted: 0\n",
      "Actual: 0 | Predicted: 0\n",
      "Actual: 1 | Predicted: 1\n",
      "Actual: 1 | Predicted: 1\n",
      "Actual: 1 | Predicted: 1\n",
      "Actual: 1 | Predicted: 1\n",
      "Actual: 1 | Predicted: 0\n",
      "Actual: 0 | Predicted: 0\n",
      "Actual: 0 | Predicted: 0\n",
      "Actual: 1 | Predicted: 1\n",
      "Actual: 0 | Predicted: 1\n",
      "Actual: 0 | Predicted: 0\n",
      "Actual: 0 | Predicted: 0\n",
      "Actual: 0 | Predicted: 0\n",
      "Actual: 0 | Predicted: 0\n",
      "Actual: 1 | Predicted: 0\n",
      "Actual: 1 | Predicted: 1\n",
      "Actual: 0 | Predicted: 0\n",
      "Actual: 1 | Predicted: 0\n",
      "Actual: 1 | Predicted: 1\n",
      "Actual: 0 | Predicted: 1\n",
      "Actual: 1 | Predicted: 1\n",
      "Actual: 1 | Predicted: 1\n",
      "Actual: 0 | Predicted: 1\n",
      "Actual: 0 | Predicted: 1\n",
      "Actual: 0 | Predicted: 0\n",
      "Actual: 0 | Predicted: 0\n",
      "Actual: 1 | Predicted: 1\n",
      "Actual: 0 | Predicted: 0\n",
      "Actual: 0 | Predicted: 0\n",
      "Actual: 1 | Predicted: 1\n",
      "Actual: 0 | Predicted: 0\n",
      "Actual: 0 | Predicted: 1\n",
      "Actual: 1 | Predicted: 1\n",
      "Actual: 1 | Predicted: 1\n",
      "Actual: 1 | Predicted: 1\n",
      "Actual: 0 | Predicted: 0\n",
      "Actual: 1 | Predicted: 1\n",
      "Actual: 0 | Predicted: 0\n",
      "Actual: 1 | Predicted: 1\n",
      "Actual: 0 | Predicted: 0\n",
      "Actual: 0 | Predicted: 0\n",
      "Actual: 0 | Predicted: 0\n",
      "Actual: 1 | Predicted: 1\n",
      "Actual: 0 | Predicted: 0\n",
      "Actual: 1 | Predicted: 1\n",
      "Actual: 1 | Predicted: 1\n",
      "Actual: 1 | Predicted: 1\n",
      "Actual: 1 | Predicted: 1\n",
      "Actual: 1 | Predicted: 1\n",
      "Actual: 1 | Predicted: 1\n",
      "Actual: 0 | Predicted: 0\n",
      "Actual: 0 | Predicted: 0\n",
      "Actual: 1 | Predicted: 1\n",
      "Actual: 1 | Predicted: 1\n",
      "Actual: 1 | Predicted: 1\n",
      "Actual: 1 | Predicted: 1\n",
      "Actual: 0 | Predicted: 0\n",
      "Actual: 1 | Predicted: 1\n",
      "Actual: 1 | Predicted: 1\n",
      "Actual: 0 | Predicted: 0\n",
      "Actual: 0 | Predicted: 0\n",
      "Actual: 1 | Predicted: 0\n",
      "Actual: 0 | Predicted: 0\n",
      "Actual: 0 | Predicted: 0\n",
      "Actual: 0 | Predicted: 0\n",
      "Actual: 1 | Predicted: 1\n",
      "Actual: 0 | Predicted: 0\n",
      "Actual: 0 | Predicted: 0\n",
      "Actual: 0 | Predicted: 0\n",
      "Actual: 0 | Predicted: 1\n",
      "Actual: 0 | Predicted: 0\n",
      "Actual: 1 | Predicted: 1\n",
      "Actual: 1 | Predicted: 1\n",
      "Actual: 0 | Predicted: 0\n",
      "Actual: 1 | Predicted: 1\n",
      "Actual: 1 | Predicted: 1\n",
      "Actual: 0 | Predicted: 0\n",
      "Actual: 0 | Predicted: 0\n",
      "Actual: 0 | Predicted: 0\n",
      "Actual: 0 | Predicted: 0\n",
      "Actual: 0 | Predicted: 0\n",
      "Actual: 1 | Predicted: 1\n",
      "Actual: 1 | Predicted: 1\n",
      "Actual: 1 | Predicted: 1\n",
      "Actual: 1 | Predicted: 1\n",
      "Actual: 0 | Predicted: 0\n",
      "Actual: 0 | Predicted: 0\n",
      "Actual: 1 | Predicted: 1\n",
      "Actual: 0 | Predicted: 0\n",
      "Actual: 1 | Predicted: 1\n",
      "Actual: 1 | Predicted: 1\n",
      "Actual: 0 | Predicted: 0\n",
      "Actual: 1 | Predicted: 1\n",
      "Actual: 1 | Predicted: 0\n",
      "Actual: 0 | Predicted: 0\n",
      "Actual: 1 | Predicted: 1\n",
      "Actual: 1 | Predicted: 1\n",
      "Actual: 0 | Predicted: 0\n",
      "Actual: 1 | Predicted: 1\n",
      "Actual: 0 | Predicted: 0\n",
      "Actual: 0 | Predicted: 0\n",
      "Actual: 1 | Predicted: 1\n",
      "Actual: 0 | Predicted: 1\n",
      "Actual: 1 | Predicted: 1\n",
      "Actual: 1 | Predicted: 1\n",
      "Actual: 1 | Predicted: 1\n",
      "Actual: 1 | Predicted: 1\n",
      "Actual: 0 | Predicted: 0\n",
      "Actual: 0 | Predicted: 0\n",
      "Actual: 1 | Predicted: 1\n",
      "Actual: 0 | Predicted: 0\n",
      "Actual: 1 | Predicted: 1\n",
      "Actual: 0 | Predicted: 0\n",
      "Actual: 0 | Predicted: 0\n",
      "Actual: 1 | Predicted: 1\n",
      "Actual: 0 | Predicted: 0\n",
      "Actual: 1 | Predicted: 1\n",
      "Actual: 0 | Predicted: 0\n",
      "Actual: 1 | Predicted: 1\n",
      "Actual: 0 | Predicted: 0\n",
      "Actual: 0 | Predicted: 0\n",
      "Actual: 1 | Predicted: 1\n",
      "Actual: 1 | Predicted: 1\n",
      "Actual: 0 | Predicted: 0\n",
      "Actual: 1 | Predicted: 1\n",
      "Actual: 1 | Predicted: 1\n",
      "Actual: 0 | Predicted: 0\n",
      "Actual: 0 | Predicted: 0\n",
      "Actual: 0 | Predicted: 0\n",
      "Actual: 0 | Predicted: 0\n",
      "Actual: 0 | Predicted: 1\n",
      "Actual: 0 | Predicted: 0\n",
      "Actual: 0 | Predicted: 1\n",
      "Actual: 0 | Predicted: 0\n",
      "Actual: 1 | Predicted: 1\n",
      "Actual: 1 | Predicted: 1\n",
      "Actual: 0 | Predicted: 1\n",
      "Actual: 0 | Predicted: 0\n",
      "Actual: 1 | Predicted: 1\n",
      "Actual: 0 | Predicted: 0\n",
      "Actual: 0 | Predicted: 0\n",
      "Actual: 1 | Predicted: 1\n",
      "Actual: 1 | Predicted: 1\n",
      "Actual: 0 | Predicted: 0\n",
      "Actual: 0 | Predicted: 0\n",
      "Actual: 0 | Predicted: 0\n",
      "Actual: 0 | Predicted: 0\n",
      "Actual: 1 | Predicted: 1\n",
      "Actual: 1 | Predicted: 1\n",
      "Actual: 0 | Predicted: 0\n",
      "Actual: 1 | Predicted: 1\n",
      "Actual: 0 | Predicted: 0\n",
      "Actual: 1 | Predicted: 1\n",
      "Actual: 0 | Predicted: 0\n",
      "Actual: 1 | Predicted: 1\n",
      "Actual: 0 | Predicted: 0\n",
      "Actual: 0 | Predicted: 0\n",
      "Actual: 0 | Predicted: 0\n",
      "Actual: 0 | Predicted: 0\n",
      "Actual: 0 | Predicted: 0\n",
      "Actual: 0 | Predicted: 0\n",
      "Actual: 1 | Predicted: 1\n",
      "Actual: 0 | Predicted: 0\n",
      "Actual: 1 | Predicted: 1\n",
      "Actual: 0 | Predicted: 0\n",
      "Actual: 0 | Predicted: 0\n",
      "Actual: 1 | Predicted: 1\n",
      "Actual: 1 | Predicted: 0\n",
      "Actual: 0 | Predicted: 0\n",
      "Actual: 1 | Predicted: 1\n",
      "Actual: 0 | Predicted: 1\n",
      "Actual: 0 | Predicted: 0\n",
      "Actual: 1 | Predicted: 1\n",
      "Actual: 0 | Predicted: 0\n",
      "Actual: 1 | Predicted: 1\n",
      "Actual: 0 | Predicted: 1\n",
      "Actual: 0 | Predicted: 0\n",
      "Actual: 0 | Predicted: 1\n",
      "Actual: 0 | Predicted: 1\n",
      "Actual: 0 | Predicted: 1\n",
      "Actual: 0 | Predicted: 0\n",
      "Actual: 0 | Predicted: 0\n",
      "Actual: 0 | Predicted: 1\n",
      "Actual: 0 | Predicted: 1\n",
      "Actual: 0 | Predicted: 0\n",
      "Actual: 0 | Predicted: 1\n",
      "Actual: 0 | Predicted: 0\n",
      "Actual: 1 | Predicted: 1\n",
      "Actual: 1 | Predicted: 1\n",
      "Actual: 1 | Predicted: 1\n",
      "Actual: 0 | Predicted: 1\n",
      "Actual: 0 | Predicted: 0\n",
      "Actual: 0 | Predicted: 0\n",
      "Actual: 0 | Predicted: 0\n",
      "Actual: 0 | Predicted: 0\n",
      "Actual: 1 | Predicted: 1\n",
      "Actual: 1 | Predicted: 1\n",
      "Actual: 1 | Predicted: 1\n",
      "Actual: 1 | Predicted: 1\n",
      "Actual: 0 | Predicted: 0\n",
      "Actual: 1 | Predicted: 1\n",
      "Actual: 1 | Predicted: 0\n",
      "Actual: 1 | Predicted: 1\n",
      "Actual: 0 | Predicted: 0\n",
      "Actual: 1 | Predicted: 0\n",
      "Actual: 0 | Predicted: 0\n",
      "Actual: 1 | Predicted: 1\n",
      "Actual: 0 | Predicted: 0\n",
      "Actual: 0 | Predicted: 0\n",
      "Actual: 0 | Predicted: 0\n",
      "Actual: 0 | Predicted: 0\n",
      "Actual: 0 | Predicted: 0\n",
      "Actual: 1 | Predicted: 1\n",
      "Actual: 0 | Predicted: 0\n",
      "Actual: 1 | Predicted: 1\n",
      "Actual: 1 | Predicted: 0\n",
      "Actual: 0 | Predicted: 0\n",
      "Actual: 0 | Predicted: 1\n",
      "Actual: 1 | Predicted: 1\n",
      "Actual: 1 | Predicted: 0\n",
      "Actual: 1 | Predicted: 0\n",
      "Actual: 0 | Predicted: 0\n",
      "Actual: 1 | Predicted: 0\n",
      "Actual: 0 | Predicted: 0\n",
      "Actual: 0 | Predicted: 1\n",
      "Actual: 0 | Predicted: 1\n",
      "Actual: 0 | Predicted: 0\n",
      "Actual: 1 | Predicted: 1\n",
      "Actual: 1 | Predicted: 1\n",
      "Actual: 1 | Predicted: 1\n",
      "Actual: 1 | Predicted: 1\n",
      "Actual: 1 | Predicted: 1\n"
     ]
    }
   ],
   "source": [
    "predicted = [i for i in history]\n",
    "actual = [i for i in y_test]\n",
    "for i in range (len(predicted)):\n",
    "    print(\"Actual: {} | Predicted: {}\".format(actual[i], predicted[i]))"
   ]
  },
  {
   "cell_type": "markdown",
   "metadata": {},
   "source": [
    "###### Metrics:"
   ]
  },
  {
   "cell_type": "code",
   "execution_count": 81,
   "metadata": {},
   "outputs": [
    {
     "name": "stdout",
     "output_type": "stream",
     "text": [
      "Accuracy:  0.8786\n",
      "Report: \n",
      "               precision    recall  f1-score   support\n",
      "\n",
      "           0       0.87      0.88      0.88      2429\n",
      "           1       0.89      0.87      0.88      2571\n",
      "\n",
      "    accuracy                           0.88      5000\n",
      "   macro avg       0.88      0.88      0.88      5000\n",
      "weighted avg       0.88      0.88      0.88      5000\n",
      "\n"
     ]
    }
   ],
   "source": [
    "accuracy = accuracy_score(predicted, actual)\n",
    "report = classification_report(predicted, actual)\n",
    "print(\"Accuracy: \", accuracy)\n",
    "print(\"Report: \\n\", report)"
   ]
  },
  {
   "cell_type": "markdown",
   "metadata": {},
   "source": [
    "###### Real time:\n"
   ]
  },
  {
   "cell_type": "code",
   "execution_count": 82,
   "metadata": {},
   "outputs": [
    {
     "data": {
      "text/plain": [
       "'<p> Very glad to see that this excellent <br> film gets such high marks from the users of IMDB!!!. The Best Years of Their Lives remains the finest cinematic statement about veterans returning from war that I have come across. Easily the <b> finest performance <b> by the often overlooked Frederick March. In fact the entire cast shines, including music legend Hoagy Carmichael who treats us all with a subtle version of his classic Lazy River. I would recommend this excellent film to anyone who loves movies.'"
      ]
     },
     "execution_count": 82,
     "metadata": {},
     "output_type": "execute_result"
    }
   ],
   "source": [
    "data = \"<p> Very glad to see that this excellent <br> film gets such high marks from the users of IMDB!!!. The Best Years of Their Lives remains the finest cinematic statement about veterans returning from war that I have come across. Easily the <b> finest performance <b> by the often overlooked Frederick March. In fact the entire cast shines, including music legend Hoagy Carmichael who treats us all with a subtle version of his classic Lazy River. I would recommend this excellent film to anyone who loves movies.\"\n",
    "data\n"
   ]
  },
  {
   "cell_type": "code",
   "execution_count": 85,
   "metadata": {},
   "outputs": [
    {
     "data": {
      "text/plain": [
       "'Very glad see excellent film gets high marks users IMDB The Best Years Their Lives remains finest cinematic statement veterans returning war I come across Easily finest performance often overlooked Frederick March In fact entire cast shines including music legend Hoagy Carmichael treats us subtle version classic Lazy River I would recommend excellent film anyone loves movies'"
      ]
     },
     "execution_count": 85,
     "metadata": {},
     "output_type": "execute_result"
    }
   ],
   "source": [
    "cleaned_data = cleaning(data)\n",
    "cleaned_data"
   ]
  },
  {
   "cell_type": "code",
   "execution_count": 89,
   "metadata": {},
   "outputs": [
    {
     "data": {
      "text/plain": [
       "<1x67488 sparse matrix of type '<class 'numpy.int64'>'\n",
       "\twith 51 stored elements in Compressed Sparse Row format>"
      ]
     },
     "execution_count": 89,
     "metadata": {},
     "output_type": "execute_result"
    }
   ],
   "source": [
    "vect_data = vextx.transform([cleaned_data])\n",
    "vect_data"
   ]
  },
  {
   "cell_type": "code",
   "execution_count": 94,
   "metadata": {},
   "outputs": [
    {
     "data": {
      "text/plain": [
       "array([1])"
      ]
     },
     "execution_count": 94,
     "metadata": {},
     "output_type": "execute_result"
    }
   ],
   "source": [
    "predicted_data_op = log_model.predict(vect_data)\n",
    "predicted_data_op"
   ]
  },
  {
   "cell_type": "markdown",
   "metadata": {},
   "source": [
    "Task: Review analysis"
   ]
  },
  {
   "attachments": {
    "image.png": {
     "image/png": "[encoded data removed]"
    }
   },
   "cell_type": "markdown",
   "metadata": {},
   "source": [
    "### SVM - Supprot Vector Machine\n",
    "\n",
    "###### Separation of classes.\n",
    "###### Hyper border:\n",
    "soft margin and hard margin\n",
    "![image.png](attachment:image.png)"
   ]
  },
  {
   "attachments": {
    "image.png": {
     "image/png": "[encoded data removed]"
    }
   },
   "cell_type": "markdown",
   "metadata": {},
   "source": [
    "###### Third Lane:\n",
    "![image.png](attachment:image.png)\n"
   ]
  },
  {
   "attachments": {
    "image.png": {
     "image/png": "[encoded data removed]"
    }
   },
   "cell_type": "markdown",
   "metadata": {},
   "source": [
    "![image.png](attachment:image.png)"
   ]
  },
  {
   "attachments": {
    "image.png": {
     "image/png": "[encoded data removed]"
    }
   },
   "cell_type": "markdown",
   "metadata": {},
   "source": [
    "###### Regularization:\n",
    "![image.png](attachment:image.png)"
   ]
  },
  {
   "cell_type": "markdown",
   "metadata": {},
   "source": [
    "###### Kernal: \n",
    "Linear kernal is used to convert the non-linear data to linear"
   ]
  },
  {
   "cell_type": "code",
   "execution_count": 95,
   "metadata": {},
   "outputs": [],
   "source": [
    "from sklearn.svm import SVC\n",
    "from sklearn.model_selection import train_test_split\n",
    "from sklearn.datasets import fetch_lfw_people\n",
    "from sklearn.metrics import accuracy_score, classification_report"
   ]
  },
  {
   "cell_type": "code",
   "execution_count": 107,
   "metadata": {},
   "outputs": [
    {
     "data": {
      "text/plain": [
       "{'data': array([[ 82.666664,  87.333336,  65.333336, ..., 106.333336, 140.      ,\n",
       "         199.33333 ],\n",
       "        [ 52.666668,  49.666668,  69.333336, ..., 235.66667 , 228.66667 ,\n",
       "         222.33333 ],\n",
       "        [ 37.      ,  39.      ,  41.666668, ...,  96.666664,  72.      ,\n",
       "          59.333332],\n",
       "        ...,\n",
       "        [228.33333 , 224.66667 , 216.66667 , ..., 150.33333 , 145.66667 ,\n",
       "         165.      ],\n",
       "        [ 97.      , 118.666664, 133.33333 , ..., 219.33333 , 210.      ,\n",
       "         142.      ],\n",
       "        [ 39.333332,  79.      , 110.333336, ...,  24.      ,  34.333332,\n",
       "          23.666666]], dtype=float32),\n",
       " 'images': array([[[ 82.666664,  87.333336,  65.333336, ..., 105.666664,\n",
       "          100.      ,  90.666664],\n",
       "         [ 89.666664,  95.      ,  53.666668, ..., 106.666664,\n",
       "          102.      ,  94.666664],\n",
       "         [ 94.666664,  87.666664,  60.      , ...,  85.333336,\n",
       "           98.      ,  94.666664],\n",
       "         ...,\n",
       "         [ 22.333334,  26.      ,  32.333332, ..., 102.333336,\n",
       "           99.333336, 109.      ],\n",
       "         [ 22.333334,  25.666666,  29.      , ..., 107.      ,\n",
       "          106.333336, 147.33333 ],\n",
       "         [ 29.666666,  30.666666,  34.      , ..., 106.333336,\n",
       "          140.      , 199.33333 ]],\n",
       " \n",
       "        [[ 52.666668,  49.666668,  69.333336, ...,  83.      ,\n",
       "           48.333332,  37.666668],\n",
       "         [ 42.333332,  46.      ,  71.      , ..., 118.666664,\n",
       "           75.666664,  51.      ],\n",
       "         [ 38.      ,  50.      ,  78.666664, ..., 145.      ,\n",
       "          106.666664,  68.      ],\n",
       "         ...,\n",
       "         [138.      , 112.      ,  67.666664, ..., 229.33333 ,\n",
       "          225.      , 218.      ],\n",
       "         [127.      ,  91.      ,  58.666668, ..., 233.33333 ,\n",
       "          227.33333 , 221.      ],\n",
       "         [108.      ,  72.666664,  57.      , ..., 235.66667 ,\n",
       "          228.66667 , 222.33333 ]],\n",
       " \n",
       "        [[ 37.      ,  39.      ,  41.666668, ...,  84.333336,\n",
       "           83.333336,  84.666664],\n",
       "         [ 37.      ,  38.      ,  43.333332, ...,  83.      ,\n",
       "           80.333336,  83.      ],\n",
       "         [ 37.333332,  38.333332,  51.      , ...,  83.666664,\n",
       "           81.666664,  81.666664],\n",
       "         ...,\n",
       "         [ 23.666666,  22.      ,  20.      , ...,  71.      ,\n",
       "           59.      ,  46.666668],\n",
       "         [ 23.333334,  21.666666,  19.      , ...,  88.      ,\n",
       "           66.333336,  53.333332],\n",
       "         [ 22.      ,  21.      ,  20.      , ...,  96.666664,\n",
       "           72.      ,  59.333332]],\n",
       " \n",
       "        ...,\n",
       " \n",
       "        [[228.33333 , 224.66667 , 216.66667 , ...,  98.      ,\n",
       "           83.      ,  85.333336],\n",
       "         [225.33333 , 216.33333 , 200.33333 , ..., 119.      ,\n",
       "           95.      , 100.333336],\n",
       "         [223.33333 , 209.      , 195.33333 , ..., 147.33333 ,\n",
       "          112.      , 107.333336],\n",
       "         ...,\n",
       "         [ 54.      ,  47.666668,  39.666668, ..., 138.33333 ,\n",
       "          152.66667 , 157.33333 ],\n",
       "         [ 46.333332,  39.333332,  32.333332, ..., 148.      ,\n",
       "          154.      , 168.      ],\n",
       "         [ 45.333332,  40.      ,  33.      , ..., 150.33333 ,\n",
       "          145.66667 , 165.      ]],\n",
       " \n",
       "        [[ 97.      , 118.666664, 133.33333 , ..., 167.66667 ,\n",
       "          155.33333 , 148.66667 ],\n",
       "         [102.      , 126.333336, 136.      , ..., 169.      ,\n",
       "          160.66667 , 154.33333 ],\n",
       "         [115.      , 131.66667 , 136.33333 , ..., 173.33333 ,\n",
       "          163.      , 157.66667 ],\n",
       "         ...,\n",
       "         [253.66667 , 253.33333 , 252.33333 , ..., 195.66667 ,\n",
       "          224.      , 223.      ],\n",
       "         [253.33333 , 253.      , 252.33333 , ..., 215.66667 ,\n",
       "          220.33333 , 187.      ],\n",
       "         [253.33333 , 252.66667 , 252.33333 , ..., 219.33333 ,\n",
       "          210.      , 142.      ]],\n",
       " \n",
       "        [[ 39.333332,  79.      , 110.333336, ...,  60.333332,\n",
       "           57.666668,  49.666668],\n",
       "         [ 50.      ,  81.333336, 125.666664, ...,  66.333336,\n",
       "           70.      ,  61.333332],\n",
       "         [ 62.666668, 102.333336, 146.      , ...,  65.      ,\n",
       "           75.333336,  71.666664],\n",
       "         ...,\n",
       "         [  8.333333,   9.333333,  14.333333, ...,  28.      ,\n",
       "           27.333334,  38.666668],\n",
       "         [ 10.      ,  11.333333,  15.333333, ...,  24.      ,\n",
       "           28.666666,  39.      ],\n",
       "         [  9.666667,  10.      ,  14.      , ...,  24.      ,\n",
       "           34.333332,  23.666666]]], dtype=float32),\n",
       " 'target': array([2, 3, 1, ..., 4, 2, 4]),\n",
       " 'target_names': array(['Colin Powell', 'Donald Rumsfeld', 'George W Bush',\n",
       "        'Gerhard Schroeder', 'Tony Blair'], dtype='<U17'),\n",
       " 'DESCR': \".. _labeled_faces_in_the_wild_dataset:\\n\\nThe Labeled Faces in the Wild face recognition dataset\\n------------------------------------------------------\\n\\nThis dataset is a collection of JPEG pictures of famous people collected\\nover the internet, all details are available on the official website:\\n\\n    http://vis-www.cs.umass.edu/lfw/\\n\\nEach picture is centered on a single face. The typical task is called\\nFace Verification: given a pair of two pictures, a binary classifier\\nmust predict whether the two images are from the same person.\\n\\nAn alternative task, Face Recognition or Face Identification is:\\ngiven the picture of the face of an unknown person, identify the name\\nof the person by referring to a gallery of previously seen pictures of\\nidentified persons.\\n\\nBoth Face Verification and Face Recognition are tasks that are typically\\nperformed on the output of a model trained to perform Face Detection. The\\nmost popular model for Face Detection is called Viola-Jones and is\\nimplemented in the OpenCV library. The LFW faces were extracted by this\\nface detector from various online websites.\\n\\n**Data Set Characteristics:**\\n\\n    =================   =======================\\n    Classes                                5749\\n    Samples total                         13233\\n    Dimensionality                         5828\\n    Features            real, between 0 and 255\\n    =================   =======================\\n\\nUsage\\n~~~~~\\n\\n``scikit-learn`` provides two loaders that will automatically download,\\ncache, parse the metadata files, decode the jpeg and convert the\\ninteresting slices into memmapped numpy arrays. This dataset size is more\\nthan 200 MB. The first load typically takes more than a couple of minutes\\nto fully decode the relevant part of the JPEG files into numpy arrays. If\\nthe dataset has  been loaded once, the following times the loading times\\nless than 200ms by using a memmapped version memoized on the disk in the\\n``~/scikit_learn_data/lfw_home/`` folder using ``joblib``.\\n\\nThe first loader is used for the Face Identification task: a multi-class\\nclassification task (hence supervised learning)::\\n\\n  >>> from sklearn.datasets import fetch_lfw_people\\n  >>> lfw_people = fetch_lfw_people(min_faces_per_person=70, resize=0.4)\\n\\n  >>> for name in lfw_people.target_names:\\n  ...     print(name)\\n  ...\\n  Ariel Sharon\\n  Colin Powell\\n  Donald Rumsfeld\\n  George W Bush\\n  Gerhard Schroeder\\n  Hugo Chavez\\n  Tony Blair\\n\\nThe default slice is a rectangular shape around the face, removing\\nmost of the background::\\n\\n  >>> lfw_people.data.dtype\\n  dtype('float32')\\n\\n  >>> lfw_people.data.shape\\n  (1288, 1850)\\n\\n  >>> lfw_people.images.shape\\n  (1288, 50, 37)\\n\\nEach of the ``1140`` faces is assigned to a single person id in the ``target``\\narray::\\n\\n  >>> lfw_people.target.shape\\n  (1288,)\\n\\n  >>> list(lfw_people.target[:10])\\n  [5, 6, 3, 1, 0, 1, 3, 4, 3, 0]\\n\\nThe second loader is typically used for the face verification task: each sample\\nis a pair of two picture belonging or not to the same person::\\n\\n  >>> from sklearn.datasets import fetch_lfw_pairs\\n  >>> lfw_pairs_train = fetch_lfw_pairs(subset='train')\\n\\n  >>> list(lfw_pairs_train.target_names)\\n  ['Different persons', 'Same person']\\n\\n  >>> lfw_pairs_train.pairs.shape\\n  (2200, 2, 62, 47)\\n\\n  >>> lfw_pairs_train.data.shape\\n  (2200, 5828)\\n\\n  >>> lfw_pairs_train.target.shape\\n  (2200,)\\n\\nBoth for the :func:`sklearn.datasets.fetch_lfw_people` and\\n:func:`sklearn.datasets.fetch_lfw_pairs` function it is\\npossible to get an additional dimension with the RGB color channels by\\npassing ``color=True``, in that case the shape will be\\n``(2200, 2, 62, 47, 3)``.\\n\\nThe :func:`sklearn.datasets.fetch_lfw_pairs` datasets is subdivided into\\n3 subsets: the development ``train`` set, the development ``test`` set and\\nan evaluation ``10_folds`` set meant to compute performance metrics using a\\n10-folds cross validation scheme.\\n\\n.. topic:: References:\\n\\n * `Labeled Faces in the Wild: A Database for Studying Face Recognition\\n   in Unconstrained Environments.\\n   <http://vis-www.cs.umass.edu/lfw/lfw.pdf>`_\\n   Gary B. Huang, Manu Ramesh, Tamara Berg, and Erik Learned-Miller.\\n   University of Massachusetts, Amherst, Technical Report 07-49, October, 2007.\\n\\n\\nExamples\\n~~~~~~~~\\n\\n:ref:`sphx_glr_auto_examples_applications_plot_face_recognition.py`\\n\"}"
      ]
     },
     "execution_count": 107,
     "metadata": {},
     "output_type": "execute_result"
    }
   ],
   "source": [
    "dataset = fetch_lfw_people(min_faces_per_person = 100)\n",
    "dataset"
   ]
  },
  {
   "cell_type": "code",
   "execution_count": 108,
   "metadata": {},
   "outputs": [],
   "source": [
    "x = dataset.data\n",
    "y = dataset.target\n",
    "target_names = dataset.target_names"
   ]
  },
  {
   "cell_type": "code",
   "execution_count": 109,
   "metadata": {},
   "outputs": [
    {
     "name": "stdout",
     "output_type": "stream",
     "text": [
      "[ 52.666668  49.666668  69.333336 ... 235.66667  228.66667  222.33333 ]\n",
      "3\n",
      "['Colin Powell' 'Donald Rumsfeld' 'George W Bush' 'Gerhard Schroeder'\n",
      " 'Tony Blair']\n"
     ]
    }
   ],
   "source": [
    "print(x[1])\n",
    "print(y[1])\n",
    "print(target_names)"
   ]
  },
  {
   "cell_type": "code",
   "execution_count": 111,
   "metadata": {},
   "outputs": [],
   "source": [
    "x_train, x_test, y_train, y_test = train_test_split(x, y, random_state = 4, train_size = 0.8)"
   ]
  },
  {
   "cell_type": "code",
   "execution_count": 112,
   "metadata": {},
   "outputs": [
    {
     "name": "stdout",
     "output_type": "stream",
     "text": [
      "(912, 2914)\n",
      "(228,)\n"
     ]
    }
   ],
   "source": [
    "print(x_train.shape)\n",
    "print(y_test.shape)"
   ]
  },
  {
   "cell_type": "code",
   "execution_count": 114,
   "metadata": {},
   "outputs": [
    {
     "data": {
      "text/plain": [
       "SVC(C=1.0, cache_size=200, class_weight=None, coef0=0.0,\n",
       "    decision_function_shape='ovr', degree=3, gamma='auto_deprecated',\n",
       "    kernel='linear', max_iter=-1, probability=True, random_state=None,\n",
       "    shrinking=True, tol=0.001, verbose=False)"
      ]
     },
     "execution_count": 114,
     "metadata": {},
     "output_type": "execute_result"
    }
   ],
   "source": [
    "svm_model = SVC(kernel = 'linear', probability=True)\n",
    "svm_model.fit(x_train,y_train)"
   ]
  },
  {
   "cell_type": "code",
   "execution_count": 115,
   "metadata": {},
   "outputs": [
    {
     "name": "stdout",
     "output_type": "stream",
     "text": [
      "Actual: 0 | Predicted: 0\n",
      "Actual: 2 | Predicted: 2\n",
      "Actual: 2 | Predicted: 2\n",
      "Actual: 1 | Predicted: 1\n",
      "Actual: 1 | Predicted: 1\n",
      "Actual: 4 | Predicted: 4\n",
      "Actual: 0 | Predicted: 0\n",
      "Actual: 2 | Predicted: 2\n",
      "Actual: 2 | Predicted: 0\n",
      "Actual: 3 | Predicted: 3\n",
      "Actual: 1 | Predicted: 1\n",
      "Actual: 2 | Predicted: 2\n",
      "Actual: 2 | Predicted: 2\n",
      "Actual: 2 | Predicted: 2\n",
      "Actual: 3 | Predicted: 3\n",
      "Actual: 2 | Predicted: 2\n",
      "Actual: 0 | Predicted: 1\n",
      "Actual: 2 | Predicted: 2\n",
      "Actual: 2 | Predicted: 2\n",
      "Actual: 2 | Predicted: 1\n",
      "Actual: 3 | Predicted: 1\n",
      "Actual: 2 | Predicted: 2\n",
      "Actual: 3 | Predicted: 3\n",
      "Actual: 2 | Predicted: 2\n",
      "Actual: 4 | Predicted: 3\n",
      "Actual: 2 | Predicted: 2\n",
      "Actual: 4 | Predicted: 4\n",
      "Actual: 0 | Predicted: 0\n",
      "Actual: 2 | Predicted: 2\n",
      "Actual: 2 | Predicted: 2\n",
      "Actual: 0 | Predicted: 0\n",
      "Actual: 1 | Predicted: 1\n",
      "Actual: 0 | Predicted: 0\n",
      "Actual: 1 | Predicted: 1\n",
      "Actual: 4 | Predicted: 4\n",
      "Actual: 4 | Predicted: 4\n",
      "Actual: 2 | Predicted: 2\n",
      "Actual: 3 | Predicted: 3\n",
      "Actual: 1 | Predicted: 1\n",
      "Actual: 3 | Predicted: 3\n",
      "Actual: 2 | Predicted: 2\n",
      "Actual: 2 | Predicted: 0\n",
      "Actual: 1 | Predicted: 2\n",
      "Actual: 2 | Predicted: 2\n",
      "Actual: 2 | Predicted: 2\n",
      "Actual: 1 | Predicted: 1\n",
      "Actual: 4 | Predicted: 4\n",
      "Actual: 2 | Predicted: 0\n",
      "Actual: 4 | Predicted: 4\n",
      "Actual: 0 | Predicted: 0\n",
      "Actual: 2 | Predicted: 2\n",
      "Actual: 0 | Predicted: 0\n",
      "Actual: 2 | Predicted: 2\n",
      "Actual: 4 | Predicted: 4\n",
      "Actual: 0 | Predicted: 0\n",
      "Actual: 4 | Predicted: 4\n",
      "Actual: 4 | Predicted: 4\n",
      "Actual: 4 | Predicted: 4\n",
      "Actual: 2 | Predicted: 1\n",
      "Actual: 4 | Predicted: 4\n",
      "Actual: 0 | Predicted: 0\n",
      "Actual: 2 | Predicted: 2\n",
      "Actual: 0 | Predicted: 0\n",
      "Actual: 0 | Predicted: 0\n",
      "Actual: 1 | Predicted: 1\n",
      "Actual: 3 | Predicted: 0\n",
      "Actual: 3 | Predicted: 3\n",
      "Actual: 1 | Predicted: 1\n",
      "Actual: 1 | Predicted: 1\n",
      "Actual: 2 | Predicted: 2\n",
      "Actual: 1 | Predicted: 1\n",
      "Actual: 4 | Predicted: 4\n",
      "Actual: 4 | Predicted: 4\n",
      "Actual: 2 | Predicted: 2\n",
      "Actual: 1 | Predicted: 2\n",
      "Actual: 2 | Predicted: 2\n",
      "Actual: 1 | Predicted: 2\n",
      "Actual: 2 | Predicted: 2\n",
      "Actual: 0 | Predicted: 0\n",
      "Actual: 0 | Predicted: 0\n",
      "Actual: 4 | Predicted: 4\n",
      "Actual: 1 | Predicted: 1\n",
      "Actual: 3 | Predicted: 1\n",
      "Actual: 0 | Predicted: 1\n",
      "Actual: 2 | Predicted: 2\n",
      "Actual: 3 | Predicted: 3\n",
      "Actual: 2 | Predicted: 2\n",
      "Actual: 2 | Predicted: 2\n",
      "Actual: 2 | Predicted: 0\n",
      "Actual: 0 | Predicted: 0\n",
      "Actual: 2 | Predicted: 2\n",
      "Actual: 4 | Predicted: 4\n",
      "Actual: 2 | Predicted: 2\n",
      "Actual: 4 | Predicted: 4\n",
      "Actual: 0 | Predicted: 0\n",
      "Actual: 3 | Predicted: 3\n",
      "Actual: 2 | Predicted: 2\n",
      "Actual: 1 | Predicted: 0\n",
      "Actual: 2 | Predicted: 2\n",
      "Actual: 2 | Predicted: 2\n",
      "Actual: 2 | Predicted: 2\n",
      "Actual: 2 | Predicted: 2\n",
      "Actual: 2 | Predicted: 2\n",
      "Actual: 4 | Predicted: 2\n",
      "Actual: 2 | Predicted: 2\n",
      "Actual: 0 | Predicted: 0\n",
      "Actual: 2 | Predicted: 2\n",
      "Actual: 2 | Predicted: 2\n",
      "Actual: 0 | Predicted: 0\n",
      "Actual: 0 | Predicted: 0\n",
      "Actual: 0 | Predicted: 2\n",
      "Actual: 2 | Predicted: 2\n",
      "Actual: 2 | Predicted: 2\n",
      "Actual: 2 | Predicted: 2\n",
      "Actual: 4 | Predicted: 4\n",
      "Actual: 0 | Predicted: 4\n",
      "Actual: 0 | Predicted: 1\n",
      "Actual: 2 | Predicted: 2\n",
      "Actual: 2 | Predicted: 2\n",
      "Actual: 3 | Predicted: 3\n",
      "Actual: 0 | Predicted: 0\n",
      "Actual: 1 | Predicted: 1\n",
      "Actual: 1 | Predicted: 1\n",
      "Actual: 1 | Predicted: 2\n",
      "Actual: 4 | Predicted: 4\n",
      "Actual: 1 | Predicted: 1\n",
      "Actual: 2 | Predicted: 2\n",
      "Actual: 2 | Predicted: 2\n",
      "Actual: 2 | Predicted: 2\n",
      "Actual: 2 | Predicted: 2\n",
      "Actual: 2 | Predicted: 0\n",
      "Actual: 2 | Predicted: 2\n",
      "Actual: 1 | Predicted: 3\n",
      "Actual: 2 | Predicted: 2\n",
      "Actual: 2 | Predicted: 2\n",
      "Actual: 2 | Predicted: 2\n",
      "Actual: 1 | Predicted: 1\n",
      "Actual: 2 | Predicted: 1\n",
      "Actual: 0 | Predicted: 0\n",
      "Actual: 1 | Predicted: 1\n",
      "Actual: 2 | Predicted: 2\n",
      "Actual: 0 | Predicted: 0\n",
      "Actual: 2 | Predicted: 2\n",
      "Actual: 2 | Predicted: 1\n",
      "Actual: 2 | Predicted: 2\n",
      "Actual: 2 | Predicted: 2\n",
      "Actual: 3 | Predicted: 3\n",
      "Actual: 4 | Predicted: 4\n",
      "Actual: 2 | Predicted: 2\n",
      "Actual: 4 | Predicted: 4\n",
      "Actual: 2 | Predicted: 2\n",
      "Actual: 2 | Predicted: 2\n",
      "Actual: 0 | Predicted: 0\n",
      "Actual: 0 | Predicted: 0\n",
      "Actual: 1 | Predicted: 1\n",
      "Actual: 2 | Predicted: 2\n",
      "Actual: 0 | Predicted: 0\n",
      "Actual: 2 | Predicted: 2\n",
      "Actual: 2 | Predicted: 2\n",
      "Actual: 1 | Predicted: 1\n",
      "Actual: 2 | Predicted: 2\n",
      "Actual: 3 | Predicted: 3\n",
      "Actual: 4 | Predicted: 0\n",
      "Actual: 2 | Predicted: 2\n",
      "Actual: 0 | Predicted: 1\n",
      "Actual: 2 | Predicted: 2\n",
      "Actual: 1 | Predicted: 1\n",
      "Actual: 4 | Predicted: 4\n",
      "Actual: 0 | Predicted: 0\n",
      "Actual: 4 | Predicted: 2\n",
      "Actual: 3 | Predicted: 3\n",
      "Actual: 0 | Predicted: 0\n",
      "Actual: 3 | Predicted: 3\n",
      "Actual: 2 | Predicted: 2\n",
      "Actual: 4 | Predicted: 3\n",
      "Actual: 2 | Predicted: 2\n",
      "Actual: 4 | Predicted: 4\n",
      "Actual: 2 | Predicted: 2\n",
      "Actual: 3 | Predicted: 3\n",
      "Actual: 3 | Predicted: 3\n",
      "Actual: 2 | Predicted: 2\n",
      "Actual: 2 | Predicted: 2\n",
      "Actual: 4 | Predicted: 4\n",
      "Actual: 0 | Predicted: 0\n",
      "Actual: 4 | Predicted: 2\n",
      "Actual: 2 | Predicted: 2\n",
      "Actual: 2 | Predicted: 2\n",
      "Actual: 0 | Predicted: 0\n",
      "Actual: 0 | Predicted: 0\n",
      "Actual: 2 | Predicted: 2\n",
      "Actual: 2 | Predicted: 2\n",
      "Actual: 2 | Predicted: 2\n",
      "Actual: 4 | Predicted: 4\n",
      "Actual: 2 | Predicted: 2\n",
      "Actual: 0 | Predicted: 0\n",
      "Actual: 4 | Predicted: 4\n",
      "Actual: 2 | Predicted: 2\n",
      "Actual: 4 | Predicted: 4\n",
      "Actual: 2 | Predicted: 2\n",
      "Actual: 2 | Predicted: 2\n",
      "Actual: 0 | Predicted: 0\n",
      "Actual: 1 | Predicted: 1\n",
      "Actual: 2 | Predicted: 0\n",
      "Actual: 2 | Predicted: 2\n",
      "Actual: 2 | Predicted: 2\n",
      "Actual: 1 | Predicted: 0\n",
      "Actual: 0 | Predicted: 0\n",
      "Actual: 0 | Predicted: 0\n",
      "Actual: 2 | Predicted: 2\n",
      "Actual: 2 | Predicted: 2\n",
      "Actual: 0 | Predicted: 0\n",
      "Actual: 2 | Predicted: 2\n",
      "Actual: 2 | Predicted: 2\n",
      "Actual: 0 | Predicted: 0\n",
      "Actual: 2 | Predicted: 2\n",
      "Actual: 0 | Predicted: 0\n",
      "Actual: 2 | Predicted: 2\n",
      "Actual: 4 | Predicted: 2\n",
      "Actual: 0 | Predicted: 0\n",
      "Actual: 3 | Predicted: 3\n",
      "Actual: 0 | Predicted: 2\n",
      "Actual: 1 | Predicted: 1\n",
      "Actual: 2 | Predicted: 2\n",
      "Actual: 2 | Predicted: 2\n",
      "Actual: 2 | Predicted: 2\n",
      "Actual: 2 | Predicted: 0\n",
      "Actual: 0 | Predicted: 0\n",
      "Actual: 0 | Predicted: 0\n"
     ]
    }
   ],
   "source": [
    "history = svm_model.predict(x_test)\n",
    "predicted = [i for i in history]\n",
    "actual = [i for i in y_test]\n",
    "for i in range (len(predicted)):\n",
    "    print(\"Actual: {} | Predicted: {}\".format(actual[i], predicted[i]))"
   ]
  },
  {
   "cell_type": "code",
   "execution_count": 117,
   "metadata": {},
   "outputs": [
    {
     "name": "stdout",
     "output_type": "stream",
     "text": [
      "Accuracy:  0.8464912280701754\n",
      "Report: \n",
      "               precision    recall  f1-score   support\n",
      "\n",
      "           0       0.85      0.78      0.81        50\n",
      "           1       0.76      0.69      0.72        32\n",
      "           2       0.89      0.90      0.90       100\n",
      "           3       0.84      0.84      0.84        19\n",
      "           4       0.79      0.96      0.87        27\n",
      "\n",
      "    accuracy                           0.85       228\n",
      "   macro avg       0.83      0.83      0.83       228\n",
      "weighted avg       0.85      0.85      0.84       228\n",
      "\n",
      "['Colin Powell' 'Donald Rumsfeld' 'George W Bush' 'Gerhard Schroeder'\n",
      " 'Tony Blair']\n"
     ]
    }
   ],
   "source": [
    "accuracy = accuracy_score(predicted, actual)\n",
    "report = classification_report(predicted, actual)\n",
    "print(\"Accuracy: \", accuracy)\n",
    "print(\"Report: \\n\", report)\n",
    "print(target_names)"
   ]
  },
  {
   "cell_type": "code",
   "execution_count": 118,
   "metadata": {},
   "outputs": [],
   "source": [
    "import cv2\n",
    "import numpy as np\n",
    "import matplotlib.pyplot as plt"
   ]
  },
  {
   "cell_type": "code",
   "execution_count": 130,
   "metadata": {},
   "outputs": [
    {
     "name": "stdout",
     "output_type": "stream",
     "text": [
      "(1500, 1200, 3)\n"
     ]
    },
    {
     "ename": "ValueError",
     "evalue": "Found array with dim 3. Estimator expected <= 2.",
     "output_type": "error",
     "traceback": [
      "\u001b[0;31m---------------------------------------------------------------------------\u001b[0m",
      "\u001b[0;31mValueError\u001b[0m                                Traceback (most recent call last)",
      "\u001b[0;32m<ipython-input-130-ae86b83fa4b3>\u001b[0m in \u001b[0;36m<module>\u001b[0;34m\u001b[0m\n\u001b[1;32m      7\u001b[0m \u001b[0;31m# resized_image.shape\u001b[0m\u001b[0;34m\u001b[0m\u001b[0;34m\u001b[0m\u001b[0;34m\u001b[0m\u001b[0m\n\u001b[1;32m      8\u001b[0m \u001b[0;34m\u001b[0m\u001b[0m\n\u001b[0;32m----> 9\u001b[0;31m \u001b[0mimage_op\u001b[0m \u001b[0;34m=\u001b[0m \u001b[0msvm_model\u001b[0m\u001b[0;34m.\u001b[0m\u001b[0mpredict\u001b[0m\u001b[0;34m(\u001b[0m\u001b[0mimage\u001b[0m\u001b[0;34m)\u001b[0m\u001b[0;34m\u001b[0m\u001b[0;34m\u001b[0m\u001b[0m\n\u001b[0m\u001b[1;32m     10\u001b[0m \u001b[0mimage_op_prob\u001b[0m \u001b[0;34m=\u001b[0m \u001b[0msvm_model\u001b[0m\u001b[0;34m.\u001b[0m\u001b[0mpredict_proba\u001b[0m\u001b[0;34m(\u001b[0m\u001b[0mimage\u001b[0m\u001b[0;34m)\u001b[0m\u001b[0;34m\u001b[0m\u001b[0;34m\u001b[0m\u001b[0m\n\u001b[1;32m     11\u001b[0m \u001b[0;34m\u001b[0m\u001b[0m\n",
      "\u001b[0;32m~/.local/lib/python3.6/site-packages/sklearn/svm/base.py\u001b[0m in \u001b[0;36mpredict\u001b[0;34m(self, X)\u001b[0m\n\u001b[1;32m    572\u001b[0m             \u001b[0mClass\u001b[0m \u001b[0mlabels\u001b[0m \u001b[0;32mfor\u001b[0m \u001b[0msamples\u001b[0m \u001b[0;32min\u001b[0m \u001b[0mX\u001b[0m\u001b[0;34m.\u001b[0m\u001b[0;34m\u001b[0m\u001b[0;34m\u001b[0m\u001b[0m\n\u001b[1;32m    573\u001b[0m         \"\"\"\n\u001b[0;32m--> 574\u001b[0;31m         \u001b[0my\u001b[0m \u001b[0;34m=\u001b[0m \u001b[0msuper\u001b[0m\u001b[0;34m(\u001b[0m\u001b[0;34m)\u001b[0m\u001b[0;34m.\u001b[0m\u001b[0mpredict\u001b[0m\u001b[0;34m(\u001b[0m\u001b[0mX\u001b[0m\u001b[0;34m)\u001b[0m\u001b[0;34m\u001b[0m\u001b[0;34m\u001b[0m\u001b[0m\n\u001b[0m\u001b[1;32m    575\u001b[0m         \u001b[0;32mreturn\u001b[0m \u001b[0mself\u001b[0m\u001b[0;34m.\u001b[0m\u001b[0mclasses_\u001b[0m\u001b[0;34m.\u001b[0m\u001b[0mtake\u001b[0m\u001b[0;34m(\u001b[0m\u001b[0mnp\u001b[0m\u001b[0;34m.\u001b[0m\u001b[0masarray\u001b[0m\u001b[0;34m(\u001b[0m\u001b[0my\u001b[0m\u001b[0;34m,\u001b[0m \u001b[0mdtype\u001b[0m\u001b[0;34m=\u001b[0m\u001b[0mnp\u001b[0m\u001b[0;34m.\u001b[0m\u001b[0mintp\u001b[0m\u001b[0;34m)\u001b[0m\u001b[0;34m)\u001b[0m\u001b[0;34m\u001b[0m\u001b[0;34m\u001b[0m\u001b[0m\n\u001b[1;32m    576\u001b[0m \u001b[0;34m\u001b[0m\u001b[0m\n",
      "\u001b[0;32m~/.local/lib/python3.6/site-packages/sklearn/svm/base.py\u001b[0m in \u001b[0;36mpredict\u001b[0;34m(self, X)\u001b[0m\n\u001b[1;32m    320\u001b[0m         \u001b[0my_pred\u001b[0m \u001b[0;34m:\u001b[0m \u001b[0marray\u001b[0m\u001b[0;34m,\u001b[0m \u001b[0mshape\u001b[0m \u001b[0;34m(\u001b[0m\u001b[0mn_samples\u001b[0m\u001b[0;34m,\u001b[0m\u001b[0;34m)\u001b[0m\u001b[0;34m\u001b[0m\u001b[0;34m\u001b[0m\u001b[0m\n\u001b[1;32m    321\u001b[0m         \"\"\"\n\u001b[0;32m--> 322\u001b[0;31m         \u001b[0mX\u001b[0m \u001b[0;34m=\u001b[0m \u001b[0mself\u001b[0m\u001b[0;34m.\u001b[0m\u001b[0m_validate_for_predict\u001b[0m\u001b[0;34m(\u001b[0m\u001b[0mX\u001b[0m\u001b[0;34m)\u001b[0m\u001b[0;34m\u001b[0m\u001b[0;34m\u001b[0m\u001b[0m\n\u001b[0m\u001b[1;32m    323\u001b[0m         \u001b[0mpredict\u001b[0m \u001b[0;34m=\u001b[0m \u001b[0mself\u001b[0m\u001b[0;34m.\u001b[0m\u001b[0m_sparse_predict\u001b[0m \u001b[0;32mif\u001b[0m \u001b[0mself\u001b[0m\u001b[0;34m.\u001b[0m\u001b[0m_sparse\u001b[0m \u001b[0;32melse\u001b[0m \u001b[0mself\u001b[0m\u001b[0;34m.\u001b[0m\u001b[0m_dense_predict\u001b[0m\u001b[0;34m\u001b[0m\u001b[0;34m\u001b[0m\u001b[0m\n\u001b[1;32m    324\u001b[0m         \u001b[0;32mreturn\u001b[0m \u001b[0mpredict\u001b[0m\u001b[0;34m(\u001b[0m\u001b[0mX\u001b[0m\u001b[0;34m)\u001b[0m\u001b[0;34m\u001b[0m\u001b[0;34m\u001b[0m\u001b[0m\n",
      "\u001b[0;32m~/.local/lib/python3.6/site-packages/sklearn/svm/base.py\u001b[0m in \u001b[0;36m_validate_for_predict\u001b[0;34m(self, X)\u001b[0m\n\u001b[1;32m    452\u001b[0m \u001b[0;34m\u001b[0m\u001b[0m\n\u001b[1;32m    453\u001b[0m         X = check_array(X, accept_sparse='csr', dtype=np.float64, order=\"C\",\n\u001b[0;32m--> 454\u001b[0;31m                         accept_large_sparse=False)\n\u001b[0m\u001b[1;32m    455\u001b[0m         \u001b[0;32mif\u001b[0m \u001b[0mself\u001b[0m\u001b[0;34m.\u001b[0m\u001b[0m_sparse\u001b[0m \u001b[0;32mand\u001b[0m \u001b[0;32mnot\u001b[0m \u001b[0msp\u001b[0m\u001b[0;34m.\u001b[0m\u001b[0misspmatrix\u001b[0m\u001b[0;34m(\u001b[0m\u001b[0mX\u001b[0m\u001b[0;34m)\u001b[0m\u001b[0;34m:\u001b[0m\u001b[0;34m\u001b[0m\u001b[0;34m\u001b[0m\u001b[0m\n\u001b[1;32m    456\u001b[0m             \u001b[0mX\u001b[0m \u001b[0;34m=\u001b[0m \u001b[0msp\u001b[0m\u001b[0;34m.\u001b[0m\u001b[0mcsr_matrix\u001b[0m\u001b[0;34m(\u001b[0m\u001b[0mX\u001b[0m\u001b[0;34m)\u001b[0m\u001b[0;34m\u001b[0m\u001b[0;34m\u001b[0m\u001b[0m\n",
      "\u001b[0;32m~/.local/lib/python3.6/site-packages/sklearn/utils/validation.py\u001b[0m in \u001b[0;36mcheck_array\u001b[0;34m(array, accept_sparse, accept_large_sparse, dtype, order, copy, force_all_finite, ensure_2d, allow_nd, ensure_min_samples, ensure_min_features, warn_on_dtype, estimator)\u001b[0m\n\u001b[1;32m    537\u001b[0m         \u001b[0;32mif\u001b[0m \u001b[0;32mnot\u001b[0m \u001b[0mallow_nd\u001b[0m \u001b[0;32mand\u001b[0m \u001b[0marray\u001b[0m\u001b[0;34m.\u001b[0m\u001b[0mndim\u001b[0m \u001b[0;34m>=\u001b[0m \u001b[0;36m3\u001b[0m\u001b[0;34m:\u001b[0m\u001b[0;34m\u001b[0m\u001b[0;34m\u001b[0m\u001b[0m\n\u001b[1;32m    538\u001b[0m             raise ValueError(\"Found array with dim %d. %s expected <= 2.\"\n\u001b[0;32m--> 539\u001b[0;31m                              % (array.ndim, estimator_name))\n\u001b[0m\u001b[1;32m    540\u001b[0m         \u001b[0;32mif\u001b[0m \u001b[0mforce_all_finite\u001b[0m\u001b[0;34m:\u001b[0m\u001b[0;34m\u001b[0m\u001b[0;34m\u001b[0m\u001b[0m\n\u001b[1;32m    541\u001b[0m             _assert_all_finite(array,\n",
      "\u001b[0;31mValueError\u001b[0m: Found array with dim 3. Estimator expected <= 2."
     ]
    }
   ],
   "source": [
    "image = cv2.imread(\"1200px-Colin_Powell_official_Secretary_of_State_photo.jpg\")\n",
    "# plt.imshow(image)\n",
    "# plt.show()\n",
    "print(image.shape)\n",
    "\n",
    "# resized_image = np.resize(image, (1,2914))\n",
    "# resized_image.shape\n",
    "\n",
    "image_op = svm_model.predict(resized_image)\n",
    "image_op_prob = svm_model.predict_proba(resized_image)\n",
    "\n",
    "print(image_op_prob)"
   ]
  },
  {
   "cell_type": "code",
   "execution_count": 128,
   "metadata": {},
   "outputs": [
    {
     "data": {
      "text/plain": [
       "array([2])"
      ]
     },
     "execution_count": 128,
     "metadata": {},
     "output_type": "execute_result"
    }
   ],
   "source": [
    "image_op"
   ]
  },
  {
   "cell_type": "code",
   "execution_count": null,
   "metadata": {},
   "outputs": [],
   "source": []
  },
  {
   "cell_type": "code",
   "execution_count": null,
   "metadata": {},
   "outputs": [],
   "source": []
  },
  {
   "cell_type": "code",
   "execution_count": null,
   "metadata": {},
   "outputs": [],
   "source": []
  },
  {
   "cell_type": "code",
   "execution_count": null,
   "metadata": {},
   "outputs": [],
   "source": []
  },
  {
   "cell_type": "code",
   "execution_count": null,
   "metadata": {},
   "outputs": [],
   "source": []
  },
  {
   "cell_type": "code",
   "execution_count": null,
   "metadata": {},
   "outputs": [],
   "source": []
  },
  {
   "cell_type": "code",
   "execution_count": null,
   "metadata": {},
   "outputs": [],
   "source": []
  },
  {
   "cell_type": "code",
   "execution_count": null,
   "metadata": {},
   "outputs": [],
   "source": []
  },
  {
   "cell_type": "code",
   "execution_count": null,
   "metadata": {},
   "outputs": [],
   "source": []
  },
  {
   "cell_type": "code",
   "execution_count": null,
   "metadata": {},
   "outputs": [],
   "source": []
  },
  {
   "cell_type": "code",
   "execution_count": null,
   "metadata": {},
   "outputs": [],
   "source": []
  },
  {
   "cell_type": "code",
   "execution_count": null,
   "metadata": {},
   "outputs": [],
   "source": []
  },
  {
   "cell_type": "code",
   "execution_count": null,
   "metadata": {},
   "outputs": [],
   "source": []
  },
  {
   "cell_type": "code",
   "execution_count": null,
   "metadata": {},
   "outputs": [],
   "source": []
  },
  {
   "cell_type": "code",
   "execution_count": null,
   "metadata": {},
   "outputs": [],
   "source": []
  },
  {
   "cell_type": "code",
   "execution_count": null,
   "metadata": {},
   "outputs": [],
   "source": []
  },
  {
   "cell_type": "code",
   "execution_count": null,
   "metadata": {},
   "outputs": [],
   "source": []
  },
  {
   "cell_type": "code",
   "execution_count": null,
   "metadata": {},
   "outputs": [],
   "source": [
    "\n",
    "\n"
   ]
  }
 ],
 "metadata": {
  "kernelspec": {
   "display_name": "Python 3",
   "language": "python",
   "name": "python3"
  },
  "language_info": {
   "codemirror_mode": {
    "name": "ipython",
    "version": 3
   },
   "file_extension": ".py",
   "mimetype": "text/x-python",
   "name": "python",
   "nbconvert_exporter": "python",
   "pygments_lexer": "ipython3",
   "version": "3.6.8"
  },
  "toc": {
   "base_numbering": 1,
   "nav_menu": {},
   "number_sections": true,
   "sideBar": true,
   "skip_h1_title": false,
   "title_cell": "Table of Contents",
   "title_sidebar": "Contents",
   "toc_cell": false,
   "toc_position": {},
   "toc_section_display": true,
   "toc_window_display": false
  },
  "varInspector": {
   "cols": {
    "lenName": 16,
    "lenType": 16,
    "lenVar": 40
   },
   "kernels_config": {
    "python": {
     "delete_cmd_postfix": "",
     "delete_cmd_prefix": "del ",
     "library": "var_list.py",
     "varRefreshCmd": "print(var_dic_list())"
    },
    "r": {
     "delete_cmd_postfix": ") ",
     "delete_cmd_prefix": "rm(",
     "library": "var_list.r",
     "varRefreshCmd": "cat(var_dic_list()) "
    }
   },
   "types_to_exclude": [
    "module",
    "function",
    "builtin_function_or_method",
    "instance",
    "_Feature"
   ],
   "window_display": false
  }
 },
 "nbformat": 4,
 "nbformat_minor": 2
}
